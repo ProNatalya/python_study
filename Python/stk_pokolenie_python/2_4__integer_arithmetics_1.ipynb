{
  "nbformat": 4,
  "nbformat_minor": 0,
  "metadata": {
    "colab": {
      "provenance": [],
      "authorship_tag": "ABX9TyPVChsqTv1UPWWlRapDvT1O",
      "include_colab_link": true
    },
    "kernelspec": {
      "name": "python3",
      "display_name": "Python 3"
    },
    "language_info": {
      "name": "python"
    }
  },
  "cells": [
    {
      "cell_type": "markdown",
      "metadata": {
        "id": "view-in-github",
        "colab_type": "text"
      },
      "source": [
        "<a href=\"https://colab.research.google.com/github/ProNatalya/python/blob/main/2_4__integer_arithmetics_1.ipynb\" target=\"_parent\"><img src=\"https://colab.research.google.com/assets/colab-badge.svg\" alt=\"Open In Colab\"/></a>"
      ]
    },
    {
      "cell_type": "markdown",
      "source": [
        "#Тема урока: работа с целыми числами\n",
        "\n",
        "Основные операции с числами:\n",
        "'+' - сложение\n",
        "'-' - вычитание\n",
        "'*' - умножение\n",
        "'/' - деление\n",
        "\n",
        "\n",
        "\n",
        "\n",
        "\n",
        "\n"
      ],
      "metadata": {
        "id": "ynenozcv81wA"
      }
    },
    {
      "cell_type": "code",
      "source": [
        "a = 3\n",
        "b = 2\n",
        "print(a + b)\n",
        "print(a - b)\n",
        "print(a * b)\n",
        "print(a / b)"
      ],
      "metadata": {
        "id": "EBjx9FVN-ZTQ"
      },
      "execution_count": null,
      "outputs": []
    },
    {
      "cell_type": "code",
      "source": [
        "#Порядок выполнения операций\n",
        "num1 = 2 + 3 * 4\n",
        "num2 = (2 + 3) * 4\n",
        "print(num1)\n",
        "print(num2)"
      ],
      "metadata": {
        "colab": {
          "base_uri": "https://localhost:8080/"
        },
        "id": "_mUd5c7X-lt1",
        "outputId": "71c653dd-4cb0-4e9c-ff48-4be6c9f7a910"
      },
      "execution_count": null,
      "outputs": [
        {
          "output_type": "stream",
          "name": "stdout",
          "text": [
            "14\n",
            "20\n"
          ]
        }
      ]
    },
    {
      "cell_type": "markdown",
      "source": [
        "#Преобразование типов\n"
      ],
      "metadata": {
        "id": "8UXqh2I__n7X"
      }
    },
    {
      "cell_type": "code",
      "source": [
        "# Преобразование строки к целому числу.\n",
        "# Для того, чтобы преобразовать строку к целому числу,\n",
        "# мы используем команду int()\n",
        "s = '1992'\n",
        "year = int(s)\n",
        "# Мы используем новую команду (точнее, функцию) – int(). Она означает следующее:\n",
        "# «Возьми то, что указано в качестве аргумента в скобках,\n",
        "# и преврати это в целое число».\n",
        "# Таким образом, переменная year имеет целый тип данных,\n",
        "# а переменная s – строковый тип данных.\n",
        "# команда input() по умолчанию считывает именно текст.\n",
        "# поэтому для преобразования текст в число используем int\n",
        "num1 = int(input())\n",
        "num2 = int(input())\n",
        "print(num1 + num2)\n",
        "\n"
      ],
      "metadata": {
        "colab": {
          "base_uri": "https://localhost:8080/"
        },
        "id": "qChg-oI4Ak9a",
        "outputId": "a104d0ae-4d9a-49ef-d000-2bb26095ed43"
      },
      "execution_count": null,
      "outputs": [
        {
          "output_type": "stream",
          "name": "stdout",
          "text": [
            "3\n",
            "4\n",
            "7\n"
          ]
        }
      ]
    },
    {
      "cell_type": "code",
      "source": [
        "# Преобразование целого числа к строке.\n",
        "num = 17\n",
        "s = str(17)\n",
        "# Переменная num имеет целый тип данных\n",
        "# Переменная s – строковый тип данных.\n",
        "\n"
      ],
      "metadata": {
        "id": "NVKn6xiCCKwS"
      },
      "execution_count": null,
      "outputs": []
    },
    {
      "cell_type": "code",
      "source": [
        "# <имя переменной> = <математическая формула>"
      ],
      "metadata": {
        "id": "lTJOQfI7DvB-"
      },
      "execution_count": null,
      "outputs": []
    },
    {
      "cell_type": "code",
      "source": [
        "# int - integer- целый\n",
        "# В Python реализована так называемая длинная арифметика, то есть, по сути,\n",
        "#  переменная целого типа не имеет ограничений."
      ],
      "metadata": {
        "id": "keFexchTD0_g"
      },
      "execution_count": null,
      "outputs": []
    },
    {
      "cell_type": "code",
      "source": [
        "num1 = -6      # унарный минус\n",
        "num2 = 17 - 7  # бинарный минус"
      ],
      "metadata": {
        "id": "HqCxxPXkEbt5"
      },
      "execution_count": null,
      "outputs": []
    },
    {
      "cell_type": "code",
      "source": [
        "num1 = input()\n",
        "num2 = input()\n",
        "print(num1 + num2) # пример со сложением строк"
      ],
      "metadata": {
        "colab": {
          "base_uri": "https://localhost:8080/"
        },
        "id": "rO_0cAsIE3So",
        "outputId": "b71924a3-a342-4479-ca7d-23a3b666b888"
      },
      "execution_count": null,
      "outputs": [
        {
          "output_type": "stream",
          "name": "stdout",
          "text": [
            "2\n",
            "3\n",
            "23\n"
          ]
        }
      ]
    },
    {
      "cell_type": "code",
      "source": [
        "num1 = int(input())\n",
        "num2 = int(input())\n",
        "print(num1 + num2)"
      ],
      "metadata": {
        "colab": {
          "base_uri": "https://localhost:8080/"
        },
        "id": "3oG1--dQFJN8",
        "outputId": "b63c422d-ec63-438e-ea11-60e57be22c6c"
      },
      "execution_count": null,
      "outputs": [
        {
          "output_type": "stream",
          "name": "stdout",
          "text": [
            "2\n",
            "3\n",
            "5\n"
          ]
        }
      ]
    },
    {
      "cell_type": "code",
      "source": [
        "# task1 Что появится на экране после выполнения следующей программы?\n",
        "a = 4\n",
        "print(a, 'a')"
      ],
      "metadata": {
        "colab": {
          "base_uri": "https://localhost:8080/"
        },
        "id": "MEhdQlvuGgJE",
        "outputId": "a81d801b-421a-46d7-ebd0-31984de6e4b9"
      },
      "execution_count": null,
      "outputs": [
        {
          "output_type": "stream",
          "name": "stdout",
          "text": [
            "4 a\n"
          ]
        }
      ]
    },
    {
      "cell_type": "markdown",
      "source": [
        "# task2 Три последовательных числа\n",
        "Напишите программу вывода на экран трех последовательно идущих чисел, каждое на отдельной строке. Первое число вводит пользователь, остальные числа вычисляются в программе.\n",
        "\n",
        "Формат входных данных\n",
        "На вход программе подается одно целое число.\n",
        "\n",
        "Формат выходных данных\n",
        "Программа должна вывести три последовательно идущих числа в соответствии с условием задачи.\n",
        "\n",
        "Примечание. Не используйте никакой текст и никакие другие аргументы внутри функции input(), т.к. это повлияет на вывод и ваша программа не пройдёт тесты.\n",
        "\n",
        "Sample Input 1:\n",
        "\n",
        "8\n",
        "Sample Output 1:\n",
        "\n",
        "8\n",
        "9\n",
        "10\n",
        "Sample Input 2:\n",
        "\n",
        "-341\n",
        "Sample Output 2:\n",
        "\n",
        "-341\n",
        "-340\n",
        "-339\n",
        "Sample Input 3:\n",
        "\n",
        "-1\n",
        "Sample Output 3:\n",
        "\n",
        "-1\n",
        "0\n",
        "1\n"
      ],
      "metadata": {
        "id": "GhtHjaU_G5_s"
      }
    },
    {
      "cell_type": "code",
      "source": [
        "num1 = int(input())\n",
        "print(num1)\n",
        "print(num1 + 1)\n",
        "print(num1 + 2)"
      ],
      "metadata": {
        "colab": {
          "base_uri": "https://localhost:8080/"
        },
        "id": "gZ8ajFP8HZ9K",
        "outputId": "9c0d2a72-4178-4c4b-e547-4a56577e9586"
      },
      "execution_count": null,
      "outputs": [
        {
          "output_type": "stream",
          "name": "stdout",
          "text": [
            "4\n",
            "4\n",
            "5\n",
            "6\n"
          ]
        }
      ]
    },
    {
      "cell_type": "code",
      "source": [
        "num1 = int(input())\n",
        "print(num1, num1 + 1, num1 + 2, sep='\\n')"
      ],
      "metadata": {
        "colab": {
          "base_uri": "https://localhost:8080/"
        },
        "id": "GcOh1LeLJ44n",
        "outputId": "04a04de3-6509-423a-a37e-ebeb2d6492c1"
      },
      "execution_count": null,
      "outputs": [
        {
          "output_type": "stream",
          "name": "stdout",
          "text": [
            "4\n",
            "4\n",
            "5\n",
            "6\n"
          ]
        }
      ]
    },
    {
      "cell_type": "markdown",
      "source": [
        "# Task3 Сумма трёх чисел\n",
        "Напишите программу, которая считывает три целых числа и выводит на экран их сумму. Каждое число записано в отдельной строке.\n",
        "\n",
        "Формат входных данных\n",
        "На вход программе подаётся три целых числа, каждое на отдельной строке.\n",
        "\n",
        "Формат выходных данных\n",
        "Программа должна вывести сумму введенных чисел.\n",
        "\n",
        "Примечание. Не используйте никакой текст и никакие другие аргументы внутри функции input(), т.к. это повлияет на вывод и ваша программа не пройдёт тесты.\n",
        "\n"
      ],
      "metadata": {
        "id": "lwTQlf16L7Mi"
      }
    },
    {
      "cell_type": "code",
      "source": [
        "a = int(input())\n",
        "b = int(input())\n",
        "c = int(input())\n",
        "print(a + b + c)"
      ],
      "metadata": {
        "id": "lebAXXmyMcWv",
        "colab": {
          "base_uri": "https://localhost:8080/"
        },
        "outputId": "8f2f2dd5-2a54-497c-a776-21c6f6e7c362"
      },
      "execution_count": null,
      "outputs": [
        {
          "name": "stdout",
          "output_type": "stream",
          "text": [
            "5\n",
            "2\n"
          ]
        }
      ]
    },
    {
      "cell_type": "markdown",
      "source": [
        "# Task4 Куб\n",
        "Напишите программу, вычисляющую объём куба и площадь его полной поверхности, по введённому значению длины ребра.\n",
        "\n",
        "Формат входных данных\n",
        "На вход программе подается одно целое число – длина ребра.\n",
        "\n",
        "Формат выходных данных\n",
        "Программа должна вывести текст и числа в соответствии с условием задачи.\n",
        "\n",
        "Примечание 1. Объём куба и площадь полной поверхности можно вычислить по формулам\n",
        "V = a*3,\n",
        "S = 6a*2.\n",
        "\n",
        "Примечание 2. Не используйте никакой текст и никакие другие аргументы внутри функции input(), т.к. это повлияет на вывод и ваша программа не пройдёт тесты.\n",
        "\n",
        "Тестовые данные 🟢\n",
        "Sample Input 1:\n",
        "\n",
        "25\n",
        "Sample Output 1:\n",
        "\n",
        "Объем = 15625\n",
        "Площадь полной поверхности = 3750\n",
        "Sample Input 2:\n",
        "\n",
        "13\n",
        "Sample Output 2:\n",
        "\n",
        "Объем = 2197\n",
        "Площадь полной поверхности = 1014\n",
        "Sample Input 3:\n",
        "\n",
        "56\n",
        "Sample Output 3:\n",
        "\n",
        "Объем = 175616\n",
        "Площадь полной поверхности = 18816"
      ],
      "metadata": {
        "id": "Qq8F-zsAUgmU"
      }
    },
    {
      "cell_type": "code",
      "source": [
        "a = int(input())\n",
        "volume = a**3\n",
        "square_surface = 6 * a**2\n",
        "print('Объем =', volume)\n",
        "print('Площадь полной поверхности =', square_surface)"
      ],
      "metadata": {
        "colab": {
          "base_uri": "https://localhost:8080/"
        },
        "id": "RIqcZmJ8VD58",
        "outputId": "01b80063-cac1-4776-e229-902f225cd33d"
      },
      "execution_count": null,
      "outputs": [
        {
          "output_type": "stream",
          "name": "stdout",
          "text": [
            "25\n",
            "Объем = 15625\n",
            "Площадь полной поверхности = 3750\n"
          ]
        }
      ]
    },
    {
      "cell_type": "markdown",
      "source": [
        "#Task5 Значение функции\n",
        "Напишите программу вычисления значения функции\n",
        "f(a,b) =3(a+b)**3+275b**2 − 127a − 41 по введеным целым значениям a и b.\n",
        "\n",
        "Формат входных данных\n",
        "На вход программе подаётся два целых числа, каждое на отдельной строке. В первой строке — значение\n",
        "a, во второй строке — значение b.\n",
        "\n",
        "Тестовые данные 🟢\n",
        "Sample Input 1:\n",
        "\n",
        "1\n",
        "1\n",
        "Sample Output 1:\n",
        "\n",
        "131\n",
        "Sample Input 2:\n",
        "\n",
        "1\n",
        "0\n",
        "Sample Output 2:\n",
        "\n",
        "-165\n"
      ],
      "metadata": {
        "id": "Ru6qJrmLwc_C"
      }
    },
    {
      "cell_type": "code",
      "source": [
        "a = int(input())\n",
        "b = int(input())\n",
        "function_task = 3 * (a + b)**3 + 275 * b**2 - 127 * a - 41\n",
        "print(function_task)"
      ],
      "metadata": {
        "colab": {
          "base_uri": "https://localhost:8080/"
        },
        "id": "BB2-c7OK0LfE",
        "outputId": "cb3739eb-ff0a-4868-8333-b7bcf447661e"
      },
      "execution_count": null,
      "outputs": [
        {
          "output_type": "stream",
          "name": "stdout",
          "text": [
            "1\n",
            "1\n",
            "131\n"
          ]
        }
      ]
    },
    {
      "cell_type": "markdown",
      "source": [
        "#Task6 Следующее и предыдущее\n",
        "Напишите программу, которая считывает целое число, после чего на экран выводится следующее и предыдущее целое число с пояснительным текстом.\n",
        "\n",
        "Формат входных данных\n",
        "На вход программе подаётся целое число.\n",
        "\n",
        "Формат выходных данных\n",
        "Программа должна вывести текст согласно условию задачи.\n",
        "\n",
        "Тестовые данные 🟢\n",
        "Sample Input 1:\n",
        "\n",
        "20\n",
        "Sample Output 1:\n",
        "\n",
        "Следующее за числом 20 число: 21\n",
        "Для числа 20 предыдущее число: 19\n"
      ],
      "metadata": {
        "id": "p48E0hPU6Dck"
      }
    },
    {
      "cell_type": "code",
      "source": [
        "a = int(input())\n",
        "b = a + 1\n",
        "c = a - 1\n",
        "print ('Следующее за числом',a,'число:',b)\n",
        "print('Для числа',a,'предыдущее число:',c)"
      ],
      "metadata": {
        "colab": {
          "base_uri": "https://localhost:8080/"
        },
        "id": "4U44HNJ96NeD",
        "outputId": "2581c0f0-9866-4c05-a3d6-63946e5647f0"
      },
      "execution_count": null,
      "outputs": [
        {
          "output_type": "stream",
          "name": "stdout",
          "text": [
            "20\n",
            "Следующее за числом 20 число: 21\n",
            "Для числа 20 предыдущее число: 19\n"
          ]
        }
      ]
    },
    {
      "cell_type": "markdown",
      "source": [
        "#Task7 Стоимость покупки\n",
        "Напишите программу, которая считает стоимость трех компьютеров, состоящих из монитора, системного блока, клавиатуры и мыши.\n",
        "\n",
        "Формат входных данных\n",
        "На вход программе подаётся четыре целых числа, каждое на отдельной строке. В первой строке — стоимость монитора, во второй строке — стоимость системного блока, в третьей строке — стоимость клавиатуры и в четвертой строке — стоимость мыши.\n",
        "\n",
        "Формат выходных данных\n",
        "Программа должна вывести одно число – стоимость покупки (трех компьютеров).\n",
        "\n",
        "Тестовые данные 🟢\n",
        "Sample Input 1:\n",
        "\n",
        "9900\n",
        "55600\n",
        "3999\n",
        "2990\n",
        "Sample Output 1:\n",
        "\n",
        "217467\n"
      ],
      "metadata": {
        "id": "p2QWHFJG9hhk"
      }
    },
    {
      "cell_type": "code",
      "source": [
        "monitor_price = int(input())\n",
        "system_block_price = int(input())\n",
        "keybord_price = int(input())\n",
        "computer_mouse_price = int(input())\n",
        "complect_price = monitor_price + system_block_price + keybord_price + computer_mouse_price\n",
        "three_computer_price = 3 * complect_price\n",
        "print(three_computer_price)"
      ],
      "metadata": {
        "colab": {
          "base_uri": "https://localhost:8080/"
        },
        "id": "ATjyAJfY-BpI",
        "outputId": "2b2cd2eb-0651-4079-caea-185739ae5d2c"
      },
      "execution_count": null,
      "outputs": [
        {
          "output_type": "stream",
          "name": "stdout",
          "text": [
            "9900\n",
            "55600\n",
            "3999\n",
            "2990\n",
            "217467\n"
          ]
        }
      ]
    },
    {
      "cell_type": "markdown",
      "source": [
        "#Task8 Арифметические операции\n",
        "Напишите программу, в которой вычисляется сумма, разность и произведение двух целых чисел, введенных с клавиатуры.\n",
        "\n",
        "Формат входных данных\n",
        "На вход программе подаётся два целых числа, каждое на отдельной строке.\n",
        "\n",
        "Формат выходных данных\n",
        "Программа должна вывести сумму, разность и произведение введённых чисел, каждое на отдельной строке.\n",
        "\n",
        "Тестовые данные 🟢\n",
        "Sample Input 1:\n",
        "\n",
        "2\n",
        "7\n",
        "Sample Output 1:\n",
        "\n",
        "2 + 7 = 9\n",
        "2 - 7 = -5\n",
        "2 * 7 = 14\n"
      ],
      "metadata": {
        "id": "cG_ieLcF-8KW"
      }
    },
    {
      "cell_type": "code",
      "source": [
        "a = int(input())\n",
        "b = int(input())\n",
        "result1 = a + b\n",
        "result2 = a - b\n",
        "result3 = a * b\n",
        "print(a, '+', b, '=',result1)\n",
        "print(a, '-', b, '=',result2)\n",
        "print(a, '*', b, '=',result3)"
      ],
      "metadata": {
        "colab": {
          "base_uri": "https://localhost:8080/"
        },
        "id": "sN5e_zOD_M1r",
        "outputId": "b572da7f-0ecf-4add-c348-6b54f4dc6ece"
      },
      "execution_count": null,
      "outputs": [
        {
          "output_type": "stream",
          "name": "stdout",
          "text": [
            "2\n",
            "7\n",
            "2 + 7 = 9\n",
            "2 - 7 = -5\n",
            "2 * 7 = 14\n"
          ]
        }
      ]
    },
    {
      "cell_type": "code",
      "source": [],
      "metadata": {
        "id": "kcikvTQJ9rhY"
      },
      "execution_count": null,
      "outputs": []
    },
    {
      "cell_type": "markdown",
      "source": [
        "#Task9 Арифметическая прогрессия\n"
      ],
      "metadata": {
        "id": "xWsHqMW5J3nF"
      }
    },
    {
      "cell_type": "code",
      "source": [
        "# Арифметической прогрессией называется последовательность чисел\n",
        "# a_1,a_2,...a_n, каждое из которых, начиная с a_2, получается\n",
        "# из предыдущего прибавлением к нему одного и того же постоянного\n",
        "# числа d (разность прогрессии), то есть:\n",
        "\n",
        "# a_n = a_n−1 + d\n",
        "\n",
        "# Если известен первый член прогрессии и её разность,\n",
        "# то n-ый член арифметической прогрессии находится по формуле:\n",
        "\n",
        "# a_n=a_1+d(n−1)\n",
        "\n",
        "# Входные данные\n",
        "# На вход программе подаётся три целых числа: a_1, d и n,\n",
        "# каждое на отдельной строке.\n",
        "# Выходные данные\n",
        "# Программа должна вывести n-ый член арифметической прогрессии.\n",
        "\n",
        "# Тестовые данные 🟢\n",
        "\n",
        "# Sample Input 1:\n",
        "\n",
        "# 1 1 10\n",
        "\n",
        "# Sample Output 1:\n",
        "\n",
        "# 10\n",
        "\n",
        "# Sample Input 2:\n",
        "\n",
        "# -1 1 2\n",
        "\n",
        "# Sample Output 2:\n",
        "\n",
        "# 0"
      ],
      "metadata": {
        "id": "WlJdC59uNhOJ"
      },
      "execution_count": null,
      "outputs": []
    },
    {
      "cell_type": "code",
      "source": [
        "a_1 = int(input())\n",
        "d = int(input())\n",
        "n = int(input())\n",
        "a_n = a_1 + (d * (n - 1))\n",
        "print(a_n)"
      ],
      "metadata": {
        "colab": {
          "base_uri": "https://localhost:8080/"
        },
        "id": "fEGgCNjMO8AS",
        "outputId": "d218ff7a-93a9-43f1-88b5-6d7f3379b125"
      },
      "execution_count": null,
      "outputs": [
        {
          "output_type": "stream",
          "name": "stdout",
          "text": [
            "1\n",
            "1\n",
            "10\n",
            "10\n"
          ]
        }
      ]
    },
    {
      "cell_type": "markdown",
      "source": [
        "# Task10 Разделяй и властвуй\n",
        "Напишите программу, которая считывает целое положительное число x и выводит на экран последовательность чисел x, 2x, 3x, 4x и 5x, разделённых тремя черточками.\n",
        "Формат входных данных\n",
        "На вход программе подаётся целое положительное число.\n",
        "Формат выходных данных\n",
        "Программа должна вывести текст согласно условию задачи.\n",
        "\n",
        "Тестовые данные 🟢\n",
        "Sample Input 1:\n",
        "7\n",
        "Sample Output 1:\n",
        "7---14---21---28---35\n",
        "Sample Input 2:\n",
        "1\n",
        "Sample Output 2:\n",
        "1---2---3---4---5"
      ],
      "metadata": {
        "id": "wg_03qqjTaYJ"
      }
    },
    {
      "cell_type": "code",
      "source": [
        "x = int(input())\n",
        "print(x, 2*x, 3*x, 4*x, 5*x, sep='---')"
      ],
      "metadata": {
        "colab": {
          "base_uri": "https://localhost:8080/"
        },
        "id": "X5dT2B6fUWL2",
        "outputId": "47a568f0-8240-4b55-9738-b76013430bf9"
      },
      "execution_count": null,
      "outputs": [
        {
          "output_type": "stream",
          "name": "stdout",
          "text": [
            "7\n",
            "7---14---21---28---35\n"
          ]
        }
      ]
    }
  ]
}
