{
  "nbformat": 4,
  "nbformat_minor": 0,
  "metadata": {
    "colab": {
      "provenance": [],
      "authorship_tag": "ABX9TyOc7FwnAt3JaQnr5mXpHMS9",
      "include_colab_link": true
    },
    "kernelspec": {
      "name": "python3",
      "display_name": "Python 3"
    },
    "language_info": {
      "name": "python"
    }
  },
  "cells": [
    {
      "cell_type": "markdown",
      "metadata": {
        "id": "view-in-github",
        "colab_type": "text"
      },
      "source": [
        "<a href=\"https://colab.research.google.com/github/ProNatalya/python/blob/main/9_3_4_5_6_methods_strings.ipynb\" target=\"_parent\"><img src=\"https://colab.research.google.com/assets/colab-badge.svg\" alt=\"Open In Colab\"/></a>"
      ]
    },
    {
      "cell_type": "markdown",
      "source": [
        "# Конвертация регистра\n"
      ],
      "metadata": {
        "id": "jJJMh2g5H-ZR"
      }
    },
    {
      "cell_type": "markdown",
      "source": [
        "## Метод capitalize()\n",
        "### Метод capitalize() возвращает копию строки s, в которой первый символ имеет верхний регистр, а все остальные символы имеют нижний регистр."
      ],
      "metadata": {
        "id": "3WtZNoxRIEuK"
      }
    },
    {
      "cell_type": "code",
      "execution_count": 1,
      "metadata": {
        "colab": {
          "base_uri": "https://localhost:8080/"
        },
        "id": "cWzt3BkeHw6S",
        "outputId": "c2aff48e-cce1-4fce-920b-caec624a24c1"
      },
      "outputs": [
        {
          "output_type": "stream",
          "name": "stdout",
          "text": [
            "Foo bar baz qux\n"
          ]
        }
      ],
      "source": [
        "s = 'foO BaR BAZ quX'\n",
        "print(s.capitalize())"
      ]
    },
    {
      "cell_type": "code",
      "source": [
        "s = 'foo123#BAR#.'\n",
        "print(s.capitalize())"
      ],
      "metadata": {
        "colab": {
          "base_uri": "https://localhost:8080/"
        },
        "id": "rc9gKbiUIfjN",
        "outputId": "a63f8ae5-fdec-44b0-c410-80f349a8c0bc"
      },
      "execution_count": 2,
      "outputs": [
        {
          "output_type": "stream",
          "name": "stdout",
          "text": [
            "Foo123#bar#.\n"
          ]
        }
      ]
    },
    {
      "cell_type": "markdown",
      "source": [
        "## Метод swapcase()\n",
        "### Возвращает копию строки s, в которой все символы, имеющие верхний регистр, преобразуются в символы нижнего регистра и наоборот."
      ],
      "metadata": {
        "id": "Nymv-hqwInX9"
      }
    },
    {
      "cell_type": "code",
      "source": [
        "s = 'FOO Bar 123 baz qUX'\n",
        "print(s.swapcase())"
      ],
      "metadata": {
        "colab": {
          "base_uri": "https://localhost:8080/"
        },
        "id": "_RHhkxs_Ip3X",
        "outputId": "63110749-7189-412a-ca57-db38521b61cf"
      },
      "execution_count": 3,
      "outputs": [
        {
          "output_type": "stream",
          "name": "stdout",
          "text": [
            "foo bAR 123 BAZ Qux\n"
          ]
        }
      ]
    },
    {
      "cell_type": "markdown",
      "source": [
        "## Метод title()\n",
        "### Метод swapcase() возвращает копию строки s, в которой все символы, имеющие верхний регистр, преобразуются в символы нижнего регистра и наоборот."
      ],
      "metadata": {
        "id": "F0WenWavJAiY"
      }
    },
    {
      "cell_type": "code",
      "source": [
        "s = 'the sun also rises'\n",
        "print(s.title())"
      ],
      "metadata": {
        "colab": {
          "base_uri": "https://localhost:8080/"
        },
        "id": "co9Xw-dWJGDA",
        "outputId": "c852a19a-6bf9-4741-e14f-1dfefb7fe547"
      },
      "execution_count": 4,
      "outputs": [
        {
          "output_type": "stream",
          "name": "stdout",
          "text": [
            "The Sun Also Rises\n"
          ]
        }
      ]
    },
    {
      "cell_type": "code",
      "source": [
        "s = \"what's happened to ted's IBM stock?\"\n",
        "print(s.title())"
      ],
      "metadata": {
        "colab": {
          "base_uri": "https://localhost:8080/"
        },
        "id": "W3OFeTQrJTRT",
        "outputId": "78e91240-a97c-48d8-cf48-09b40b25eaa5"
      },
      "execution_count": 5,
      "outputs": [
        {
          "output_type": "stream",
          "name": "stdout",
          "text": [
            "What'S Happened To Ted'S Ibm Stock?\n"
          ]
        }
      ]
    },
    {
      "cell_type": "markdown",
      "source": [
        "## Метод lower()\n",
        "### Метод lower() возвращает копию строки s, в которой все символы имеют нижний регистр."
      ],
      "metadata": {
        "id": "u625aIChJXoh"
      }
    },
    {
      "cell_type": "code",
      "source": [
        "s = 'FOO Bar 123 baz qUX'\n",
        "print(s.lower())"
      ],
      "metadata": {
        "colab": {
          "base_uri": "https://localhost:8080/"
        },
        "id": "yt3-SS8fJdrg",
        "outputId": "a256aade-e9b6-4d15-920c-c87b7d7db1f3"
      },
      "execution_count": 6,
      "outputs": [
        {
          "output_type": "stream",
          "name": "stdout",
          "text": [
            "foo bar 123 baz qux\n"
          ]
        }
      ]
    },
    {
      "cell_type": "markdown",
      "source": [
        "## Метод upper()\n",
        "### Метод upper() возвращает копию строки s, в которой все символы имеют верхний регистр."
      ],
      "metadata": {
        "id": "6jXFPp3KJqm6"
      }
    },
    {
      "cell_type": "code",
      "source": [
        "s = 'FOO Bar 123 baz qUX'\n",
        "print(s.upper())"
      ],
      "metadata": {
        "colab": {
          "base_uri": "https://localhost:8080/"
        },
        "id": "Sq11w6N3JwDo",
        "outputId": "9e669da8-b035-4b2e-8c0a-7efc86a47e96"
      },
      "execution_count": 7,
      "outputs": [
        {
          "output_type": "stream",
          "name": "stdout",
          "text": [
            "FOO BAR 123 BAZ QUX\n"
          ]
        }
      ]
    },
    {
      "cell_type": "markdown",
      "source": [
        "### **Одно очень важное замечание о методах данной категории состоит в том, что они не изменяют исходную строку. Если вы хотите изменить строку s, нужно написать код: s = s.lower()**"
      ],
      "metadata": {
        "id": "1PMAEFpOKCYE"
      }
    },
    {
      "cell_type": "code",
      "source": [
        "s1 = 'a'\n",
        "s2 = s1.upper()\n",
        "print(s1, s2)"
      ],
      "metadata": {
        "colab": {
          "base_uri": "https://localhost:8080/"
        },
        "id": "-g1TUnnDKQY0",
        "outputId": "5fbb4638-884f-48d3-bb8f-456e052672e6"
      },
      "execution_count": 8,
      "outputs": [
        {
          "output_type": "stream",
          "name": "stdout",
          "text": [
            "a A\n"
          ]
        }
      ]
    },
    {
      "cell_type": "code",
      "source": [
        "s = 'i LEARN Python LAnguaGE'\n",
        "print(s.upper())"
      ],
      "metadata": {
        "colab": {
          "base_uri": "https://localhost:8080/"
        },
        "id": "ItOuviNnKWlI",
        "outputId": "132e7936-df3a-424e-d3d9-1ef21c34ee0b"
      },
      "execution_count": 9,
      "outputs": [
        {
          "output_type": "stream",
          "name": "stdout",
          "text": [
            "I LEARN PYTHON LANGUAGE\n"
          ]
        }
      ]
    },
    {
      "cell_type": "markdown",
      "source": [
        "## Задача Заглавные буквы\n",
        "На вход программе подается строка состоящая из имени и фамилии человека, разделенных одним пробелом. Напишите программу, которая проверяет, что имя и фамилия начинаются с заглавной буквы.\n",
        "\n",
        "Формат входных данных\n",
        "На вход программе подается строка.\n",
        "\n",
        "Формат выходных данных\n",
        "Программа должна вывести «YES» если имя и фамилия начинаются с заглавной буквы и «NO» в противном случае.\n",
        "\n",
        "Примечание. Строка содержит только буквы.\n",
        "#### Sample Input 1:\n",
        "\n",
        "chris alan\n",
        "Sample Output 1:\n",
        "\n",
        "NO\n",
        "Sample Input 2:\n",
        "\n",
        "Chris Alan\n",
        "Sample Output 2:\n",
        "\n",
        "YES\n",
        "Sample Input 3:\n",
        "\n",
        "chris Alan\n",
        "Sample Output 3:\n",
        "\n",
        "NO"
      ],
      "metadata": {
        "id": "Jo6FPBD_KzVU"
      }
    },
    {
      "cell_type": "code",
      "source": [
        "s = input()\n",
        "\n",
        "if s == s.title():\n",
        "    print(\"YES\")\n",
        "else:\n",
        "    print(\"NO\")"
      ],
      "metadata": {
        "colab": {
          "base_uri": "https://localhost:8080/"
        },
        "id": "Gp1CJ3w-Meq0",
        "outputId": "b6a53474-b34b-414f-e2d0-2688b5de94af"
      },
      "execution_count": 11,
      "outputs": [
        {
          "output_type": "stream",
          "name": "stdout",
          "text": [
            "Chris alan\n",
            "NO\n"
          ]
        }
      ]
    },
    {
      "cell_type": "code",
      "source": [
        "s = 'aabbAAccDDaa'\n",
        "s = s.lower()\n",
        "print(s.count('a'))"
      ],
      "metadata": {
        "colab": {
          "base_uri": "https://localhost:8080/"
        },
        "id": "2QeXPQj2Nwrx",
        "outputId": "afa24716-da71-4af4-e744-84a169561a9b"
      },
      "execution_count": 13,
      "outputs": [
        {
          "output_type": "stream",
          "name": "stdout",
          "text": [
            "6\n"
          ]
        }
      ]
    },
    {
      "cell_type": "code",
      "source": [
        "s = 'www.stepik.org'\n",
        "print(s.startswith('www'))"
      ],
      "metadata": {
        "colab": {
          "base_uri": "https://localhost:8080/"
        },
        "id": "2_3J7FG7N45C",
        "outputId": "aee77134-a224-4ac5-ba6c-5347038427e6"
      },
      "execution_count": 14,
      "outputs": [
        {
          "output_type": "stream",
          "name": "stdout",
          "text": [
            "True\n"
          ]
        }
      ]
    },
    {
      "cell_type": "code",
      "source": [
        "s = 'www.stepik.org'\n",
        "print(s.endswith('.ru'))"
      ],
      "metadata": {
        "colab": {
          "base_uri": "https://localhost:8080/"
        },
        "id": "z1MxT9j6OCEM",
        "outputId": "fc8be210-6c05-4969-de87-e7f39f8475ab"
      },
      "execution_count": 15,
      "outputs": [
        {
          "output_type": "stream",
          "name": "stdout",
          "text": [
            "False\n"
          ]
        }
      ]
    },
    {
      "cell_type": "code",
      "source": [
        "s = 'I learn Python language. Python - awesome!'\n",
        "print(s.find('Python'))"
      ],
      "metadata": {
        "colab": {
          "base_uri": "https://localhost:8080/"
        },
        "id": "WV6UMvFMON9d",
        "outputId": "3012a4b6-416a-4810-a22b-da472a4fabb8"
      },
      "execution_count": 16,
      "outputs": [
        {
          "output_type": "stream",
          "name": "stdout",
          "text": [
            "8\n"
          ]
        }
      ]
    },
    {
      "cell_type": "markdown",
      "source": [
        "### Программисты обычно мало что помнят (всмысле наизусть). Зато они знают и понимают алгоритм решения задач. И они знают, какая функция находится в каком модуле документации. Умело переходят туда, используют в своём проекте и забывают про неё опять."
      ],
      "metadata": {
        "id": "9NAXOOhOOWbc"
      }
    },
    {
      "cell_type": "code",
      "source": [
        "s = '     I learn Python language               '\n",
        "print(s.strip())"
      ],
      "metadata": {
        "colab": {
          "base_uri": "https://localhost:8080/"
        },
        "id": "W2ZXhjhiOktH",
        "outputId": "d89d085a-30b5-41a6-a8ce-b73345081c31"
      },
      "execution_count": 17,
      "outputs": [
        {
          "output_type": "stream",
          "name": "stdout",
          "text": [
            "I learn Python language\n"
          ]
        }
      ]
    },
    {
      "cell_type": "code",
      "source": [
        "s = 'abcdababa'\n",
        "print(s.replace('ab', '123'))"
      ],
      "metadata": {
        "colab": {
          "base_uri": "https://localhost:8080/"
        },
        "id": "lOFNGoTYOrRy",
        "outputId": "cbfb7684-f090-4536-b1f3-76b8e4c6662b"
      },
      "execution_count": 18,
      "outputs": [
        {
          "output_type": "stream",
          "name": "stdout",
          "text": [
            "123cd123123a\n"
          ]
        }
      ]
    },
    {
      "cell_type": "markdown",
      "source": [
        "# Задача Количество слов\n",
        "На вход программе подается строка текста, состоящая из слов, разделенных ровно одним пробелом. Напишите программу, которая подсчитывает количество слов в ней."
      ],
      "metadata": {
        "id": "vuRVodIbPKSc"
      }
    },
    {
      "cell_type": "code",
      "source": [
        "# s = input()\n",
        "# print(s.count(' '))"
      ],
      "metadata": {
        "id": "H0QM79o4PHZy"
      },
      "execution_count": 37,
      "outputs": []
    },
    {
      "cell_type": "code",
      "source": [
        "s = input()\n",
        "sc = s.count(\" \")  # считает пробелы\n",
        "print(sc + 1 )"
      ],
      "metadata": {
        "colab": {
          "base_uri": "https://localhost:8080/"
        },
        "id": "WqwX-knGP7E3",
        "outputId": "1e37b72a-947c-4c64-a3c3-6a80adadcb47"
      },
      "execution_count": 33,
      "outputs": [
        {
          "output_type": "stream",
          "name": "stdout",
          "text": [
            "Free world \n",
            "3\n"
          ]
        }
      ]
    },
    {
      "cell_type": "code",
      "source": [
        "s = input()\n",
        "print(s.count(' '))\n"
      ],
      "metadata": {
        "colab": {
          "base_uri": "https://localhost:8080/"
        },
        "id": "ruistLIfRUKA",
        "outputId": "8bae5dfe-ea78-4441-b107-5aff8179dc74"
      },
      "execution_count": 35,
      "outputs": [
        {
          "output_type": "stream",
          "name": "stdout",
          "text": [
            "Free world \n",
            "2\n"
          ]
        }
      ]
    },
    {
      "cell_type": "markdown",
      "source": [
        "## **Функция ord**\n",
        "Функция ord позволяет определить код некоторого символа в таблице символов Unicode. Аргументом данной функции является одиночный символ."
      ],
      "metadata": {
        "id": "bbFLenimSkrD"
      }
    },
    {
      "cell_type": "code",
      "source": [
        "num1 = ord('A')\n",
        "num2 = ord('B')\n",
        "num3 = ord('a')\n",
        "print(num1, num2, num3)\n",
        "# функция ord принимает именно одиночный символ."
      ],
      "metadata": {
        "colab": {
          "base_uri": "https://localhost:8080/"
        },
        "id": "1ZAmzuVkSxcK",
        "outputId": "998f575e-eb8f-4f88-e8ec-a15a2311e5ed"
      },
      "execution_count": 38,
      "outputs": [
        {
          "output_type": "stream",
          "name": "stdout",
          "text": [
            "65 66 97\n"
          ]
        }
      ]
    },
    {
      "cell_type": "markdown",
      "source": [
        "## **Функция chr**\n",
        "Функция chr позволяет определить по коду символа сам символ. Аргументом данной функции является численный код"
      ],
      "metadata": {
        "id": "o4Y_PM6OTA06"
      }
    },
    {
      "cell_type": "code",
      "source": [
        "chr1 = chr(65)\n",
        "chr2 = chr(75)\n",
        "chr3 = chr(110)\n",
        "print(chr1, chr2, chr3)\n",
        "# Название функции chr происходит от английского слова char — символ."
      ],
      "metadata": {
        "colab": {
          "base_uri": "https://localhost:8080/"
        },
        "id": "QzVEND0fTMHf",
        "outputId": "5daa9899-1612-45fa-ae57-868b0952b9c0"
      },
      "execution_count": 39,
      "outputs": [
        {
          "output_type": "stream",
          "name": "stdout",
          "text": [
            "A K n\n"
          ]
        }
      ]
    },
    {
      "cell_type": "code",
      "source": [
        "# Функции ord и chr часто работают в паре. Мы можем использовать следующий\n",
        "# код для вывода всех заглавных букв английского алфавита:\n",
        "for i in range(26):\n",
        "    print(chr(ord('A') + i))"
      ],
      "metadata": {
        "colab": {
          "base_uri": "https://localhost:8080/"
        },
        "id": "0UGKnejITZna",
        "outputId": "c6c5bb64-a446-4cf0-e5c9-2c000c82fe7f"
      },
      "execution_count": 40,
      "outputs": [
        {
          "output_type": "stream",
          "name": "stdout",
          "text": [
            "A\n",
            "B\n",
            "C\n",
            "D\n",
            "E\n",
            "F\n",
            "G\n",
            "H\n",
            "I\n",
            "J\n",
            "K\n",
            "L\n",
            "M\n",
            "N\n",
            "O\n",
            "P\n",
            "Q\n",
            "R\n",
            "S\n",
            "T\n",
            "U\n",
            "V\n",
            "W\n",
            "X\n",
            "Y\n",
            "Z\n"
          ]
        }
      ]
    }
  ]
}
