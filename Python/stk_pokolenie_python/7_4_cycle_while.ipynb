{
  "nbformat": 4,
  "nbformat_minor": 0,
  "metadata": {
    "colab": {
      "provenance": [],
      "authorship_tag": "ABX9TyOSrqJUZc+osx7wzoOOGyBM",
      "include_colab_link": true
    },
    "kernelspec": {
      "name": "python3",
      "display_name": "Python 3"
    },
    "language_info": {
      "name": "python"
    }
  },
  "cells": [
    {
      "cell_type": "markdown",
      "metadata": {
        "id": "view-in-github",
        "colab_type": "text"
      },
      "source": [
        "<a href=\"https://colab.research.google.com/github/ProNatalya/python/blob/main/7_4_cycle_while.ipynb\" target=\"_parent\"><img src=\"https://colab.research.google.com/assets/colab-badge.svg\" alt=\"Open In Colab\"/></a>"
      ]
    },
    {
      "cell_type": "code",
      "execution_count": null,
      "metadata": {
        "id": "BWs2CIHdr5Nx",
        "colab": {
          "base_uri": "https://localhost:8080/"
        },
        "outputId": "1575b7d5-06b0-46dc-b658-d2c2c3cc6c2e"
      },
      "outputs": [
        {
          "output_type": "stream",
          "name": "stdout",
          "text": [
            "Привет\n",
            "Привет\n",
            "Привет\n",
            "Привет\n",
            "Привет\n",
            "Привет\n",
            "Привет\n",
            "Привет\n",
            "Привет\n",
            "Привет\n"
          ]
        }
      ],
      "source": [
        "# код, использующий цикл while, который распечатает 10 раз слово Привет:\n",
        "i = 0\n",
        "while i < 10:\n",
        "    print('Привет')\n",
        "    i += 1\n",
        "# Такой код можно легко заменить циклом for,\n",
        "# поскольку мы заранее знаем сколько раз нужно выполнить тело цикла"
      ]
    },
    {
      "cell_type": "code",
      "source": [
        "# Напишем программу, которая считывает числа и выводит их квадраты,\n",
        "# пока не будет введено -1\n",
        "num = int(input())\n",
        "while num != -1:\n",
        "    print('Квадрат вашего числа равен:', num * num)\n",
        "    num = int(input())\n",
        "# В качестве начального значения переменной num, мы используем первое из чисел.\n",
        "# Далее пока выполняется условие цикла, а именно, пока введенное число не\n",
        "# равно -1, мы исполняем тело цикла. В тело цикла входит две команды:\n",
        "# 1. напечатать квадрат введенного числа;\n",
        "# 2. считать следующее число.\n",
        "# Важным являются два момента:\n",
        "# 1. правильная инициализация переменной num;\n",
        "# 2. изменение переменной num внутри цикла while.\n"
      ],
      "metadata": {
        "id": "-5pmCZ5ntiR3"
      },
      "execution_count": null,
      "outputs": []
    },
    {
      "cell_type": "code",
      "source": [
        "# если не изменять переменную num внутри цикла, то можно получить так называемый бесконечный цикл,\n",
        "# который будет выполняться бесконечно много раз."
      ],
      "metadata": {
        "id": "LRMA2I6sxFmO"
      },
      "execution_count": null,
      "outputs": []
    },
    {
      "cell_type": "markdown",
      "source": [
        "## Цикл for VS цикл while"
      ],
      "metadata": {
        "id": "iZMJFq-mxOJ6"
      }
    },
    {
      "cell_type": "code",
      "source": [
        "# используем for\n",
        "for i in range(101):\n",
        "    print(i)\n",
        "\n",
        "# используем while\n",
        "i = 0\n",
        "while i < 101:\n",
        "    print(i)\n",
        "    i += 1"
      ],
      "metadata": {
        "id": "oe9pm-JlxN3u"
      },
      "execution_count": null,
      "outputs": []
    },
    {
      "cell_type": "code",
      "source": [
        "# Напишем программу, выводящую все числа, кратные 3, используя цикл for и while:\n",
        "# используем for\n",
        "for i in range(0, 100, 3):\n",
        "    print(i)\n",
        "\n",
        "# используем while\n",
        "i = 0\n",
        "while i < 100:\n",
        "    print(i)\n",
        "    i += 3\n",
        "# Не всегда, однако удается заменить цикл while с помощью цикла for.\n",
        "# Если заранее не известно количество итераций, то необходимо использовать\n",
        "# цикл while и только его."
      ],
      "metadata": {
        "id": "kt73AF0rxov4"
      },
      "execution_count": null,
      "outputs": []
    },
    {
      "cell_type": "markdown",
      "source": [
        "## Считывание данных до стоп значения\n"
      ],
      "metadata": {
        "id": "BYbpgR8zym7A"
      }
    },
    {
      "cell_type": "code",
      "source": [
        "text = input()\n",
        "total = 0\n",
        "while text != 'stop':\n",
        "    num = int(text)\n",
        "    total += num\n",
        "    text = input()\n",
        "print('Сумма чисел равна', total)"
      ],
      "metadata": {
        "id": "k2uP_Yr9yyg0"
      },
      "execution_count": null,
      "outputs": []
    },
    {
      "cell_type": "markdown",
      "source": [
        "## Бесконечный цикл\n"
      ],
      "metadata": {
        "id": "YNRT1NVxy2ic"
      }
    },
    {
      "cell_type": "code",
      "source": [
        "i = 0\n",
        "total = 0\n",
        "while i < 10:\n",
        "    total += i\n",
        "# Так как в теле цикла не происходит изменения переменной i,\n",
        "# то условие i < 10 остается истинным и цикл выполняется бесконечно много раз."
      ],
      "metadata": {
        "id": "3ANNfCbtzE6P"
      },
      "execution_count": null,
      "outputs": []
    },
    {
      "cell_type": "code",
      "source": [
        "# Цикл while называют циклом с предусловием, поскольку выполнению тела цикла\n",
        "# предшествует проверка условия\n",
        "#(сначала проверяется условие, а уже затем выполняется тело цикла)."
      ],
      "metadata": {
        "id": "aIkBuX0pzR5L"
      },
      "execution_count": null,
      "outputs": []
    },
    {
      "cell_type": "code",
      "source": [
        "# Однократное выполнение тела цикла называется итерацией цикла."
      ],
      "metadata": {
        "id": "zexzPjeazd6c"
      },
      "execution_count": null,
      "outputs": []
    },
    {
      "cell_type": "code",
      "source": [
        "# Цикл while может не выполниться ни одного раза. Например, следующий код:\n",
        "i = -1\n",
        "while i > 0:\n",
        "    print('Hello world!')\n",
        "# не выведет текст, поскольку условие i > 0 ложно с самого начала."
      ],
      "metadata": {
        "id": "g8Tk_thdzjFk"
      },
      "execution_count": null,
      "outputs": []
    },
    {
      "cell_type": "markdown",
      "source": [
        "## Условие в цикле while, как и в условном операторе if, может содержать логические операции or, and, not."
      ],
      "metadata": {
        "id": "dVji0rnqz0TN"
      }
    },
    {
      "cell_type": "code",
      "source": [
        "i = 7\n",
        "a = 5\n",
        "while i < 11:\n",
        "    a += i\n",
        "    i += 2\n",
        "print(a)"
      ],
      "metadata": {
        "colab": {
          "base_uri": "https://localhost:8080/"
        },
        "id": "1Elg0JbQ0AxN",
        "outputId": "c52d7dd8-500d-42da-fc8c-8e63097d4b34"
      },
      "execution_count": null,
      "outputs": [
        {
          "output_type": "stream",
          "name": "stdout",
          "text": [
            "21\n"
          ]
        }
      ]
    },
    {
      "cell_type": "markdown",
      "source": [
        "# Task1 До КОНЦА 1\n",
        "На вход программе подается последовательность слов, каждое слово на отдельной строке. Концом последовательности является слово «КОНЕЦ» (без кавычек). При этом само слово «КОНЕЦ» не входит в последовательность, лишь символизируя её окончание. Напишите программу, которая выводит члены данной последовательности.\n",
        "\n",
        "Формат входных данных\n",
        "На вход программе подается последовательность слов, каждое слово на отдельной строке.\n",
        "\n",
        "Формат выходных данных\n",
        "Программа должна вывести члены данной последовательности.\n",
        "\n",
        "Тестовые данные 🟢\n",
        "Sample Input 1:\n",
        "\n",
        "Fus\n",
        "Ro\n",
        "КОНЕЦ\n",
        "Dah\n",
        "Sample Output 1:\n",
        "\n",
        "Fus\n",
        "Ro\n",
        "Sample Input 2:\n",
        "\n",
        "По\n",
        "небу\n",
        "полуночи\n",
        "КОНЕЦ\n",
        "ангел\n",
        "летел\n",
        "Sample Output 2:\n",
        "\n",
        "По\n",
        "небу\n",
        "полуночи"
      ],
      "metadata": {
        "id": "8eTRiLPj0HY0"
      }
    },
    {
      "cell_type": "code",
      "source": [
        "phrase = input()\n",
        "while phrase != 'КОНЕЦ':\n",
        "    print(phrase)\n",
        "    phrase = input()"
      ],
      "metadata": {
        "id": "8dAx397o0Vnq"
      },
      "execution_count": null,
      "outputs": []
    },
    {
      "cell_type": "code",
      "source": [
        "word = input()\n",
        "while word != \"КОНЕЦ\":\n",
        "    print(word)\n",
        "    word = input()"
      ],
      "metadata": {
        "id": "VQBXEydr0gHR"
      },
      "execution_count": null,
      "outputs": []
    },
    {
      "cell_type": "markdown",
      "source": [
        "# Task2 До КОНЦА 2\n",
        "Stepik\n",
        "User avatar\n",
        "\n",
        "7.4 Цикл while\n",
        "14 из 14 шагов пройдено\n",
        "41 из 41 баллa  получен\n",
        "До КОНЦА 2\n",
        "На вход программе подается последовательность слов, каждое слово на отдельной строке. Концом последовательности является слово «КОНЕЦ» или «конец» (большими или маленькими буквами, без кавычек). При этом сами слова «КОНЕЦ» и «конец» не входят в последовательность, лишь символизируя её окончание. Напишите программу, которая выводит члены данной последовательности.\n",
        "\n",
        "Формат входных данных\n",
        "На вход программе подается последовательность слов, каждое слово на отдельной строке.\n",
        "\n",
        "Формат выходных данных\n",
        "Программа должна вывести члены данной последовательности.\n",
        "\n",
        "Тестовые данные 🟢\n",
        "Sample Input 1:\n",
        "\n",
        "JavaScript\n",
        "C++\n",
        "C#\n",
        "Ruby\n",
        "PHP\n",
        "КОНЕЦ\n",
        "Python\n",
        "Sample Output 1:\n",
        "\n",
        "JavaScript\n",
        "C++\n",
        "C#\n",
        "Ruby\n",
        "PHP\n",
        "Sample Input 2:\n",
        "\n",
        "Великобритания\n",
        "США\n",
        "Китай\n",
        "КОНЕЦ\n",
        "Ватикан\n",
        "Sample Output 2:\n",
        "\n",
        "Великобритания\n",
        "США\n",
        "Китай"
      ],
      "metadata": {
        "id": "EKtR_Odt0mtu"
      }
    },
    {
      "cell_type": "code",
      "source": [
        "phrase = input()\n",
        "while phrase!= \"КОНЕЦ\" and phrase!= \"конец\":\n",
        "    print(phrase)\n",
        "    phrase = input()"
      ],
      "metadata": {
        "id": "RaCTQuuN0GdN"
      },
      "execution_count": null,
      "outputs": []
    },
    {
      "cell_type": "markdown",
      "source": [
        "# Task3 Количество членов\n",
        "Stepik\n",
        "User avatar\n",
        "\n",
        "7.4 Цикл while\n",
        "14 из 14 шагов пройдено\n",
        "41 из 41 баллa  получен\n",
        "Количество членов\n",
        "На вход программе подается последовательность слов, каждое слово на отдельной строке. Концом последовательности является одно из трех слов: «стоп», «хватит», «достаточно» (маленькими буквами, без кавычек). Сами эти слова в последовательность не входят, лишь символизируя её окончание. Напишите программу, которая выводит общее количество членов данной последовательности.\n",
        "\n",
        "Формат входных данных\n",
        "На вход программе подается последовательность слов, каждое слово на отдельной строке.\n",
        "\n",
        "Формат выходных данных\n",
        "Программа должна вывести общее количество членов данной последовательности.\n",
        "\n",
        "Тестовые данные 🟢\n",
        "Sample Input 1:\n",
        "\n",
        "Skyrim\n",
        "GTA\n",
        "Mafia\n",
        "стоп\n",
        "Battlefield\n",
        "Sample Output 1:\n",
        "\n",
        "3\n",
        "Sample Input 2:\n",
        "\n",
        "Yandex\n",
        "Google\n",
        "Opera\n",
        "Safari\n",
        "хватит\n",
        "Mozilla\n",
        "Sample Output 2:\n",
        "\n",
        "4"
      ],
      "metadata": {
        "id": "Am2CgseD1Aiw"
      }
    },
    {
      "cell_type": "code",
      "source": [
        "#phrase = input()\n",
        "count = 0\n",
        "while phrase!= \"стоп\" and phrase!= \"хватит\" and phrase!= \"достаточно\":\n",
        "    phrase = input()\n",
        "    count += 1\n",
        "print(count)"
      ],
      "metadata": {
        "id": "C4NCJf_V1IrT"
      },
      "execution_count": null,
      "outputs": []
    },
    {
      "cell_type": "markdown",
      "source": [
        "# Task4 Пока делимся\n",
        "Stepik\n",
        "User avatar\n",
        "\n",
        "7.4 Цикл while\n",
        "14 из 14 шагов пройдено\n",
        "41 из 41 баллa  получен\n",
        "Пока делимся\n",
        "На вход программе подается последовательность целых чисел делящихся на\n",
        "7\n",
        "7, каждое число на отдельной строке. Концом последовательности является любое число, не делящееся на\n",
        "7\n",
        "7 (само это число в последовательность не входит, лишь символизируя её конец). Напишите программу, которая выводит члены данной последовательности.\n",
        "\n",
        "Формат входных данных\n",
        "На вход программе подается последовательность чисел, каждое число на отдельной строке.\n",
        "\n",
        "Формат выходных данных\n",
        "Программа должна вывести члены данной последовательности.\n",
        "\n",
        "Тестовые данные 🟢\n",
        "Sample Input 1:\n",
        "\n",
        "49\n",
        "2401\n",
        "4809\n",
        "0\n",
        "2\n",
        "10\n",
        "100\n",
        "Sample Output 1:\n",
        "\n",
        "49\n",
        "2401\n",
        "4809\n",
        "0\n",
        "Sample Input 2:\n",
        "\n",
        "7\n",
        "7\n",
        "14\n",
        "21\n",
        "13\n",
        "21\n",
        "12\n",
        "45\n",
        "56\n",
        "7\n",
        "7\n",
        "Sample Output 2:\n",
        "\n",
        "7\n",
        "7\n",
        "14\n",
        "21"
      ],
      "metadata": {
        "id": "IrwWXlR7BgBt"
      }
    },
    {
      "cell_type": "code",
      "source": [
        "n = int(input())\n",
        "while n % 7 == 0:\n",
        "    print(n)\n",
        "    n = int(input())\n"
      ],
      "metadata": {
        "id": "UpxT5hdmB0ui"
      },
      "execution_count": null,
      "outputs": []
    },
    {
      "cell_type": "markdown",
      "source": [
        "# Task5 Сумма чисел\n",
        "На вход программе подается последовательность целых чисел, каждое число на отдельной строке. Признаком окончания последовательности является любое отрицательное число, при этом в саму последовательность оно не входит. Напишите программу, которая выводит сумму всех членов данной последовательности.\n",
        "\n",
        "Формат входных данных\n",
        "На вход программе подается последовательность чисел, каждое число на отдельной строке.\n",
        "\n",
        "Формат выходных данных\n",
        "Программа должна вывести сумму членов данной последовательности.\n",
        "\n",
        "Тестовые данные 🟢\n",
        "Sample Input 1:\n",
        "\n",
        "1\n",
        "2\n",
        "3\n",
        "4\n",
        "5\n",
        "6\n",
        "7\n",
        "8\n",
        "9\n",
        "10\n",
        "-5\n",
        "45\n",
        "2\n",
        "3\n",
        "Sample Output 1:\n",
        "\n",
        "55\n",
        "Sample Input 2:\n",
        "\n",
        "4\n",
        "-5\n",
        "Sample Output 2:\n",
        "\n",
        "4"
      ],
      "metadata": {
        "id": "PQ0ScS1zCENz"
      }
    },
    {
      "cell_type": "code",
      "source": [
        "n = int(input())\n",
        "count = 0\n",
        "while n >= 0:\n",
        "    count += n\n",
        "    n = int(input())\n",
        "print(count)"
      ],
      "metadata": {
        "id": "Mf7D9zRQCaKg"
      },
      "execution_count": null,
      "outputs": []
    },
    {
      "cell_type": "markdown",
      "source": [
        "# Task6 Количество пятерок\n",
        "На вход программе подается последовательность целых чисел от\n",
        "1\n",
        "1 до\n",
        "5\n",
        "5, характеризующее оценку ученика, каждое число на отдельной строке. Концом последовательности является любое отрицательное число либо число, большее\n",
        "5\n",
        "5. Напишите программу, которая выводит количество пятерок.\n",
        "\n",
        "Формат входных данных\n",
        "На вход программе подается последовательность чисел, каждое число на отдельной строке.\n",
        "\n",
        "Формат выходных данных\n",
        "Программа должна вывести количество пятерок.\n",
        "\n",
        "Тестовые данные 🟢\n",
        "Sample Input 1:\n",
        "\n",
        "1\n",
        "1\n",
        "2\n",
        "2\n",
        "3\n",
        "4\n",
        "4\n",
        "5\n",
        "5\n",
        "5\n",
        "5\n",
        "-17\n",
        "1\n",
        "2\n",
        "5\n",
        "4\n",
        "Sample Output 1:\n",
        "\n",
        "4\n",
        "Sample Input 2:\n",
        "\n",
        "5\n",
        "5\n",
        "-9\n",
        "5\n",
        "5\n",
        "Sample Output 2:\n",
        "\n",
        "2"
      ],
      "metadata": {
        "id": "RfPDUVLoCtEH"
      }
    },
    {
      "cell_type": "code",
      "source": [
        "n = int(input())\n",
        "count = 0\n",
        "while  n > 0 and n < 6:\n",
        "    if n == 5:\n",
        "        count = count + 1\n",
        "    n = int(input())\n",
        "print(count)\n"
      ],
      "metadata": {
        "id": "nNduabSQC1xR"
      },
      "execution_count": null,
      "outputs": []
    },
    {
      "cell_type": "code",
      "source": [
        "n = int(input())\n",
        "cnt_5 = 0\n",
        "while 5 >= n >= 0:\n",
        "    if n == 5:\n",
        "        cnt_5 += 1\n",
        "    n = int(input())\n",
        "\n",
        "print(cnt_5)\n"
      ],
      "metadata": {
        "id": "9bGpmxg6DEs5"
      },
      "execution_count": null,
      "outputs": []
    },
    {
      "cell_type": "markdown",
      "source": [
        "# Task7 Ведьмаку заплатите чеканной монетой\n",
        "Ведьмаку заплатите чеканной монетой\n",
        "Всем известно, что ведьмак способен одолеть любых чудовищ, однако его услуги обойдутся недешево. К тому же ведьмак не принимает купюры, он принимает только чеканные монеты. В мире ведьмака существуют монеты с номиналами\n",
        "1,5,10,25.\n",
        "\n",
        "Напишите программу, которая определяет, какое минимальное количество чеканных монет нужно заплатить ведьмаку.\n",
        "\n",
        "Формат входных данных\n",
        "На вход программе подается одно натуральное число - цена за услугу ведьмака.\n",
        "\n",
        "Формат выходных данных\n",
        "Программа должна вывести минимально возможное количество чеканных монет для оплаты.\n",
        "\n",
        "Тестовые данные 🟢\n",
        "Sample Input 1:\n",
        "\n",
        "49\n",
        "Sample Output 1:\n",
        "\n",
        "7\n",
        "Sample Input 2:\n",
        "\n",
        "1\n",
        "Sample Output 2:\n",
        "\n",
        "1"
      ],
      "metadata": {
        "id": "k-HRVjSrDRQ3"
      }
    },
    {
      "cell_type": "code",
      "source": [
        "n = int(input())\n",
        "counter = 0\n",
        "while n >= 25:\n",
        "    counter += 1\n",
        "    n = n - 25\n",
        "while n >= 10:\n",
        "    counter += 1\n",
        "    n = n - 10\n",
        "while n >= 5:\n",
        "    counter += 1\n",
        "    n = n - 5\n",
        "while n >= 1:\n",
        "    counter += 1\n",
        "    n = n - 1\n",
        "print(counter)\n"
      ],
      "metadata": {
        "id": "lNamuZUxDlRx"
      },
      "execution_count": null,
      "outputs": []
    },
    {
      "cell_type": "code",
      "source": [
        "price = int(input())\n",
        "monety = 0\n",
        "while price > 0:\n",
        "    if price >= 25:  # пока цена больше 25\n",
        "        price -= 25  # отнимаем по 25\n",
        "\n",
        "    elif 10 <= price < 25:  # пока больше 10\n",
        "        price -= 10  # отнимаем по 10 и тд\n",
        "\n",
        "    elif 5 <= price < 10:\n",
        "        price -= 5\n",
        "\n",
        "    elif price < 5:\n",
        "        price -= 1\n",
        "\n",
        "    monety += 1  # считаем по монетке,\n",
        "\n",
        "print(monety)      # пока все не заплатят"
      ],
      "metadata": {
        "id": "03Mmt32hEIPp"
      },
      "execution_count": null,
      "outputs": []
    },
    {
      "cell_type": "code",
      "source": [
        "n = int(input())\n",
        "k = 0\n",
        "for i in (25, 10, 5, 1):\n",
        "    while n // i > 0:\n",
        "        k += 1\n",
        "        n -= i\n",
        "print(k)"
      ],
      "metadata": {
        "id": "ELi2cZ4cEiC0"
      },
      "execution_count": null,
      "outputs": []
    }
  ]
}
