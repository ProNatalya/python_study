{
  "nbformat": 4,
  "nbformat_minor": 0,
  "metadata": {
    "colab": {
      "provenance": [],
      "authorship_tag": "ABX9TyOhQg4ih1Q12vn0HFInf52A",
      "include_colab_link": true
    },
    "kernelspec": {
      "name": "python3",
      "display_name": "Python 3"
    },
    "language_info": {
      "name": "python"
    }
  },
  "cells": [
    {
      "cell_type": "markdown",
      "metadata": {
        "id": "view-in-github",
        "colab_type": "text"
      },
      "source": [
        "<a href=\"https://colab.research.google.com/github/ProNatalya/python/blob/main/2_2_commands_print_input.ipynb\" target=\"_parent\"><img src=\"https://colab.research.google.com/assets/colab-badge.svg\" alt=\"Open In Colab\"/></a>"
      ]
    },
    {
      "cell_type": "markdown",
      "source": [
        "Тема урока: ввод-вывод данных\n",
        "\n",
        "1.Вывод данных, команда print()\n",
        "Выводит на экран\n",
        "2.Ввод данных, команда input()\n",
        "Считывает информацию с клавиатуры\n",
        "3.Решение задач"
      ],
      "metadata": {
        "id": "dQRqU20ftOUi"
      }
    },
    {
      "cell_type": "code",
      "source": [
        "print('Мы изучаем язык Python.')"
      ],
      "metadata": {
        "colab": {
          "base_uri": "https://localhost:8080/"
        },
        "id": "Bj662MJquHKi",
        "outputId": "2c61ee21-ad37-46d2-d056-dd5d2f8ef664"
      },
      "execution_count": null,
      "outputs": [
        {
          "output_type": "stream",
          "name": "stdout",
          "text": [
            "Мы изучаем язык Python.\n"
          ]
        }
      ]
    },
    {
      "cell_type": "markdown",
      "source": [
        "То, что мы пишем в круглых скобках у команды print(), называется аргументами или параметрами команды."
      ],
      "metadata": {
        "id": "R0B0m5RIul0K"
      }
    },
    {
      "cell_type": "code",
      "source": [],
      "metadata": {
        "id": "zZuk2WPqt-uv"
      },
      "execution_count": null,
      "outputs": []
    },
    {
      "cell_type": "code",
      "execution_count": null,
      "metadata": {
        "id": "g2rAm-ggs7I0"
      },
      "outputs": [],
      "source": [
        "#По умолчанию команда print() добавляет ровно один пробел между всеми своими аргументами."
      ]
    },
    {
      "cell_type": "code",
      "source": [
        "print('Скоро я', 'буду программировать', 'на языке', 'Python!') # пробел мы ставим, потому что чистый код"
      ],
      "metadata": {
        "id": "FDyD2gSqu3Pe",
        "colab": {
          "base_uri": "https://localhost:8080/"
        },
        "outputId": "74e51185-709e-456b-8179-bd4ed7cde40c"
      },
      "execution_count": null,
      "outputs": [
        {
          "output_type": "stream",
          "name": "stdout",
          "text": [
            "Скоро я буду программировать на языке Python!\n"
          ]
        }
      ]
    },
    {
      "cell_type": "code",
      "source": [
        "print('Какой хороший день!')\n",
        "print('Работать мне не лень!')"
      ],
      "metadata": {
        "colab": {
          "base_uri": "https://localhost:8080/"
        },
        "id": "WDFwbaKEeziM",
        "outputId": "e5beaf2c-fc35-4e2e-9bca-b1992fa78ec3"
      },
      "execution_count": null,
      "outputs": [
        {
          "output_type": "stream",
          "name": "stdout",
          "text": [
            "Какой хороший день!\n",
            "Работать мне не лень!\n"
          ]
        }
      ]
    },
    {
      "cell_type": "code",
      "source": [
        "print('В тексте есть \"двойные\" кавычки')\n"
      ],
      "metadata": {
        "id": "ics4fwRwgGdu"
      },
      "execution_count": null,
      "outputs": []
    },
    {
      "cell_type": "code",
      "source": [
        "#задание1\n",
        "print('Здравствуй, мир!')"
      ],
      "metadata": {
        "colab": {
          "base_uri": "https://localhost:8080/"
        },
        "id": "qfqPSl_Cp3Wh",
        "outputId": "071a6744-2668-4d8f-c239-6d8c647ff0fe"
      },
      "execution_count": null,
      "outputs": [
        {
          "output_type": "stream",
          "name": "stdout",
          "text": [
            "Здравствуй, мир!\n"
          ]
        }
      ]
    },
    {
      "cell_type": "code",
      "source": [
        "#задание2\n",
        "print(4, 8, 15, 16, 23, 42)"
      ],
      "metadata": {
        "colab": {
          "base_uri": "https://localhost:8080/"
        },
        "id": "RiqLw9vQq-9X",
        "outputId": "e73b66a8-8420-4f22-98d4-d823f276cb56"
      },
      "execution_count": null,
      "outputs": [
        {
          "output_type": "stream",
          "name": "stdout",
          "text": [
            "4 8 15 16 23 42\n"
          ]
        }
      ]
    },
    {
      "cell_type": "code",
      "source": [
        "#задание3\n",
        "print(4)\n",
        "print(8)\n",
        "print(15)\n",
        "print(16)\n",
        "print(23)\n",
        "print(42)\n"
      ],
      "metadata": {
        "colab": {
          "base_uri": "https://localhost:8080/"
        },
        "id": "gLVjNj76saoX",
        "outputId": "12f07bed-3d63-4e7f-abf8-8a116d99d5a7"
      },
      "execution_count": null,
      "outputs": [
        {
          "output_type": "stream",
          "name": "stdout",
          "text": [
            "4\n",
            "8\n",
            "15\n",
            "16\n",
            "23\n",
            "42\n"
          ]
        }
      ]
    },
    {
      "cell_type": "code",
      "source": [
        "#задание4\n",
        "print('*')\n",
        "print('**')\n",
        "print('***')\n",
        "print('****')\n",
        "print('*****')\n",
        "print('******')\n",
        "print('*******')\n"
      ],
      "metadata": {
        "colab": {
          "base_uri": "https://localhost:8080/"
        },
        "id": "POv5H9I5s_L-",
        "outputId": "a15632af-7326-435f-f242-ff16670eecd9"
      },
      "execution_count": null,
      "outputs": [
        {
          "output_type": "stream",
          "name": "stdout",
          "text": [
            "*\n",
            "**\n",
            "***\n",
            "****\n",
            "*****\n",
            "******\n",
            "*******\n"
          ]
        }
      ]
    },
    {
      "cell_type": "code",
      "source": [
        "#задание4 - иное решение\n",
        "print('*', '**', '***', '****', '*****', '******', '*******', sep = '\\n')"
      ],
      "metadata": {
        "colab": {
          "base_uri": "https://localhost:8080/"
        },
        "id": "NQ-AF4I6xOax",
        "outputId": "08075a49-7637-4ba7-9948-9f8732c45869"
      },
      "execution_count": null,
      "outputs": [
        {
          "output_type": "stream",
          "name": "stdout",
          "text": [
            "*\n",
            "**\n",
            "***\n",
            "****\n",
            "*****\n",
            "******\n",
            "*******\n"
          ]
        }
      ]
    },
    {
      "cell_type": "markdown",
      "source": [
        "Команда input() считывает введенные с клавиатуры данные.\n",
        "Команда print() выводит на экран данные."
      ],
      "metadata": {
        "id": "Ui6pac-kyLen"
      }
    },
    {
      "cell_type": "code",
      "source": [
        "#(ввод завершается нажатием клавиши Enter).\n",
        "print('Как тебя зовут?')\n",
        "name = input()\n",
        "print('Привет,', name)"
      ],
      "metadata": {
        "colab": {
          "base_uri": "https://localhost:8080/"
        },
        "id": "sFhYryT4yOdb",
        "outputId": "aab36aa4-dd16-4c2c-a5e3-bc1e2090debd"
      },
      "execution_count": null,
      "outputs": [
        {
          "output_type": "stream",
          "name": "stdout",
          "text": [
            "Как тебя зовут?\n",
            "Kate\n",
            "Привет, Kate\n"
          ]
        }
      ]
    },
    {
      "cell_type": "code",
      "source": [
        "#Поскольку это достаточно распространённый сценарий, то в языке Python можно выводить текст, передавая его в качестве параметра в команду input(). Предыдущий код можно переписать так:\n",
        "name = input('Как тебя зовут? ')\n",
        "print('Привет,', name)"
      ],
      "metadata": {
        "colab": {
          "base_uri": "https://localhost:8080/"
        },
        "id": "eLTUU89-zoo3",
        "outputId": "91dc919d-384a-4a91-fce3-8f6e48f0fd7d"
      },
      "execution_count": null,
      "outputs": [
        {
          "output_type": "stream",
          "name": "stdout",
          "text": [
            "Как тебя зовут? Sasha\n",
            "Привет, Sasha\n"
          ]
        }
      ]
    },
    {
      "cell_type": "markdown",
      "source": [
        "#задание5\n",
        "Формат выходных данных\n",
        "Программа должна вывести текст в соотвествии с условием задачи.\n",
        "\n",
        "Примечание 1. Для считывания текста используйте команду input(), для печати текста на экране используйте команду\n",
        "\n",
        "print().\n",
        "\n",
        "Примечание 2. Не используйте никакой текст и никакие другие аргументы внутри функции input(), т.к. это повлияет на вывод и ваша программа не пройдёт тесты.\n",
        "\n",
        "Тестовые данные 🟢\n",
        "Sample Input 1:\n",
        "\n",
        "Тимур\n",
        "Sample Output 1:\n",
        "\n",
        "Привет, Тимур\n",
        "Sample Input 2:\n",
        "\n",
        "Гвидо\n",
        "Sample Output 2:\n",
        "\n",
        "Привет, Гвидо"
      ],
      "metadata": {
        "id": "Ga2vexbT2vA9"
      }
    },
    {
      "cell_type": "code",
      "source": [
        "name = input()\n",
        "print('Привет,', name)\n"
      ],
      "metadata": {
        "colab": {
          "base_uri": "https://localhost:8080/"
        },
        "id": "VC_jrt7I2_i_",
        "outputId": "201f9954-6675-45b4-ab8b-9d41cf660c7e"
      },
      "execution_count": null,
      "outputs": [
        {
          "output_type": "stream",
          "name": "stdout",
          "text": [
            "Гвидо\n",
            "Привет, Гвидо\n"
          ]
        }
      ]
    },
    {
      "cell_type": "markdown",
      "source": [
        "задание6\n",
        "\n",
        "Любимая команда\n",
        "На вход программе подается строка текста – название футбольной команды. Напишите программу, которая повторяет ее на экране со словами « - чемпион!» (без кавычек).\n",
        "\n",
        "Формат входных данных\n",
        "На вход программе подается название футбольной команды.\n",
        "\n",
        "Формат выходных данных\n",
        "Программа должна вывести текст согласно условиям задачи.\n",
        "\n",
        "Примечание 1. Для считывания текста используйте команду input(), для печати текста на экране используйте команду print().\n",
        "\n",
        "Примечание 2. Не используйте никакой текст и никакие другие аргументы внутри функции input(), т.к. это повлияет на вывод и ваша программа не пройдёт тесты.\n",
        "\n",
        "Тестовые данные 🟢\n",
        "Sample Input:\n",
        "\n",
        "Барселона\n",
        "Sample Output:\n",
        "\n",
        "Барселона - чемпион!"
      ],
      "metadata": {
        "id": "8o8P1BWH79qn"
      }
    },
    {
      "cell_type": "code",
      "source": [
        "football_name = input()\n",
        "print(football_name, '- чемпион!')"
      ],
      "metadata": {
        "colab": {
          "base_uri": "https://localhost:8080/"
        },
        "id": "Ha4OtP2c8MAe",
        "outputId": "9dd36b20-7d12-4c63-a237-b9dc2dbe7d09"
      },
      "execution_count": null,
      "outputs": [
        {
          "output_type": "stream",
          "name": "stdout",
          "text": [
            "Барселона\n",
            "Барселона - чемпион!\n"
          ]
        }
      ]
    },
    {
      "cell_type": "markdown",
      "source": [
        "#задание7\n",
        "Повторяй за мной\n",
        "Напишите программу, которая считывает три строки по очереди, а затем выводит их в той же последовательности, каждую на отдельной строчке.\n",
        "\n",
        "Формат входных данных\n",
        "На вход программе подаются три строки, каждая на отдельной строке.\n",
        "\n",
        "Формат выходных данных\n",
        "Программа должна вывести введенные строки в той же последовательности, каждую на отдельной строке.\n",
        "\n",
        "Примечание 1. Для считывания текста используйте команду input(), для печати текста на экране используйте команду print().\n",
        "\n",
        "Примечание 2. Не используйте никакой текст и никакие другие аргументы внутри функции input(), т.к. это повлияет на вывод и ваша программа не пройдёт тесты."
      ],
      "metadata": {
        "id": "dJziuQoX_zXM"
      }
    },
    {
      "cell_type": "code",
      "source": [
        "string1 = input()\n",
        "string2 = input()\n",
        "string3 = input()\n",
        "print(string1)\n",
        "print(string2)\n",
        "print(string3)\n"
      ],
      "metadata": {
        "colab": {
          "base_uri": "https://localhost:8080/"
        },
        "id": "b7pb03KsAGU3",
        "outputId": "32529f9b-ed53-4642-bfb6-352153973e25"
      },
      "execution_count": null,
      "outputs": [
        {
          "output_type": "stream",
          "name": "stdout",
          "text": [
            "I\n",
            "was\n",
            "born\n",
            "I\n",
            "was\n",
            "born\n"
          ]
        }
      ]
    },
    {
      "cell_type": "code",
      "source": [],
      "metadata": {
        "id": "GzpthqgxDAAM"
      },
      "execution_count": null,
      "outputs": []
    },
    {
      "cell_type": "markdown",
      "source": [
        "#Повторяй за мной 2\n",
        "Напишите программу, которая считывает три строки по очереди, а затем выводит их в обратной последовательности, каждую на отдельной строчке.\n",
        "\n",
        "Формат входных данных\n",
        "На вход программе подается три строки, каждая на отдельной строке.\n",
        "\n",
        "Формат выходных данных\n",
        "Программа должна вывести введенные строки в обратной последовательности, каждую на отдельной строке.\n",
        "\n",
        "Примечание 1. Используйте 3 переменные для сохранения введённых строк текста.\n",
        "\n",
        "Примечание 2. Не используйте никакой текст и никакие другие аргументы внутри функции input(), т.к. это повлияет на вывод и ваша программа не пройдёт тесты.\n",
        "\n",
        "Тестовые данные 🟢\n",
        "Sample Input 1:\n",
        "\n",
        "Hello\n",
        "it's\n",
        "me\n",
        "Sample Output 1:\n",
        "\n",
        "me\n",
        "it's\n",
        "Hello"
      ],
      "metadata": {
        "id": "UGrgZUpdDAu7"
      }
    },
    {
      "cell_type": "code",
      "source": [
        "string1 = input()\n",
        "string2 = input()\n",
        "string3 = input()\n",
        "print(string3)\n",
        "print(string2)\n",
        "print(string1)"
      ],
      "metadata": {
        "colab": {
          "base_uri": "https://localhost:8080/"
        },
        "id": "Oc1NNDvADHBu",
        "outputId": "07aba077-a380-401f-e229-3cd26da2e2af"
      },
      "execution_count": null,
      "outputs": [
        {
          "output_type": "stream",
          "name": "stdout",
          "text": [
            "I\n",
            "was\n",
            "born\n",
            "born\n",
            "was\n",
            "I\n"
          ]
        }
      ]
    },
    {
      "cell_type": "code",
      "source": [],
      "metadata": {
        "id": "fK27ZKVhAB_5"
      },
      "execution_count": null,
      "outputs": []
    }
  ]
}
