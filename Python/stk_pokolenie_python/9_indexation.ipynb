{
  "nbformat": 4,
  "nbformat_minor": 0,
  "metadata": {
    "colab": {
      "provenance": [],
      "authorship_tag": "ABX9TyPZJZJJ0B1oNfV0VN36jZTL",
      "include_colab_link": true
    },
    "kernelspec": {
      "name": "python3",
      "display_name": "Python 3"
    },
    "language_info": {
      "name": "python"
    }
  },
  "cells": [
    {
      "cell_type": "markdown",
      "metadata": {
        "id": "view-in-github",
        "colab_type": "text"
      },
      "source": [
        "<a href=\"https://colab.research.google.com/github/ProNatalya/python/blob/main/9_indexation.ipynb\" target=\"_parent\"><img src=\"https://colab.research.google.com/assets/colab-badge.svg\" alt=\"Open In Colab\"/></a>"
      ]
    },
    {
      "cell_type": "code",
      "execution_count": null,
      "metadata": {
        "id": "IYm-dCPCf1CN"
      },
      "outputs": [],
      "source": [
        "# Для создания пустой строки, мы пишем s = '' или s = \"\".\n",
        "# Пустая строка – это аналог числа 0.\n",
        "# Оператор * повторяет строку указанное количество раз."
      ]
    },
    {
      "cell_type": "markdown",
      "source": [],
      "metadata": {
        "id": "agLfSq7wghhV"
      }
    },
    {
      "cell_type": "code",
      "source": [
        "s = 'Hello'\n",
        "n = len(s)  # значение переменной равно 5\n",
        "print(n)"
      ],
      "metadata": {
        "colab": {
          "base_uri": "https://localhost:8080/"
        },
        "id": "-hVl4IqhgW1b",
        "outputId": "27363047-af95-477c-858d-1d5ae3eeabaf"
      },
      "execution_count": null,
      "outputs": [
        {
          "output_type": "stream",
          "name": "stdout",
          "text": [
            "5\n"
          ]
        }
      ]
    },
    {
      "cell_type": "code",
      "source": [
        "s = 'All you need is love'\n",
        "if 'love' in s:\n",
        "    print('❤️')\n",
        "else:\n",
        "    print('💔')"
      ],
      "metadata": {
        "colab": {
          "base_uri": "https://localhost:8080/"
        },
        "id": "8JiuTys8gqGJ",
        "outputId": "98c37690-7727-4a9c-8780-f9b60bdcc552"
      },
      "execution_count": null,
      "outputs": [
        {
          "output_type": "stream",
          "name": "stdout",
          "text": [
            "❤️\n"
          ]
        }
      ]
    },
    {
      "cell_type": "markdown",
      "source": [
        "# Индексация строк"
      ],
      "metadata": {
        "id": "iiHCZae6g1pV"
      }
    },
    {
      "cell_type": "code",
      "source": [
        "# Пусть s = 'Python'.\n",
        "# s[0] = P - 1 символ строки\n",
        "# s[4] = o - 5 символ  строки"
      ],
      "metadata": {
        "id": "mPMtlWuKg8jq"
      },
      "execution_count": null,
      "outputs": []
    },
    {
      "cell_type": "markdown",
      "source": [
        "# В отличие от многих языков программирования, в Python есть возможность работы с отрицательными индексами. Если первый символ строки имеет индекс 0, то последнему элементу присваивается индекс -1."
      ],
      "metadata": {
        "id": "VHVvhVgdhj-F"
      }
    },
    {
      "cell_type": "code",
      "source": [
        "# s[-6] - P\n",
        "# s[-4] - t"
      ],
      "metadata": {
        "id": "J3nV9CQ8ho8v"
      },
      "execution_count": null,
      "outputs": []
    },
    {
      "cell_type": "markdown",
      "source": [
        "- Положительные индексы\t0\t1\t2\t3\t4\t5\n",
        "- Строка              \tP\ty\tt\th\to\tn\n",
        "- Отрицательные индексы\t-6\t-5\t-4\t-3\t-2\t-1"
      ],
      "metadata": {
        "id": "XKIPVriHiD9K"
      }
    },
    {
      "cell_type": "code",
      "source": [
        "# Обратите внимание: если длина строки s равн len(s), то при положительной\n",
        "# нумерации слева направо, последний элемент имеет индекс равный len(s) - 1,\n",
        "# а при отрицательной индексации справа налево, первый элемент имеет индекс\n",
        "# равный -len(s)."
      ],
      "metadata": {
        "id": "L7N2mXgMiZd1"
      },
      "execution_count": null,
      "outputs": []
    },
    {
      "cell_type": "markdown",
      "source": [
        "# Итерирование строк"
      ],
      "metadata": {
        "id": "3A0P8M_OioB_"
      }
    },
    {
      "cell_type": "code",
      "source": [
        "# Очень часто нужно просканировать всю строку целиком, обрабатывая каждый\n",
        "# ее символ. Для этого удобно использовать цикл for. Напишем программу, которая\n",
        "# выводит каждый символ строки на отдельной строке:\n",
        "s = 'abcdef'\n",
        "for i in range(len(s)):\n",
        "    print(s[i])\n",
        "# Мы передаем в функцию range() длину строки len(s). В нашем случае длина\n",
        "# строки s, равна 6. Таким образом, вызов функции range(len(s)) имеет вид\n",
        "# range(6) и переменная цикла i последовательно перебирает все значения\n",
        "# от 0 до 5. Это означает, что выражение s[i] последовательно вернет все\n",
        "# символы строки s. Такой способ итерации строки удобен, когда нам нужен\n",
        "# не только сам элемент s[i], но и его индекс i."
      ],
      "metadata": {
        "colab": {
          "base_uri": "https://localhost:8080/"
        },
        "id": "c7vRCdFmiuIQ",
        "outputId": "73c51704-ae73-4692-e4bc-b6b7709874f1"
      },
      "execution_count": null,
      "outputs": [
        {
          "output_type": "stream",
          "name": "stdout",
          "text": [
            "a\n",
            "b\n",
            "c\n",
            "d\n",
            "e\n",
            "f\n"
          ]
        }
      ]
    },
    {
      "cell_type": "code",
      "source": [
        "# Если нам не нужен индекс самого символа, то мы можем использовать более\n",
        "# короткий способ итерации:\n",
        "s = 'abcdef'\n",
        "for c in s:\n",
        "    print(c)\n",
        "# Этот цикл пройдет по строке s, придавая переменной цикла c значение каждого\n",
        "# символа (!) в отличие от предыдущего цикла, в котором переменная цикла\n",
        "# «бегала» по индексам строки."
      ],
      "metadata": {
        "colab": {
          "base_uri": "https://localhost:8080/"
        },
        "id": "wqHH3fFcjjD2",
        "outputId": "e1b6a799-2582-444b-f7b0-17779f47c9c2"
      },
      "execution_count": null,
      "outputs": [
        {
          "output_type": "stream",
          "name": "stdout",
          "text": [
            "a\n",
            "b\n",
            "c\n",
            "d\n",
            "e\n",
            "f\n"
          ]
        }
      ]
    },
    {
      "cell_type": "markdown",
      "source": [
        "# Обратите внимание на обозначение переменных цикла. В первом цикле мы используем имя i, что соответствует стандартной идеологии наименования переменных цикла. Во втором цикле, мы назвали переменную буквой c – первая буква слова char (символ)."
      ],
      "metadata": {
        "id": "PooGl3uVkJj_"
      }
    },
    {
      "cell_type": "code",
      "source": [
        "s = 'abcdefg'\n",
        "print(s[0] + s[2] + s[4] + s[6])"
      ],
      "metadata": {
        "colab": {
          "base_uri": "https://localhost:8080/"
        },
        "id": "GkVh1Vsqkduc",
        "outputId": "c2ccc767-c31b-4857-c6f6-ee53622524c1"
      },
      "execution_count": null,
      "outputs": [
        {
          "output_type": "stream",
          "name": "stdout",
          "text": [
            "aceg\n"
          ]
        }
      ]
    },
    {
      "cell_type": "code",
      "source": [
        "s = 'abcdefg'\n",
        "print(s[0]*3 + s[-1]*3 + s[3]*2 + s[3]*2)"
      ],
      "metadata": {
        "colab": {
          "base_uri": "https://localhost:8080/"
        },
        "id": "GllwMFcEkusc",
        "outputId": "1ec910e8-c76f-48c6-8a14-06fbd33b902e"
      },
      "execution_count": null,
      "outputs": [
        {
          "output_type": "stream",
          "name": "stdout",
          "text": [
            "aaagggdddd\n"
          ]
        }
      ]
    },
    {
      "cell_type": "code",
      "source": [
        "s = '01234567891011121314151617'\n",
        "for i in range(0, len(s), 5):\n",
        "    print(s[i], end='')"
      ],
      "metadata": {
        "colab": {
          "base_uri": "https://localhost:8080/"
        },
        "id": "G1IR1ATKk2YM",
        "outputId": "6c41ac8f-5351-4a74-e098-f889cb4872f9"
      },
      "execution_count": null,
      "outputs": [
        {
          "output_type": "stream",
          "name": "stdout",
          "text": [
            "051217"
          ]
        }
      ]
    },
    {
      "cell_type": "code",
      "source": [
        "s = '01234567891011121314151617'\n",
        "for i in range(0, len(s), 5):  # Каждое 5-е число. Старт с i=0, с шагом 5.\n",
        "    print(s[i], end='')\n",
        "    # 0 1234 5 6789 1 0111 2 1314 1 5161 7"
      ],
      "metadata": {
        "id": "-KFI5yP5lOgw"
      },
      "execution_count": null,
      "outputs": []
    },
    {
      "cell_type": "code",
      "source": [
        "s = \"In 2010, someone paid 10k Bitcoin for two pizzas.\"\n",
        "\n",
        "print(s[7])"
      ],
      "metadata": {
        "colab": {
          "base_uri": "https://localhost:8080/"
        },
        "id": "H2HkK5jolg_e",
        "outputId": "792e3902-f510-4fe4-d4d8-b50afd2b3666"
      },
      "execution_count": null,
      "outputs": [
        {
          "output_type": "stream",
          "name": "stdout",
          "text": [
            ",\n"
          ]
        }
      ]
    },
    {
      "cell_type": "code",
      "source": [
        "s = \"In 2010, someone paid 10k Bitcoin for two pizzas.\"\n",
        "\n",
        "print(s[-10])"
      ],
      "metadata": {
        "colab": {
          "base_uri": "https://localhost:8080/"
        },
        "id": "OodxuNjqlw_q",
        "outputId": "e07be802-a2d2-4d41-abdb-9fb9bc61e303"
      },
      "execution_count": null,
      "outputs": [
        {
          "output_type": "stream",
          "name": "stdout",
          "text": [
            "w\n"
          ]
        }
      ]
    },
    {
      "cell_type": "markdown",
      "source": [
        "# Task1 В столбик 1\n",
        "На вход программе подается одна строка. Напишите программу, которая выводит элементы строки с индексами 0, 2, 4, ... в столбик.\n",
        "\n",
        "Формат входных данных\n",
        "На вход программе подается одна строка.\n",
        "\n",
        "Формат выходных данных\n",
        "Программа должна вывести элементы строки с индексами 0, 2, 4, ..., каждое на отдельной строке."
      ],
      "metadata": {
        "id": "MT_-3binl6CQ"
      }
    },
    {
      "cell_type": "code",
      "source": [
        "s = input()\n",
        "for i in range(len(s)):\n",
        "     if i % 2 == 0:\n",
        "        print(s[i])"
      ],
      "metadata": {
        "colab": {
          "base_uri": "https://localhost:8080/"
        },
        "id": "1s04mrTHmELq",
        "outputId": "975a34d6-52c7-4253-cedf-b2a06fb198f5"
      },
      "execution_count": null,
      "outputs": [
        {
          "output_type": "stream",
          "name": "stdout",
          "text": [
            "addhutujj\n",
            "a\n",
            "d\n",
            "u\n",
            "u\n",
            "j\n"
          ]
        }
      ]
    },
    {
      "cell_type": "code",
      "source": [
        "s = input()\n",
        "\n",
        "for i in range(0, len(s), 2):\n",
        "    print(s[i])"
      ],
      "metadata": {
        "colab": {
          "base_uri": "https://localhost:8080/"
        },
        "id": "26COOLPjoS7c",
        "outputId": "d955483b-ee72-4978-e18e-b03d36351637"
      },
      "execution_count": null,
      "outputs": [
        {
          "output_type": "stream",
          "name": "stdout",
          "text": [
            "sdghjutruu\n",
            "s\n",
            "g\n",
            "j\n",
            "t\n",
            "u\n"
          ]
        }
      ]
    },
    {
      "cell_type": "markdown",
      "source": [
        "#Task2 В столбик 2\n",
        "На вход программе подается одна строка. Напишите программу, которая выводит в столбик элементы строки в обратном порядке."
      ],
      "metadata": {
        "id": "L_HloavroiYd"
      }
    },
    {
      "cell_type": "code",
      "source": [
        "s = input()\n",
        "for i in range(1, len(s)+1):\n",
        "        print(s[-i])\n"
      ],
      "metadata": {
        "colab": {
          "base_uri": "https://localhost:8080/"
        },
        "id": "zc6tKW5nopXO",
        "outputId": "41acc338-3365-41f4-991e-c3a0406a8964"
      },
      "execution_count": null,
      "outputs": [
        {
          "output_type": "stream",
          "name": "stdout",
          "text": [
            "abc\n",
            "c\n",
            "b\n",
            "a\n"
          ]
        }
      ]
    },
    {
      "cell_type": "code",
      "source": [
        "s = input()\n",
        "\n",
        "for i in range(len(s) - 1, -1, -1):\n",
        "    print(s[i])"
      ],
      "metadata": {
        "colab": {
          "base_uri": "https://localhost:8080/"
        },
        "id": "q_xhTq6csip5",
        "outputId": "6a97010a-3bff-477b-9130-3be6dfecdd02"
      },
      "execution_count": null,
      "outputs": [
        {
          "output_type": "stream",
          "name": "stdout",
          "text": [
            "abc\n",
            "c\n",
            "b\n",
            "a\n"
          ]
        }
      ]
    },
    {
      "cell_type": "code",
      "source": [
        "n = input()\n",
        "for i in range(-1,-len(n)-1, -1):\n",
        "    print(n[i])\n"
      ],
      "metadata": {
        "colab": {
          "base_uri": "https://localhost:8080/"
        },
        "id": "exq7YSqbsx76",
        "outputId": "07e62793-c83e-44d9-81e1-2a0f2d87442a"
      },
      "execution_count": null,
      "outputs": [
        {
          "output_type": "stream",
          "name": "stdout",
          "text": [
            "abc\n",
            "c\n",
            "b\n",
            "a\n"
          ]
        }
      ]
    },
    {
      "cell_type": "markdown",
      "source": [
        "# Task3 Цифра 1\n",
        "На вход программе подается одна строка состоящая из цифр. Напишите программу, которая считает сумму цифр данной строки.\n",
        "\n",
        "Формат входных данных\n",
        "На вход программе подается одна строка состоящая из цифр.\n",
        "\n",
        "Формат выходных данных\n",
        "Программа должна вывести сумму цифр данной строки.\n",
        "\n",
        "Тестовые данные 🟢\n",
        "Sample Input:\n",
        "\n",
        "2514\n",
        "Sample Output:\n",
        "\n",
        "12"
      ],
      "metadata": {
        "id": "o9ANUc5Yve1m"
      }
    },
    {
      "cell_type": "code",
      "source": [
        "s = input()\n",
        "count = 0\n",
        "for i in s:\n",
        "     count += int(i)\n",
        "print(count)"
      ],
      "metadata": {
        "colab": {
          "base_uri": "https://localhost:8080/"
        },
        "id": "08_4ba3Zv8HP",
        "outputId": "2c3c3293-ce4a-42ed-8e55-af93618c90b7"
      },
      "execution_count": 18,
      "outputs": [
        {
          "output_type": "stream",
          "name": "stdout",
          "text": [
            "2514\n",
            "12\n"
          ]
        }
      ]
    }
  ]
}
