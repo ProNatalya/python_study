{
  "nbformat": 4,
  "nbformat_minor": 0,
  "metadata": {
    "colab": {
      "provenance": [],
      "authorship_tag": "ABX9TyNsMYotbfJvWC/eEAddBUp2",
      "include_colab_link": true
    },
    "kernelspec": {
      "name": "python3",
      "display_name": "Python 3"
    },
    "language_info": {
      "name": "python"
    }
  },
  "cells": [
    {
      "cell_type": "markdown",
      "metadata": {
        "id": "view-in-github",
        "colab_type": "text"
      },
      "source": [
        "<a href=\"https://colab.research.google.com/github/ProNatalya/python/blob/main/4_1_if_operator.ipynb\" target=\"_parent\"><img src=\"https://colab.research.google.com/assets/colab-badge.svg\" alt=\"Open In Colab\"/></a>"
      ]
    },
    {
      "cell_type": "code",
      "execution_count": null,
      "metadata": {
        "id": "qrqnQIi0ZVo4"
      },
      "outputs": [],
      "source": []
    },
    {
      "cell_type": "markdown",
      "source": [
        "#"
      ],
      "metadata": {
        "id": "_ApQKh-lZWUQ"
      }
    },
    {
      "cell_type": "markdown",
      "source": [
        "# Условный оператор if-else\n",
        "Проверка условий и принятие решений по результатам этой проверки называется ветвлением (branching).\n",
        "Программа таким способом выбирает, по какой из возможных ветвей ей двигаться дальше.\n",
        "\n",
        "\n"
      ],
      "metadata": {
        "id": "DDuCDHcXeJvm"
      }
    },
    {
      "cell_type": "code",
      "source": [
        "answer = input('Какой язык программирования мы изучаем?')\n",
        "if answer == 'Python':\n",
        "    print('Верно! Мы ботаем Python =)')\n",
        "    print('Python - отличный язык!')"
      ],
      "metadata": {
        "colab": {
          "base_uri": "https://localhost:8080/"
        },
        "id": "F3BNFp46eurR",
        "outputId": "5d2ba72e-db38-4ee6-c526-9a507e944ae8"
      },
      "execution_count": null,
      "outputs": [
        {
          "output_type": "stream",
          "name": "stdout",
          "text": [
            "Какой язык программирования мы изучаем?Python\n",
            "Верно! Мы ботаем Python =)\n",
            "Python - отличный язык!\n"
          ]
        }
      ]
    },
    {
      "cell_type": "markdown",
      "source": [
        "# Блоком кода называют объединённые друг с другом строки. Они всегда связаны с определённой частью программы (например, с инструкцией if)."
      ],
      "metadata": {
        "id": "vTUOvHIDfNKs"
      }
    },
    {
      "cell_type": "code",
      "source": [
        "answer = input('Какой язык программирования мы изучаем?')\n",
        "if answer == 'Python':\n",
        "    print('Верно! Мы ботаем Python =)')\n",
        "    print('Python - отличный язык!')\n",
        "else:\n",
        "    print('Не совсем так!')"
      ],
      "metadata": {
        "colab": {
          "base_uri": "https://localhost:8080/"
        },
        "id": "0gT5yTtGfZCQ",
        "outputId": "97db9c6f-443b-4b8b-c1d5-9b5f7da9bca8"
      },
      "execution_count": null,
      "outputs": [
        {
          "output_type": "stream",
          "name": "stdout",
          "text": [
            "Какой язык программирования мы изучаем?Java\n",
            "Не совсем так!\n"
          ]
        }
      ]
    },
    {
      "cell_type": "code",
      "source": [
        "# Отступ — небольшое смещение строки кода вправо. В начале такой строки\n",
        "# находятся пробелы, и поэтому она на несколько символов отстоит от\n",
        "# левого края.\n",
        "# По соглашению PEP 8, для отступа блоков кода используются 4 пробела."
      ],
      "metadata": {
        "id": "TvrrluA-fn43"
      },
      "execution_count": null,
      "outputs": []
    },
    {
      "cell_type": "markdown",
      "source": [
        "# Операторы сравнения\n"
      ],
      "metadata": {
        "id": "td2YWAhWf_5d"
      }
    },
    {
      "cell_type": "code",
      "source": [
        "num1 = int(input())\n",
        "num2 = int(input())\n",
        "\n",
        "if num1 < num2:\n",
        "    print(num1, 'меньше чем', num2)\n",
        "if num1 > num2:\n",
        "    print(num1, 'больше чем', num2)\n",
        "if num1 == num2:                    # используем двойное равенство\n",
        "    print(num1, 'равно', num2)\n",
        "if num1 != num2:\n",
        "    print(num1, 'не равно', num2)"
      ],
      "metadata": {
        "id": "DbsmlI2cgM83"
      },
      "execution_count": null,
      "outputs": []
    },
    {
      "cell_type": "markdown",
      "source": [
        "# Цепочки сравнений\n",
        "## Операторы сравнения в Python можно объединять в цепочки\n"
      ],
      "metadata": {
        "id": "Mipwl5eCgUHe"
      }
    },
    {
      "cell_type": "code",
      "source": [
        "a = 5\n",
        "b = 12\n",
        "c = 5\n",
        "if a == b == c:\n",
        "    print('числа равны')\n",
        "else:\n",
        "    print('числа не равны')"
      ],
      "metadata": {
        "colab": {
          "base_uri": "https://localhost:8080/"
        },
        "id": "mOrYRhy6gk2_",
        "outputId": "0dfe3278-a125-43da-f8af-e299396b7e26"
      },
      "execution_count": null,
      "outputs": [
        {
          "output_type": "stream",
          "name": "stdout",
          "text": [
            "числа не равны\n"
          ]
        }
      ]
    },
    {
      "cell_type": "markdown",
      "source": [
        "# Транзитивность\n"
      ],
      "metadata": {
        "id": "zmTNwmv8g9Ht"
      }
    },
    {
      "cell_type": "code",
      "source": [
        "# Операция равенства является транзитивной. Это означает, что\n",
        "# если a == b и b == c, то из этого следует, что a == c.\n",
        "# Операция неравенства (!=), в отличие от операции равенства (==),\n",
        "# является нетранзитивной.\n",
        "\n",
        "# Таким образом, следующий код вовсе не проверяет тот факт, что все\n",
        "# три переменные различны:\n",
        "a = 3\n",
        "b = 3\n",
        "c = 7\n",
        "if a != b != c:             # не работает корректно с тремя цифрами\n",
        "    print('числа не равны')\n",
        "else:\n",
        "    print('числа равны')\n"
      ],
      "metadata": {
        "colab": {
          "base_uri": "https://localhost:8080/"
        },
        "id": "uewuk3FihDUM",
        "outputId": "e15aac7c-ddf4-4408-c955-e3ae909126a6"
      },
      "execution_count": null,
      "outputs": [
        {
          "output_type": "stream",
          "name": "stdout",
          "text": [
            "числа равны\n"
          ]
        }
      ]
    },
    {
      "cell_type": "code",
      "source": [
        "# Решение задач\n"
      ],
      "metadata": {
        "id": "H2TXB-Qrj9Eh"
      },
      "execution_count": null,
      "outputs": []
    },
    {
      "cell_type": "code",
      "source": [
        "word = input()\n",
        "if word == 'Python':\n",
        "    print('ДА')\n",
        "else:\n",
        "    print('НЕТ')\n"
      ],
      "metadata": {
        "colab": {
          "base_uri": "https://localhost:8080/"
        },
        "id": "H231HVIykC5d",
        "outputId": "437d0115-a96f-4d77-9561-779014cf06c0"
      },
      "execution_count": null,
      "outputs": [
        {
          "output_type": "stream",
          "name": "stdout",
          "text": [
            "Python\n",
            "ДА\n"
          ]
        }
      ]
    },
    {
      "cell_type": "markdown",
      "source": [
        "# Задача 2. Напишите программу, которая определяет, состоит ли двузначное число, введенное с клавиатуры, из одинаковых цифр. Если состоит, то программа выводит «ДА», в противном случае программа выводит «НЕТ»."
      ],
      "metadata": {
        "id": "njFWs3KIkQ5i"
      }
    },
    {
      "cell_type": "code",
      "source": [
        "num = int(input())\n",
        "last_digit = num % 10    # последняя цифра числа\n",
        "first_digit = num // 10  # первая цифра числа\n",
        "\n",
        "if last_digit == first_digit:\n",
        "    print('ДА')\n",
        "else:\n",
        "    print('НЕТ')\n"
      ],
      "metadata": {
        "id": "551KSZdkkWpb"
      },
      "execution_count": null,
      "outputs": []
    },
    {
      "cell_type": "markdown",
      "source": [
        "# Задача 3. Напишите программу, которая считывает три числа и подсчитывает количество чётных чисел."
      ],
      "metadata": {
        "id": "bTZhlFgUkgZH"
      }
    },
    {
      "cell_type": "code",
      "source": [
        "num1, num2, num3 = int(input()), int(input()), int(input())\n",
        "counter = 0  # переменная счётчик\n",
        "if num1 % 2 == 0:\n",
        "    counter = counter + 1  # увеличиваем счётчик на 1\n",
        "if num2 % 2 == 0:\n",
        "    counter = counter + 1  # увеличиваем счётчик на 1\n",
        "if num3 % 2 == 0:\n",
        "    counter = counter + 1  # увеличиваем счётчик на 1\n",
        "print(counter)"
      ],
      "metadata": {
        "colab": {
          "base_uri": "https://localhost:8080/"
        },
        "id": "by35C-cikie-",
        "outputId": "89660bef-2b6f-452a-c0f3-c59b0c8651b6"
      },
      "execution_count": null,
      "outputs": [
        {
          "output_type": "stream",
          "name": "stdout",
          "text": [
            "1\n",
            "6\n",
            "9\n",
            "1\n"
          ]
        }
      ]
    },
    {
      "cell_type": "markdown",
      "source": [],
      "metadata": {
        "id": "v9lzdJJre0zR"
      }
    },
    {
      "cell_type": "code",
      "source": [
        "# Задача 3 Подробное разъяснение для новичков.\n",
        "\n",
        "# 1. Изначально задаются числа, сколько из них четные, мы не знаем,\n",
        "# надо как-то посчитать.\n",
        "\n",
        "# 2. Пока мы не знаем сколько их, их для нас ноль(0) - это count\n",
        "# (так называется число, показывающее нам, сколько четных чисел имеем\n",
        "# на данный момент, можно вместо слова \"count\" использовать любое\n",
        "# название).\n",
        "\n",
        "# 3. После того, как мы не знаем, сколько чётных чисел (их для нас 0\n",
        "# (count = 0)), мы начинаем считать.\n",
        "\n",
        "# 4. Берем первое число и вычисляем остаток от деления (num1 % 2) .\n",
        "# Если (if) остаток равен нулю, то число делится на 2 без остатка,\n",
        "# а значит оно четное.\n",
        "\n",
        "# 5. И тут мы вспоминаем про счетчик, который до этого действия у нас\n",
        "# был равен 0 (count = 0). Поскольку мы узнали, какое это число\n",
        "# (четное или нечетное), мы делаем дальнейшее действие - если число\n",
        "# четное (num1 % 2 ==0), то мы прибавляем к нашему нулю плюс 1\n",
        "# (count = count + 1), то есть у нас уже одно четное число определилось,\n",
        "# т.к. в условии (if) если число четное, то мы его считаем.\n",
        "\n",
        "# 6. Вот у нас уже получилось количество четных чисел равно 1.\n",
        "\n",
        "# 7. Далее, следующее число проверяем также. Допустим, что оно нечетное,\n",
        "# условие num2 %2 == 0 - не выполняется, т.е. при делении остается\n",
        "# остаток, а значит это число нечетное. Если это условие не выполняется,\n",
        "# то количество четных чисел (count) не увеличивается, часть кода в этом\n",
        "# втором  блоке count = count + 1 не выполняется. И тогда общее\n",
        "# количество четных чисел остаётся 1 - как стало после выполнения\n",
        "# первого блока if.\n",
        "\n",
        "# 8. Допустим третье (следующее) число  оказалось четным, и тогда мы\n",
        "# опять к общему количеству четных чисел прибавляем единичку, блок if\n",
        "# num3 % 2 == 0,\n",
        "# count = count +1 выполняется полностью.\n",
        "\n",
        "# 9. Получается общее количество четных чисел  из трех у нас два.\n",
        "\n",
        "# 10. И так программа проверяет все введенные числа на четность и\n",
        "# считает количество четных с помощью count.\n",
        "\n",
        "# 11. А потом выводит цифру, которую мы посчитали.\n",
        "# print(count) == print(\"итоговое количество введенных через input\n",
        "# ЧЁТНЫХ чисел. \")"
      ],
      "metadata": {
        "id": "yEBOMCFQfVTD"
      },
      "execution_count": null,
      "outputs": []
    },
    {
      "cell_type": "markdown",
      "source": [
        "# Задача 1 Пароль\n",
        "При регистрации на сайтах требуется вводить пароль дважды. Это сделано для безопасности, поскольку такой подход уменьшает возможность неверного ввода пароля.\n",
        "\n",
        "Напишите программу, которая сравнивает пароль и его подтверждение. Если они совпадают, то программа выводит: «Пароль принят», иначе: «Пароль не принят».\n",
        "\n",
        "Формат входных данных\n",
        "На вход программе подаются две строки.\n",
        "\n",
        "Формат выходных данных\n",
        "Программа должна вывести одну строку в соответствии с условием задачи.\n",
        "\n",
        "Тестовые данные 🟢\n",
        "Sample Input 1:\n",
        "\n",
        "qwerty\n",
        "qwerty\n",
        "Sample Output 1:\n",
        "\n",
        "Пароль принят\n",
        "Sample Input 2:\n",
        "\n",
        "qwerty\n",
        "Qwerty\n",
        "Sample Output 2:\n",
        "\n",
        "Пароль не принят\n"
      ],
      "metadata": {
        "id": "qomQHQFGmMID"
      }
    },
    {
      "cell_type": "code",
      "source": [
        "parol1 = input()\n",
        "parol2 = input()\n",
        "if parol1 == parol2:\n",
        "    print('Пароль принят')\n",
        "else:\n",
        "    print('Пароль не принят')"
      ],
      "metadata": {
        "colab": {
          "base_uri": "https://localhost:8080/"
        },
        "id": "RRvJKJsJlas6",
        "outputId": "b1372fac-cfd4-41ed-dae0-b11fc94890bc"
      },
      "execution_count": null,
      "outputs": [
        {
          "output_type": "stream",
          "name": "stdout",
          "text": [
            "query\n",
            "query\n",
            "Пароль принят\n"
          ]
        }
      ]
    },
    {
      "cell_type": "markdown",
      "source": [
        "# Задача2 Четное или нечетное?\n",
        "Напишите программу, которая определяет, является число четным или нечетным.\n",
        "\n",
        "Формат входных данных\n",
        "На вход программе подаётся одно целое число.\n",
        "\n",
        "Формат выходных данных\n",
        "Программа должна вывести «Четное», если число четное, и «Нечетное» — если число нечетное.\n",
        "\n",
        "Тестовые данные 🟢\n",
        "Sample Input 1:\n",
        "\n",
        "10\n",
        "Sample Output 1:\n",
        "\n",
        "Четное\n",
        "Sample Input 2:\n",
        "\n",
        "17\n",
        "Sample Output 2:\n",
        "\n",
        "Нечетное\n",
        "Sample Input 3:\n",
        "\n",
        "0\n",
        "Sample Output 3:\n",
        "\n",
        "Четное"
      ],
      "metadata": {
        "id": "ihBkdKOWmrkL"
      }
    },
    {
      "cell_type": "code",
      "source": [
        "a = int(input())\n",
        "if a % 2 == 0:\n",
        "    print('Четное')\n",
        "else:\n",
        "    print('Нечетное')"
      ],
      "metadata": {
        "colab": {
          "base_uri": "https://localhost:8080/"
        },
        "id": "1KYmvXkim6G_",
        "outputId": "5992676e-6e36-411c-8da3-d1273fa847d1"
      },
      "execution_count": null,
      "outputs": [
        {
          "output_type": "stream",
          "name": "stdout",
          "text": [
            "7\n",
            "Нечетное\n"
          ]
        }
      ]
    },
    {
      "cell_type": "markdown",
      "source": [
        "# Задача3 Соотношение\n",
        "Напишите программу, которая проверяет, что для заданного четырехзначного числа выполняется следующее соотношение: сумма первой и последней цифр равна разности второй и третьей цифр.\n",
        "\n",
        "Формат входных данных\n",
        "На вход программе подаётся одно целое положительное четырёхзначное число.\n",
        "\n",
        "Формат выходных данных\n",
        "Программа должна вывести «ДА», если соотношение выполняется, и «НЕТ» — если не выполняется.\n",
        "\n",
        "Тестовые данные 🟢\n",
        "Sample Input 1:\n",
        "\n",
        "1614\n",
        "Sample Output 1:\n",
        "\n",
        "ДА\n",
        "Sample Input 2:\n",
        "\n",
        "1234\n",
        "Sample Output 2:\n",
        "\n",
        "НЕТ"
      ],
      "metadata": {
        "id": "7REpA2j0pjCl"
      }
    },
    {
      "cell_type": "code",
      "source": [
        "abcd = int(input())\n",
        "a = abcd // 1000\n",
        "b = abcd // 100 % 10\n",
        "c = abcd // 10 % 10\n",
        "d = abcd % 10\n",
        "if a + d == b - c:\n",
        "    print('ДА')\n",
        "else:\n",
        "    print('НЕТ')"
      ],
      "metadata": {
        "colab": {
          "base_uri": "https://localhost:8080/"
        },
        "id": "EjQrGUMpvLfL",
        "outputId": "d5da7c0b-0759-4c31-cec9-d431edd3c044"
      },
      "execution_count": null,
      "outputs": [
        {
          "output_type": "stream",
          "name": "stdout",
          "text": [
            "123899\n",
            "НЕТ\n"
          ]
        }
      ]
    },
    {
      "cell_type": "markdown",
      "source": [
        "# Задача4 Роскомнадзор\n",
        "\n",
        "Напишите программу, которая определяет, разрешен ли пользователю доступ к интернет-ресурсу или нет.\n",
        "\n",
        "Формат входных данных\n",
        "На вход программе подаётся целое число — возраст пользователя.\n",
        "\n",
        "Формат выходных данных\n",
        "Программа должна вывести текст «Доступ разрешен», если возраст не менее 18, и «Доступ запрещен» - в противном случае.\n",
        "\n",
        "Тестовые данные 🟢\n",
        "Sample Input 1:\n",
        "\n",
        "16\n",
        "Sample Output 1:\n",
        "\n",
        "Доступ запрещен\n",
        "Sample Input 2:\n",
        "\n",
        "18\n",
        "Sample Output 2:\n",
        "\n",
        "Доступ разрешен\n"
      ],
      "metadata": {
        "id": "YPDvEESsxGUa"
      }
    },
    {
      "cell_type": "code",
      "source": [
        "age = int(input())\n",
        "if age >= 18:\n",
        "    print('Доступ разрешен')\n",
        "else:\n",
        "    print('Доступ запрещен')"
      ],
      "metadata": {
        "id": "zIMWSTEPxeOY"
      },
      "execution_count": null,
      "outputs": []
    },
    {
      "cell_type": "markdown",
      "source": [
        "# Задача5 Арифметическая прогрессия\n",
        "Напишите программу, которая определяет, являются ли три заданных числа (в указанном порядке) последовательными членами арифметической прогрессии.\n",
        "\n",
        "Формат входных данных\n",
        "На вход программе подаются три числа, каждое на отдельной строке.\n",
        "\n",
        "Формат выходных данных\n",
        "Программа должна вывести «YES» или «NO» (без кавычек) в соответствии с условием задачи.\n",
        "\n",
        "Тестовые данные 🟢\n",
        "Sample Input 1:\n",
        "\n",
        "1\n",
        "2\n",
        "3\n",
        "Sample Output 1:\n",
        "\n",
        "YES\n",
        "Sample Input 2:\n",
        "\n",
        "1\n",
        "2\n",
        "4\n",
        "Sample Output 2:\n",
        "\n",
        "NO"
      ],
      "metadata": {
        "id": "a3Hd-kG-yjLa"
      }
    },
    {
      "cell_type": "code",
      "source": [
        "# Ввести a, b, c. Выдать ДА, если b-a равно c-b иначе Нет\n",
        "a = int(input())\n",
        "b = int(input())\n",
        "c = int(input())\n",
        "if b - a == c - b:\n",
        "    print('YES')\n",
        "else:\n",
        "    print('NO')\n"
      ],
      "metadata": {
        "id": "ssyGaSMTyiqQ",
        "colab": {
          "base_uri": "https://localhost:8080/"
        },
        "outputId": "09605628-f9de-43ed-e729-dc4e6d630402"
      },
      "execution_count": null,
      "outputs": [
        {
          "output_type": "stream",
          "name": "stdout",
          "text": [
            "1\n",
            "2\n",
            "3\n",
            "YES\n"
          ]
        }
      ]
    },
    {
      "cell_type": "code",
      "source": [
        "# Арифметическая прогрессия  - это числовая последовательность,\n",
        "# в которой каждое число, начиная со второго, получается из предыдущего\n",
        "# добавлением к нему постоянного числа (шага). Соответственно третье\n",
        "# число арифметической прогрессии будет равно - разности второго и\n",
        "# первого числа прибавленного к второму числу:\n",
        "# у нас есть последовательность  трех чисел:  a b c\n",
        "# ( b - a) - шаг\n",
        "# чтобы понять является ли данная последовательность  арифметической\n",
        "# прогрессией, должно выполнятся условие: ( b - a) + b = c.\n",
        "\n"
      ],
      "metadata": {
        "id": "nSAyZqC98bHn"
      },
      "execution_count": null,
      "outputs": []
    },
    {
      "cell_type": "code",
      "source": [
        "# Чтобы формула была универсальной,  нам не важно знать, какой тип\n",
        "# арифметической прогрессии у нас. Если числа изменяются по одному\n",
        "# правилу, то для них всегда будет действовать условие: b - a = c - b,\n",
        "# то есть вычитая из последующего числа предыдущее должно быть одинаковое\n",
        "# изменение (числа в арифметической прогрессии изменяются на равный шаг).\n",
        "# Поэтому нам не важно, на сколько именно изменилось число, а важно\n",
        "# только проверить, является ли разница между предыдущим и последующим\n",
        "# числом одинаковой на протяжении всего числового ряда."
      ],
      "metadata": {
        "id": "Q4bihazM-6TG"
      },
      "execution_count": null,
      "outputs": []
    },
    {
      "cell_type": "code",
      "source": [
        "a,b,c=int(input()), int(input()), int(input())\n",
        "if (a+c)/2 == b:\n",
        "  print(\"YES\")\n",
        "else:\n",
        "  print (\"NO\")\n"
      ],
      "metadata": {
        "id": "XAlEC4WW-hVk"
      },
      "execution_count": null,
      "outputs": []
    },
    {
      "cell_type": "code",
      "source": [
        "a, b, c = int(input()), int(input()), int(input())\n",
        "if (a + b + c) / 3 == b:\n",
        "    print(\"YES\")\n",
        "else:\n",
        "    print(\"NO\")"
      ],
      "metadata": {
        "colab": {
          "base_uri": "https://localhost:8080/"
        },
        "id": "wbWRjV2c_kdB",
        "outputId": "5201cbfa-ef0d-45f0-8f94-507a4df54acc"
      },
      "execution_count": null,
      "outputs": [
        {
          "output_type": "stream",
          "name": "stdout",
          "text": [
            "1\n",
            "4\n",
            "6\n",
            "NO\n"
          ]
        }
      ]
    },
    {
      "cell_type": "markdown",
      "source": [
        "# Задача6 Наименьшее из двух чисел\n",
        "Напишите программу, которая определяет наименьшее из двух чисел.\n",
        "\n",
        "Формат входных данных\n",
        "На вход программе подаётся два различных целых числа.\n",
        "\n",
        "Формат выходных данных\n",
        "Программа должна вывести наименьшее из двух чисел.\n",
        "\n",
        "Тестовые данные 🟢\n",
        "Sample Input 1:\n",
        "\n",
        "8\n",
        "11\n",
        "Sample Output 1:\n",
        "\n",
        "8\n",
        "Sample Input 2:\n",
        "\n",
        "20\n",
        "5\n",
        "Sample Output 2:\n",
        "\n",
        "5\n",
        "Напишите"
      ],
      "metadata": {
        "id": "jBxOA4Do_y_t"
      }
    },
    {
      "cell_type": "code",
      "source": [
        "a = int(input())\n",
        "b = int(input())\n",
        "if a < b :\n",
        "    print(a)\n",
        "else:\n",
        "    print(b)"
      ],
      "metadata": {
        "colab": {
          "base_uri": "https://localhost:8080/"
        },
        "id": "MFzc86ZbBnrq",
        "outputId": "a7766bb1-fa6a-4a2f-b1c1-4b39f6ec1d3a"
      },
      "execution_count": null,
      "outputs": [
        {
          "output_type": "stream",
          "name": "stdout",
          "text": [
            "6\n",
            "8\n",
            "6\n"
          ]
        }
      ]
    },
    {
      "cell_type": "markdown",
      "source": [
        "# Задача 7 Наименьшее из четырёх чисел 🌶️\n",
        "Напишите программу, которая определяет наименьшее из четырёх чисел.\n",
        "\n",
        "Формат входных данных\n",
        "На вход программе подаётся четыре целых числа.\n",
        "\n",
        "Формат выходных данных\n",
        "Программа должна вывести наименьшее из четырёх чисел.\n",
        "\n",
        "Тестовые данные 🟢\n",
        "Sample Input 1:\n",
        "\n",
        "1\n",
        "2\n",
        "3\n",
        "4\n",
        "Sample Output 1:\n",
        "\n",
        "1\n",
        "Sample Input 2:\n",
        "\n",
        "10\n",
        "9\n",
        "11\n",
        "12\n",
        "Sample Output 2:\n",
        "\n",
        "9\n"
      ],
      "metadata": {
        "id": "CFpeW_SFCBKO"
      }
    },
    {
      "cell_type": "code",
      "source": [
        "a = int(input())\n",
        "b = int(input())\n",
        "c = int(input())\n",
        "d = int(input())\n",
        "if a < b:\n",
        "    e = a\n",
        "else:\n",
        "    e = b\n",
        "if c < d:\n",
        "    f = c\n",
        "else:\n",
        "    f = d\n",
        "if e < f:\n",
        "    print(e)\n",
        "else:\n",
        "    print(f)"
      ],
      "metadata": {
        "id": "Hp3RRW1SGHxR"
      },
      "execution_count": null,
      "outputs": []
    },
    {
      "cell_type": "markdown",
      "source": [
        "# Задача 8 Возрастная группа\n",
        "Напишите программу, которая по введённому возрасту пользователя сообщает, к какой возрастной группе он относится:\n",
        "\n",
        "до 13 включительно – детство;\n",
        "от 14 до 24 – молодость;\n",
        "от 25 до 59 – зрелость;\n",
        "от 60 – старость.\n",
        "Формат входных данных\n",
        "На вход программе подаётся одно целое число – возраст пользователя.\n",
        "\n",
        "Формат выходных данных\n",
        "Программа должна вывести название возрастной группы.\n",
        "\n",
        "Тестовые данные 🟢\n",
        "Sample Input 1:\n",
        "\n",
        "4\n",
        "Sample Output 1:\n",
        "\n",
        "детство\n",
        "Sample Input 2:\n",
        "\n",
        "91\n",
        "Sample Output 2:\n",
        "\n",
        "старость\n",
        "Sample Input 3:\n",
        "\n",
        "40\n",
        "Sample Output 3:\n",
        "\n",
        "зрелость\n"
      ],
      "metadata": {
        "id": "-b55M9p8JKPn"
      }
    },
    {
      "cell_type": "code",
      "source": [
        "age = int(input())\n",
        "if age <= 13:\n",
        "    print('детство')\n",
        "if 14 <= age <= 24:\n",
        "    print('молодость')\n",
        "if 25 <= age <= 59:\n",
        "    print('зрелость')\n",
        "if age >= 60:\n",
        "    print('старость')\n"
      ],
      "metadata": {
        "colab": {
          "base_uri": "https://localhost:8080/"
        },
        "id": "feDZ5CsVMJbb",
        "outputId": "2897f10b-20fd-4a98-bb9e-c52c5cbdff48"
      },
      "execution_count": null,
      "outputs": [
        {
          "output_type": "stream",
          "name": "stdout",
          "text": [
            "56\n",
            "зрелость\n"
          ]
        }
      ]
    },
    {
      "cell_type": "markdown",
      "source": [
        "# Задача 9 Только + 🌶️\n",
        "Напишите программу, которая считывает три числа и подсчитывает сумму только положительных чисел.\n",
        "\n",
        "Формат входных данных\n",
        "На вход программе подаются три целых числа.\n",
        "\n",
        "Формат выходных данных\n",
        "Программа должна вывести одно число – сумму положительных чисел.\n",
        "\n",
        "Примечание. Если положительных чисел нет, то следует вывести\n",
        "0\n",
        "0.\n",
        "\n",
        "Тестовые данные 🟢\n",
        "Sample Input 1:\n",
        "\n",
        "4\n",
        "-22\n",
        "1\n",
        "Sample Output 1:\n",
        "\n",
        "5\n",
        "Sample Input 2:\n",
        "\n",
        "33\n",
        "55\n",
        "63\n",
        "Sample Output 2:\n",
        "\n",
        "151\n",
        "Sample Input 3:\n"
      ],
      "metadata": {
        "id": "xtqAacbxMTDC"
      }
    },
    {
      "cell_type": "code",
      "source": [
        "# вводим 3 переменные, a, b и c\n",
        "\n",
        "# если a >0, то a=a, если нет, то a = 0\n",
        "\n",
        "# если b >0, то b=b, если нет, то b =0\n",
        "\n",
        "# если c >0, то c=c, если нет, то c =0\n",
        "\n",
        "# Напечатать сумму a+b+c"
      ],
      "metadata": {
        "id": "WvYEjGhcMnNw"
      },
      "execution_count": null,
      "outputs": []
    },
    {
      "cell_type": "code",
      "source": [
        "a = int(input())\n",
        "b = int(input())\n",
        "c = int(input())\n",
        "if a > 0 :\n",
        "    a = a\n",
        "else:\n",
        "    a = 0\n",
        "if b > 0:\n",
        "    b = b\n",
        "else:\n",
        "    b = 0\n",
        "if  c > 0:\n",
        "    c = c\n",
        "else:\n",
        "    c = 0\n",
        "if a + b + c > 0:\n",
        "    print(a + b + c)\n",
        "else:\n",
        "    print('0')\n"
      ],
      "metadata": {
        "id": "KoLAL-pxPbvP",
        "colab": {
          "base_uri": "https://localhost:8080/"
        },
        "outputId": "3dc801b8-84b4-4fe8-8307-c88e4a85ea5b"
      },
      "execution_count": 10,
      "outputs": [
        {
          "output_type": "stream",
          "name": "stdout",
          "text": [
            "1\n",
            "-7\n",
            "8\n",
            "9\n"
          ]
        }
      ]
    }
  ]
}
