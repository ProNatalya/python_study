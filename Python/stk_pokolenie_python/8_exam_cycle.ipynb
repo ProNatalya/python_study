{
  "nbformat": 4,
  "nbformat_minor": 0,
  "metadata": {
    "colab": {
      "provenance": [],
      "authorship_tag": "ABX9TyPZ0lcU6Mj7hCIieJve7l4h",
      "include_colab_link": true
    },
    "kernelspec": {
      "name": "python3",
      "display_name": "Python 3"
    },
    "language_info": {
      "name": "python"
    }
  },
  "cells": [
    {
      "cell_type": "markdown",
      "metadata": {
        "id": "view-in-github",
        "colab_type": "text"
      },
      "source": [
        "<a href=\"https://colab.research.google.com/github/ProNatalya/python/blob/main/8_exam_cycle.ipynb\" target=\"_parent\"><img src=\"https://colab.research.google.com/assets/colab-badge.svg\" alt=\"Open In Colab\"/></a>"
      ]
    },
    {
      "cell_type": "code",
      "execution_count": null,
      "metadata": {
        "id": "h05FAAww15b7"
      },
      "outputs": [],
      "source": [
        "n = int(input())\n",
        "res = 1\n",
        "i = 2\n",
        "while i <= n:\n",
        "    res *= i\n",
        "    i += 1\n",
        "print(res) # выводит факториал числа n"
      ]
    },
    {
      "cell_type": "code",
      "source": [
        "# Определите какую задачу решает следующий фрагмент кода:\n",
        "n = int(input())\n",
        "i = 2\n",
        "while n % i != 0:\n",
        "    i += 1\n",
        "print(i) # выводит минимальный делитель числа, отличный от единицы"
      ],
      "metadata": {
        "id": "Gp8sVxWM2cnk"
      },
      "execution_count": null,
      "outputs": []
    },
    {
      "cell_type": "code",
      "source": [
        "n = int(input())\n",
        "counter = 0\n",
        "while n > 0:\n",
        "   counter += 1\n",
        "   n //= 10\n",
        "   print(counter)\n",
        "# Расположите элементы списка в правильном порядке"
      ],
      "metadata": {
        "colab": {
          "base_uri": "https://localhost:8080/"
        },
        "id": "rWBqjlrE3PEL",
        "outputId": "0ac05d1a-d487-49cd-cc53-1cc71fe453a4"
      },
      "execution_count": 3,
      "outputs": [
        {
          "output_type": "stream",
          "name": "stdout",
          "text": [
            "5\n",
            "1\n"
          ]
        }
      ]
    },
    {
      "cell_type": "markdown",
      "source": [
        "# Ревью кода - 7 🌶️\n",
        "На обработку поступает натуральное число. Нужно написать программу, которая выводит на экран сумму чётных цифр этого числа или 0, если чётных цифр в записи нет. Программист торопился и написал программу неправильно.\n",
        "\n",
        "Найдите все ошибки в этой программе (их может быть одна или несколько). Известно, что каждая ошибка затрагивает только одну строку и может быть исправлена без изменения других строк.\n",
        "\n",
        "Примечание. Обратите внимание, что требуется найти ошибки в имеющейся программе, а не написать свою, возможно, использующую другой алгоритм решения."
      ],
      "metadata": {
        "id": "DkjDE_h442KB"
      }
    },
    {
      "cell_type": "code",
      "source": [
        "n = int(input())\n",
        "s = 0\n",
        "while n > 0:\n",
        "    if n % 2 == 0:\n",
        "        s += n % 10\n",
        "    n //= 10\n",
        "print(s)"
      ],
      "metadata": {
        "id": "YBnXpf6g47do"
      },
      "execution_count": null,
      "outputs": []
    },
    {
      "cell_type": "markdown",
      "source": [
        "# Ревью кода - 8 🌶️\n",
        "На обработку поступает последовательность из\n",
        "8\n",
        "8 целых чисел. Известно, что вводимые числа по абсолютной величине не превышают\n",
        "1\n",
        "0\n",
        "12\n",
        "10\n",
        "12\n",
        " . Нужно написать программу, которая выводит на экран количество делящихся нацело на\n",
        "4\n",
        "4 чисел в исходной последовательности и максимальное делящееся нацело на\n",
        "4\n",
        "4 число. Если делящихся нацело на\n",
        "4\n",
        "4 чисел нет, на экран требуется вывести «NO». Программист торопился и написал программу неправильно.\n",
        "\n",
        "Найдите все ошибки в этой программе (их может быть одна или несколько). Известно, что каждая ошибка затрагивает только одну строку и может быть исправлена без изменения других строк.\n",
        "\n",
        "Примечание. Обратите внимание, что требуется найти ошибки в имеющейся программе, а не написать свою, возможно, использующую другой алгоритм решения."
      ],
      "metadata": {
        "id": "ia4PeLtM7fup"
      }
    },
    {
      "cell_type": "code",
      "source": [
        "n = 8\n",
        "count = 0\n",
        "maximum = -10**12\n",
        "for _ in range(n):\n",
        "    x = int(input())\n",
        "    if x % 4 == 0:\n",
        "        count += 1\n",
        "        if x > maximum:\n",
        "            maximum = x\n",
        "if count > 0:\n",
        "    print(count)\n",
        "    print(maximum)\n",
        "else:\n",
        "    print('NO')"
      ],
      "metadata": {
        "id": "EOegJ2637ng-"
      },
      "execution_count": null,
      "outputs": []
    },
    {
      "cell_type": "markdown",
      "source": [
        "# Task Звездная рамка\n",
        "На вход программе подается натуральное число n. Напишите программу, которая печатает звездную рамку размерами\n",
        "n×19.\n",
        "\n",
        "Формат входных данных\n",
        "На вход программе подаётся натуральное число n∈[3;19] — высота звездной рамки.\n",
        "\n",
        "Формат выходных данных\n",
        "Программа должна вывести звездную рамку размерами n×19.\n",
        "\n",
        "Подсказка. Для печати звездной линии используйте умножение строки на число.\n",
        "\n",
        "Тестовые данные 🟢\n",
        "Sample Input 1:\n",
        "\n",
        "3\n",
        "Sample Output 1:\n",
        "\n",
        "   *******************\n",
        " @ *                 *\n",
        "   *******************\n",
        "Sample Input 2:\n",
        "\n",
        "4\n",
        "Sample Output 2:\n",
        "\n",
        "*******************\n",
        "*                 *\n",
        "*                 *\n",
        "*******************\n",
        "Sample Input 3:\n",
        "\n",
        "5\n",
        "Sample Output 3:\n",
        "\n",
        "*******************\n",
        "*                 *\n",
        "*                 *\n",
        "*                 *\n",
        "*******************"
      ],
      "metadata": {
        "id": "eU1HowDOIpqg"
      }
    },
    {
      "cell_type": "code",
      "source": [
        "n = int(input())\n",
        "print('*'*19)\n",
        "for i in range(n-2):\n",
        "    print('*','               ','*', end='\\n')\n",
        "print('*'*19)\n"
      ],
      "metadata": {
        "id": "iiHoRU91JDUy"
      },
      "execution_count": null,
      "outputs": []
    },
    {
      "cell_type": "code",
      "source": [
        "n = int(input())\n",
        "\n",
        "for i in range(n):\n",
        "    if i == 0 or i == n - 1:\n",
        "        cur_sep = \"*\"\n",
        "    else:\n",
        "        cur_sep = \" \"\n",
        "\n",
        "    print(\"*\", \"*\", sep=cur_sep * 17)"
      ],
      "metadata": {
        "id": "juU_qNIaJ2eX"
      },
      "execution_count": null,
      "outputs": []
    },
    {
      "cell_type": "code",
      "source": [
        "n = int(input())\n",
        "for i in range(1, n + 1):\n",
        "    if i == 1 or i == n:\n",
        "        print('*' * 19)\n",
        "    else:\n",
        "        print('*' + ' ' * 17 + '*')"
      ],
      "metadata": {
        "id": "c-_YwCJxJ9BL"
      },
      "execution_count": null,
      "outputs": []
    },
    {
      "cell_type": "code",
      "source": [
        "a = int(input())\n",
        "print('*'*19)\n",
        "for j in range(a-2):\n",
        "    print('*',' '*15,'*')\n",
        "print('*'*19)"
      ],
      "metadata": {
        "id": "nPC21_r5KB21"
      },
      "execution_count": null,
      "outputs": []
    },
    {
      "cell_type": "markdown",
      "source": [
        "# Task Третья цифра\n",
        "Дано натуральное число\n",
        "�\n",
        "(\n",
        "�\n",
        ">\n",
        "99\n",
        ")\n",
        "n(n>99). Напишите программу, которая определяет его третью (с начала) цифру.\n",
        "\n",
        "Формат входных данных\n",
        "На вход программе подается одно натуральное число, состоящее как минимум из трех цифр.\n",
        "\n",
        "Формат выходных данных\n",
        "Программа должна вывести его третью (с начала) цифру.\n",
        "\n",
        "Тестовые данные 🟢\n",
        "Sample Input 1:\n",
        "\n",
        "100000000\n",
        "Sample Output 1:\n",
        "\n",
        "0\n",
        "Sample Input 2:\n",
        "\n",
        "3459087654\n",
        "Sample Output 2:\n",
        "\n",
        "5\n",
        "Sample Input 3:\n",
        "\n",
        "134\n",
        "Sample Output 3:\n",
        "\n",
        "4"
      ],
      "metadata": {
        "id": "8PSJgM55KFpc"
      }
    },
    {
      "cell_type": "code",
      "source": [
        "n = int(input())\n",
        "\n",
        "while n > 100:\n",
        "    last_digit = n %10\n",
        "    n = n//10\n",
        "print(last_digit)"
      ],
      "metadata": {
        "colab": {
          "base_uri": "https://localhost:8080/"
        },
        "id": "QtQlmZfIKMMC",
        "outputId": "4419f5c8-a175-4273-9fdd-96317e2294fe"
      },
      "execution_count": 5,
      "outputs": [
        {
          "output_type": "stream",
          "name": "stdout",
          "text": [
            "104\n",
            "4\n"
          ]
        }
      ]
    },
    {
      "cell_type": "code",
      "source": [
        "n = int(input())\n",
        "while n > 999:\n",
        "    n //= 10\n",
        "\n",
        "print(n % 10)"
      ],
      "metadata": {
        "id": "hW07KZ4yKVBB"
      },
      "execution_count": null,
      "outputs": []
    },
    {
      "cell_type": "code",
      "source": [
        "n = int(input())\n",
        "while n >= 100:\n",
        "    s = n % 10\n",
        "    n //=10\n",
        "print(s)"
      ],
      "metadata": {
        "id": "WNzQM_xgKc_5"
      },
      "execution_count": null,
      "outputs": []
    }
  ]
}
