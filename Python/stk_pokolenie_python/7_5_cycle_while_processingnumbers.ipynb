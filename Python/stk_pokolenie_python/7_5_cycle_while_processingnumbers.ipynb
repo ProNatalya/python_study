{
  "nbformat": 4,
  "nbformat_minor": 0,
  "metadata": {
    "colab": {
      "provenance": [],
      "authorship_tag": "ABX9TyOzls40RGQQMO30BLcXySCY",
      "include_colab_link": true
    },
    "kernelspec": {
      "name": "python3",
      "display_name": "Python 3"
    },
    "language_info": {
      "name": "python"
    }
  },
  "cells": [
    {
      "cell_type": "markdown",
      "metadata": {
        "id": "view-in-github",
        "colab_type": "text"
      },
      "source": [
        "<a href=\"https://colab.research.google.com/github/ProNatalya/python/blob/main/7_5_cycle_while_processingnumbers.ipynb\" target=\"_parent\"><img src=\"https://colab.research.google.com/assets/colab-badge.svg\" alt=\"Open In Colab\"/></a>"
      ]
    },
    {
      "cell_type": "markdown",
      "source": [
        "# Обработка цифр числа\n"
      ],
      "metadata": {
        "id": "4Uawkqm4Xjb6"
      }
    },
    {
      "cell_type": "code",
      "source": [
        "# Напишем программу, которая считывает натуральное число\n",
        " #(целое положительное) и обрабатывает его цифры\n",
        "n = int(input())\n",
        "while n != 0:  # пока в числе есть цифры\n",
        "    last_digit = n % 10  # получить последнюю цифру\n",
        "    # код обработки последней цифры\n",
        "    n = n // 10  # удалить последнюю цифру из числа"
      ],
      "metadata": {
        "colab": {
          "base_uri": "https://localhost:8080/"
        },
        "id": "creT8wC-Xtf_",
        "outputId": "912bf40c-6488-43b8-f9be-92da75c55dcb"
      },
      "execution_count": null,
      "outputs": [
        {
          "name": "stdout",
          "output_type": "stream",
          "text": [
            "345\n"
          ]
        }
      ]
    },
    {
      "cell_type": "code",
      "source": [
        "# Напишем программу, которая определяет есть ли в числе цифра 7.\n",
        "\n",
        "num = int(input())\n",
        "has_seven = False  # сигнальная метка\n",
        "\n",
        "while num != 0:\n",
        "    last_digit = num % 10\n",
        "    if last_digit == 7:\n",
        "        has_seven = True\n",
        "    num = num // 10\n",
        "\n",
        "if has_seven == True:\n",
        "    print('YES')\n",
        "else:\n",
        "    print('NO')"
      ],
      "metadata": {
        "colab": {
          "base_uri": "https://localhost:8080/"
        },
        "id": "-C6h9o6sYJWY",
        "outputId": "027d8da0-2493-47fd-ec65-d39d2c950661"
      },
      "execution_count": null,
      "outputs": [
        {
          "output_type": "stream",
          "name": "stdout",
          "text": [
            "45\n",
            "NO\n"
          ]
        }
      ]
    },
    {
      "cell_type": "code",
      "source": [
        "num = 12345\n",
        "product = 1\n",
        "while num != 0:\n",
        "    last_digit = num % 10\n",
        "    product = product * last_digit\n",
        "    num = num // 10\n",
        "print(product)"
      ],
      "metadata": {
        "colab": {
          "base_uri": "https://localhost:8080/"
        },
        "id": "klZZ0dPubTi_",
        "outputId": "b875972c-cec3-45fa-92d1-c4bdbbbfd4b8"
      },
      "execution_count": null,
      "outputs": [
        {
          "output_type": "stream",
          "name": "stdout",
          "text": [
            "120\n"
          ]
        }
      ]
    },
    {
      "cell_type": "code",
      "source": [
        "num = 123456789\n",
        "total = 0\n",
        "while num != 0:\n",
        "    last_digit = num % 10\n",
        "    if last_digit > 4:\n",
        "        total += 1\n",
        "\n",
        "    num = num // 10\n",
        "\n",
        "print(total)"
      ],
      "metadata": {
        "colab": {
          "base_uri": "https://localhost:8080/"
        },
        "id": "Ba4qw23YcOLU",
        "outputId": "5934b0ce-adef-4206-e87b-592adc541123"
      },
      "execution_count": null,
      "outputs": [
        {
          "output_type": "stream",
          "name": "stdout",
          "text": [
            "5\n"
          ]
        }
      ]
    },
    {
      "cell_type": "markdown",
      "source": [
        "# Task1 Обратный порядок 1\n",
        "Stepik\n",
        "User avatar\n",
        "\n",
        "7.5 Цикл while: обработка цифр числа\n",
        "3 из 10 шагов пройдено\n",
        "2 из 42 баллов  получено\n",
        "Обратный порядок 1\n",
        "Дано натуральное число. Напишите программу, которая выводит его цифры в столбик в обратном порядке.\n",
        "\n",
        "Формат входных данных\n",
        "На вход программе подается одно натуральное число.\n",
        "\n",
        "Формат выходных данных\n",
        "Программа должна вывести цифры введенного числа в столбик в обратном порядке.\n",
        "\n",
        "Тестовые данные 🟢\n",
        "Sample Input 1:\n",
        "\n",
        "12345\n",
        "Sample Output 1:\n",
        "\n",
        "5\n",
        "4\n",
        "3\n",
        "2\n",
        "1\n",
        "Sample Input 2:\n",
        "\n",
        "55690454\n",
        "Sample Output 2:\n",
        "\n",
        "4\n",
        "5\n",
        "4\n",
        "0\n",
        "9\n",
        "6\n",
        "5\n",
        "5"
      ],
      "metadata": {
        "id": "kpRqEJuxcbTN"
      }
    },
    {
      "cell_type": "code",
      "source": [
        "n = int(input())\n",
        "while n > 0:\n",
        "    last_digit = n % 10\n",
        "    print(last_digit)\n",
        "    n = n // 10\n",
        "\n"
      ],
      "metadata": {
        "id": "vFHBLDofzUyc"
      },
      "execution_count": null,
      "outputs": []
    },
    {
      "cell_type": "markdown",
      "source": [
        "# Task2 Обратный порядок 2\n",
        "Дано натуральное число. Напишите программу, которая меняет порядок цифр числа на обратный.\n",
        "\n",
        "Формат входных данных\n",
        "На вход программе подается одно натуральное число.\n",
        "\n",
        "Формат выходных данных\n",
        "Программа должна вывести число, записанное в обратном порядке.\n",
        "\n",
        "Тестовые данные 🟢\n",
        "Sample Input 1:\n",
        "\n",
        "5086334\n",
        "Sample Output 1:\n",
        "\n",
        "4336805\n",
        "Sample Input 2:\n",
        "\n",
        "450098\n",
        "Sample Output 2:\n",
        "\n",
        "890054\n",
        "Sample Input 3:\n",
        "\n",
        "5088531157\n",
        "Sample Output 3:\n",
        "\n",
        "7511358805"
      ],
      "metadata": {
        "id": "f9MVvp2wzd3J"
      }
    },
    {
      "cell_type": "code",
      "source": [
        "n = int(input())\n",
        "while n > 0:\n",
        "    last_digit = n % 10\n",
        "    print(last_digit, end=\"\")\n",
        "    n = n // 10"
      ],
      "metadata": {
        "id": "kbEm8oRvzygD"
      },
      "execution_count": null,
      "outputs": []
    },
    {
      "cell_type": "code",
      "source": [
        "n = int(input())\n",
        "new_n = 0\n",
        "\n",
        "while n > 0:\n",
        "    new_n = new_n * 10 + n % 10\n",
        "    n //= 10\n",
        "\n",
        "print(new_n)"
      ],
      "metadata": {
        "id": "3Gh99k--0DV6"
      },
      "execution_count": null,
      "outputs": []
    },
    {
      "cell_type": "code",
      "source": [
        "n = int(input())\n",
        "\n",
        "while n > 0:\n",
        "    print(n % 10, end=\"\")\n",
        "    n //= 10"
      ],
      "metadata": {
        "id": "2lYYoPwe0bEB"
      },
      "execution_count": null,
      "outputs": []
    },
    {
      "cell_type": "markdown",
      "source": [
        "# Task3 max и min\n",
        "Дано натуральное число n,(n≥10). Напишите программу, которая определяет его максимальную и минимальную цифры.\n",
        "\n",
        "Формат входных данных\n",
        "На вход программе подается одно натуральное число.\n",
        "\n",
        "Формат выходных данных\n",
        "Программа должна вывести максимальную и минимальную цифры введенного числа (с поясняющей надписью).\n",
        "\n",
        "Тестовые данные 🟢\n",
        "Sample Input 1:\n",
        "\n",
        "26670\n",
        "Sample Output 1:\n",
        "\n",
        "Максимальная цифра равна 7\n",
        "Минимальная цифра равна 0\n",
        "Sample Input 2:\n",
        "\n",
        "8945\n",
        "Sample Output 2:\n",
        "\n",
        "Максимальная цифра равна 9\n",
        "Минимальная цифра равна 4\n",
        "Sample Input 3:\n",
        "\n",
        "7645897791\n",
        "Sample Output 3:\n",
        "\n",
        "Максимальная цифра равна 9\n",
        "Минимальная цифра равна 1"
      ],
      "metadata": {
        "id": "jtjbIcvU0tQs"
      }
    },
    {
      "cell_type": "code",
      "source": [
        "n = int(input())\n",
        "maxx = 0\n",
        "minn = 9\n",
        "while n > 0:\n",
        "    last_digit = n % 10\n",
        "    if last_digit > maxx:\n",
        "        maxx = last_digit\n",
        "    if last_digit < minn:\n",
        "        minn = last_digit\n",
        "    n = n // 10\n",
        "print(\"Максимальная цифра равна\", maxx)\n",
        "print(\"Минимальная цифра равна\", minn)"
      ],
      "metadata": {
        "id": "uYjG2-Yl0_RA"
      },
      "execution_count": null,
      "outputs": []
    },
    {
      "cell_type": "code",
      "execution_count": null,
      "metadata": {
        "id": "biE04NvQXCt8"
      },
      "outputs": [],
      "source": [
        "# решение  учителя\n",
        "n = int(input())\n",
        "max_digit = 0\n",
        "min_digit = 9\n",
        "\n",
        "while n > 0:\n",
        "    cur_digit = n % 10\n",
        "\n",
        "    max_digit = max(max_digit, cur_digit)\n",
        "    min_digit = min(min_digit, cur_digit)\n",
        "\n",
        "    n //= 10\n",
        "\n",
        "print(\"Максимальная цифра равна\", max_digit)\n",
        "print(\"Минимальная цифра равна\", min_digit)"
      ]
    },
    {
      "cell_type": "code",
      "source": [
        "n, x, m = int(input()), -1, 10\n",
        "while n:\n",
        "    x = max(x, n % 10)\n",
        "    m = min(m, n % 10)\n",
        "    n //= 10\n",
        "print('Максимальная цифра равна', x)\n",
        "print('Минимальная цифра равна', m)"
      ],
      "metadata": {
        "id": "0iY4Fi_r5k7h"
      },
      "execution_count": null,
      "outputs": []
    },
    {
      "cell_type": "code",
      "source": [
        "x = str(input())\n",
        "print('Максимальная цифра равна', max(x))\n",
        "print('Минимальная цифра равна', min(x))"
      ],
      "metadata": {
        "id": "NEJdYa5p5pmN"
      },
      "execution_count": null,
      "outputs": []
    },
    {
      "cell_type": "markdown",
      "source": [
        "# Task4 Все вместе\n",
        "Дано натуральное число. Напишите программу, которая вычисляет:\n",
        "\n",
        "сумму его цифр;\n",
        "количество цифр в нем;\n",
        "произведение его цифр;\n",
        "среднее арифметическое его цифр;\n",
        "его первую цифру;\n",
        "сумму его первой и последней цифры.\n",
        "Формат входных данных\n",
        "На вход программе подается одно натуральное число.\n",
        "\n",
        "Формат выходных данных\n",
        "Программа должна вывести значения указанных величин в указанном порядке.\n",
        "\n",
        "Тестовые данные 🟢\n",
        "Sample Input 1:\n",
        "\n",
        "5678\n",
        "Sample Output 1:\n",
        "\n",
        "26\n",
        "4\n",
        "1680\n",
        "6.5\n",
        "5\n",
        "13\n",
        "Sample Input 2:\n",
        "\n",
        "132\n",
        "Sample Output 2:\n",
        "\n",
        "6\n",
        "3\n",
        "6\n",
        "2.0\n",
        "1\n",
        "3"
      ],
      "metadata": {
        "id": "t7jAMmyK5vBH"
      }
    },
    {
      "cell_type": "code",
      "source": [
        "n = int(input())\n",
        "count = 0\n",
        "summ = 0\n",
        "multy = 1\n",
        "last_digit = n % 10\n",
        "while n > 0:\n",
        "    first_digit = n % 10\n",
        "\n",
        "    summ += first_digit\n",
        "    count += 1\n",
        "    multy *= first_digit\n",
        "    a = summ / count\n",
        "    summ2  = first_digit + last_digit\n",
        "    n = n // 10\n",
        "print(summ, count, multy, a, first_digit, summ2, sep='\\n')"
      ],
      "metadata": {
        "id": "kOW3wva458sC"
      },
      "execution_count": null,
      "outputs": []
    },
    {
      "cell_type": "code",
      "source": [
        "n = int(input())\n",
        "\n",
        "digit_sum = 0\n",
        "digit_cnt = 0\n",
        "digit_product = 1\n",
        "last_digit = n % 10\n",
        "\n",
        "while n > 0:\n",
        "    cur_digit = n % 10\n",
        "\n",
        "    first_digit = cur_digit\n",
        "    digit_sum += cur_digit\n",
        "    digit_cnt += 1\n",
        "    digit_product *= cur_digit\n",
        "\n",
        "    n //= 10\n",
        "\n",
        "digit_average = digit_sum / digit_cnt\n",
        "first_last_sum = first_digit + last_digit\n",
        "\n",
        "print(digit_sum)\n",
        "print(digit_cnt)\n",
        "print(digit_product)\n",
        "print(digit_average)\n",
        "print(first_digit)\n",
        "print(first_last_sum)"
      ],
      "metadata": {
        "id": "udbtLHyp6Z9t"
      },
      "execution_count": null,
      "outputs": []
    },
    {
      "cell_type": "code",
      "source": [
        "n = int(input())                  # препарируемое число)))\n",
        "num = n                           # уменьшаемый остаток для получения \"стоп\" в цикле\n",
        "total = 0                         # сумма чисел\n",
        "product = 1                       # произведение чисел\n",
        "quantity = 0                      # количество чисел\n",
        "\n",
        "# делаем цикл\n",
        "while num:\n",
        "    total += num % 10             # считаем суму чисел\n",
        "    product *= num % 10           # считаем произведение чисел\n",
        "    quantity += 1                 # считаем количество чисел\n",
        "    num //= 10                    # откидывает последнее число\n",
        "\n",
        "# выводим ответы\n",
        "print(total)                      # сумма чисел\n",
        "print(quantity)                   # количество чисел\n",
        "print(product)                    # произведение чисел\n",
        "print(total / quantity)           # среднее арифмитическое всех чисел\n",
        "print(n // 10 ** (quantity - 1))  # первое число\n",
        "print(n // 10 ** (quantity - 1) + n % 10)  # произведение первого и последнего чисел"
      ],
      "metadata": {
        "id": "nVkQeLnF6or3"
      },
      "execution_count": null,
      "outputs": []
    },
    {
      "cell_type": "markdown",
      "source": [
        "# Task5 Вторая цифра\n",
        "Дано натуральное число\n",
        "n(n>9). Напишите программу, которая определяет его вторую (с начала) цифру.\n",
        "\n",
        "Формат входных данных\n",
        "На вход программе подается одно натуральное число, состоящее как минимум из двух цифр.\n",
        "\n",
        "Формат выходных данных\n",
        "Программа должна вывести его вторую (с начала) цифру.\n",
        "\n",
        "Тестовые данные 🟢\n",
        "Sample Input 1:\n",
        "\n",
        "455672\n",
        "Sample Output 1:\n",
        "\n",
        "5\n",
        "Sample Input 2:\n",
        "\n",
        "59\n",
        "Sample Output 2:\n",
        "\n",
        "9\n",
        "Sample Input 3:\n",
        "\n",
        "123\n",
        "Sample Output 3:\n",
        "\n",
        "2"
      ],
      "metadata": {
        "id": "voQNAUfG6zQT"
      }
    },
    {
      "cell_type": "code",
      "source": [
        "n = int(input())\n",
        "second_digit = n % 10\n",
        "while n > 9:\n",
        "    last_digit = n % 10\n",
        "    n = n // 10\n",
        "    second_digit = last_digit\n",
        "print(second_digit)\n",
        ""
      ],
      "metadata": {
        "colab": {
          "base_uri": "https://localhost:8080/"
        },
        "id": "KK3cyGmf7GBV",
        "outputId": "9a973567-33cd-4ec5-eb61-d683c61e3f41"
      },
      "execution_count": 1,
      "outputs": [
        {
          "output_type": "stream",
          "name": "stdout",
          "text": [
            "476\n",
            "7\n"
          ]
        }
      ]
    },
    {
      "cell_type": "code",
      "source": [
        "n = int(input())\n",
        "while n > 99:\n",
        "    n //= 10\n",
        "\n",
        "second_digit = n % 10\n",
        "print(second_digit)"
      ],
      "metadata": {
        "id": "vWmWw0aB7jAk"
      },
      "execution_count": null,
      "outputs": []
    },
    {
      "cell_type": "markdown",
      "source": [
        "# Task6 Одинаковые цифры\n",
        "Дано натуральное число. Напишите программу, которая определяет, состоит ли указанное число из одинаковых цифр.\n",
        "\n",
        "Формат входных данных\n",
        "На вход программе подается одно натуральное число.\n",
        "\n",
        "Формат выходных данных\n",
        "Программа должна вывести «YES» если число состоит из одинаковых цифр и «NO» в противном случае.\n",
        "\n",
        "Тестовые данные 🟢\n",
        "Sample Input 1:\n",
        "\n",
        "11111\n",
        "Sample Output 1:\n",
        "\n",
        "YES\n",
        "Sample Input 2:\n",
        "\n",
        "11112111\n",
        "Sample Output 2:\n",
        "\n",
        "NO"
      ],
      "metadata": {
        "id": "FD6bqnPq7vHb"
      }
    },
    {
      "cell_type": "code",
      "source": [
        "n = int(input())\n",
        "last_digit = n % 10\n",
        "count = 0\n",
        "while n > 0:\n",
        "    new_digit = n % 10\n",
        "    n = n // 10\n",
        "    if last_digit != new_digit:\n",
        "        count += 1\n",
        "if count > 0:\n",
        "    print(\"NO\")\n",
        "else:\n",
        "    print (\"YES\")\n"
      ],
      "metadata": {
        "id": "EapjvkY0745p"
      },
      "execution_count": null,
      "outputs": []
    },
    {
      "cell_type": "code",
      "source": [
        "n = int(input())\n",
        "flag = \"YES\"\n",
        "last_digit = n % 10\n",
        "\n",
        "while n > 0:\n",
        "    cur_digit = n % 10\n",
        "\n",
        "    if last_digit != cur_digit:\n",
        "        flag = \"NO\"\n",
        "\n",
        "    n //= 10\n",
        "\n",
        "print(flag)"
      ],
      "metadata": {
        "id": "qjrL1lWu8C1a"
      },
      "execution_count": null,
      "outputs": []
    },
    {
      "cell_type": "code",
      "source": [
        "# Если минимальная цифра в числе не равна максимальной цифре в числе,\n",
        "# то оно состоит из неодинаковых. Замечу, что тут цифры сравниваются не\n",
        "# как целые числа, а как строки (но нам тут без разницы, главное, чтобы\n",
        "# были одинаковыми, это учитывается)\n",
        "n = int(input())\n",
        "min_digit = 9\n",
        "max_digit = 0\n",
        "\n",
        "while n > 0:\n",
        "    last_digit = n % 10\n",
        "\n",
        "    min_digit = min(min_digit, last_digit)\n",
        "    max_digit = max(max_digit, last_digit)\n",
        "\n",
        "    n //= 10\n",
        "\n",
        "if min_digit == max_digit:\n",
        "    print(\"YES\")\n",
        "else:\n",
        "    print(\"NO\")"
      ],
      "metadata": {
        "colab": {
          "base_uri": "https://localhost:8080/"
        },
        "id": "KGmm1FBI8XB-",
        "outputId": "252a7391-712d-4baf-8d68-9113d6e9729d"
      },
      "execution_count": 3,
      "outputs": [
        {
          "output_type": "stream",
          "name": "stdout",
          "text": [
            "12112\n",
            "NO\n"
          ]
        }
      ]
    },
    {
      "cell_type": "markdown",
      "source": [
        "# Task7 Упорядоченные цифры 🌶️\n",
        "Дано натуральное число. Напишите программу, которая определяет, является ли последовательность его цифр при просмотре справа налево упорядоченной по неубыванию.\n",
        "\n",
        "Формат входных данных\n",
        "На вход программе подается одно натуральное число.\n",
        "\n",
        "Формат выходных данных\n",
        "Программа должна вывести «YES» если последовательность его цифр при просмотре справа налево является упорядоченной по неубыванию и «NO» в противном случае.\n",
        "\n",
        "Тестовые данные 🟢\n",
        "Sample Input 1:\n",
        "\n",
        "5321\n",
        "Sample Output 1:\n",
        "\n",
        "YES\n",
        "Sample Input 2:\n",
        "\n",
        "7820\n",
        "Sample Output 2:\n",
        "\n",
        "NO"
      ],
      "metadata": {
        "id": "OixXyPNT9c6C"
      }
    },
    {
      "cell_type": "code",
      "source": [
        "n = int(input())\n",
        "flag = True\n",
        "last_digit = n % 10\n",
        "while n > 0:\n",
        "    new_digit = n % 10\n",
        "    if last_digit > new_digit:\n",
        "\n",
        "        flag = False\n",
        "    last_digit = n % 10\n",
        "    n = n // 10\n",
        "if flag:\n",
        "    print(\"YES\")\n",
        "else:\n",
        "    print(\"NO\")\n",
        ""
      ],
      "metadata": {
        "id": "kx5d5GPW-RSP"
      },
      "execution_count": null,
      "outputs": []
    }
  ]
}
