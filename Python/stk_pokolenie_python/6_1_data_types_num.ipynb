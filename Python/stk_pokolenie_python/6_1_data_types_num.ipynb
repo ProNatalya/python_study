{
  "nbformat": 4,
  "nbformat_minor": 0,
  "metadata": {
    "colab": {
      "provenance": [],
      "authorship_tag": "ABX9TyOTNgqENvhKYX2bmI4XnV01",
      "include_colab_link": true
    },
    "kernelspec": {
      "name": "python3",
      "display_name": "Python 3"
    },
    "language_info": {
      "name": "python"
    }
  },
  "cells": [
    {
      "cell_type": "markdown",
      "metadata": {
        "id": "view-in-github",
        "colab_type": "text"
      },
      "source": [
        "<a href=\"https://colab.research.google.com/github/ProNatalya/python/blob/main/6_1_data_types_num.ipynb\" target=\"_parent\"><img src=\"https://colab.research.google.com/assets/colab-badge.svg\" alt=\"Open In Colab\"/></a>"
      ]
    },
    {
      "cell_type": "code",
      "execution_count": null,
      "metadata": {
        "id": "_spiHrdsYw6x"
      },
      "outputs": [],
      "source": []
    },
    {
      "cell_type": "markdown",
      "source": [
        "## Тема урока: числовые типы данных\n",
        "### Целочисленный тип данных\n",
        "### Целые числа в Python представлены типом данных int (сокращение int происходит от слова integer). Для определения целого числа типа int используется последовательность цифр от 0 до 9."
      ],
      "metadata": {
        "id": "o78nGtOvY9LY"
      }
    },
    {
      "cell_type": "code",
      "source": [
        "n = 17  # целочисленный литерал\n",
        "m = 7   # целочисленный литерал"
      ],
      "metadata": {
        "id": "prnNdQFbZiWm"
      },
      "execution_count": null,
      "outputs": []
    },
    {
      "cell_type": "markdown",
      "source": [
        "# Преобразование строки в целое число"
      ],
      "metadata": {
        "id": "aehMsED3ZpJU"
      }
    },
    {
      "cell_type": "code",
      "source": [
        "num = int(input())  # преобразование считанной строки в целое число"
      ],
      "metadata": {
        "id": "V2aS2fE9Zwxc"
      },
      "execution_count": null,
      "outputs": []
    },
    {
      "cell_type": "markdown",
      "source": [
        "## Для преобразования строки в целое число не обязательно использовать команду input()."
      ],
      "metadata": {
        "id": "iS4nqeT4Z9qK"
      }
    },
    {
      "cell_type": "code",
      "source": [
        "n = int('12345')  # преобразование строки в целое число\n",
        "# Если строка не является числом, то при преобразовании\n",
        "# возникнет ошибка."
      ],
      "metadata": {
        "id": "C-7_Bu-5aakd"
      },
      "execution_count": null,
      "outputs": []
    },
    {
      "cell_type": "markdown",
      "source": [
        "## Целочисленные операторы"
      ],
      "metadata": {
        "id": "TTWzZcRJanbB"
      }
    },
    {
      "cell_type": "code",
      "source": [
        "a = 13\n",
        "b = 7\n",
        "\n",
        "total = a + b\n",
        "diff = a - b\n",
        "prod = a * b\n",
        "div1 = a / b\n",
        "div2 = a // b\n",
        "mod = a % b\n",
        "exp = a ** b\n",
        "\n",
        "print(a, '+', b, '=', total)\n",
        "print(a, '-', b, '=', diff)\n",
        "print(a, '*', b, '=', prod)\n",
        "print(a, '/', b, '=', div1)\n",
        "print(a, '//', b, '=', div2)\n",
        "print(a, '%', b, '=', mod)\n",
        "print(a, '**', b, '=', exp)"
      ],
      "metadata": {
        "id": "GfcTOkABa3er"
      },
      "execution_count": null,
      "outputs": []
    },
    {
      "cell_type": "markdown",
      "source": [
        "## При обычном делении (/) получается число не являющееся целым. Деление на ноль приводит к ошибке."
      ],
      "metadata": {
        "id": "nNWzz3dwa_p6"
      }
    },
    {
      "cell_type": "markdown",
      "source": [
        "## Длинная арифметика\n",
        "### Отличительной особенностью языка Python является неограниченность целочисленного типа данных."
      ],
      "metadata": {
        "id": "oeHbxUF4bJG-"
      }
    },
    {
      "cell_type": "code",
      "source": [
        "atom = 10 ** 80  # количество атомов во вселенной\n",
        "print('Количество атомов =', atom)"
      ],
      "metadata": {
        "colab": {
          "base_uri": "https://localhost:8080/"
        },
        "id": "mLq8UTunbU7c",
        "outputId": "82433945-75ef-45a3-d4f5-0498d13eff50"
      },
      "execution_count": null,
      "outputs": [
        {
          "output_type": "stream",
          "name": "stdout",
          "text": [
            "Количество атомов = 100000000000000000000000000000000000000000000000000000000000000000000000000000000\n"
          ]
        }
      ]
    },
    {
      "cell_type": "markdown",
      "source": [
        "## Символ разделитель\n"
      ],
      "metadata": {
        "id": "mfXX9Qaobdf6"
      }
    },
    {
      "cell_type": "code",
      "source": [
        "# Для удобного чтения чисел можно использовать символ подчеркивания:\n",
        "num1 = 25_000_000\n",
        "num2 = 25000000\n",
        "print(num1)\n",
        "print(num2)"
      ],
      "metadata": {
        "colab": {
          "base_uri": "https://localhost:8080/"
        },
        "id": "aNVq-TRIbkg6",
        "outputId": "82c25cb5-889a-4de3-d4a3-7afb1c3d0304"
      },
      "execution_count": null,
      "outputs": [
        {
          "output_type": "stream",
          "name": "stdout",
          "text": [
            "25000000\n",
            "25000000\n"
          ]
        }
      ]
    },
    {
      "cell_type": "markdown",
      "source": [
        "## Числа с плавающей точкой\n",
        "Наравне с целыми числами в Python есть возможность работы с дробными (вещественными) числами. Так, например, числа\n",
        "\n",
        "π – являются вещественными и целого типа int недостаточно для их представления.\n",
        "\n",
        "Дробные (вещественные) числа в информатике называют числами с плавающей точкой.\n",
        "\n",
        "Для представления чисел с плавающей точкой в Python используется тип данных float."
      ],
      "metadata": {
        "id": "Lao3DJ03bwnC"
      }
    },
    {
      "cell_type": "code",
      "source": [
        "e = 2.71828  # литерал с плавающей точкой\n",
        "pi = 3.1415  # литерал с плавающей точкой\n",
        "# В отличие от математики, где разделителем является запятая,\n",
        "# в информатике используется точка."
      ],
      "metadata": {
        "id": "Cf8RZX9KcLmD"
      },
      "execution_count": null,
      "outputs": []
    },
    {
      "cell_type": "markdown",
      "source": [
        "### Преобразование строки к числу с плавающей точкой\n",
        "\n",
        "### Для преобразования строки к числу с плавающей точкой мы используем команду float():"
      ],
      "metadata": {
        "id": "enzsgdKkcc1g"
      }
    },
    {
      "cell_type": "code",
      "source": [
        "num = float(input()) # преобразование считанной строки в число с\n",
        "# плавающей точкой"
      ],
      "metadata": {
        "colab": {
          "base_uri": "https://localhost:8080/"
        },
        "id": "0R8uXvuvcoQZ",
        "outputId": "8c98a8ed-3f35-41a5-94f7-2417e2b2cd89"
      },
      "execution_count": null,
      "outputs": [
        {
          "name": "stdout",
          "output_type": "stream",
          "text": [
            "6.8966\n"
          ]
        }
      ]
    },
    {
      "cell_type": "code",
      "source": [
        "n = float('1.2345')  # преобразование строки к числу\n",
        "# с плавающей точкой\n",
        "# Если строка не является числом, то при преобразовании\n",
        "# возникнет ошибка."
      ],
      "metadata": {
        "id": "4GYIF3_tc4es"
      },
      "execution_count": null,
      "outputs": []
    },
    {
      "cell_type": "markdown",
      "source": [
        "### Арифметические операторы\n",
        "### Язык Python предоставляет четыре основных арифметических оператора для работы с числами с плавающей точкой (+, −, *, /) и один дополнительный (** для возведения в степень)."
      ],
      "metadata": {
        "id": "ovgAehsGdaPC"
      }
    },
    {
      "cell_type": "code",
      "source": [
        "a = 13.5\n",
        "b = 2.0\n",
        "\n",
        "total = a + b\n",
        "diff = a - b\n",
        "prod = a * b\n",
        "div = a / b\n",
        "exp = a ** b\n",
        "\n",
        "print(a, '+', b, '=', total)\n",
        "print(a, '-', b, '=', diff)\n",
        "print(a, '*', b, '=', prod)\n",
        "print(a, '/', b, '=', div)\n",
        "print(a, '**', b, '=', exp)\n"
      ],
      "metadata": {
        "colab": {
          "base_uri": "https://localhost:8080/"
        },
        "id": "SyUaJl1bdm9O",
        "outputId": "8f4f4a9b-0536-4d5a-9ffa-82eef2ae518d"
      },
      "execution_count": null,
      "outputs": [
        {
          "output_type": "stream",
          "name": "stdout",
          "text": [
            "13.5 + 2.0 = 15.5\n",
            "13.5 - 2.0 = 11.5\n",
            "13.5 * 2.0 = 27.0\n",
            "13.5 / 2.0 = 6.75\n",
            "13.5 ** 2.0 = 182.25\n"
          ]
        }
      ]
    },
    {
      "cell_type": "code",
      "source": [
        "# Деление на ноль приводит к ошибке."
      ],
      "metadata": {
        "id": "yXRbvN36dyjW"
      },
      "execution_count": null,
      "outputs": []
    },
    {
      "cell_type": "markdown",
      "source": [
        "## Преобразование между int и float"
      ],
      "metadata": {
        "id": "cIl1ltQnd64R"
      }
    },
    {
      "cell_type": "markdown",
      "source": [
        "### Неявное преобразование. Любое целое число (тип int) можно использовать там, где ожидается число с плавающей точкой (тип float), поскольку при необходимости Python автоматически преобразует целые числа в числа с плавающей точкой."
      ],
      "metadata": {
        "id": "1LxSNwaNeA77"
      }
    },
    {
      "cell_type": "markdown",
      "source": [
        "### Явное преобразование. Число с плавающей точкой нельзя неявно преобразовать в целое число. Для такого преобразования необходимо использовать явное преобразование с помощью команды int()."
      ],
      "metadata": {
        "id": "OvQ-iNTweIA4"
      }
    },
    {
      "cell_type": "code",
      "source": [
        "num1 = 17.89\n",
        "num2 = -13.56\n",
        "num3 = int(num1)\n",
        "num4 = int(num2)\n",
        "print(num3)\n",
        "print(num4)"
      ],
      "metadata": {
        "colab": {
          "base_uri": "https://localhost:8080/"
        },
        "id": "34C0ZEy7ePqA",
        "outputId": "68a73507-f4f5-4a59-b065-263a96cfd454"
      },
      "execution_count": null,
      "outputs": [
        {
          "output_type": "stream",
          "name": "stdout",
          "text": [
            "17\n",
            "-13\n"
          ]
        }
      ]
    },
    {
      "cell_type": "code",
      "source": [
        "# Обратите внимание, что преобразование чисел с плавающей точкой\n",
        "# в целое производится с округлением в сторону нуля,\n",
        "# то есть int(1.7) = 1, int(-1.7) = -1."
      ],
      "metadata": {
        "id": "_gLBmgzSeYug"
      },
      "execution_count": null,
      "outputs": []
    },
    {
      "cell_type": "markdown",
      "source": [
        "### Не путайте операцию преобразования и округления. Для округления чисел с плавающей точкой используются дополнительные команды. О них расскажем позже."
      ],
      "metadata": {
        "id": "AVefZSv0ekc-"
      }
    },
    {
      "cell_type": "markdown",
      "source": [
        "# Примечание"
      ],
      "metadata": {
        "id": "0QFMUvyteqQw"
      }
    },
    {
      "cell_type": "markdown",
      "source": [
        "## Начинающих программистов необходимость преобразования типов зачастую раздражает, но опытные знают, что внимание к типам данных — залог успеха и способ избежать ошибок. В 1996 году французская ракета взорвалась в воздухе из-за проблемы преобразования типов. Хотя ошибка в вашей программе может и не привести к взрыву, все равно имеет смысл уделить время изучению преобразования типов. Написав несколько программ, вы убедитесь, что понимание типов данных помогает не только писать компактный код, но и ясно излагать свои намерения, избегая ошибок в нюансах."
      ],
      "metadata": {
        "id": "Q8tb7ifResch"
      }
    },
    {
      "cell_type": "markdown",
      "source": [],
      "metadata": {
        "id": "dUgCfCZYnUYi"
      }
    },
    {
      "cell_type": "markdown",
      "source": [
        "## Авария ракеты-носителя «Ариан-5» (4 июня 1996 года)"
      ],
      "metadata": {
        "id": "g8wBm-R2fETr"
      }
    },
    {
      "cell_type": "code",
      "source": [
        "# Площадь треугольника\n",
        "a = float(input())\n",
        "b = float(input())\n",
        "print(a * b / 2)"
      ],
      "metadata": {
        "id": "As214qQSbt3y",
        "colab": {
          "base_uri": "https://localhost:8080/"
        },
        "outputId": "279d731a-d73c-4dc6-e1c6-1f8befca45d2"
      },
      "execution_count": null,
      "outputs": [
        {
          "output_type": "stream",
          "name": "stdout",
          "text": [
            "6\n",
            "7.5\n",
            "22.5\n"
          ]
        }
      ]
    },
    {
      "cell_type": "code",
      "source": [
        "# Две старушки\n",
        "# Две старушки идут навстречу друг другу с постоянными скоростями\n",
        "# V 1 и V 2 км/ч. Определите, через какое время (в часах) старушки встретятся,\n",
        "# если расстояние между ними равно S км.\n",
        "# Формат входных данных\n",
        "# На вход программе подаются три числа с плавающей точкой\n",
        "# S,V1,V2, каждое на отдельной строке.\n",
        "# Формат выходных данных\n",
        "# Программа должна вывести одно число в соответствии с условием задачи.\n",
        "# Примечание. Это очень быстрые старушки.\n",
        "# Тестовые данные 🟢\n",
        "# Sample Input 1:\n",
        "# 60.0\n",
        "# 15.5\n",
        "# 14.5\n",
        "# Sample Output 1:\n",
        "# 2.0\n",
        "# Sample Input 2:\n",
        "# 100.0\n",
        "# 60.75\n",
        "# 19.25\n",
        "# Sample Output 2:\n",
        "# 1.25\n",
        "s = float(input())\n",
        "v1 = float(input())\n",
        "v2 = float(input())\n",
        "t = s / (v1 + v2)\n",
        "print(t)\n"
      ],
      "metadata": {
        "id": "IsXn07NkkWrm",
        "colab": {
          "base_uri": "https://localhost:8080/"
        },
        "outputId": "66430e21-11f8-4103-cf11-6498fe3535f4"
      },
      "execution_count": null,
      "outputs": [
        {
          "output_type": "stream",
          "name": "stdout",
          "text": [
            "100\n",
            "35\n",
            "60\n",
            "1.0526315789473684\n"
          ]
        }
      ]
    },
    {
      "cell_type": "code",
      "source": [
        "a = float(input())\n",
        "b = float(input())\n",
        "s = a * b / 2\n",
        "\n",
        "print(s)"
      ],
      "metadata": {
        "colab": {
          "base_uri": "https://localhost:8080/"
        },
        "id": "Ol1NTmrTcPvq",
        "outputId": "ea0be380-752e-45b9-c9d7-d78ff1c69f33"
      },
      "execution_count": null,
      "outputs": [
        {
          "output_type": "stream",
          "name": "stdout",
          "text": [
            "6\n",
            "9.54\n",
            "28.619999999999997\n"
          ]
        }
      ]
    },
    {
      "cell_type": "code",
      "source": [
        "# Обратное число\n",
        "# Напишите программу, которая считывает с клавиатуры одно число и выводит\n",
        "# обратное ему. Если при этом введённое с клавиатуры число – ноль, то вывести\n",
        "# «Обратного числа не существует» (без кавычек).\n",
        "# Формат входных данных\n",
        "# На вход программе подается одно действительное число.\n",
        "# Формат выходных данных\n",
        "# Программа должна вывести действительное число обратное данному, либо текст\n",
        "# в соответствии с условием задачи.\n",
        "# Тестовые данные\n",
        "# Sample Input 1:\n",
        "# 2.5\n",
        "# Sample Output 1:\n",
        "# 0.4\n",
        "# Sample Input 2:\n",
        "# -55.6\n",
        "# Sample Output 2:\n",
        "# -0.017985611510791366\n",
        "# Sample Input 3:\n",
        "# 0\n",
        "# Sample Output 3:\n",
        "# Обратного числа не существует\n",
        "num1 = float(input())\n",
        "if num1 != 0:\n",
        "     print(1 / num1)\n",
        "else:\n",
        "     print('Обратного числа не существует')"
      ],
      "metadata": {
        "id": "wQHM_zVIulLy",
        "outputId": "2c061a18-1e06-4ce4-c45d-90631a3dfcd1",
        "colab": {
          "base_uri": "https://localhost:8080/"
        }
      },
      "execution_count": null,
      "outputs": [
        {
          "output_type": "stream",
          "name": "stdout",
          "text": [
            "6\n",
            "0.16666666666666666\n"
          ]
        }
      ]
    },
    {
      "cell_type": "code",
      "source": [
        "n = float(input())\n",
        "if n == 0:\n",
        "    print(\"Обратного числа не существует\")\n",
        "else:\n",
        "    print(n ** -1)"
      ],
      "metadata": {
        "id": "VvlpTp9W1V9E"
      },
      "execution_count": null,
      "outputs": []
    },
    {
      "cell_type": "markdown",
      "source": [
        "# 451 градус по Фаренгейту\n",
        "\n",
        "У известного американского писателя Рэя Бредбери есть роман «451 градус по Фаренгейту». Напишите программу, которая определяет, какой температуре по шкале Цельсия соответствует указанное значение по шкале Фаренгейта.\n",
        "\n",
        "Используйте формулу для перевода:\n",
        "C= 5 / 9 * ​(F − 32).\n",
        "\n",
        "Формат входных данных\n",
        "На вход программе подаётся вещественное число градусов по шкале Фаренгейта.\n",
        "\n",
        "Формат выходных данных\n",
        "Программа должна вывести число градусов по шкале Цельсия.\n",
        "\n",
        "Тестовые данные 🟢\n",
        "Sample Input 1:\n",
        "\n",
        "450.55\n",
        "Sample Output 1:\n",
        "\n",
        "232.5277777777778\n",
        "Sample Input 2:\n",
        "\n",
        "113.75\n",
        "Sample Output 2:\n",
        "\n",
        "45.41666666666667\n",
        "Sample Input 3:\n",
        "\n",
        "275.0\n",
        "Sample Output 3:\n",
        "\n",
        "135.0\n"
      ],
      "metadata": {
        "id": "5hNLob191ewq"
      }
    },
    {
      "cell_type": "code",
      "source": [
        "f = float(input())\n",
        "c = float(5 / 9 * (f - 32))\n",
        "print(c)"
      ],
      "metadata": {
        "id": "n9rbwFtw4mD5"
      },
      "execution_count": null,
      "outputs": []
    },
    {
      "cell_type": "markdown",
      "source": [
        "# Dog age\n",
        "На вход программе подается число\n",
        "n – количество собачьих лет. Напишите программу, которая вычисляет возраст собаки в человеческих годах.\n",
        "Формат входных данных\n",
        "На вход программе подаётся натуральное число – количество собачьих лет.\n",
        "\n",
        "Формат выходных данных\n",
        "Программа должна вывести возраст собаки в человеческих годах.\n",
        "\n",
        "Примечание. В течение первых двух лет собачий год равен\n",
        "10.5\n",
        "10.5 человеческим годам. После этого каждый год собаки равен 4 человеческим годам.\n",
        "\n",
        "Тестовые данные 🟢\n",
        "Sample Input 1:\n",
        "\n",
        "1\n",
        "Sample Output 1:\n",
        "\n",
        "10.5\n",
        "Sample Input 2:\n",
        "\n",
        "2\n",
        "Sample Output 2:\n",
        "\n",
        "21\n",
        "Sample Input 3:\n",
        "\n",
        "3\n",
        "Sample Output 3:\n",
        "\n",
        "25\n"
      ],
      "metadata": {
        "id": "knAeDh6W6UoW"
      }
    },
    {
      "cell_type": "code",
      "source": [
        "dog_age = int(input())\n",
        "if dog_age <= 2:\n",
        "    print(dog_age * 10.5)\n",
        "elif dog_age > 2:\n",
        "    print(2 * 10.5 + (dog_age - 2) * 4)"
      ],
      "metadata": {
        "id": "9Klwjr-I6oey",
        "colab": {
          "base_uri": "https://localhost:8080/"
        },
        "outputId": "fd647ca8-6114-4708-a24e-2860bb668c79"
      },
      "execution_count": null,
      "outputs": [
        {
          "output_type": "stream",
          "name": "stdout",
          "text": [
            "4\n",
            "29.0\n"
          ]
        }
      ]
    },
    {
      "cell_type": "code",
      "source": [
        "age = int(input())\n",
        "if age <= 2:\n",
        "    dog_age = age * 10.5\n",
        "else:\n",
        "    dog_age = 2 * 10.5 + (age - 2) * 4\n",
        "print(dog_age)"
      ],
      "metadata": {
        "colab": {
          "base_uri": "https://localhost:8080/"
        },
        "id": "pUuISantEMy2",
        "outputId": "51762646-0b2d-4ec2-e295-b8851205d829"
      },
      "execution_count": null,
      "outputs": [
        {
          "output_type": "stream",
          "name": "stdout",
          "text": [
            "4\n",
            "29.0\n"
          ]
        }
      ]
    },
    {
      "cell_type": "markdown",
      "source": [
        "# Задача Первая цифра после точки\n",
        "Дано положительное действительное число. Выведите его первую цифру после десятичной точки.\n",
        "\n",
        "Формат входных данных\n",
        "На вход программе подается положительное действительное число.\n",
        "\n",
        "Формат выходных данных\n",
        "Программа должна вывести цифру в соответствии с условием задачи.\n",
        "\n",
        "Тестовые данные 🟢\n",
        "Sample Input 1:\n",
        "\n",
        "3384390.4339\n",
        "Sample Output 1:\n",
        "\n",
        "4\n",
        "Sample Input 2:\n",
        "\n",
        "1.5\n",
        "Sample Output 2:\n",
        "\n",
        "5\n",
        "Sample Input 3:\n",
        "\n",
        "459933200.23\n",
        "Sample Output 3:\n",
        "\n",
        "2"
      ],
      "metadata": {
        "id": "Weiq1W8LFA0c"
      }
    },
    {
      "cell_type": "code",
      "source": [
        "num = float(input())\n",
        "a = int(num * 10)\n",
        "b = a % 10\n",
        "print(b)"
      ],
      "metadata": {
        "id": "cXGJNGMOFZwU"
      },
      "execution_count": null,
      "outputs": []
    },
    {
      "cell_type": "code",
      "source": [
        "# решение учителя\n",
        "n = float(input())\n",
        "print(int(n * 10) % 10)"
      ],
      "metadata": {
        "colab": {
          "base_uri": "https://localhost:8080/"
        },
        "id": "D1LxzLWfG3iH",
        "outputId": "ae71b770-b693-489b-edb8-c4afd66139ff"
      },
      "execution_count": null,
      "outputs": [
        {
          "output_type": "stream",
          "name": "stdout",
          "text": [
            "4.6\n",
            "6\n"
          ]
        }
      ]
    },
    {
      "cell_type": "markdown",
      "source": [
        "# Задача Дробная часть\n",
        "Дано положительное действительное число. Выведите его дробную часть.\n",
        "\n",
        "Формат входных данных\n",
        "На вход программе подается положительное действительное число.\n",
        "\n",
        "Формат выходных данных\n",
        "Программа должна вывести дробную часть числа в соответствии с условием задачи.\n",
        "\n",
        "Примечание. Числа с плавающей точкой (тип float) в Python хранятся в неточном виде, что связано с ограниченным количеством выделенных для них байт в памяти. Поэтому ваша программа может выдавать дробную часть от числа не в ожидаемом виде. Например, для числа 44.45 остаток может выглядеть как:\n",
        "\n",
        "0.45000000000000284\n",
        "Наша проверяющая система засчитает как 0.45, так и 0.45000000000000284 правильными ответами.\n",
        "\n",
        "Тестовые данные 🟢\n",
        "Sample Input 1:\n",
        "\n",
        "44.45\n",
        "Sample Output 1:\n",
        "\n",
        "0.45\n",
        "Sample Input 2:\n",
        "\n",
        "39483.2\n",
        "Sample Output 2:\n",
        "\n",
        "0.2\n",
        "Sample Input 3:\n",
        "\n",
        "322.4958\n",
        "Sample Output 3:\n",
        "\n",
        "0.4958"
      ],
      "metadata": {
        "id": "481Ze6bVIDa7"
      }
    },
    {
      "cell_type": "code",
      "source": [
        "num1 = float(input())\n",
        "num2 = num1 - int(num1)\n",
        "print(num2)"
      ],
      "metadata": {
        "id": "gs3WbCrPIr8p",
        "colab": {
          "base_uri": "https://localhost:8080/"
        },
        "outputId": "e4b1ac01-4886-4968-e71a-75f53a210a1b"
      },
      "execution_count": null,
      "outputs": [
        {
          "output_type": "stream",
          "name": "stdout",
          "text": [
            "34.54\n",
            "0.5399999999999991\n"
          ]
        }
      ]
    },
    {
      "cell_type": "code",
      "source": [
        "# решение  учителя\n",
        "n = float(input())\n",
        "\n",
        "print(n % 1)"
      ],
      "metadata": {
        "id": "smbjfAt5QB8Z"
      },
      "execution_count": null,
      "outputs": []
    },
    {
      "cell_type": "code",
      "source": [
        "# решение  учителя\n",
        "a = float(input())\n",
        "\n",
        "print(a - int(a))"
      ],
      "metadata": {
        "id": "4pBgUMLCQPx2"
      },
      "execution_count": null,
      "outputs": []
    },
    {
      "cell_type": "markdown",
      "source": [
        "## Встроенные функции\n"
      ],
      "metadata": {
        "id": "3-FAdP4XQ1KH"
      }
    },
    {
      "cell_type": "markdown",
      "source": [
        "## Функции min() и max()\n",
        "Аргументов у этих функций может быть любое количество, главное, чтобы они все поддерживали между собой операцию сравнения (например, float и int поддерживают сравнение, а float и str - нет)."
      ],
      "metadata": {
        "id": "OnHh11zyRLD-"
      }
    },
    {
      "cell_type": "code",
      "source": [
        "a = max(3, 8, -3, 12, 9)\n",
        "b = min(3, 8, -3, 12, 9)\n",
        "c = max(3.14, 2.17, 9.8)\n",
        "print(a)\n",
        "print(b)\n",
        "print(c)"
      ],
      "metadata": {
        "id": "geZm7AhfRnTI"
      },
      "execution_count": null,
      "outputs": []
    },
    {
      "cell_type": "markdown",
      "source": [
        "## Функция abs()"
      ],
      "metadata": {
        "id": "lEFmF_oSR6JR"
      }
    },
    {
      "cell_type": "markdown",
      "source": [
        "## Модулем (абсолютной величиной) положительного числа называется само число, модулем отрицательного числа называется противоположное ему число, модуль нуля – нуль. Модуль числа a обозначается ∣a∣, для него имеет место равенство:"
      ],
      "metadata": {
        "id": "uvbqC79nSAq0"
      }
    },
    {
      "cell_type": "code",
      "source": [
        "print(abs(10))\n",
        "print(abs(-7))\n",
        "print(abs(0))\n",
        "print(abs(-17.67))\n"
      ],
      "metadata": {
        "colab": {
          "base_uri": "https://localhost:8080/"
        },
        "id": "BGHnExmjSPct",
        "outputId": "b65f9469-5ffa-4335-c26f-1c472a343de7"
      },
      "execution_count": null,
      "outputs": [
        {
          "output_type": "stream",
          "name": "stdout",
          "text": [
            "10\n",
            "7\n",
            "0\n",
            "17.67\n"
          ]
        }
      ]
    },
    {
      "cell_type": "code",
      "source": [
        "# Обратите внимание, все три функции max(), min(), abs() работают\n",
        "# как с целыми числами, так и с числами с плавающей точкой.\n",
        "\n"
      ],
      "metadata": {
        "id": "UTLvPi6oUC3p"
      },
      "execution_count": null,
      "outputs": []
    },
    {
      "cell_type": "markdown",
      "source": [
        "# Наибольшее и наименьшее\n",
        "Напишите программу, которая находит наименьшее и наибольшее из пяти чисел.\n",
        "\n",
        "Формат входных данных\n",
        "На вход программе подается пять целых чисел, каждое на отдельной строке.\n",
        "\n",
        "Формат выходных данных\n",
        "Программа должна вывести наименьшее и наибольшее число с поясняющей надписью.\n",
        "\n",
        "Тестовые данные 🟢\n",
        "Sample Input 1:\n",
        "\n",
        "1\n",
        "2\n",
        "3\n",
        "4\n",
        "5\n",
        "Sample Output 1:\n",
        "\n",
        "Наименьшее число = 1\n",
        "Наибольшее число = 5\n",
        "Sample Input 2:\n",
        "\n",
        "454\n",
        "453\n",
        "32\n",
        "8\n",
        "6769\n",
        "Sample Output 2:\n",
        "\n",
        "Наименьшее число = 8\n",
        "Наибольшее число = 6769\n",
        "Sample Input 3:\n",
        "\n",
        "-3\n",
        "-11\n",
        "-499\n",
        "-888\n",
        "0\n",
        "Sample Output 3:\n",
        "\n",
        "Наименьшее число = -888\n",
        "Наибольшее число = 0"
      ],
      "metadata": {
        "id": "ucTEoKx7jJYL"
      }
    },
    {
      "cell_type": "code",
      "source": [
        "a, b, c, d, e = int(input()), int(input ()), int(input()), int(input()), int(input())\n",
        "f = min(a, b, c, d, e)\n",
        "g = max(a, b, c, d, e)\n",
        "print('Наименьшее число =', f)\n",
        "print('Наибольшее число =', g)\n"
      ],
      "metadata": {
        "id": "7ie7IKLaqNmC"
      },
      "execution_count": null,
      "outputs": []
    },
    {
      "cell_type": "code",
      "source": [
        "# решение учителя\n",
        "a, b, c, d, e = int(input()), int(input()), int(input()), int(input()), int(input())\n",
        "\n",
        "print(\"Наименьшее число =\", min(a, b, c, d, e))\n",
        "print(\"Наибольшее число =\", max(a, b, c, d, e))"
      ],
      "metadata": {
        "id": "1FJnBoI5sZjy"
      },
      "execution_count": null,
      "outputs": []
    },
    {
      "cell_type": "markdown",
      "source": [
        "# Задача Сортировка трёх 🌶️\n",
        "Напишите программу, которая упорядочивает три числа от большего к меньшему.\n",
        "\n",
        "Формат входных данных\n",
        "На вход программе подается три целых числа, каждое на отдельной строке.\n",
        "\n",
        "Формат выходных данных\n",
        "Программа должна вывести три числа, каждое на отдельной строке, упорядоченных от большего к меньшему.\n",
        "\n",
        "Тестовые данные 🟢\n",
        "Sample Input 1:\n",
        "\n",
        "132\n",
        "129\n",
        "135\n",
        "Sample Output 1:\n",
        "\n",
        "135\n",
        "132\n",
        "129\n",
        "Sample Input 2:\n",
        "\n",
        "150\n",
        "160\n",
        "156\n",
        "Sample Output 2:\n",
        "\n",
        "160\n",
        "156\n",
        "150\n",
        "Sample Input 3:\n",
        "\n",
        "161\n",
        "139\n",
        "148\n",
        "Sample Output 3:\n",
        "\n",
        "161\n",
        "148\n",
        "139"
      ],
      "metadata": {
        "id": "Ho0Z7G0usr3-"
      }
    },
    {
      "cell_type": "code",
      "source": [
        "a, b, c = int(input()), int(input()), int(input())\n",
        "d = min(a, b, c)\n",
        "e = max(a, b, c)\n",
        "print(e)\n",
        "if a <= b <= c or c <= b <= a:\n",
        "    print(b)\n",
        "elif b <= a <= c or c <= a <= b:\n",
        "    print(a)\n",
        "else:\n",
        "    print(c)\n",
        "print(d)\n"
      ],
      "metadata": {
        "id": "aIuPoe13s9cZ",
        "colab": {
          "base_uri": "https://localhost:8080/"
        },
        "outputId": "a22d6fe8-3913-4fb4-c621-0bfc50bf17e4"
      },
      "execution_count": null,
      "outputs": [
        {
          "output_type": "stream",
          "name": "stdout",
          "text": [
            "3\n",
            "3\n",
            "5\n",
            "5\n",
            "3\n",
            "3\n"
          ]
        }
      ]
    },
    {
      "cell_type": "code",
      "source": [
        "# Так как у нас всего три числа, то можно найти наибольшее и наименьшее числа\n",
        "# с помощью функций max(a, b, c) и min(a, b, c), а среднее число -- это разность\n",
        "# суммы начальных чисел и найденных двух значений:\n",
        "# a + b + c - max(a, b, c) - min(a, b, c).\n",
        "a = int(input())\n",
        "b = int(input())\n",
        "c = int(input())\n",
        "print(max(a, b, c))\n",
        "print(a + b + c - min(a, b, c) - max(a, b, c))\n",
        "print(min(a, b, c))"
      ],
      "metadata": {
        "colab": {
          "base_uri": "https://localhost:8080/"
        },
        "id": "vVAUWssZ1SuX",
        "outputId": "19ce1347-1b1c-4622-a388-2cc3acff4cca"
      },
      "execution_count": null,
      "outputs": [
        {
          "output_type": "stream",
          "name": "stdout",
          "text": [
            "5\n",
            "6\n",
            "34\n",
            "34\n",
            "6\n",
            "5\n"
          ]
        }
      ]
    },
    {
      "cell_type": "markdown",
      "source": [
        "# Задача Интересное число\n",
        "Назовем число интересным, если в нем разность максимальной и минимальной цифры равняется средней по величине цифре. Напишите программу, которая определяет, интересное число или нет. Если число интересное, следует вывести «Число интересное», иначе - «Число неинтересное».\n",
        "\n",
        "Формат входных данных\n",
        "На вход программе подается целое трехзначное число.\n",
        "\n",
        "Формат выходных данных\n",
        "Программа должна вывести текст в соответствии с условием задачи.\n",
        "\n",
        "Тестовые данные 🟢\n",
        "Sample Input 1:\n",
        "\n",
        "945\n",
        "Sample Output 1:\n",
        "\n",
        "Число интересное\n",
        "Sample Input 2:\n",
        "\n",
        "123\n",
        "Sample Output 2:\n",
        "\n",
        "Число интересное\n",
        "Sample Input 3:\n",
        "\n",
        "896\n",
        "Sample Output 3:\n",
        "\n",
        "Число неинтересное"
      ],
      "metadata": {
        "id": "37lzmrlB70kT"
      }
    },
    {
      "cell_type": "code",
      "source": [
        "num = int(input())\n",
        "a = num // 100\n",
        "b = num // 10 % 10\n",
        "c = num % 10\n",
        "d = max(a, b, c)\n",
        "e = min(a, b, c)\n",
        "medium = (a + b + c) - d - e\n",
        "if medium == d - e:\n",
        "    print('Число интересное')\n",
        "else:\n",
        "    print('Число неинтересное')"
      ],
      "metadata": {
        "id": "KXb2Cenu8G99"
      },
      "execution_count": null,
      "outputs": []
    },
    {
      "cell_type": "code",
      "source": [
        "n = int(input())\n",
        "n1 = n // 10 ** 0 % 10\n",
        "n2 = n // 10 ** 1 % 10\n",
        "n3 = n // 10 ** 2 % 10\n",
        "if n1 + n2 + n3 == 2 * max(n1, n2, n3):\n",
        "    print(\"Число интересное\")\n",
        "else:\n",
        "    print(\"Число неинтересное\")"
      ],
      "metadata": {
        "id": "0XgVN8n_LFCU"
      },
      "execution_count": null,
      "outputs": []
    },
    {
      "cell_type": "code",
      "source": [
        "n = int(input())\n",
        "n1 = n // 10 ** 0 % 10\n",
        "n2 = n // 10 ** 1 % 10\n",
        "n3 = n // 10 ** 2 % 10\n",
        "\n",
        "mx_digit = max(n1, n2, n3)\n",
        "mn_digit = min(n1, n2, n3)\n",
        "\n",
        "if mx_digit - mn_digit == n1 + n2 + n3 - mx_digit - mn_digit:\n",
        "    print(\"Число интересное\")\n",
        "else:\n",
        "    print(\"Число неинтересное\")"
      ],
      "metadata": {
        "id": "wtK6fqxPLdwi"
      },
      "execution_count": null,
      "outputs": []
    },
    {
      "cell_type": "code",
      "source": [
        "x = int(input())\n",
        "a = x % 10\n",
        "b = x // 10 % 10\n",
        "c = x // 100\n",
        "if a + b + c == 2 * max(a, b, c):\n",
        "    print(\"Число интересное\")\n",
        "else:\n",
        "    print(\"Число неинтересное\")\n",
        "# Формулу в операторе if\n",
        "# max(a, b, c) - min(a, b, c) == (a + b + c) - max(a, b, c) - min(a, b, c)\n",
        "# можно сократить\n",
        "# Для тех кто забыл школьную математику:\n",
        "# Изначально формула: (a+b+c) - max(a,b,c) - min(a,b,c) == max(a,b,c) - min(a,b,c)\n",
        "# В кратце \"x - y - z = y - z\", понятно что с обоих сторон (-z) можно сократить.\n",
        "# Получаем \"x - y = y\", тут с обоих сторон \"y\", но с разным знаком,\n",
        "# вспоминаем \"если число перебросить за \"=\" меняется знак\"\n",
        "# Вот перебрасываем и получаем \"x = y + y\", что также \"x = 2 * y\".\n",
        "# Можно также перебросить правый \"y\" на лево, тогда будет \"x - y - y = 0\",\n",
        "# что также \"x + 2 * (-y) = 0\" или \"x - 2 * y = 0\"\n"
      ],
      "metadata": {
        "id": "HZx5TRCULxgy"
      },
      "execution_count": null,
      "outputs": []
    },
    {
      "cell_type": "code",
      "source": [
        "n = int(input())\n",
        "a, b, c = n // 100, n // 10 % 10, n % 10\n",
        "print('Число интересное' if max(a, b, c) == a + b + c - max(a, b, c) else 'Число неинтересное')"
      ],
      "metadata": {
        "id": "tWOMoLIXOYqh"
      },
      "execution_count": null,
      "outputs": []
    },
    {
      "cell_type": "markdown",
      "source": [
        "# Задача Абсолютная сумма\n",
        "Даны пять чисел a1,a2,a3,a4,a5.\n",
        "Напишите программу, которая вычисляет сумму их модулей\n",
        "∣a1∣ + ∣a2∣ + ∣a3∣ + ∣a4∣ + ∣a5∣.\n",
        "\n",
        "Формат входных данных\n",
        "На вход программе подается пять действительных чисел\n",
        "a1, a2, a3, a4, a5, каждое на отдельной строке.\n",
        "\n",
        "Формат выходных данных.\n",
        "Программа должна вывести одно число – сумму модулей введённых чисел.\n",
        "\n",
        "Тестовые данные 🟢\n",
        "Sample Input 1:\n",
        "\n",
        "5.4\n",
        "33\n",
        "-1232\n",
        "-3.889\n",
        "6\n",
        "Sample Output 1:\n",
        "\n",
        "1280.289\n",
        "Sample Input 2:\n",
        "\n",
        "0\n",
        "-776.4\n",
        "0\n",
        "343\n",
        "55.24\n",
        "Sample Output 2:\n",
        "\n",
        "1174.64\n",
        "Sample Input 3:\n",
        "\n",
        "-5.4643234\n",
        "0\n",
        "223\n",
        "5\n",
        "7\n",
        "Sample Output 3:\n",
        "\n",
        "240.4643234"
      ],
      "metadata": {
        "id": "gfkz6WiAPjQO"
      }
    },
    {
      "cell_type": "code",
      "source": [
        "a1 = float(input())\n",
        "a2 = float(input())\n",
        "a3 = float(input())\n",
        "a4 = float(input())\n",
        "a5 = float(input())\n",
        "result = abs(a1) + abs(a2) + abs(a3) + abs(a4) + abs(a5)\n",
        "print(result)\n"
      ],
      "metadata": {
        "id": "lYo0nDWE77YI"
      },
      "execution_count": null,
      "outputs": []
    },
    {
      "cell_type": "code",
      "source": [
        "a, b, c, d, e = float(input()), float(input()), float(input()), float(input()), float(input())\n",
        "abs_sum = abs(a) + abs(b) + abs(c) + abs(d) + abs(e)\n",
        "\n",
        "print(abs_sum)"
      ],
      "metadata": {
        "colab": {
          "base_uri": "https://localhost:8080/"
        },
        "id": "hEsuZ8_kUHar",
        "outputId": "9e610688-ce5f-4158-de21-2afa41e9f99c"
      },
      "execution_count": null,
      "outputs": [
        {
          "output_type": "stream",
          "name": "stdout",
          "text": [
            "7.8\n",
            "6.4\n",
            "5.0\n",
            "3.6\n",
            "2.9\n",
            "25.7\n"
          ]
        }
      ]
    },
    {
      "cell_type": "markdown",
      "source": [
        "# Задача Манхэттенское расстояние\n",
        "Прогуливаясь по Манхэттену, вы не можете попасть из точки А в точку Б по кратчайшему пути. Если только вы не умеете проходить сквозь стены, вам обязательно придется идти вдоль его параллельно-перпендикулярных улиц.\n",
        "\n",
        "На плоскости манхэттенское расстояние между двумя точками\n",
        "(p1;p2) и (q1;q2) определяется так\n",
        "∣p1−q1∣ + ∣p2−q2∣.\n",
        "\n",
        "Напишите программу определяющую манхэттенское расстояние между двумя точками, координаты которых заданы."
      ],
      "metadata": {
        "id": "P6OBzIAbUqYM"
      }
    },
    {
      "cell_type": "code",
      "source": [
        "p1 = int(input())\n",
        "p2 = int(input())\n",
        "q1 = int(input())\n",
        "q2 = int(input())\n",
        "s = abs(p1 - q1) + abs(p2 - q2)\n",
        "print(s)\n"
      ],
      "metadata": {
        "colab": {
          "base_uri": "https://localhost:8080/"
        },
        "id": "ucD6h89QVmoF",
        "outputId": "2ab1d1df-4298-4516-e6c4-7002dd65e7b4"
      },
      "execution_count": null,
      "outputs": [
        {
          "output_type": "stream",
          "name": "stdout",
          "text": [
            "4\n",
            "7\n",
            "12\n",
            "5\n",
            "10\n"
          ]
        }
      ]
    }
  ]
}
