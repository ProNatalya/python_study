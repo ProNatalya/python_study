{
  "nbformat": 4,
  "nbformat_minor": 0,
  "metadata": {
    "colab": {
      "provenance": [],
      "authorship_tag": "ABX9TyMd/HzkMQ5/4eDsCb+rhyoF",
      "include_colab_link": true
    },
    "kernelspec": {
      "name": "python3",
      "display_name": "Python 3"
    },
    "language_info": {
      "name": "python"
    }
  },
  "cells": [
    {
      "cell_type": "markdown",
      "metadata": {
        "id": "view-in-github",
        "colab_type": "text"
      },
      "source": [
        "<a href=\"https://colab.research.google.com/github/ProNatalya/python/blob/main/7_7_code_review.ipynb\" target=\"_parent\"><img src=\"https://colab.research.google.com/assets/colab-badge.svg\" alt=\"Open In Colab\"/></a>"
      ]
    },
    {
      "cell_type": "code",
      "execution_count": null,
      "metadata": {
        "id": "qlhRGRsSbQDO"
      },
      "outputs": [],
      "source": []
    },
    {
      "cell_type": "markdown",
      "source": [
        "# Ревью кода\n",
        "Ревью кода – проверка исходного кода программы с целью обнаружения и исправления ошибок и неточностей, которые остались незамеченными при начальной разработке."
      ],
      "metadata": {
        "id": "K6ShxvnIb0d_"
      }
    },
    {
      "cell_type": "markdown",
      "source": [
        "# Производительность кода\n",
        "Под производительностью кода в простейшем случае можно подразумевать то, сколько времени программа тратит на решение задачи."
      ],
      "metadata": {
        "id": "45ZkDlS1cAP0"
      }
    },
    {
      "cell_type": "markdown",
      "source": [
        "# Читабельность кода\n",
        "Следует помнить, что наш код должен легко читаться другими программистами. Чтобы этого достичь, следует придерживаться стандарта PEP 8.\n",
        "- отступы и пробелы: используйте 4 пробела на один уровень отступа и никогда не смешивайте символы табуляции и пробелы;\n",
        "- названия переменных: используйте говорящие названия для переменных (total, counter, product) и следуйте стилю lower_case_with_underscores (слова из маленьких букв с подчеркиваниями);\n",
        "- пустые строки: дополнительные отступы пустыми строками могут быть изредка полезны для выделения группы логически связанных частей программы: инициализация переменных, основной алгоритм, завершающая проверка и т.д.;\n",
        "- комментарии: комментарии должны являться законченными предложениями. И помните, комментарии, которые противоречат коду, хуже, чем отсутствие комментариев. Всегда исправляйте комментарии, если меняете код!"
      ],
      "metadata": {
        "id": "r4dvMm2McM_z"
      }
    },
    {
      "cell_type": "markdown",
      "source": [
        "# источники:\n",
        "https://habr.com/ru/articles/340550/\n",
        "https://habr.com/ru/articles/342244/"
      ],
      "metadata": {
        "id": "ABw55oZdcnJA"
      }
    },
    {
      "cell_type": "code",
      "source": [
        "# Example1 Требовалось написать программу, которая выводит символ А 10 раз.\n",
        "# Вы ревьювите следующий код:\n",
        "print('A')\n",
        "print('A')\n",
        "print('A')\n",
        "print('A')\n",
        "print('A')\n",
        "print('A')\n",
        "print('A')\n",
        "print('A')\n",
        "print('A')\n",
        "print('A')"
      ],
      "metadata": {
        "id": "IVVeRA8XdZCv"
      },
      "execution_count": null,
      "outputs": []
    },
    {
      "cell_type": "code",
      "source": [
        "# Приведенный выше код выполняет поставленную задачу, однако его можно улучшить\n",
        "for _ in range(10):\n",
        "    print('A')\n",
        "# Поскольку мы знаем количество повторений (итераций), то нам подходит цикл for:"
      ],
      "metadata": {
        "id": "TGay-9T5dgLg"
      },
      "execution_count": null,
      "outputs": []
    },
    {
      "cell_type": "code",
      "source": [
        "# Example2 Требовалось написать программу которая должна вывести все числа от 1 до 100\n",
        "# кратные 7. Вы ревьювите следующий код:\n",
        "i = 1\n",
        "# while i < 101:\n",
        "   # if i % 7 == 0:\n",
        "       # print(i)\n",
        "       # i += 1\n",
        "# Приведенный код содержит достаточно распространенную ошибку:\n",
        "# неверно поставленный отступ\n",
        "i = 1\n",
        "while i < 101:\n",
        "    if i % 7 == 0:\n",
        "            print(i)\n",
        "                i += 1"
      ],
      "metadata": {
        "id": "NAm6HbTTd3HR"
      },
      "execution_count": null,
      "outputs": []
    },
    {
      "cell_type": "code",
      "source": [
        "# В данном случае лучше использовать цикл for с шагом, равным 7.\n",
        "for i in range(7, 101, 7):\n",
        "    print(i)"
      ],
      "metadata": {
        "id": "txzFZ43qeeWW"
      },
      "execution_count": null,
      "outputs": []
    },
    {
      "cell_type": "code",
      "source": [
        "# Example3 Требовалось написать программу которая выводит все числа от 100 до 1\n",
        "# в порядке убывания\n",
        "for i in range(1, 100):\n",
        "    print(101 - i)"
      ],
      "metadata": {
        "id": "2M6BgDeheptB"
      },
      "execution_count": null,
      "outputs": []
    },
    {
      "cell_type": "code",
      "source": [
        "# В данном случае лучше использовать цикл for с шагом, равным -1:\n",
        "for i in range(100, 0, -1):\n",
        "    print(i)"
      ],
      "metadata": {
        "id": "m80yUPNqezNm"
      },
      "execution_count": null,
      "outputs": []
    },
    {
      "cell_type": "code",
      "source": [
        "# Example4 Требовалось написать программу которая находит сумму всех нечетных\n",
        "# чисел от 1 до 1000\n",
        "a = 1\n",
        "for i in range(1, 1000):\n",
        "    if i % 2 == 1:\n",
        "        a = a + 1\n",
        "print(a)"
      ],
      "metadata": {
        "id": "3vDwl05ne7PP"
      },
      "execution_count": null,
      "outputs": []
    },
    {
      "cell_type": "code",
      "source": [
        "# Приведенный выше код содержит достаточно распространенные ошибки\n",
        "# неправильная начальная инициализация переменной a;\n",
        "# неправильная правая граница цикла for;\n",
        "# неправильно записанная операция накапливания значения суммы.\n",
        "a = 0\n",
        "for i in range(1, 1001):\n",
        "    if i % 2 == 1:\n",
        "        a = a + i\n",
        "print(a)\n"
      ],
      "metadata": {
        "id": "bEgaYVZYfJwa"
      },
      "execution_count": null,
      "outputs": []
    },
    {
      "cell_type": "code",
      "source": [
        "# Для улучшения читабельности кода изменим название переменной a на total\n",
        "# и используем расширенный оператор присваивания:\n",
        "total = 0\n",
        "    print(a)\n",
        "for i in range(1, 1001, 2):\n",
        "    total += i\n",
        "print(total)"
      ],
      "metadata": {
        "id": "HI6l03sQPfdI"
      },
      "execution_count": null,
      "outputs": []
    },
    {
      "cell_type": "code",
      "source": [
        "# Example5 Требовалось написать программу которая вычисляет факториал числа.\n",
        "# Вы ревьювите следующий код:\n",
        "n = input()\n",
        "a = 0\n",
        "for i in range(n):\n",
        "    a = a * i\n",
        "print(a)\n"
      ],
      "metadata": {
        "id": "Ijyx4mFtRR2x"
      },
      "execution_count": null,
      "outputs": []
    },
    {
      "cell_type": "code",
      "source": [
        "# Приведенный код содержит достаточно распространенные ошибки:\n",
        "# 1. отсутствие преобразования строки текста в целое число;\n",
        "# 2. неправильная начальная инициализация переменной a;\n",
        "# 3. неправильная работа с границами итерирования: переменная i принимает\n",
        "# значения от 0 до n - 1.\n",
        "n = int(input())\n",
        "a = 1\n",
        "for i in range(1, n + 1):\n",
        "    a = a * i\n",
        "print(a)"
      ],
      "metadata": {
        "id": "wgdB-OIPRmEY"
      },
      "execution_count": null,
      "outputs": []
    },
    {
      "cell_type": "code",
      "source": [
        "# Для улучшения читабельности кода, изменим название переменной a на factorial\n",
        "# и используем расширенный оператор присваивания\n",
        "# В модуле math есть функция factorial(), которая вычисляет факториал числа.\n",
        "# Поэтому вместо реализации своей версии, куда правильнее и удобнее\n",
        "# воспользоваться уже готовой.\n",
        "n = int(input())\n",
        "factorial = 1\n",
        "for i in range(1, n + 1):\n",
        "    factorial *= i\n",
        "print(factorial)"
      ],
      "metadata": {
        "colab": {
          "base_uri": "https://localhost:8080/"
        },
        "id": "AgKmin-4Tvp6",
        "outputId": "d471700f-23e6-4bc2-a05d-eccc9fd18333"
      },
      "execution_count": null,
      "outputs": [
        {
          "output_type": "stream",
          "name": "stdout",
          "text": [
            "45\n",
            "119622220865480194561963161495657715064383733760000000000\n"
          ]
        }
      ]
    },
    {
      "cell_type": "code",
      "source": [
        "# Task1 Ревью кода-1 🌶️🌶️\n",
        "# count = 0\n",
        "# p = 0\n",
        "# for i in range(1, 10):\n",
        "   # x = int(input())\n",
        "       # if x > 0:\n",
        "              #  p = p * x\n",
        "                      #  count = count + 1\n",
        "                     #   if count > 0:\n",
        "                        #    print(x)\n",
        "                            #    print(p)\n",
        "                             #   else:\n",
        "                              #      print('NO')\n",
        "\n",
        "count = 0\n",
        "p = 1\n",
        "for i in range(0, 10):\n",
        "    x = int(input())\n",
        "    if x >= 0:\n",
        "        p = p * x\n",
        "        count = count + 1\n",
        "if count > 0:\n",
        "    print(count)\n",
        "    print(p)\n",
        "else:\n",
        "    print('NO')"
      ],
      "metadata": {
        "colab": {
          "base_uri": "https://localhost:8080/"
        },
        "id": "6eCg3GEzWD7t",
        "outputId": "b099a303-ea02-4618-e7fe-7cb6dd2554ed"
      },
      "execution_count": null,
      "outputs": [
        {
          "output_type": "stream",
          "name": "stdout",
          "text": [
            "56\n",
            "32\n",
            "5\n",
            "6\n",
            "5\n",
            "887\n",
            "43\n",
            "543\n",
            "908\n",
            "32\n",
            "10\n",
            "161754732660326400\n"
          ]
        }
      ]
    },
    {
      "cell_type": "code",
      "source": [
        "# Task3 Ревью кода-3\n",
        "#s = 1\n",
        "#for i in range(1, 7):\n",
        "    #n = input()\n",
        "   # if i % 2 == 0:\n",
        "    #    s = s + n\n",
        "# print(s)\n",
        "s = 0\n",
        "for i in range(1, 8):\n",
        "    n = int(input())\n",
        "    if n % 2 == 0:\n",
        "        s = s + n\n",
        "print(s)"
      ],
      "metadata": {
        "colab": {
          "base_uri": "https://localhost:8080/"
        },
        "id": "CQ1LQ3RxedW1",
        "outputId": "37145dbe-ab3f-4e73-cb9c-b66ce4f5e407"
      },
      "execution_count": null,
      "outputs": [
        {
          "output_type": "stream",
          "name": "stdout",
          "text": [
            "34\n",
            "4\n",
            "5\n",
            "43\n",
            "2\n",
            "1\n",
            "76\n",
            "116\n"
          ]
        }
      ]
    },
    {
      "cell_type": "code",
      "source": [
        "sm = 0\n",
        "for _ in range(7):\n",
        "    n = int(input())\n",
        "    if n % 2 == 0:\n",
        "        sm += n\n",
        "\n",
        "print(sm)"
      ],
      "metadata": {
        "id": "DiBlBeCsVMQF"
      },
      "execution_count": null,
      "outputs": []
    },
    {
      "cell_type": "markdown",
      "source": [
        "#Task5 Ревью кода-5 🌶️\n",
        "На обработку поступает натуральное число. Нужно написать программу, которая выводит на экран его первую (старшую) цифру. Программист торопился и написал программу неправильно.\n",
        "\n",
        "Найдите все ошибки в этой программе (их ровно 2). Известно, что каждая ошибка затрагивает только одну строку и может быть исправлена без изменения других строк."
      ],
      "metadata": {
        "id": "d_wT4UwAVURG"
      }
    },
    {
      "cell_type": "code",
      "source": [
        "n = int(input())\n",
        "while n > 9:\n",
        "    n = n//10\n",
        "print(n)"
      ],
      "metadata": {
        "colab": {
          "base_uri": "https://localhost:8080/"
        },
        "id": "H0B2jbdwVqxV",
        "outputId": "0d8798b4-9165-44c0-f782-5f3895896773"
      },
      "execution_count": 1,
      "outputs": [
        {
          "output_type": "stream",
          "name": "stdout",
          "text": [
            "12\n",
            "1\n"
          ]
        }
      ]
    },
    {
      "cell_type": "markdown",
      "source": [
        "# Task6 Ревью кода-6\n",
        "На обработку поступает натуральное число. Нужно написать программу, которая выводит на экран произведение цифр введенного числа. Программист торопился и написал программу неправильно.\n",
        "\n",
        "Найдите все ошибки в этой программе (их ровно\n",
        "3). Известно, что каждая ошибка затрагивает только одну строку и может быть исправлена без изменения других строк."
      ],
      "metadata": {
        "id": "62tA5flgV2li"
      }
    },
    {
      "cell_type": "code",
      "source": [
        "n = int(input())\n",
        "product = 1\n",
        "while n > 0:\n",
        "    digit = n % 10\n",
        "    product = product * digit\n",
        "    n //= 10\n",
        "print(product)"
      ],
      "metadata": {
        "id": "euPXnWt5V9eD"
      },
      "execution_count": null,
      "outputs": []
    }
  ]
}
