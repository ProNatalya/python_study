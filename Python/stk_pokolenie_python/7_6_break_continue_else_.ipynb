{
  "nbformat": 4,
  "nbformat_minor": 0,
  "metadata": {
    "colab": {
      "provenance": [],
      "authorship_tag": "ABX9TyOUznbW34ceLAQ8bEgrduQf",
      "include_colab_link": true
    },
    "kernelspec": {
      "name": "python3",
      "display_name": "Python 3"
    },
    "language_info": {
      "name": "python"
    }
  },
  "cells": [
    {
      "cell_type": "markdown",
      "metadata": {
        "id": "view-in-github",
        "colab_type": "text"
      },
      "source": [
        "<a href=\"https://colab.research.google.com/github/ProNatalya/python/blob/main/7_6_break_continue_else_.ipynb\" target=\"_parent\"><img src=\"https://colab.research.google.com/assets/colab-badge.svg\" alt=\"Open In Colab\"/></a>"
      ]
    },
    {
      "cell_type": "markdown",
      "source": [
        "# Оператор прерывания цикла break\n"
      ],
      "metadata": {
        "id": "Kkc5cj8EEm3F"
      }
    },
    {
      "cell_type": "code",
      "source": [
        "num = int(input())\n",
        "flag = True\n",
        "\n",
        "for i in range(2, num):\n",
        "    if num % i == 0:        # если исходное число делится на какое-либо\n",
        "                            # отличное от 1 и самого себя\n",
        "        flag = False\n",
        "        break               # останавливаем цикл если встретили делитель числа\n",
        "\n",
        "if flag:  # эквивалентно if flag == True:\n",
        "    print('Число простое')\n",
        "else:\n",
        "    print('Число составное')\n",
        "# Как только мы встречаем делитель отличный от 1 и num, мы меняем значение\n",
        "# сигнальной метки и прерываем цикл, поскольку дальнейшее его выполнение\n",
        "# лишено смысла: число гарантированно не является простым."
      ],
      "metadata": {
        "colab": {
          "base_uri": "https://localhost:8080/"
        },
        "id": "o5NdqYs8Ez7X",
        "outputId": "d47db2d5-9240-47c4-de83-1099d15b11e6"
      },
      "execution_count": 1,
      "outputs": [
        {
          "output_type": "stream",
          "name": "stdout",
          "text": [
            "567\n",
            "Число составное\n"
          ]
        }
      ]
    },
    {
      "cell_type": "markdown",
      "source": [
        "## Оператор прерывания цикла break позволяет ускорять программы, так как мы избавляемся от лишних итераций"
      ],
      "metadata": {
        "id": "zhrxG52hFhPY"
      }
    },
    {
      "cell_type": "code",
      "source": [
        "# Напишем программу, использующую цикл for, которая считывает 10 чисел\n",
        "# и суммирует их до тех пор, пока не обнаружит отрицательное число.\n",
        "# В этом случае выполнение цикла прерывается командой break:\n",
        "result = 0\n",
        "for i in range(10):\n",
        "    num = int(input())\n",
        "    if num < 0:\n",
        "        break\n",
        "    result += num\n",
        "print(result)"
      ],
      "metadata": {
        "id": "AoSXmbv1Fn4z"
      },
      "execution_count": null,
      "outputs": []
    },
    {
      "cell_type": "markdown",
      "source": [
        "## Оператор прерывания цикла break удобен в связке с сигнальными метками: когда после проверки некоторого условия нам нет смысла продолжать выполнение цикла."
      ],
      "metadata": {
        "id": "14S0gGj1F7kV"
      }
    },
    {
      "cell_type": "code",
      "source": [
        "# Напишем программу, которая определяет, содержит ли введенное пользователем\n",
        "# число цифру 7.\n",
        "num = int(input())\n",
        "number = num\n",
        "flag = False\n",
        "while num != 0:\n",
        "    last_digit = num % 10\n",
        "    if last_digit == 7:\n",
        "        flag = True\n",
        "        break   # прерываем цикл, так как число гарантированно содержит цифру 7\n",
        "    num //= 10\n",
        "\n",
        "if flag:  # эквивалентно if flag == True:\n",
        "    print('Число', number, 'содержит цифру 7')\n",
        "else:\n",
        "    print('Число', number, 'не содержит цифру 7')\n",
        "# Как только мы встретили цифру 7, мы меняем значение сигнальной метки и\n",
        "# прерываем цикл с помощью оператора break. Мы можем и не прерывать цикл\n",
        "# преждевременно, а дождаться его естественного завершения\n",
        "# (условие num != 0, то есть все цифры числа обработаны), однако в таком\n",
        "# случае мы будем совершать лишнюю работу, и в случае, если число очень большое,\n",
        "# программа будет работать медленнее.\n"
      ],
      "metadata": {
        "id": "bhrpO9AOGAHq"
      },
      "execution_count": null,
      "outputs": []
    },
    {
      "cell_type": "markdown",
      "source": [
        "# Бесконечные циклы\n"
      ],
      "metadata": {
        "id": "_L9MINvgGoNO"
      }
    },
    {
      "cell_type": "code",
      "source": [
        "# while True:\n",
        "#    print('Python awesome!')"
      ],
      "metadata": {
        "id": "9NqqeH-NGuZ9"
      },
      "execution_count": 3,
      "outputs": []
    },
    {
      "cell_type": "code",
      "source": [
        "# вы можете написать программу, которая запускается и работает, постоянно\n",
        "# принимая запросы на обслуживание. Программный код такой программы может\n",
        "# выглядеть так:\n",
        "while True:\n",
        "    query = get_new_query() #  получаем новый запрос на обработку\n",
        "    query.process()         #  обрабатываем запрос"
      ],
      "metadata": {
        "id": "FNOsPkUjHJqz"
      },
      "execution_count": null,
      "outputs": []
    },
    {
      "cell_type": "code",
      "source": [
        "# Иногда с помощью бесконечного цикла удается сделать программный код\n",
        "# более читабельным. Более простым может быть завершение цикла на основе\n",
        "# условий внутри тела цикла, а не на основе условий в его заголовке:\n",
        "while True:\n",
        "    if условие 1:  # условие для остановки цикла\n",
        "        break\n",
        "    ...\n",
        "    if условие 2:  # еще одно условие для остановки цикла\n",
        "        break\n",
        "    ...\n",
        "    if условие 3:  # еще одно условие для остановки цикла\n",
        "        break"
      ],
      "metadata": {
        "id": "mbpG-onUHffU"
      },
      "execution_count": null,
      "outputs": []
    },
    {
      "cell_type": "markdown",
      "source": [
        "# Оператор continue\n",
        "Другая стандартная идиома циклов — пропуск отдельных элементов при переборе. Оператор continue позволяет перейти к следующей итерации цикла for или while до завершения всех команд в теле цикла."
      ],
      "metadata": {
        "id": "8vJEfTdCHvTF"
      }
    },
    {
      "cell_type": "code",
      "source": [
        "# Напишем программу, которая выводит все числа от 1 до 100,\n",
        "# кроме чисел 7, 17, 29 и 78.\n",
        "for i in range(1, 101):\n",
        "    if i == 7 or i == 17 or i == 29 or i == 78:\n",
        "        continue  # переходим на следующую итерацию\n",
        "    print(i)"
      ],
      "metadata": {
        "colab": {
          "base_uri": "https://localhost:8080/"
        },
        "id": "dy0VU0bUIGRH",
        "outputId": "472185cb-5e23-484e-de5a-ce048d98dbd6"
      },
      "execution_count": 4,
      "outputs": [
        {
          "output_type": "stream",
          "name": "stdout",
          "text": [
            "1\n",
            "2\n",
            "3\n",
            "4\n",
            "5\n",
            "6\n",
            "8\n",
            "9\n",
            "10\n",
            "11\n",
            "12\n",
            "13\n",
            "14\n",
            "15\n",
            "16\n",
            "18\n",
            "19\n",
            "20\n",
            "21\n",
            "22\n",
            "23\n",
            "24\n",
            "25\n",
            "26\n",
            "27\n",
            "28\n",
            "30\n",
            "31\n",
            "32\n",
            "33\n",
            "34\n",
            "35\n",
            "36\n",
            "37\n",
            "38\n",
            "39\n",
            "40\n",
            "41\n",
            "42\n",
            "43\n",
            "44\n",
            "45\n",
            "46\n",
            "47\n",
            "48\n",
            "49\n",
            "50\n",
            "51\n",
            "52\n",
            "53\n",
            "54\n",
            "55\n",
            "56\n",
            "57\n",
            "58\n",
            "59\n",
            "60\n",
            "61\n",
            "62\n",
            "63\n",
            "64\n",
            "65\n",
            "66\n",
            "67\n",
            "68\n",
            "69\n",
            "70\n",
            "71\n",
            "72\n",
            "73\n",
            "74\n",
            "75\n",
            "76\n",
            "77\n",
            "79\n",
            "80\n",
            "81\n",
            "82\n",
            "83\n",
            "84\n",
            "85\n",
            "86\n",
            "87\n",
            "88\n",
            "89\n",
            "90\n",
            "91\n",
            "92\n",
            "93\n",
            "94\n",
            "95\n",
            "96\n",
            "97\n",
            "98\n",
            "99\n",
            "100\n"
          ]
        }
      ]
    },
    {
      "cell_type": "markdown",
      "source": [
        "## Оператор break прерывает выполнение ближайшего цикла, а не программы, то есть далее будет выполнена команда, следующая сразу за циклом."
      ],
      "metadata": {
        "id": "q7cD4M5JIiqJ"
      }
    },
    {
      "cell_type": "code",
      "source": [
        "for i in range(10):\n",
        "    print(i, end='*')\n",
        "    if i > 6:\n",
        "        break\n",
        "# 7 - ка считывается, поскольку условие  if i > 6: break находится после\n",
        "# print(i, end='*'). Т.е., сначала считывается семерка, а потом уже\n",
        "# сравнивается с 6 - кой и после этого прерывается выполнение условия"
      ],
      "metadata": {
        "colab": {
          "base_uri": "https://localhost:8080/"
        },
        "id": "Z9AQC3SIJd3E",
        "outputId": "65a56e9b-ab44-40f2-e414-39f67d7171a0"
      },
      "execution_count": 5,
      "outputs": [
        {
          "output_type": "stream",
          "name": "stdout",
          "text": [
            "0*1*2*3*4*5*6*7*"
          ]
        }
      ]
    },
    {
      "cell_type": "code",
      "source": [
        "i = 100\n",
        "while i > 0:\n",
        "    if i == 40:\n",
        "        break\n",
        "    print(i, end='*')\n",
        "    i -= 20\n",
        "# этот код проверяет число i перед выводом; поскольку одно из значений\n",
        "# будет равно 40, то цикл завершится, так и не выведя 40*"
      ],
      "metadata": {
        "colab": {
          "base_uri": "https://localhost:8080/"
        },
        "id": "XOV7bfGDK6GI",
        "outputId": "e0ecb8f0-e0c6-43a2-ca09-9d50e64c61c0"
      },
      "execution_count": 6,
      "outputs": [
        {
          "output_type": "stream",
          "name": "stdout",
          "text": [
            "100*80*60*"
          ]
        }
      ]
    },
    {
      "cell_type": "code",
      "source": [
        "n = 10\n",
        "while n > 0:\n",
        "    n -= 1\n",
        "    if n == 2:\n",
        "        continue\n",
        "    print(n, end='*')"
      ],
      "metadata": {
        "colab": {
          "base_uri": "https://localhost:8080/"
        },
        "id": "huRlqNv6MGwm",
        "outputId": "7fa22def-5659-4761-c4d2-c09dab66db48"
      },
      "execution_count": 7,
      "outputs": [
        {
          "output_type": "stream",
          "name": "stdout",
          "text": [
            "9*8*7*6*5*4*3*1*0*"
          ]
        }
      ]
    },
    {
      "cell_type": "code",
      "source": [
        "result = 0\n",
        "for i in range(10):\n",
        "    if i % 2 == 0:\n",
        "        continue\n",
        "    result += i\n",
        "print(result)\n",
        "# сложить нечётные числа\n",
        "# Дан счетчик.\n",
        "# Цикл будет повторятся 10 итераций. Изначально i не задано, следовательно\n",
        "# равно 0. Значит i в цикле равно от 0 до 9 включительно.\n",
        "# Если остаток от деления на 2 равен нулю (те есть, если число четное) -\n",
        "# начинается следующий цикл\n",
        "# Если число НЕ четное цикл в счетчик прибавляет i (НЕ ЕДИНИЦУ!!!) и начинает\n",
        "#следующий цикл. По завершении цикла выдается значение i, которое равно сумме\n",
        "# всех нечетных цифр от 0 до 9 включительно"
      ],
      "metadata": {
        "colab": {
          "base_uri": "https://localhost:8080/"
        },
        "id": "wfwynPw4Mt1y",
        "outputId": "e46a0bba-40b2-4099-fa50-e8c5b33fc056"
      },
      "execution_count": 8,
      "outputs": [
        {
          "output_type": "stream",
          "name": "stdout",
          "text": [
            "25\n"
          ]
        }
      ]
    },
    {
      "cell_type": "code",
      "source": [
        "mult = 1\n",
        "for i in range(1, 11):\n",
        "   if i % 2 == 0:\n",
        "      continue\n",
        "   if i % 9 == 0:\n",
        "      break\n",
        "   mult *= i\n",
        "print(mult)\n",
        "# 1. mult=1 - это уже первый признак умножения\n",
        "\n",
        "# 2. Внимательно с числовым промежутком range(1, 11) - правая граница не вкл.\n",
        "# 3. Проверяем условие из предыдущей задачи: если делится на 2 без остатка-то\n",
        "# число чётное и по правилу continue нужно его пропустить\n",
        "# 4. Далее 2е условие: если полученные в п.3 числа делятся на 9 без остатка\n",
        "# - прерываем итерацию не доходя до неё\n",
        "# 5. Как итог - произведение всех оставшихся цифр (7*15)"
      ],
      "metadata": {
        "colab": {
          "base_uri": "https://localhost:8080/"
        },
        "id": "6UKB5CI6N3KS",
        "outputId": "3b1ebef8-3610-4651-cb0a-a7869d42da83"
      },
      "execution_count": 9,
      "outputs": [
        {
          "output_type": "stream",
          "name": "stdout",
          "text": [
            "105\n"
          ]
        }
      ]
    },
    {
      "cell_type": "markdown",
      "source": [
        "# Task1 Наименьший делитель\n",
        "На вход программе подается число n>1. Напишите программу, которая выводит его наименьший отличный от 1 делитель.\n",
        "\n",
        "Формат входных данных\n",
        "На вход программе подается одно натуральное число n.\n",
        "\n",
        "Формат выходных данных\n",
        "Программа должна вывести наименьший делитель отличный от 1.\n",
        "\n",
        "Примечание. Используйте оператор break при обнаружении делителя.\n",
        "\n",
        "Тестовые данные 🟢\n",
        "Sample Input 1:\n",
        "\n",
        "15\n",
        "Sample Output 1:\n",
        "\n",
        "3\n",
        "Sample Input 2:\n",
        "\n",
        "17\n",
        "Sample Output 2:\n",
        "\n",
        "17\n",
        "Sample Input 3:\n",
        "\n",
        "67834658736534870\n",
        "Sample Output 3:\n",
        "\n",
        "2"
      ],
      "metadata": {
        "id": "sXd61Tb_IOSj"
      }
    },
    {
      "cell_type": "code",
      "source": [
        "n = int(input())\n",
        "count = 1\n",
        "while count <= n:\n",
        "    count += 1\n",
        "    if n % count == 0:\n",
        "        print(count)\n",
        "        break"
      ],
      "metadata": {
        "id": "hK1qzH3bPhp1"
      },
      "execution_count": null,
      "outputs": []
    },
    {
      "cell_type": "code",
      "source": [
        "n = int(input())\n",
        "\n",
        "for i in range(2, n + 1):\n",
        "    if n % i == 0:\n",
        "        print(i)\n",
        "        break"
      ],
      "metadata": {
        "id": "OXGM-c1iouze"
      },
      "execution_count": null,
      "outputs": []
    },
    {
      "cell_type": "markdown",
      "source": [
        "# Task2 Следуй правилам\n",
        "На вход программе подается натуральное число n. Напишите программу, которая выводит числа от 1 до n включительно за исключением:\n",
        "\n",
        "чисел от 5 до 9 включительно;\n",
        "чисел от 17 до 37 включительно;\n",
        "чисел от 78 до 87 включительно.\n",
        "Формат входных данных\n",
        "На вход программе подается одно натуральное число n.\n",
        "\n",
        "Формат выходных данных\n",
        "Программа должна вывести числа в соответствии с условием задачи, каждое на отдельной строке.\n",
        "\n",
        "Примечание. Используйте оператор continue .\n",
        "\n",
        "Тестовые данные 🟢\n",
        "Sample Input 1:\n",
        "\n",
        "10\n",
        "Sample Output 1:\n",
        "\n",
        "1\n",
        "2\n",
        "3\n",
        "4\n",
        "10\n",
        "Sample Input 2:\n",
        "\n",
        "20\n",
        "Sample Output 2:\n",
        "\n",
        "1\n",
        "2\n",
        "3\n",
        "4\n",
        "10\n",
        "11\n",
        "12\n",
        "13\n",
        "14\n",
        "15\n",
        "16\n",
        "Sample Input 3:\n",
        "\n",
        "1\n",
        "Sample Output 3:\n",
        "\n",
        "1"
      ],
      "metadata": {
        "id": "8jLMMg7Zo8YJ"
      }
    },
    {
      "cell_type": "code",
      "source": [
        "n = int(input())\n",
        "for i in range(1, n+1):\n",
        "    if 4 < i < 10 or 16 < i < 38 or 77 < i < 88:\n",
        "        continue  # переходим на следующую итерацию\n",
        "    else:\n",
        "        print(i)"
      ],
      "metadata": {
        "colab": {
          "base_uri": "https://localhost:8080/"
        },
        "id": "-KoO-cr8plfs",
        "outputId": "e11f9217-3513-4b4e-8003-b95ac284c2e3"
      },
      "execution_count": 1,
      "outputs": [
        {
          "output_type": "stream",
          "name": "stdout",
          "text": [
            "10\n",
            "1\n",
            "2\n",
            "3\n",
            "4\n",
            "10\n"
          ]
        }
      ]
    },
    {
      "cell_type": "markdown",
      "source": [
        "# Блок else в циклах\n",
        "Если слово else отсутствует в описании цикла, то блок кода2 будет выполняться после завершения цикла, несмотря ни на что. Если же слово else присутствует, то блок кода2 будет выполняться только в том случае, если цикл завершается штатным образом. Под штатным завершением цикла подразумевается его завершение без использования оператора прерывания break."
      ],
      "metadata": {
        "id": "K-OwXBkGpz5r"
      }
    },
    {
      "cell_type": "code",
      "source": [
        "n = 5\n",
        "while n > 0:\n",
        "    n -= 1\n",
        "    print(n)\n",
        "else:\n",
        "    print('Цикл завершен.')\n",
        "# Данный цикл повторяется до тех пор, пока истинно условие n > 0.\n",
        "# Поскольку цикл завершился штатным образом, то блок кода в инструкции\n",
        "# else будет выполнен"
      ],
      "metadata": {
        "id": "VrWQ7xHKqDoI"
      },
      "execution_count": null,
      "outputs": []
    },
    {
      "cell_type": "code",
      "source": [
        "n = 5\n",
        "while n > 0:\n",
        "    n -= 1\n",
        "    print(n)\n",
        "    if n == 2:\n",
        "        break\n",
        "else:\n",
        "    print('Цикл завершен.')\n",
        "# Этот цикл преждевременно завершается с помощью оператора прерывания break,\n",
        "# поэтому блок кода в инструкции else не будет выполнен"
      ],
      "metadata": {
        "id": "JeaNrWlyqaML"
      },
      "execution_count": null,
      "outputs": []
    },
    {
      "cell_type": "code",
      "source": [
        "# ранее\n",
        "num = int(input())\n",
        "n = num\n",
        "flag = False\n",
        "while n != 0:\n",
        "    last = n % 10\n",
        "    if last == 7:\n",
        "        flag = True\n",
        "        break        # прерываем цикл, так как число гарантированно содержит цифру 7\n",
        "    n //= 10\n",
        "\n",
        "if flag is True:\n",
        "    print('Число', num, 'содержит цифру 7')\n",
        "else:\n",
        "    print('Число', num, 'не содержит цифру 7')"
      ],
      "metadata": {
        "id": "XEAE679Jq4nm"
      },
      "execution_count": null,
      "outputs": []
    },
    {
      "cell_type": "code",
      "source": [
        "# теперь  мы можем использовать\n",
        "num = int(input())\n",
        "n = num\n",
        "while n != 0:\n",
        "    last = n % 10\n",
        "    if last == 7:\n",
        "        print('Число', num, 'содержит цифру 7')\n",
        "        break\n",
        "    n //= 10\n",
        "else:\n",
        "    print('Число', num, 'не содержит цифру 7')"
      ],
      "metadata": {
        "id": "LFXQwCSgq_jv"
      },
      "execution_count": null,
      "outputs": []
    },
    {
      "cell_type": "markdown",
      "source": [
        "## Примечания\n",
        "Примечание 1. Оператор continue не влияет на выполнение блока else в циклах.\n",
        "\n",
        "Примечание 2. Блок else в циклах часто применяется для обработки отсутствия элементов.\n",
        "\n",
        "Примечание 3. Блок кода else в циклах встречается не так часто на практике. Однако если вы обнаружите ситуацию, в которой применение else оправдано, то не стесняйтесь его использовать. Это может добавить ясности вашему коду!"
      ],
      "metadata": {
        "id": "q3ZpeJz0rLdW"
      }
    },
    {
      "cell_type": "code",
      "source": [
        "n = 0\n",
        "while n < 10:\n",
        "    n += 2\n",
        "    print(n)\n",
        "else:\n",
        "    print('Цикл завершен.')"
      ],
      "metadata": {
        "id": "Sz3ynKHTrq-O"
      },
      "execution_count": null,
      "outputs": []
    },
    {
      "cell_type": "code",
      "source": [
        "n = 0\n",
        "while n < 10:\n",
        "    n += 2\n",
        "    if n == 8:\n",
        "        break\n",
        "    print(n)\n",
        "else:\n",
        "    print('Цикл завершен.')"
      ],
      "metadata": {
        "id": "lPLZIglEru1G"
      },
      "execution_count": null,
      "outputs": []
    },
    {
      "cell_type": "code",
      "source": [
        "n = 0\n",
        "while n < 10:\n",
        "    n += 2\n",
        "    if n == 7:\n",
        "        break\n",
        "    print(n)\n",
        "else:\n",
        "    print('Цикл завершен.')"
      ],
      "metadata": {
        "id": "-IZ7ovCrrwnQ"
      },
      "execution_count": null,
      "outputs": []
    }
  ]
}
