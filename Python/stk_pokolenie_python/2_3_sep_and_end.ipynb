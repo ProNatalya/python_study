{
  "nbformat": 4,
  "nbformat_minor": 0,
  "metadata": {
    "colab": {
      "provenance": [],
      "authorship_tag": "ABX9TyOwZ3v6e0FYPL3rHQJ5W3p4",
      "include_colab_link": true
    },
    "kernelspec": {
      "name": "python3",
      "display_name": "Python 3"
    },
    "language_info": {
      "name": "python"
    }
  },
  "cells": [
    {
      "cell_type": "markdown",
      "metadata": {
        "id": "view-in-github",
        "colab_type": "text"
      },
      "source": [
        "<a href=\"https://colab.research.google.com/github/ProNatalya/python/blob/main/2_3_sep_and_end.ipynb\" target=\"_parent\"><img src=\"https://colab.research.google.com/assets/colab-badge.svg\" alt=\"Open In Colab\"/></a>"
      ]
    },
    {
      "cell_type": "code",
      "execution_count": null,
      "metadata": {
        "id": "bTMAyjZjjSyM"
      },
      "outputs": [],
      "source": []
    },
    {
      "cell_type": "markdown",
      "source": [
        "#Тема урока: sep, end, переменные, PEP 8"
      ],
      "metadata": {
        "id": "EVyZR9Ujj4k2"
      }
    },
    {
      "cell_type": "code",
      "source": [
        "# По умолчанию команда print() принимает несколько аргументов (параметров), выводит их через один пробел,\n",
        "# после чего ставит перевод строки. Это поведение можно изменить, используя необязательные именованные параметры\n",
        "# sep (separator, разделитель) и end (окончание).\n"
      ],
      "metadata": {
        "id": "zuIm-zrhkP7G"
      },
      "execution_count": null,
      "outputs": []
    },
    {
      "cell_type": "code",
      "source": [
        "print('a', 'b', 'c')\n",
        "print('d', 'e', 'f')"
      ],
      "metadata": {
        "colab": {
          "base_uri": "https://localhost:8080/"
        },
        "id": "x8Fl1uI6kVXn",
        "outputId": "bfc11cf1-2526-4d68-b831-a1673f7e94b8"
      },
      "execution_count": null,
      "outputs": [
        {
          "output_type": "stream",
          "name": "stdout",
          "text": [
            "a b c\n",
            "d e f\n"
          ]
        }
      ]
    },
    {
      "cell_type": "code",
      "source": [
        "print('a', 'b', 'c', sep='*')\n",
        "print('a', 'b', 'c', sep='**')\n"
      ],
      "metadata": {
        "id": "-3jdOD3PlLGl"
      },
      "execution_count": null,
      "outputs": []
    },
    {
      "cell_type": "code",
      "source": [
        "# Параметр end\n",
        "print('a', 'b', 'c', end='@')\n",
        "print('d', 'e', 'f', end='@@')\n",
        "# По завершении первой печати вставлена строка @ вместо перевода строки.\n",
        "# Аналогично, по завершении второй печати вставлена строка @@\n",
        "\n"
      ],
      "metadata": {
        "colab": {
          "base_uri": "https://localhost:8080/"
        },
        "id": "KizTLNNdl-xD",
        "outputId": "4a6b2879-3759-4640-e43d-1a38bf51774e"
      },
      "execution_count": null,
      "outputs": [
        {
          "output_type": "stream",
          "name": "stdout",
          "text": [
            "a b c@d e f@@"
          ]
        }
      ]
    },
    {
      "cell_type": "code",
      "source": [
        "# Параметры sep и end можно использовать вместе\n",
        "print('a', 'b', 'c', sep='*', end='finish')\n",
        "print('d', 'e', 'f', sep='**', end='^__^')\n",
        "print('g', 'h', 'i', sep='+', end='%')\n",
        "print('j', 'k', 'l', sep='-', end='#')\n",
        "print('m', 'n', 'o', sep='/', end='!')"
      ],
      "metadata": {
        "colab": {
          "base_uri": "https://localhost:8080/"
        },
        "id": "OV18s34XrXq5",
        "outputId": "ed8f052b-02da-4c7e-9ced-a2e0ad16a9a5"
      },
      "execution_count": null,
      "outputs": [
        {
          "output_type": "stream",
          "name": "stdout",
          "text": [
            "a*b*cfinishd**e**f^__^g+h+i%j-k-l#m/n/o!"
          ]
        }
      ]
    },
    {
      "cell_type": "code",
      "source": [
        "#P.S.\n",
        "#Вызов команды print() с пустыми скобками ставит перевод строки.\n",
        "#Значения по умолчанию у параметров sep и end следующие:\n",
        "sep=' '   # пробел\n",
        "end='\\n'  # перевод строки\n",
        "#Чтобы убрать все дополнительные выводимые символы,\n",
        "# можно вызывать команду print() так:\n",
        "print('a', 'b', 'c', sep='', end='')\n",
        "print()\n",
        "#добавить расстояние между параметрами\n",
        "print('a', 'b', 'c', sep='  ', end='')\n",
        "print()\n",
        "#2 строки расположенные ниже равнозначны\n",
        "print('Python')\n",
        "print('Python', end='\\n')\n",
        "\n",
        "\n",
        "\n"
      ],
      "metadata": {
        "colab": {
          "base_uri": "https://localhost:8080/"
        },
        "id": "kjuaLFdjrmG9",
        "outputId": "04af7a8d-3bc1-4737-d8d6-a41aa3649599"
      },
      "execution_count": null,
      "outputs": [
        {
          "output_type": "stream",
          "name": "stdout",
          "text": [
            "abc\n",
            "a  b  c\n",
            "Python\n",
            "Python\n"
          ]
        }
      ]
    },
    {
      "cell_type": "code",
      "source": [
        "#Если после вывода данных нужно более одного перевода строки,\n",
        "# то необходимо использовать следующий код:\n",
        "print('Python', end='\\n\\n\\n')\n",
        "print('End of the lesson')\n"
      ],
      "metadata": {
        "colab": {
          "base_uri": "https://localhost:8080/"
        },
        "id": "OM5QKavXt81A",
        "outputId": "d6820d8c-81d7-42eb-9c5b-e968d6c85497"
      },
      "execution_count": null,
      "outputs": [
        {
          "output_type": "stream",
          "name": "stdout",
          "text": [
            "Python\n",
            "\n",
            "\n",
            "End of the lesson\n"
          ]
        }
      ]
    },
    {
      "cell_type": "code",
      "source": [
        "#task1 что будет выведено на экран\n",
        "print('Mercury', 'Venus', sep='*', end='!')\n",
        "print('Mars', 'Jupiter', sep='**', end='?')"
      ],
      "metadata": {
        "colab": {
          "base_uri": "https://localhost:8080/"
        },
        "id": "_m4ZVxqPwism",
        "outputId": "97a2abd2-f6a4-4bac-c38c-e4ba3d212b6d"
      },
      "execution_count": null,
      "outputs": [
        {
          "output_type": "stream",
          "name": "stdout",
          "text": [
            "Mercury*Venus!Mars**Jupiter?"
          ]
        }
      ]
    },
    {
      "cell_type": "code",
      "source": [
        "#task2 Сколько строк будет распечатано в результате выполнения следующего кода?\n",
        "print('a', 'b', 'c', sep='*')\n",
        "print('d', 'e', 'f', sep='**', end='')\n",
        "print('g', 'h', 'i', sep='+', end='%')\n",
        "print('j', 'k', 'l', sep='-', end='\\n')\n",
        "print('m', 'n', 'o', sep='/', end='!')\n",
        "print('p', 'q', 'r', sep='1', end='%')\n",
        "print('s', 't', 'u', sep='&', end='\\n')\n",
        "print('v', 'w', 'x', sep='%')\n",
        "print('y', 'z', sep='/', end='!')"
      ],
      "metadata": {
        "colab": {
          "base_uri": "https://localhost:8080/"
        },
        "id": "A_TGjWkfxj_v",
        "outputId": "0bfd16ff-df6d-49e1-97df-fc113d3b2500"
      },
      "execution_count": null,
      "outputs": [
        {
          "output_type": "stream",
          "name": "stdout",
          "text": [
            "a*b*c\n",
            "d**e**fg+h+i%j-k-l\n",
            "m/n/o!p1q1r%s&t&u\n",
            "v%w%x\n",
            "y/z!"
          ]
        }
      ]
    },
    {
      "cell_type": "code",
      "source": [
        "#task3\n",
        "#Напишите программу, которая выводит на экран текст\n",
        "# «I***like***Python» (без кавычек).\n",
        "# P.S. Используйте необязательный параметр sep.\n",
        "print('I', 'like', 'Python', sep='***')"
      ],
      "metadata": {
        "colab": {
          "base_uri": "https://localhost:8080/"
        },
        "id": "7DfntRNyx9Bs",
        "outputId": "5c44ad8f-aa6e-4ea7-a859-99044a8ac4f5"
      },
      "execution_count": null,
      "outputs": [
        {
          "output_type": "stream",
          "name": "stdout",
          "text": [
            "I***like***Python\n"
          ]
        }
      ]
    },
    {
      "cell_type": "code",
      "source": [],
      "metadata": {
        "id": "5Zskt4Qlzzr9"
      },
      "execution_count": null,
      "outputs": []
    },
    {
      "cell_type": "markdown",
      "source": [
        "#task4\n",
        "#Кастомный разделитель\n",
        "Напишите программу, которая считывает строку-разделитель и три строки, а затем выводит указанные строки через разделитель.\n",
        "\n",
        "Формат входных данных\n",
        "На вход программе подаётся строка-разделитель и три строки, каждая на отдельной строке.\n",
        "\n",
        "Формат выходных данных\n",
        "Программа должна вывести введённые три строки через разделитель.\n",
        "\n",
        "Тестовые данные 🟢\n",
        "Sample Input 1:\n",
        "*\n",
        "Раз\n",
        "Два\n",
        "Три\n",
        "Sample Output 1:\n",
        "\n",
        "Раз*Два*Три\n",
        "Sample Input 2:\n",
        "\n",
        "##\n",
        "Money often\n",
        "costs\n",
        "too much\n",
        "Sample Output 2:\n",
        "\n",
        "Money often##costs##too much\n",
        "Sample Input 3:\n",
        "\n",
        "python\n",
        "1\n",
        "2\n",
        "3\n",
        "Sample Output 3:\n",
        "\n",
        "1python2python3\n",
        "Нап"
      ],
      "metadata": {
        "id": "YQ6yyZVQzz-2"
      }
    },
    {
      "cell_type": "code",
      "source": [
        "a = input()\n",
        "b = input()\n",
        "c = input()\n",
        "d = input()\n",
        "print(b, c, d, sep=a)"
      ],
      "metadata": {
        "colab": {
          "base_uri": "https://localhost:8080/"
        },
        "id": "2j-3dJ9Hz-_N",
        "outputId": "a0a801f1-2014-4216-f541-53514dc3983f"
      },
      "execution_count": null,
      "outputs": [
        {
          "output_type": "stream",
          "name": "stdout",
          "text": [
            "*\n",
            "1\n",
            "2\n",
            "3\n",
            "1*2*3\n"
          ]
        }
      ]
    },
    {
      "cell_type": "markdown",
      "source": [
        "#task5\n",
        "#Приветствие\n",
        "Напишите программу, которая приветствует пользователя, выводя слово «Привет» (без кавычек), после которого должна стоять запятая и пробел, а затем введенное имя и восклицательный знак.\n",
        "\n",
        "Формат входных данных\n",
        "На вход программе подаётся одна строка — имя пользователя.\n",
        "\n",
        "Формат выходных данных\n",
        "Программа должна вывести текст в соотвествии с условием задачи.\n",
        "\n",
        "Примечание 1. Перед восклицательным знаком не должно быть пробелов.\n",
        "\n",
        "Примечание 2. Используйте необязательный параметр end.\n",
        "\n",
        "Тестовые данные 🟢\n",
        "Sample Input 1:\n",
        "\n",
        "Тирион\n",
        "Sample Output 1:\n",
        "\n",
        "Привет, Тирион!\n",
        "Sample Input 2:\n",
        "\n",
        "Джон\n",
        "Sample Output 2:\n",
        "\n",
        "Привет, Джон!\n"
      ],
      "metadata": {
        "id": "OGZIu3HFGLlf"
      }
    },
    {
      "cell_type": "code",
      "source": [
        "user_name = input()\n",
        "print('Привет,',user_name, end='!')"
      ],
      "metadata": {
        "colab": {
          "base_uri": "https://localhost:8080/"
        },
        "id": "BUECptQ_G_jm",
        "outputId": "62ebc0b9-d802-4e72-8cc1-d1dff74685e9"
      },
      "execution_count": null,
      "outputs": [
        {
          "output_type": "stream",
          "name": "stdout",
          "text": [
            "Тирион\n",
            "Привет, Тирион!"
          ]
        }
      ]
    },
    {
      "cell_type": "markdown",
      "source": [
        "#Переменные\n",
        "Команда input() обозначает «подожди, пока пользователь введет что-нибудь с клавиатуры, и запомни то, что он ввёл».\n"
      ],
      "metadata": {
        "id": "KzmMffA0Lxtv"
      }
    },
    {
      "cell_type": "code",
      "source": [
        "variable_name = input()\n",
        "print('Вы ввели текст:', variable_name)\n"
      ],
      "metadata": {
        "colab": {
          "base_uri": "https://localhost:8080/"
        },
        "id": "j_UlsTt3GSXn",
        "outputId": "37a371b2-efe6-4297-d33d-7d7d415c70d7"
      },
      "execution_count": null,
      "outputs": [
        {
          "output_type": "stream",
          "name": "stdout",
          "text": [
            "Иван\n",
            "Вы ввели текст: Иван\n"
          ]
        }
      ]
    },
    {
      "cell_type": "markdown",
      "source": [
        "Данный код означает: «Сохрани то, что ввёл пользователь, в памяти, и дальше это место в памяти мы будем называть именем variable_name». Соответственно, команда print(variable_name) означает: «Посмотри, что лежит в памяти, под именем variable_name, и выведи это на экран».\n",
        "\n",
        "Вот такие «места в памяти» называются переменными. Любая переменная имеет имя и значение.\n",
        "Значение переменной — сохраненная в ней информация. Это может быть текст, число и т.д.\n",
        "Знак «=» это оператор присваивания. Он присваивает значение, которое находится справа от знака «равно», переменной, которая находится слева от знака «равно»."
      ],
      "metadata": {
        "id": "HPLtZTDVMd8u"
      }
    },
    {
      "cell_type": "markdown",
      "source": [
        "#Множественное присваивание\n",
        "В языке Python можно за одну инструкцию присваивания изменять значение сразу нескольких переменных.\n"
      ],
      "metadata": {
        "id": "_gfgcuNFNcjl"
      }
    },
    {
      "cell_type": "code",
      "source": [
        "name, surname = 'Timur', 'Guev'\n",
        "print('Имя:', name, 'Фамилия:', surname)\n",
        "\n",
        "# Этот код можно записать и так:\n",
        "name = 'Timur'\n",
        "surname = 'Guev'\n",
        "print('Имя:', name, 'Фамилия:', surname)\n"
      ],
      "metadata": {
        "colab": {
          "base_uri": "https://localhost:8080/"
        },
        "id": "KsBCkDjWN5lT",
        "outputId": "6b11ad3a-9d39-4a52-f58b-2d26b62045fe"
      },
      "execution_count": null,
      "outputs": [
        {
          "output_type": "stream",
          "name": "stdout",
          "text": [
            "Имя: Timur Фамилия: Guev\n",
            "Имя: Timur Фамилия: Guev\n"
          ]
        }
      ]
    },
    {
      "cell_type": "code",
      "source": [
        "# Если требуется считать текст с клавиатуры и присвоить его в качестве значения переменным,\n",
        "# то можно написать так:\n",
        "name, surname = input(), input()\n",
        "print('Имя:', name, 'Фамилия:', surname)\n"
      ],
      "metadata": {
        "colab": {
          "base_uri": "https://localhost:8080/"
        },
        "id": "ZhTyTdj_OT8Q",
        "outputId": "c6641aa1-3b41-410e-bcc4-12c5799fde46"
      },
      "execution_count": null,
      "outputs": [
        {
          "output_type": "stream",
          "name": "stdout",
          "text": [
            "Вася\n",
            "Пупкин\n",
            "Имя: Вася Фамилия: Пупкин\n"
          ]
        }
      ]
    },
    {
      "cell_type": "code",
      "source": [
        "# Множественное присваивание удобно использовать, когда нужно обменять\n",
        "# значения двух переменных.\n",
        "# В Python это делается так:\n",
        "name1 = 'Timur'\n",
        "name2 = 'Gvido'\n",
        "name1, name2 = name2, name1\n"
      ],
      "metadata": {
        "id": "SN87K-lQO1ik"
      },
      "execution_count": null,
      "outputs": []
    },
    {
      "cell_type": "markdown",
      "source": [
        "#Новое значение переменной вытесняет старое.Важно представлять, чему равно значение переменной в каждый момент времени."
      ],
      "metadata": {
        "id": "-ClNte-YPVFF"
      }
    },
    {
      "cell_type": "code",
      "source": [
        "#В качестве названия переменных запрещено использовать ключевые\n",
        "# (зарезервированные) слова. К ключевым словам в языке Python\n",
        "# относятся:\n",
        "\n",
        "#False;\n",
        "#True;\n",
        "#None;\n",
        "#and;\n",
        "#with;\n",
        "#as;\n",
        "#assert;\n",
        "#break;\n",
        "#class;\n",
        "#continue;\n",
        "#def;\n",
        "#del;\n",
        "#elif;\n",
        "#else;\n",
        "#except;\n",
        "#finally;\n",
        "#try;\n",
        "#for;\n",
        "#from;\n",
        "#global;\n",
        "#if;\n",
        "#import;\n",
        "#in;\n",
        "#is;\n",
        "#lambda;\n",
        "#nonlocal;\n",
        "#not;\n",
        "#or;\n",
        "#pass;\n",
        "#raise;\n",
        "#return;\n",
        "#while;\n",
        "#yield."
      ],
      "metadata": {
        "id": "922Eg4qNPo_P"
      },
      "execution_count": null,
      "outputs": []
    },
    {
      "cell_type": "markdown",
      "source": [
        "#PEP8\n",
        "#PEP 8 — Python Enhanced Proposal\n",
        "Этот документ предлагает единый и общепринятый стиль написания программ на языке Python. Документ создан по рекомендациям Гвидо Ван Россума, автора Python.\n",
        "\n"
      ],
      "metadata": {
        "id": "-z3XaBPYQ89k"
      }
    }
  ]
}
