{
  "nbformat": 4,
  "nbformat_minor": 0,
  "metadata": {
    "colab": {
      "provenance": [],
      "authorship_tag": "ABX9TyOa6dkNpVa2CtEfzAO6dXz1",
      "include_colab_link": true
    },
    "kernelspec": {
      "name": "python3",
      "display_name": "Python 3"
    },
    "language_info": {
      "name": "python"
    }
  },
  "cells": [
    {
      "cell_type": "markdown",
      "metadata": {
        "id": "view-in-github",
        "colab_type": "text"
      },
      "source": [
        "<a href=\"https://colab.research.google.com/github/ProNatalya/python/blob/main/9_2_slices.ipynb\" target=\"_parent\"><img src=\"https://colab.research.google.com/assets/colab-badge.svg\" alt=\"Open In Colab\"/></a>"
      ]
    },
    {
      "cell_type": "markdown",
      "source": [
        "# Срезы строк\n",
        "Иногда нужно бывает работать с целыми частями строки, в таком случае мы используем срезы (slices)."
      ],
      "metadata": {
        "id": "SPQ7CAZYx7hZ"
      }
    },
    {
      "cell_type": "code",
      "source": [
        "s = 'abcdefghij'\n",
        "print(s[2:5])\n",
        "print(s[0:6])\n",
        "print(s[2:7])"
      ],
      "metadata": {
        "colab": {
          "base_uri": "https://localhost:8080/"
        },
        "id": "yLY5koHhyQKn",
        "outputId": "3207b98b-b941-4fcd-da12-22b4ffdefbb6"
      },
      "execution_count": 1,
      "outputs": [
        {
          "output_type": "stream",
          "name": "stdout",
          "text": [
            "cde\n",
            "abcdef\n",
            "cdefg\n"
          ]
        }
      ]
    },
    {
      "cell_type": "markdown",
      "source": [
        "# При построении среза s[x:y] первое число – это то место, где начинается срез (включительно), а второе – это место, где заканчивается срез (невключительно)."
      ],
      "metadata": {
        "id": "EM-xR5jBycOe"
      }
    },
    {
      "cell_type": "markdown",
      "source": [
        "## Срез до конца, от начала"
      ],
      "metadata": {
        "id": "U40rKJ52ykeh"
      }
    },
    {
      "cell_type": "code",
      "source": [
        "print(s[2:])\n",
        "print(s[:7])"
      ],
      "metadata": {
        "colab": {
          "base_uri": "https://localhost:8080/"
        },
        "id": "ENVWocgWyq-Y",
        "outputId": "44a10f77-08f1-47c0-d870-46f243f3ca77"
      },
      "execution_count": 2,
      "outputs": [
        {
          "output_type": "stream",
          "name": "stdout",
          "text": [
            "cdefghij\n",
            "abcdefg\n"
          ]
        }
      ]
    },
    {
      "cell_type": "markdown",
      "source": [
        "## Отрицательные индексы в срезе\n",
        "Мы также можем использовать отрицательные индексы для создания срезов. Как уже говорилось ранее, отрицательные индексы строки начинаются с -1 и отсчитываются до достижения начала строки."
      ],
      "metadata": {
        "id": "nzSo2U4AywSy"
      }
    },
    {
      "cell_type": "code",
      "source": [
        "print(s[-9:-4])\n",
        "print(s[-3:])\n",
        "print(s[:-3])"
      ],
      "metadata": {
        "colab": {
          "base_uri": "https://localhost:8080/"
        },
        "id": "qdtmThqoy6ul",
        "outputId": "a0656efd-1c1b-4794-8d48-aca022c0302c"
      },
      "execution_count": 3,
      "outputs": [
        {
          "output_type": "stream",
          "name": "stdout",
          "text": [
            "bcdef\n",
            "hij\n",
            "abcdefg\n"
          ]
        }
      ]
    },
    {
      "cell_type": "markdown",
      "source": [
        "## Шаг среза\n",
        "Мы можем передать в срез третий необязательный параметр, который отвечает за шаг среза. К примеру, срез s[1:7:2] создаст строку bdf, состоящую из каждого второго символа (индексы 1,3,5, правая граница не включена в срез)."
      ],
      "metadata": {
        "id": "fKP7j928y__d"
      }
    },
    {
      "cell_type": "markdown",
      "source": [
        "## Отрицательный шаг среза\n",
        "Если в качестве шага среза указать отрицательное число, то символы будут идти в обратном порядке."
      ],
      "metadata": {
        "id": "RVLE6FaLzMYb"
      }
    },
    {
      "cell_type": "code",
      "source": [
        "print(s[::-1])"
      ],
      "metadata": {
        "colab": {
          "base_uri": "https://localhost:8080/"
        },
        "id": "H4PdEaiCzVPK",
        "outputId": "047b70ac-3458-4d39-91bf-f2efce4f2279"
      },
      "execution_count": 4,
      "outputs": [
        {
          "output_type": "stream",
          "name": "stdout",
          "text": [
            "jihgfedcba\n"
          ]
        }
      ]
    },
    {
      "cell_type": "code",
      "source": [
        "print(s[1:7:2])\n",
        "print(s[3::2])\n",
        "print(s[:7:3])\n",
        "print(s[::2])\n",
        "print(s[::-1])\n",
        "print(s[::-2])"
      ],
      "metadata": {
        "colab": {
          "base_uri": "https://localhost:8080/"
        },
        "id": "w8K7j0_PzZVt",
        "outputId": "2b91be90-8ec4-4449-a85c-ac3f45c8eb3e"
      },
      "execution_count": 5,
      "outputs": [
        {
          "output_type": "stream",
          "name": "stdout",
          "text": [
            "bdf\n",
            "dfhj\n",
            "adg\n",
            "acegi\n",
            "jihgfedcba\n",
            "jhfdb\n"
          ]
        }
      ]
    },
    {
      "cell_type": "markdown",
      "source": [
        "## Изменение символа строки по индексу\n",
        "Предположим, у нас есть строка s = 'abcdefghij' и мы хотим заменить символ с индексом 4 на 'X'"
      ],
      "metadata": {
        "id": "_g4m4PzMzebG"
      }
    },
    {
      "cell_type": "code",
      "source": [
        "# s[4] = 'X'\n",
        "# Однако такой код не работает. В Python строки являются неизменяемыми,\n",
        "# то есть мы не можем менять их содержимое с помощью индексатора."
      ],
      "metadata": {
        "id": "2yj3jKiNzsit"
      },
      "execution_count": 7,
      "outputs": []
    },
    {
      "cell_type": "code",
      "source": [
        "# Если мы хотим поменять какой-либо символ строки s, мы должны создать новую строку.\n",
        "s = 'abcdefghij'\n",
        "s = s[:4] + 'X' + s[5:]\n",
        "print(s)\n",
        "# Мы создаем два среза: от начала строки до 5-го символа (не включительно) и с\n",
        "# 6-го символа (включительно) по конец строки, а между ними вставляем нужный\n",
        "# нам символ, который встанет на 5-ю позицию (4 индекс)."
      ],
      "metadata": {
        "colab": {
          "base_uri": "https://localhost:8080/"
        },
        "id": "IshcmQ_o0AcP",
        "outputId": "7a1a9c04-7ce4-498c-f375-acfbdca4ed79"
      },
      "execution_count": 12,
      "outputs": [
        {
          "output_type": "stream",
          "name": "stdout",
          "text": [
            "abcdXfghij\n"
          ]
        }
      ]
    },
    {
      "cell_type": "markdown",
      "source": [
        "## Примечания\n",
        "- Синтаксис срезов строк очень похож на синтаксис функции range().\n",
        "\n",
        "- Если первый параметр среза больше второго, то срез создает пустую строку."
      ],
      "metadata": {
        "id": "9CM4LRfn049H"
      }
    },
    {
      "cell_type": "code",
      "source": [
        "s = 'abcdefg'\n",
        "print(s[2:5])"
      ],
      "metadata": {
        "colab": {
          "base_uri": "https://localhost:8080/"
        },
        "id": "6CvMrIwO1OMR",
        "outputId": "a7072145-d1f8-4972-f124-953ebd257664"
      },
      "execution_count": 13,
      "outputs": [
        {
          "output_type": "stream",
          "name": "stdout",
          "text": [
            "cde\n"
          ]
        }
      ]
    },
    {
      "cell_type": "code",
      "source": [
        "s = 'abcdefg'\n",
        "print(s[3:])"
      ],
      "metadata": {
        "colab": {
          "base_uri": "https://localhost:8080/"
        },
        "id": "JScl4AV51Rma",
        "outputId": "bc1f182a-313d-440d-d782-3e5125d8618b"
      },
      "execution_count": 14,
      "outputs": [
        {
          "output_type": "stream",
          "name": "stdout",
          "text": [
            "defg\n"
          ]
        }
      ]
    },
    {
      "cell_type": "code",
      "source": [
        "s = 'abcdefg'\n",
        "print(s[:3])"
      ],
      "metadata": {
        "colab": {
          "base_uri": "https://localhost:8080/"
        },
        "id": "qX1uub641W2L",
        "outputId": "c20804fe-1d76-4c03-e7b7-7845777aeb1c"
      },
      "execution_count": 15,
      "outputs": [
        {
          "output_type": "stream",
          "name": "stdout",
          "text": [
            "abc\n"
          ]
        }
      ]
    },
    {
      "cell_type": "code",
      "source": [
        "s = 'abcdefg'\n",
        "print(s[:])"
      ],
      "metadata": {
        "colab": {
          "base_uri": "https://localhost:8080/"
        },
        "id": "kmshV0E31cFU",
        "outputId": "498c144b-a963-45db-b22f-9ff3dbbbe3e9"
      },
      "execution_count": 16,
      "outputs": [
        {
          "output_type": "stream",
          "name": "stdout",
          "text": [
            "abcdefg\n"
          ]
        }
      ]
    },
    {
      "cell_type": "code",
      "source": [
        "s = 'abcdefg'\n",
        "print(s[::-3])"
      ],
      "metadata": {
        "colab": {
          "base_uri": "https://localhost:8080/"
        },
        "id": "b0WJ9M2q1gCi",
        "outputId": "6ee69ac1-136a-4efe-e2b7-8d512f616805"
      },
      "execution_count": 17,
      "outputs": [
        {
          "output_type": "stream",
          "name": "stdout",
          "text": [
            "gda\n"
          ]
        }
      ]
    },
    {
      "cell_type": "code",
      "source": [
        "s = \"In 2010, someone paid 10k Bitcoin for two pizzas.\"\n",
        "print(s[:12])"
      ],
      "metadata": {
        "colab": {
          "base_uri": "https://localhost:8080/"
        },
        "id": "2_I0MbTb1n-2",
        "outputId": "541c580b-e86f-45ce-e1dd-899c926f8ae6"
      },
      "execution_count": 18,
      "outputs": [
        {
          "output_type": "stream",
          "name": "stdout",
          "text": [
            "In 2010, som\n"
          ]
        }
      ]
    },
    {
      "cell_type": "code",
      "source": [
        "s = \"In 2010, someone paid 10k Bitcoin for two pizzas.\"\n",
        "print(s[-9:])\n",
        "# вывел последние 9 символов строки s"
      ],
      "metadata": {
        "colab": {
          "base_uri": "https://localhost:8080/"
        },
        "id": "zhwP7ZwB1uMm",
        "outputId": "e3c3e7f6-d817-4ac3-e507-fdd46d7fcac5"
      },
      "execution_count": 19,
      "outputs": [
        {
          "output_type": "stream",
          "name": "stdout",
          "text": [
            "o pizzas.\n"
          ]
        }
      ]
    },
    {
      "cell_type": "code",
      "source": [
        "# чтобы он вывел каждый 7 символ строки s (начиная с 0-го индекса).\n",
        "s = \"In 2010, someone paid 10k Bitcoin for two pizzas.\"\n",
        "print(s[::7])"
      ],
      "metadata": {
        "colab": {
          "base_uri": "https://localhost:8080/"
        },
        "id": "GE4l1Gz216FV",
        "outputId": "e0ae74d9-a025-4d9a-8db8-7632e3ca2fdb"
      },
      "execution_count": 20,
      "outputs": [
        {
          "output_type": "stream",
          "name": "stdout",
          "text": [
            "I,n top\n"
          ]
        }
      ]
    },
    {
      "cell_type": "code",
      "source": [
        "# так чтобы он вывел строку s в обратном порядке.\n",
        "s = \"In 2010, someone paid 10k Bitcoin for two pizzas.\"\n",
        "print(s[::-1])"
      ],
      "metadata": {
        "colab": {
          "base_uri": "https://localhost:8080/"
        },
        "id": "pZlQAiuC2IXg",
        "outputId": "317d467c-c2bf-4d47-c7e0-b1e8d51675ad"
      },
      "execution_count": 21,
      "outputs": [
        {
          "output_type": "stream",
          "name": "stdout",
          "text": [
            ".sazzip owt rof nioctiB k01 diap enoemos ,0102 nI\n"
          ]
        }
      ]
    },
    {
      "cell_type": "markdown",
      "source": [
        "# Task1 Палиндром\n",
        "На вход программе подается одно слово, записанное в нижнем регистре. Напишите программу, которая определяет, является ли оно палиндромом.\n",
        "\n",
        "Формат входных данных\n",
        "На вход программе подается одно слово в нижнем регистре.\n",
        "\n",
        "Формат выходных данных\n",
        "Программа должна вывести «YES», если слово является палиндромом, и «NO» в противном случае.\n",
        "\n",
        "Примечание. Палиндром считается слово, которое читается одинаково в обоих направлениях. Например, слово «потоп» является палиндромом.\n",
        "\n",
        "Тестовые данные 🟢\n",
        "Sample Input 1:\n",
        "\n",
        "потоп\n",
        "Sample Output 1:\n",
        "\n",
        "YES\n",
        "Sample Input 2:\n",
        "\n",
        "анекдот\n",
        "Sample Output 2:\n",
        "\n",
        "NO"
      ],
      "metadata": {
        "id": "vr-yrd9S2R_s"
      }
    },
    {
      "cell_type": "code",
      "source": [
        "s = input()\n",
        "if s[:] == s[::-1]:\n",
        "    print('YES')\n",
        "else:\n",
        "    print('NO')\n"
      ],
      "metadata": {
        "colab": {
          "base_uri": "https://localhost:8080/"
        },
        "id": "PfGHcIQ42Zgr",
        "outputId": "2366cb0e-130a-4e01-be2a-79e57330d0cd"
      },
      "execution_count": 22,
      "outputs": [
        {
          "output_type": "stream",
          "name": "stdout",
          "text": [
            "YES\n",
            "NO\n"
          ]
        }
      ]
    },
    {
      "cell_type": "markdown",
      "source": [
        "# Task2 Делаем срезы 1\n",
        "На вход программе подается одна строка. Напишите программу, которая выводит:\n",
        "\n",
        "общее количество символов в строке;\n",
        "исходную строку, повторенную 3 раза;\n",
        "первый символ строки;\n",
        "первые три символа строки;\n",
        "последние три символа строки;\n",
        "строку в обратном порядке;\n",
        "строку с удаленным первым и последним символом.\n",
        "Формат входных данных\n",
        "На вход программе подается одна строка, длина которой больше 3 символов.\n",
        "\n",
        "Формат выходных данных\n",
        "Программа должна вывести данные в соответствии с условием. Каждое значение выводится на отдельной строке.\n",
        "\n",
        "Тестовые данные 🟢\n",
        "Sample Input:\n",
        "\n",
        "abcdefghijklmnopqrstuvwxyz\n",
        "Sample Output:\n",
        "\n",
        "26\n",
        "abcdefghijklmnopqrstuvwxyzabcdefghijklmnopqrstuvwxyzabcdefghijklmnopqrstuvwxyz\n",
        "a\n",
        "abc\n",
        "xyz\n",
        "zyxwvutsrqponmlkjihgfedcba\n",
        "bcdefghijklmnopqrstuvwxy"
      ],
      "metadata": {
        "id": "YLMeZ8qF2kK9"
      }
    },
    {
      "cell_type": "code",
      "source": [
        "s = input()\n",
        "print(len(s))\n",
        "print(s*3)\n",
        "print(s[0])\n",
        "print(s[:3])\n",
        "print(s[-3:])\n",
        "print(s[::-1])\n",
        "print(s[1:-1])"
      ],
      "metadata": {
        "colab": {
          "base_uri": "https://localhost:8080/"
        },
        "id": "xAhThm_J20-D",
        "outputId": "0176d037-1b84-484e-ffbd-5139ea28046e"
      },
      "execution_count": 23,
      "outputs": [
        {
          "output_type": "stream",
          "name": "stdout",
          "text": [
            "zccddryujffhh\n",
            "13\n",
            "zccddryujffhhzccddryujffhhzccddryujffhh\n",
            "z\n",
            "zcc\n",
            "fhh\n",
            "hhffjuyrddccz\n",
            "ccddryujffh\n"
          ]
        }
      ]
    },
    {
      "cell_type": "markdown",
      "source": [
        "# Task3 Делаем срезы 2\n",
        "На вход программе подается одна строка. Напишите программу, которая выводит:\n",
        "\n",
        "третий символ этой строки;\n",
        "предпоследний символ этой строки;\n",
        "первые пять символов этой строки;\n",
        "всю строку, кроме последних двух символов;\n",
        "все символы с четными индексами;\n",
        "все символы с нечетными индексами;\n",
        "все символы в обратном порядке;\n",
        "все символы строки через один в обратном порядке, начиная с последнего.\n",
        "Формат входных данных\n",
        "На вход программе подается одна строка, длина которой больше 5 символов.\n",
        "\n",
        "Формат выходных данных\n",
        "Программа должна вывести данные в соответствии с условием. Каждое значение выводится на отдельной строке.\n",
        "\n",
        "Тестовые данные 🟢\n",
        "Sample Input:\n",
        "\n",
        "abcdefghijklmnopqrstuvwxyz\n",
        "Sample Output:\n",
        "\n",
        "c\n",
        "y\n",
        "abcde\n",
        "abcdefghijklmnopqrstuvwx\n",
        "acegikmoqsuwy\n",
        "bdfhjlnprtvxz\n",
        "zyxwvutsrqponmlkjihgfedcba\n",
        "zxvtrpnljhfdb"
      ],
      "metadata": {
        "id": "yRO63NgX3Ciz"
      }
    },
    {
      "cell_type": "code",
      "source": [
        "s = input()\n",
        "print(s[2])\n",
        "print(s[-2])\n",
        "print(s[:5])\n",
        "print(s[:-2])\n",
        "print(s[::2])\n",
        "print(s[1::2])\n",
        "print(s[::-1])\n",
        "print(s[::-2])"
      ],
      "metadata": {
        "colab": {
          "base_uri": "https://localhost:8080/"
        },
        "id": "-_WRmYmQ3UcT",
        "outputId": "7509d4d1-6b9a-42f7-8a19-078822c5ff32"
      },
      "execution_count": 24,
      "outputs": [
        {
          "output_type": "stream",
          "name": "stdout",
          "text": [
            "zcdghuutedg\n",
            "d\n",
            "d\n",
            "zcdgh\n",
            "zcdghuute\n",
            "zdhueg\n",
            "cgutd\n",
            "gdetuuhgdcz\n",
            "geuhdz\n"
          ]
        }
      ]
    }
  ]
}
