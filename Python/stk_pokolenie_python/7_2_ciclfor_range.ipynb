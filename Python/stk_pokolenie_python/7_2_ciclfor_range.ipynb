{
  "nbformat": 4,
  "nbformat_minor": 0,
  "metadata": {
    "colab": {
      "provenance": [],
      "authorship_tag": "ABX9TyO5W+et5lx7xCdQ2fhSRcUU",
      "include_colab_link": true
    },
    "kernelspec": {
      "name": "python3",
      "display_name": "Python 3"
    },
    "language_info": {
      "name": "python"
    }
  },
  "cells": [
    {
      "cell_type": "markdown",
      "metadata": {
        "id": "view-in-github",
        "colab_type": "text"
      },
      "source": [
        "<a href=\"https://colab.research.google.com/github/ProNatalya/python/blob/main/7_2_ciclfor_range.ipynb\" target=\"_parent\"><img src=\"https://colab.research.google.com/assets/colab-badge.svg\" alt=\"Open In Colab\"/></a>"
      ]
    },
    {
      "cell_type": "code",
      "execution_count": null,
      "metadata": {
        "id": "pWhO71apCd5p"
      },
      "outputs": [],
      "source": []
    },
    {
      "cell_type": "markdown",
      "source": [
        "# Функция range() с одним параметром"
      ],
      "metadata": {
        "id": "MKNn_pdrCrey"
      }
    },
    {
      "cell_type": "code",
      "source": [
        "for i in range(10):\n",
        "    print('Привет', i)"
      ],
      "metadata": {
        "colab": {
          "base_uri": "https://localhost:8080/"
        },
        "id": "x_8M62JVCzd-",
        "outputId": "e4693d39-8b26-4395-a735-14e757a3e581"
      },
      "execution_count": 1,
      "outputs": [
        {
          "output_type": "stream",
          "name": "stdout",
          "text": [
            "Привет 0\n",
            "Привет 1\n",
            "Привет 2\n",
            "Привет 3\n",
            "Привет 4\n",
            "Привет 5\n",
            "Привет 6\n",
            "Привет 7\n",
            "Привет 8\n",
            "Привет 9\n"
          ]
        }
      ]
    },
    {
      "cell_type": "markdown",
      "source": [
        "## Перегрузка range() с двумя параметрами\n",
        "- range(n): создает последовательность чисел 0, 1, 2, 3, ..., n - 1;\n",
        "- range(n, m): создает последовательность чисел n, n + 1, n + 2, ..., m - 2, m - 1"
      ],
      "metadata": {
        "id": "b6Vo0j1vC85x"
      }
    },
    {
      "cell_type": "code",
      "source": [
        "for i in range(100, 1000):  # перебираем числа от 100 до 999\n",
        "    if i % 10 == 7:         # используем остаток от деления на 10, для получения\n",
        "                            # последней цифры\n",
        "        print(i)"
      ],
      "metadata": {
        "colab": {
          "base_uri": "https://localhost:8080/"
        },
        "id": "3jtnB_OMDRG7",
        "outputId": "20ac0b30-2ac4-4156-bd9f-69556449c1f5"
      },
      "execution_count": 3,
      "outputs": [
        {
          "output_type": "stream",
          "name": "stdout",
          "text": [
            "107\n",
            "117\n",
            "127\n",
            "137\n",
            "147\n",
            "157\n",
            "167\n",
            "177\n",
            "187\n",
            "197\n",
            "207\n",
            "217\n",
            "227\n",
            "237\n",
            "247\n",
            "257\n",
            "267\n",
            "277\n",
            "287\n",
            "297\n",
            "307\n",
            "317\n",
            "327\n",
            "337\n",
            "347\n",
            "357\n",
            "367\n",
            "377\n",
            "387\n",
            "397\n",
            "407\n",
            "417\n",
            "427\n",
            "437\n",
            "447\n",
            "457\n",
            "467\n",
            "477\n",
            "487\n",
            "497\n",
            "507\n",
            "517\n",
            "527\n",
            "537\n",
            "547\n",
            "557\n",
            "567\n",
            "577\n",
            "587\n",
            "597\n",
            "607\n",
            "617\n",
            "627\n",
            "637\n",
            "647\n",
            "657\n",
            "667\n",
            "677\n",
            "687\n",
            "697\n",
            "707\n",
            "717\n",
            "727\n",
            "737\n",
            "747\n",
            "757\n",
            "767\n",
            "777\n",
            "787\n",
            "797\n",
            "807\n",
            "817\n",
            "827\n",
            "837\n",
            "847\n",
            "857\n",
            "867\n",
            "877\n",
            "887\n",
            "897\n",
            "907\n",
            "917\n",
            "927\n",
            "937\n",
            "947\n",
            "957\n",
            "967\n",
            "977\n",
            "987\n",
            "997\n"
          ]
        }
      ]
    },
    {
      "cell_type": "markdown",
      "source": [
        "# Перегрузка range() с 3 параметрами\n",
        "## существует еще одна перегрузка функции range(), принимающая три параметра: range(n, m, k)"
      ],
      "metadata": {
        "id": "aRmKzRsQDjAS"
      }
    },
    {
      "cell_type": "code",
      "source": [
        "# Напишем программу, которая выводит все четные числа из промежутка [56;170]\n",
        "for i in range(56, 171, 2):\n",
        "    print(i)"
      ],
      "metadata": {
        "id": "IL9gkQYhD1_7"
      },
      "execution_count": null,
      "outputs": []
    },
    {
      "cell_type": "code",
      "source": [
        "# Обратите внимание, мы можем использовать функцию range() с двумя параметрами:\n",
        "for i in range(56, 171):\n",
        "    if i % 2 == 0:\n",
        "        print(i)"
      ],
      "metadata": {
        "id": "mE5gy-4MEHlf"
      },
      "execution_count": null,
      "outputs": []
    },
    {
      "cell_type": "markdown",
      "source": [
        "# Отрицательный шаг генерации\n",
        "## Если шаг генерации является положительным числом, то генерируемая последовательность будет возрастать. Мы можем указать отрицательный шаг генерации (третий параметр), что приведет к генерированию убывающей последовательности."
      ],
      "metadata": {
        "id": "bmQ0i2qGEQUI"
      }
    },
    {
      "cell_type": "code",
      "source": [
        "for i in range(5, 0, -1):\n",
        "    print(i, end=' ')\n",
        "print('Взлетаем!!!')"
      ],
      "metadata": {
        "colab": {
          "base_uri": "https://localhost:8080/"
        },
        "id": "56vmu3t8Ee9x",
        "outputId": "12c343b7-eef5-4d30-fc2c-8f91adb21c3a"
      },
      "execution_count": 4,
      "outputs": [
        {
          "output_type": "stream",
          "name": "stdout",
          "text": [
            "5 4 3 2 1 Взлетаем!!!\n"
          ]
        }
      ]
    },
    {
      "cell_type": "code",
      "source": [
        "# Примеры использования функции range()\n",
        "# range(10) => 0, 1, 2, 3, 4, 5, 6, 7, 8, 9\n",
        "# range(1, 10) => 1, 2, 3, 4, 5, 6, 7, 8, 9\n",
        "# range(3, 7) => 3, 4, 5, 6\n",
        "# range(7, 3) => пустая последовательность\n",
        "# range(2, 15, 3) => 2, 5, 8, 11, 14\n",
        "# range(9, 2, -1) => 9, 8, 7, 6, 5, 4, 3\n",
        "# range(3, 10, -2) => пустая последовательность\n"
      ],
      "metadata": {
        "id": "Fwf7A9aEErbL"
      },
      "execution_count": null,
      "outputs": []
    },
    {
      "cell_type": "markdown",
      "source": [
        "# Примечания\n",
        "## Функция range() может принимать от одного до трех параметров: range(n), range(n, m), range(n, m, k).\n",
        "- первый параметр – это старт последовательности (включительно);\n",
        "- второй параметр – это стоп последовательности (не включительно);\n",
        "- третий параметр – это величина шага.\n",
        "## Функция range() может генерировать только целые числа, включая отрицательные."
      ],
      "metadata": {
        "id": "YjZPH8GsF2wU"
      }
    },
    {
      "cell_type": "code",
      "source": [
        "# Величина шага не может равняться нулю. Следующий код:\n",
        "#for i in range(1, 10, 0):\n",
        "#   print(i)\n",
        "# приведет к ошибке ValueError: range() arg 3 must not be zero"
      ],
      "metadata": {
        "id": "Rc2Xh2pCGR1p"
      },
      "execution_count": 8,
      "outputs": []
    },
    {
      "cell_type": "markdown",
      "source": [
        "# Task1 Последовательность чисел 1\n",
        "Даны два целых числа m и n (m≤n). Напишите программу, которая выводит все числа от m до n включительно.\n",
        "\n",
        "Формат входных данных\n",
        "На вход программе подаются два целых числа\n",
        "m и n, каждое на отдельной строке.\n",
        "\n",
        "Формат выходных данных\n",
        "Программа должна вывести числа в соответствии с условием задачи.\n",
        "\n",
        "Тестовые данные 🟢\n",
        "Sample Input:\n",
        "\n",
        "1\n",
        "9\n",
        "Sample Output:\n",
        "\n",
        "1\n",
        "2\n",
        "3\n",
        "4\n",
        "5\n",
        "6\n",
        "7\n",
        "8\n",
        "9"
      ],
      "metadata": {
        "id": "HBn9JCw-H2Ur"
      }
    },
    {
      "cell_type": "code",
      "source": [
        "m = int(input())\n",
        "n = int(input())\n",
        "for i in range(m, n+1):\n",
        "    print(i)\n"
      ],
      "metadata": {
        "colab": {
          "base_uri": "https://localhost:8080/"
        },
        "id": "T0CjXkiSI8Ir",
        "outputId": "e2b1a9fc-b56e-40fc-e7b6-8a4d1c1fe06b"
      },
      "execution_count": 9,
      "outputs": [
        {
          "output_type": "stream",
          "name": "stdout",
          "text": [
            "1\n",
            "9\n",
            "1\n",
            "2\n",
            "3\n",
            "4\n",
            "5\n",
            "6\n",
            "7\n",
            "8\n",
            "9\n"
          ]
        }
      ]
    },
    {
      "cell_type": "markdown",
      "source": [
        "# Task2 Последовательность чисел 2 🌶️\n",
        "Даны два целых числа m и n. Напишите программу, которая выводит все числа от m до n включительно в порядке возрастания, если m < n, или в порядке убывания в противном случае.\n",
        "\n",
        "Формат входных данных\n",
        "На вход программе подаются два целых числа m и n, каждое на отдельной строке.\n",
        "\n",
        "Формат выходных данных\n",
        "Программа должна вывести числа в соответствии с условием задачи.\n",
        "\n",
        "Тестовые данные 🟢\n",
        "Sample Input 1:\n",
        "\n",
        "1\n",
        "5\n",
        "Sample Output 1:\n",
        "\n",
        "1\n",
        "2\n",
        "3\n",
        "4\n",
        "5\n",
        "Sample Input 2:\n",
        "\n",
        "7\n",
        "1\n",
        "Sample Output 2:\n",
        "\n",
        "7\n",
        "6\n",
        "5\n",
        "4\n",
        "3\n",
        "2\n",
        "1"
      ],
      "metadata": {
        "id": "aHHuotj_JqEL"
      }
    },
    {
      "cell_type": "code",
      "source": [
        "m = int(input())\n",
        "n = int(input())\n",
        "if m < n:\n",
        "    for i in range(m, n + 1, +1):\n",
        "        print(i)\n",
        "else:\n",
        "    for i in range(m, n - 1, -1):\n",
        "        print(i)\n"
      ],
      "metadata": {
        "colab": {
          "base_uri": "https://localhost:8080/"
        },
        "id": "MkJZ6xQjLU4Y",
        "outputId": "96721b55-8cb2-49be-9366-4f645bdcf1e6"
      },
      "execution_count": 10,
      "outputs": [
        {
          "output_type": "stream",
          "name": "stdout",
          "text": [
            "7\n",
            "1\n",
            "7\n",
            "6\n",
            "5\n",
            "4\n",
            "3\n",
            "2\n",
            "1\n"
          ]
        }
      ]
    },
    {
      "cell_type": "markdown",
      "source": [
        "# Task3 Последовательность чисел 3 🌶️\n",
        "Даны два целых числа m и n (m>n).\n",
        "Напишите программу, которая выводит все нечетные числа от\n",
        "m до n включительно в порядке убывания.\n",
        "\n",
        "Формат входных данных\n",
        "На вход программе подаются два целых числа m и n, каждое на отдельной строке.\n",
        "\n",
        "Формат выходных данных\n",
        "Программа должна вывести числа в соответствии с условием задачи.\n",
        "\n",
        "Примечание. Попробуйте решить задачу двумя способами: с использованием условного оператора if и без него.\n",
        "\n",
        "Тестовые данные 🟢\n",
        "Sample Input 1:\n",
        "\n",
        "77\n",
        "62\n",
        "Sample Output 1:\n",
        "\n",
        "77\n",
        "75\n",
        "73\n",
        "71\n",
        "69\n",
        "67\n",
        "65\n",
        "63\n",
        "Sample Input 2:\n",
        "\n",
        "6\n",
        "-2\n",
        "Sample Output 2:\n",
        "\n",
        "5\n",
        "3\n",
        "1\n",
        "-1"
      ],
      "metadata": {
        "id": "TQ6NTzkbMR3U"
      }
    },
    {
      "cell_type": "code",
      "source": [
        "m = int(input())\n",
        "n = int(input())\n",
        "for i in range(m, n-1, -1):\n",
        "    if i % 2 != 0:\n",
        "        print(i)\n"
      ],
      "metadata": {
        "colab": {
          "base_uri": "https://localhost:8080/"
        },
        "id": "nMwO9X2ZNDfV",
        "outputId": "7b150b6d-b1cf-4f0c-e599-0a4e677bff53"
      },
      "execution_count": 11,
      "outputs": [
        {
          "output_type": "stream",
          "name": "stdout",
          "text": [
            "6\n",
            "-2\n",
            "5\n",
            "3\n",
            "1\n",
            "-1\n"
          ]
        }
      ]
    },
    {
      "cell_type": "code",
      "source": [
        "m, n = int(input()), int(input())\n",
        "\n",
        "start = ((m - 1) // 2) * 2 + 1\n",
        "\n",
        "for i in range(start, n - 1, -2):\n",
        "    print(i)"
      ],
      "metadata": {
        "colab": {
          "base_uri": "https://localhost:8080/"
        },
        "id": "ofTuHDbXNpvH",
        "outputId": "7e6d72a6-e835-4975-bd1b-ad48c1ec5a5a"
      },
      "execution_count": 12,
      "outputs": [
        {
          "output_type": "stream",
          "name": "stdout",
          "text": [
            "6\n",
            "-2\n",
            "5\n",
            "3\n",
            "1\n",
            "-1\n"
          ]
        }
      ]
    },
    {
      "cell_type": "code",
      "source": [
        "m, n = int(input()), int(input())\n",
        "for i in range(m - 1 + m % 2, n - 1, -2):\n",
        "    print(i)\n"
      ],
      "metadata": {
        "id": "d2VXLkZGO1qL"
      },
      "execution_count": null,
      "outputs": []
    },
    {
      "cell_type": "code",
      "source": [
        "m = int(input())\n",
        "n = int(input())\n",
        "k = 1 - m % 2\n",
        "for i in range(m, n, - 2):\n",
        "    print(i - k)"
      ],
      "metadata": {
        "colab": {
          "base_uri": "https://localhost:8080/"
        },
        "id": "1tNJAcNLO-PK",
        "outputId": "f11e18e1-c606-4f7b-8804-0c1f1e26f837"
      },
      "execution_count": 13,
      "outputs": [
        {
          "output_type": "stream",
          "name": "stdout",
          "text": [
            "6\n",
            "-2\n",
            "5\n",
            "3\n",
            "1\n",
            "-1\n"
          ]
        }
      ]
    },
    {
      "cell_type": "markdown",
      "source": [
        "# Task4 Последовательность чисел 4\n",
        "Даны два натуральных числа m и n (m ≤ n). Напишите программу, которая выводит все числа от m до n включительно удовлетворяющие хотя бы одному из условий:\n",
        "\n",
        "число кратно\n",
        "17\n",
        "17;\n",
        "число оканчивается на\n",
        "9\n",
        "9;\n",
        "число кратно\n",
        "3\n",
        "3 и\n",
        "5\n",
        "5 одновременно.\n",
        "Формат входных данных\n",
        "На вход программе подаются два натуральных числа m и n\n",
        "(m ≤ n), каждое на отдельной строке.\n",
        "\n",
        "Формат выходных данных\n",
        "Программа должна вывести числа в соответствии с условием задачи.\n",
        "\n",
        "Примечание. Если чисел удовлетворяющих условию нет, выводить ничего не надо.\n",
        "\n",
        "Тестовые данные 🟢\n",
        "Sample Input 1:\n",
        "\n",
        "1\n",
        "20\n",
        "Sample Output 1:\n",
        "\n",
        "9\n",
        "15\n",
        "17\n",
        "19\n",
        "Sample Input 2:\n",
        "\n",
        "17\n",
        "17\n",
        "Sample Output 2:\n",
        "\n",
        "17\n",
        "Sample Input 3:\n",
        "\n",
        "19\n",
        "19\n",
        "Sample Output 3:\n",
        "\n",
        "19"
      ],
      "metadata": {
        "id": "nVqaPwqqP-_1"
      }
    },
    {
      "cell_type": "code",
      "source": [
        "m = int(input())\n",
        "n = int(input())\n",
        "for i in range(m, n + 1):\n",
        "    if (i % 17 == 0) or (i % 10 == 9) or (i % 3 == 0 and i % 5 == 0):\n",
        "        print(i)\n"
      ],
      "metadata": {
        "colab": {
          "base_uri": "https://localhost:8080/"
        },
        "id": "qhVL5YgERCmw",
        "outputId": "b96e86c7-4c91-4508-86e8-31daf9b52b0e"
      },
      "execution_count": 14,
      "outputs": [
        {
          "output_type": "stream",
          "name": "stdout",
          "text": [
            "1\n",
            "20\n",
            "9\n",
            "15\n",
            "17\n",
            "19\n"
          ]
        }
      ]
    },
    {
      "cell_type": "code",
      "source": [
        "m, n = int(input()), int(input())\n",
        "\n",
        "for i in range(m, n + 1):\n",
        "    if i % 17 == 0 or i % 10 == 9 or i % 15 == 0:\n",
        "        print(i)"
      ],
      "metadata": {
        "colab": {
          "base_uri": "https://localhost:8080/"
        },
        "id": "estXvKRhRTsw",
        "outputId": "306369d1-4d3a-427e-9ab5-f329b54f20a5"
      },
      "execution_count": 15,
      "outputs": [
        {
          "output_type": "stream",
          "name": "stdout",
          "text": [
            "17\n",
            "17\n",
            "17\n"
          ]
        }
      ]
    },
    {
      "cell_type": "markdown",
      "source": [
        "# Task5 Таблица умножения\n",
        "Дано натуральное число n. Напишите программу, которая выводит таблицу умножения на n (от 1 до 10 включительно).\n",
        "\n",
        "Формат входных данных\n",
        "На вход программе подается натуральное число.\n",
        "\n",
        "Формат выходных данных\n",
        "Программа должна вывести таблицу умножения на введенное число.\n",
        "\n",
        "Примечание. В качестве знака умножения используйте английскую букву x.\n",
        "\n",
        "Тестовые данные 🟢\n",
        "Sample Input 1:\n",
        "\n",
        "5\n",
        "Sample Output 1:\n",
        "\n",
        "5 x 1 = 5\n",
        "5 x 2 = 10\n",
        "5 x 3 = 15\n",
        "5 x 4 = 20\n",
        "5 x 5 = 25\n",
        "5 x 6 = 30\n",
        "5 x 7 = 35\n",
        "5 x 8 = 40\n",
        "5 x 9 = 45\n",
        "5 x 10 = 50\n",
        "Sample Input 2:\n",
        "\n",
        "9\n",
        "Sample Output 2:\n",
        "\n",
        "9 x 1 = 9\n",
        "9 x 2 = 18\n",
        "9 x 3 = 27\n",
        "9 x 4 = 36\n",
        "9 x 5 = 45\n",
        "9 x 6 = 54\n",
        "9 x 7 = 63\n",
        "9 x 8 = 72\n",
        "9 x 9 = 81\n",
        "9 x 10 = 90\n",
        "Sample Input 3:\n",
        "\n",
        "4\n",
        "Sample Output 3:\n",
        "\n",
        "4 x 1 = 4\n",
        "4 x 2 = 8\n",
        "4 x 3 = 12\n",
        "4 x 4 = 16\n",
        "4 x 5 = 20\n",
        "4 x 6 = 24\n",
        "4 x 7 = 28\n",
        "4 x 8 = 32\n",
        "4 x 9 = 36\n",
        "4 x 10 = 40"
      ],
      "metadata": {
        "id": "aYUSK6jsSUFu"
      }
    },
    {
      "cell_type": "code",
      "source": [
        "n = int(input())\n",
        "for i in range(1,11):\n",
        "    print(n, 'x', i, '=', n*i)\n",
        ""
      ],
      "metadata": {
        "id": "39bb8FGXTGNk"
      },
      "execution_count": null,
      "outputs": []
    },
    {
      "cell_type": "code",
      "source": [
        "n = int(input())\n",
        "\n",
        "for i in range(1, 11):\n",
        "    print(n, 'x', i, '=', n * i)"
      ],
      "metadata": {
        "id": "OtrL68kyTTJX"
      },
      "execution_count": null,
      "outputs": []
    }
  ]
}
