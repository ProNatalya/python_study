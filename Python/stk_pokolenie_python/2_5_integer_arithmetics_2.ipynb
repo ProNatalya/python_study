{
  "nbformat": 4,
  "nbformat_minor": 0,
  "metadata": {
    "colab": {
      "provenance": [],
      "authorship_tag": "ABX9TyNcOrS/b/vhxzNa+2Y3Sqef",
      "include_colab_link": true
    },
    "kernelspec": {
      "name": "python3",
      "display_name": "Python 3"
    },
    "language_info": {
      "name": "python"
    }
  },
  "cells": [
    {
      "cell_type": "markdown",
      "metadata": {
        "id": "view-in-github",
        "colab_type": "text"
      },
      "source": [
        "<a href=\"https://colab.research.google.com/github/ProNatalya/python/blob/main/2_5_integer_arithmetics_2.ipynb\" target=\"_parent\"><img src=\"https://colab.research.google.com/assets/colab-badge.svg\" alt=\"Open In Colab\"/></a>"
      ]
    },
    {
      "cell_type": "markdown",
      "source": [
        "# Тема урока: работа с целыми числами\n",
        "## Дополнительные операции\n",
        "\n",
        "** - возведение в степень\n",
        "\n",
        "% - остаток от деления\n",
        "\n",
        "// - целочисленное деление\n",
        "\n",
        "\n",
        "\n",
        "\n",
        "\n",
        "\n"
      ],
      "metadata": {
        "id": "sp7y5htZakAu"
      }
    },
    {
      "cell_type": "code",
      "source": [
        "print(2 ** 2 ** 3)     # 2 ** (2 ** 3) = 2 ** 8б, слева направо"
      ],
      "metadata": {
        "colab": {
          "base_uri": "https://localhost:8080/"
        },
        "id": "HNN6EYzdbjxy",
        "outputId": "55d6f187-a0f0-4c96-f2b1-6b280b5aa7d4"
      },
      "execution_count": null,
      "outputs": [
        {
          "output_type": "stream",
          "name": "stdout",
          "text": [
            "256\n"
          ]
        }
      ]
    },
    {
      "cell_type": "markdown",
      "source": [
        "# Целочисленное деление\n",
        "\n"
      ],
      "metadata": {
        "id": "kSo-jp4Db853"
      }
    },
    {
      "cell_type": "code",
      "source": [
        "print(10 // 3) # отбрасывает десятичную часть\n",
        "print(10 // 4)\n",
        "print(10 // 5)\n",
        "print(10 // 6)\n",
        "print(10 // 12)"
      ],
      "metadata": {
        "colab": {
          "base_uri": "https://localhost:8080/"
        },
        "id": "bdgmb8kGcMvi",
        "outputId": "47df0738-3b9c-4644-8469-ad829fbd9f93"
      },
      "execution_count": null,
      "outputs": [
        {
          "output_type": "stream",
          "name": "stdout",
          "text": [
            "3\n",
            "2\n",
            "2\n",
            "1\n",
            "0\n"
          ]
        }
      ]
    },
    {
      "cell_type": "code",
      "source": [
        "# При делении отрицательных чисел округление берётся в меньшую сторону\n",
        "# (число − 4 меньше, чем число −3)\n",
        "print(10 // 3)\n",
        "print(-10 // 3)"
      ],
      "metadata": {
        "colab": {
          "base_uri": "https://localhost:8080/"
        },
        "id": "j8ofaoJ5co5L",
        "outputId": "e1e5fe4e-9506-4047-b522-3af8726a91ff"
      },
      "execution_count": null,
      "outputs": [
        {
          "output_type": "stream",
          "name": "stdout",
          "text": [
            "3\n",
            "-4\n"
          ]
        }
      ]
    },
    {
      "cell_type": "markdown",
      "source": [
        "# Деление с остатком\n",
        "## Оператор деления с остатком возвращает остаток от деления двух целых чисел.\n"
      ],
      "metadata": {
        "id": "EPPG53fpdOzM"
      }
    },
    {
      "cell_type": "code",
      "source": [
        "print(10 % 3)\n",
        "print(10 % 4)\n",
        "print(10 % 5)\n",
        "print(10 % 6)\n",
        "print(10 % 12)\n",
        "print(10 % 20)"
      ],
      "metadata": {
        "colab": {
          "base_uri": "https://localhost:8080/"
        },
        "id": "sXTRg9bSde87",
        "outputId": "478acdac-bc73-4bef-8dc2-e73e8de6917d"
      },
      "execution_count": null,
      "outputs": [
        {
          "output_type": "stream",
          "name": "stdout",
          "text": [
            "1\n",
            "2\n",
            "0\n",
            "4\n",
            "10\n",
            "10\n"
          ]
        }
      ]
    },
    {
      "cell_type": "code",
      "source": [
        "# Наивысший приоритет имеет оператор возведения в степень **\n",
        "# Полезно прочитать про модулярную арифметику в математике.\n",
        "# Обратите внимание: результатом деления n % m при n < m является число n.\n",
        "# Например, 5 % 9 = 5, 3 % 13 = 3 и т.д."
      ],
      "metadata": {
        "id": "G4K4YzR2eAuW"
      },
      "execution_count": null,
      "outputs": []
    },
    {
      "cell_type": "code",
      "source": [
        "# Task1 Вычислите результат целочисленного деления.\n",
        "print(23 // 7)\n",
        "print(20 // 5)\n",
        "print(2 // 5)\n",
        "print(123 // 10)\n",
        "print(-123 // 10)\n",
        "# 2 //5 получается 0 и 2 в остатке\n",
        "# 2 % 5 - остаток от деления 2 на 5, т. е. 2"
      ],
      "metadata": {
        "colab": {
          "base_uri": "https://localhost:8080/"
        },
        "id": "cBfMPc9Tfjz-",
        "outputId": "fc76ff09-5f20-4be5-e698-972702a6c5e7"
      },
      "execution_count": null,
      "outputs": [
        {
          "output_type": "stream",
          "name": "stdout",
          "text": [
            "3\n",
            "4\n",
            "0\n",
            "12\n",
            "-13\n"
          ]
        }
      ]
    },
    {
      "cell_type": "code",
      "source": [
        "# Task2 Вычислите остаток от деления.\n",
        "print(23 % 7)\n",
        "print(20 % 5)\n",
        "print(2 % 5)\n",
        "print(123 % 10)\n"
      ],
      "metadata": {
        "colab": {
          "base_uri": "https://localhost:8080/"
        },
        "id": "UCqmI8YQhrju",
        "outputId": "cd6ccb15-df2a-4fff-b6cd-e32436ab80c4"
      },
      "execution_count": null,
      "outputs": [
        {
          "output_type": "stream",
          "name": "stdout",
          "text": [
            "2\n",
            "0\n",
            "2\n",
            "3\n"
          ]
        }
      ]
    },
    {
      "cell_type": "code",
      "source": [
        "# Task3 Что будет выведено на экран в результате выполнения следующей программы?\n",
        "a = 15 // (16 % 7)\n",
        "b = 34 % a * 5 - 29 % 5 * 2\n",
        "print(a + b)"
      ],
      "metadata": {
        "colab": {
          "base_uri": "https://localhost:8080/"
        },
        "id": "ov-kTjp8jeWy",
        "outputId": "9f6e4aeb-469f-42d4-feb6-70b10b8bf61f"
      },
      "execution_count": null,
      "outputs": [
        {
          "output_type": "stream",
          "name": "stdout",
          "text": [
            "29\n"
          ]
        }
      ]
    },
    {
      "cell_type": "code",
      "source": [
        "# Task4 Что будет выведено на экран в результате выполнения следующей программы?\n",
        "a = 82 // 3 ** 2 % 7\n",
        "print(a)"
      ],
      "metadata": {
        "colab": {
          "base_uri": "https://localhost:8080/"
        },
        "id": "agusFoNnj_oH",
        "outputId": "5924dc7d-437e-42ee-842a-d61ee77d37a8"
      },
      "execution_count": null,
      "outputs": [
        {
          "output_type": "stream",
          "name": "stdout",
          "text": [
            "2\n"
          ]
        }
      ]
    },
    {
      "cell_type": "markdown",
      "source": [
        "# Task5 Геометрическая прогрессия\n",
        "##Геометрической прогрессией называется последовательность чисел b1,b2,…,bn​, каждое из которых, начиная с b2​, получается из предыдущего умножением на одно и то же постоянное число q (знаменатель прогрессии), то есть\n",
        "bn​=bn−1​⋅q\n",
        "Если известен первый член прогрессии и её знаменатель, то n-ый член геометрической прогрессии находится по формуле\n",
        "bn​=b1​⋅qn−1\n",
        "Входные данные\n",
        "На вход программе подаётся три целых числа: b1​, q и n, каждое на отдельной строке.\n",
        "\n",
        "Выходные данные\n",
        "Программа должна вывести n-ый член геометрической прогрессии."
      ],
      "metadata": {
        "id": "NBm9Z807vJ03"
      }
    },
    {
      "cell_type": "code",
      "source": [
        "b_1 = int(input())\n",
        "q = int(input())\n",
        "n = int(input())\n",
        "b_n = b_1 * q**(n - 1)\n",
        "print(b_n)\n"
      ],
      "metadata": {
        "colab": {
          "base_uri": "https://localhost:8080/"
        },
        "id": "iwb8WYh8wm2Z",
        "outputId": "00fe9f86-271f-4052-b078-7ee9ed5516e8"
      },
      "execution_count": null,
      "outputs": [
        {
          "output_type": "stream",
          "name": "stdout",
          "text": [
            "1\n",
            "2\n",
            "5\n",
            "16\n"
          ]
        }
      ]
    },
    {
      "cell_type": "markdown",
      "source": [
        "# Task6 Расстояние в метрах\n",
        "\n",
        "Напишите программу, которая находит полное число метров по заданному числу сантиметров.\n",
        "\n",
        "Формат входных данных\n",
        "На вход программе подаётся натуральное число – количество сантиметров.\n",
        "\n",
        "Формат выходных данных\n",
        "Программа должна вывести одно число – полное число метров.\n",
        "\n",
        "Тестовые данные 🟢\n",
        "Sample Input 1:\n",
        "\n",
        "345\n",
        "Sample Output 1:\n",
        "\n",
        "3\n",
        "Sample Input 2:\n",
        "\n",
        "100\n",
        "Sample Output 2:\n",
        "\n",
        "1\n"
      ],
      "metadata": {
        "id": "FOB-FWyzzUlA"
      }
    },
    {
      "cell_type": "code",
      "source": [
        "sm_count = int(input())\n",
        "metres_count = sm_count // 100\n",
        "print(metres_count)"
      ],
      "metadata": {
        "colab": {
          "base_uri": "https://localhost:8080/"
        },
        "id": "9K3-RZBqz8LN",
        "outputId": "192fde6c-75c0-4bea-ed84-5020b6fe2a95"
      },
      "execution_count": null,
      "outputs": [
        {
          "output_type": "stream",
          "name": "stdout",
          "text": [
            "345\n",
            "3\n"
          ]
        }
      ]
    },
    {
      "cell_type": "markdown",
      "source": [
        "# Task7 Мандарины\n",
        "\n",
        "\n",
        "n школьников делят\n",
        "k мандаринов поровну, неделящийся остаток остается в корзине. Сколько целых мандаринов достанется каждому школьнику? Сколько целых мандаринов останется в корзине?\n",
        "\n",
        "\n",
        "\n",
        "Формат входных данных\n",
        "На вход программе подаётся два целых числа: количество школьников и количество мандаринов, каждое на отдельной строке.\n",
        "\n",
        "\n",
        "Формат выходных данных\n",
        "Программа должна вывести два числа: количество мандаринов, которое достанется каждому школьнику, и количество мандаринов, которое останется в корзине, каждое на отдельной строке.\n",
        "\n",
        "Тестовые данные 🟢\n",
        "Sample Input 1:\n",
        "\n",
        "3\n",
        "6\n",
        "Sample Output 1:\n",
        "\n",
        "2\n",
        "0\n"
      ],
      "metadata": {
        "id": "vajry0u249SK"
      }
    },
    {
      "cell_type": "code",
      "source": [
        "students_all = int(input())\n",
        "mandarins_all = int(input())\n",
        "mandarin_for_student = mandarins_all // students_all\n",
        "mandarins_balance = mandarins_all % students_all\n",
        "print(mandarin_for_student)\n",
        "print(mandarins_balance)\n"
      ],
      "metadata": {
        "id": "R2N9KM8szlZH",
        "colab": {
          "base_uri": "https://localhost:8080/"
        },
        "outputId": "305bf7be-bb84-44d6-a1c3-edb71e9f85cc"
      },
      "execution_count": null,
      "outputs": [
        {
          "output_type": "stream",
          "name": "stdout",
          "text": [
            "3\n",
            "6\n",
            "2\n",
            "0\n"
          ]
        }
      ]
    },
    {
      "cell_type": "markdown",
      "source": [
        "# Task8 Сама неотвратимость 🌶️\n",
        "Безумный титан Танос собрал все 6 камней бесконечности и намеревается уничтожить половину населения Вселенной по щелчку пальцев. При этом если население Вселенной является нечетным числом, то титан проявит милосердие и округлит количество выживших в большую сторону. Помогите Мстителям подсчитать количество выживших.\n",
        "\n",
        "Формат входных данных\n",
        "На вход дается число целое n – население Вселенной.\n",
        "\n",
        "Формат выходных данных\n",
        "Программа должна вывести одно число – количество выживших.\n",
        "\n",
        "Тестовые данные 🟢\n",
        "Sample Input 1:\n",
        "\n",
        "99\n",
        "Sample Output 1:\n",
        "\n",
        "50\n",
        "Sample Input 2:\n",
        "\n",
        "1132\n",
        "Sample Output 2:\n",
        "\n",
        "566"
      ],
      "metadata": {
        "id": "PiQkWJjl9Xvr"
      }
    },
    {
      "cell_type": "code",
      "source": [
        "allpopulation = int(input())\n",
        "died_people = allpopulation // 2\n",
        "alive_people = allpopulation - died_people\n",
        "print(alive_people)"
      ],
      "metadata": {
        "colab": {
          "base_uri": "https://localhost:8080/"
        },
        "id": "W7XC0IlAB52z",
        "outputId": "997ea713-0a7f-4eac-a5e2-ea007f3b4d4f"
      },
      "execution_count": null,
      "outputs": [
        {
          "output_type": "stream",
          "name": "stdout",
          "text": [
            "99\n",
            "50\n"
          ]
        }
      ]
    },
    {
      "cell_type": "markdown",
      "source": [
        "# Task9 Номер купе 🌶️\n",
        "\n",
        "В купейном вагоне имеется\n",
        "9 купе с четырьмя местами для пассажиров в каждом. Напишите программу, которая определяет номер купе, в котором находится место с заданным номером (нумерация мест сквозная, начинается с\n",
        "1)\n",
        "\n",
        "\n",
        "\n",
        "Формат входных данных\n",
        "На вход программе подаётся целое число – место с заданным номером в вагоне.\n",
        "\n",
        "Формат выходных данных\n",
        "Программа должна вывести одно число – номер купе, в котором находится указаное место.\n",
        "\n",
        "Тестовые данные 🟢\n",
        "Sample Input 1:\n",
        "\n",
        "1\n",
        "Sample Output 1:\n",
        "\n",
        "1\n",
        "Sample Input 2:\n",
        "\n",
        "2\n",
        "Sample Output 2:\n",
        "\n",
        "1\n",
        "Sample Input 3:\n",
        "\n",
        "3\n",
        "Sample Output 3:\n",
        "\n",
        "1\n"
      ],
      "metadata": {
        "id": "nzrAcuhJG6HF"
      }
    },
    {
      "cell_type": "markdown",
      "source": [],
      "metadata": {
        "id": "XRPXavSHL9Jb"
      }
    },
    {
      "cell_type": "code",
      "source": [
        "# Заметим, что для 1-го купе (предварительно уменьшив на 1 номер места):\n",
        "# 0 // 4 = 0\n",
        "# 1 // 4 = 0\n",
        "# 2 // 4 = 0\n",
        "# 3 // 4 = 0\n",
        "\n",
        "# Для 2-го купе:\n",
        "\n",
        "# 4 // 4 = 1\n",
        "# 5 // 4 = 1\n",
        "# 6 // 4 = 1\n",
        "# 7 // 4 = 1\n",
        "\n",
        "a = int(input())\n",
        "b = (a - 1) // 4\n",
        "print(b)"
      ],
      "metadata": {
        "id": "g-k6NzzFHnwC",
        "colab": {
          "base_uri": "https://localhost:8080/"
        },
        "outputId": "a092bf92-9d4b-429e-c157-1910091bd88b"
      },
      "execution_count": null,
      "outputs": [
        {
          "output_type": "stream",
          "name": "stdout",
          "text": [
            "9\n",
            "2\n"
          ]
        }
      ]
    },
    {
      "cell_type": "code",
      "source": [
        "place_number = int(input())# вводимое значение\n",
        "compartment_numberofplace = ((place_number + 3) // 4) # поскольку мест в купе 4, доьавляем еще три от обнуления при целочисленном делении,\n",
        "#и собственно делим нацело на 4\n",
        "print(compartment_numberofplace)"
      ],
      "metadata": {
        "colab": {
          "base_uri": "https://localhost:8080/"
        },
        "id": "jJtXIuqAiHsT",
        "outputId": "2c8976f1-c9f2-46ec-983d-fcf9c9e09200"
      },
      "execution_count": null,
      "outputs": [
        {
          "output_type": "stream",
          "name": "stdout",
          "text": [
            "5\n",
            "2\n"
          ]
        }
      ]
    },
    {
      "cell_type": "code",
      "source": [
        "# В итоге пришел к такому решению: у нас 36 мест, которые разделены\n",
        "# на 9 купе, по 4 места в каждом. 36 мест делим на 4, получаем\n",
        "# количество купе= 9. Но это же и является номером купе, где находится\n",
        "# 36-ое место. Соответственно такое произведение показывает номер купе,\n",
        "# но если мы 33/4 то получится 8,25. Поэтому нам нужно такое действие,\n",
        "# которое округлит наш ответ в большую сторону. Пока я знаю только одну\n",
        "# операцию связанную с округлением, из материалов урока\n",
        "# это операция \"Целочисленное деление\" - (//). Операция делит целые\n",
        "# числа и округляет ответ до целого значения, но в меньшую сторону.\n",
        "# Применив её для 33 места, мы получим в ответе ровно 8. [33//4=8].\n",
        "# но нам надо, чтобы 8,25 округлилось до 9, а не до 8. Соответственно\n",
        "# нам нужно сделать операцию, которая округлит ответ до целого в большую\n",
        "# сторону. Такой операции я не знаю. Но если у нас число, которые мы\n",
        "# делим, будет со знаком минус, то округление будет также в меньшую сторону,\n",
        "# но само по себе число будет больше. Т.о. -33//4=-9. Поэтому в формуле\n",
        "# к значению места добавил знак минуса. Чтобы избавиться от минуса в\n",
        "# ответе, надо умножить ответ на другое число с минусом (вспомнил, что\n",
        "# минус на минус даёт плюс. Отсюда получилось такое решение.\n",
        "# Например для опять же 33 места. -33//4=-9. -9*-1=9\n",
        "place=int(input())\n",
        "cupe=-place//4\n",
        "print(cupe*-1)"
      ],
      "metadata": {
        "id": "Ws_4W5PvjM9m"
      },
      "execution_count": null,
      "outputs": []
    },
    {
      "cell_type": "markdown",
      "source": [
        "# Task10 Пересчет временного интервала\n",
        "Напишите программу для пересчёта величины временного интервала, заданного в минутах, в величину, выраженную в часах и минутах.\n",
        "\n",
        "Формат входных данных\n",
        "На вход программе подаётся целое число – количество минут.\n",
        "\n",
        "Формат выходных данных\n",
        "Программа должна вывести текст в соответствии с условием задачи.\n",
        "\n",
        "Тестовые данные 🟢\n",
        "Sample Input 1:\n",
        "\n",
        "150\n",
        "Sample Output 1:\n",
        "\n",
        "150 мин - это 2 час 30 минут."
      ],
      "metadata": {
        "id": "Ef7U5Y8OsUzJ"
      }
    },
    {
      "cell_type": "code",
      "source": [
        "countofminute = int(input())\n",
        "print(countofminute, 'мин - это', countofminute // 60, 'час', countofminute % 60, 'минут.' )\n"
      ],
      "metadata": {
        "colab": {
          "base_uri": "https://localhost:8080/"
        },
        "id": "rNxMRoJhskyP",
        "outputId": "72711125-56a6-4c6c-9dbc-c0907f8a464e"
      },
      "execution_count": null,
      "outputs": [
        {
          "output_type": "stream",
          "name": "stdout",
          "text": [
            "150\n",
            "150 мин - это 2 час 30 минут.\n"
          ]
        }
      ]
    },
    {
      "cell_type": "markdown",
      "source": [
        "# Обработка цифр числа\n"
      ],
      "metadata": {
        "id": "vI3uJ3RzyMd8"
      }
    },
    {
      "cell_type": "code",
      "source": [
        "num = 17\n",
        "a = num % 10\n",
        "b = num // 10\n",
        "print(a)\n",
        "print(b)"
      ],
      "metadata": {
        "colab": {
          "base_uri": "https://localhost:8080/"
        },
        "id": "ZcYenGqMyXXP",
        "outputId": "33f0cde0-9e79-4085-8b44-2b4592497590"
      },
      "execution_count": null,
      "outputs": [
        {
          "output_type": "stream",
          "name": "stdout",
          "text": [
            "7\n",
            "1\n"
          ]
        }
      ]
    },
    {
      "cell_type": "code",
      "source": [
        "num = 754\n",
        "a = num % 10\n",
        "b = (num % 100) // 10\n",
        "c = num // 100\n",
        "print(a)\n",
        "print(b)\n",
        "print(c)"
      ],
      "metadata": {
        "colab": {
          "base_uri": "https://localhost:8080/"
        },
        "id": "w12JUEHGyi5C",
        "outputId": "3b6b2cc3-4572-45a9-99d0-a18eaf42d690"
      },
      "execution_count": null,
      "outputs": [
        {
          "output_type": "stream",
          "name": "stdout",
          "text": [
            "4\n",
            "5\n",
            "7\n"
          ]
        }
      ]
    },
    {
      "cell_type": "markdown",
      "source": [
        "# Алгоритм получения цифр n-значного числа"
      ],
      "metadata": {
        "id": "kQVTzGmry6Hw"
      }
    },
    {
      "cell_type": "markdown",
      "source": [
        "# Решение задач"
      ],
      "metadata": {
        "id": "7GtMGmK6zOmz"
      }
    },
    {
      "cell_type": "code",
      "source": [
        "# Напишите программу, определяющую число десятков и единиц\n",
        "# в двузначном числе.\n",
        "# Число единиц – это последняя цифра числа, число десятков – первая\n",
        "# цифра. Чтобы получить последнюю цифру любого числа, нужно найти\n",
        "# остаток от деления числа на 10. Чтобы найти первую цифру двузначного\n",
        "# числа, нужно поделить число нацело на 10.\n",
        "num = int(input())\n",
        "last_digit = num % 10\n",
        "first_digit = num // 10\n",
        "print('Число десятков =', first_digit)\n",
        "print('Число единиц =', last_digit)\n"
      ],
      "metadata": {
        "colab": {
          "base_uri": "https://localhost:8080/"
        },
        "id": "qtD3UrqmzSLq",
        "outputId": "c184eca7-3084-460b-fb25-975460af2e47"
      },
      "execution_count": null,
      "outputs": [
        {
          "output_type": "stream",
          "name": "stdout",
          "text": [
            "3456\n",
            "Число десятков = 345\n",
            "Число единиц = 6\n"
          ]
        }
      ]
    },
    {
      "cell_type": "code",
      "source": [
        "# Напишите программу, в которой рассчитывается сумма цифр двузначного\n",
        "# числа.\n",
        "num = int(input())\n",
        "last_digit = num % 10\n",
        "first_digit = num // 10\n",
        "print('Сумма цифр =', last_digit + first_digit)"
      ],
      "metadata": {
        "colab": {
          "base_uri": "https://localhost:8080/"
        },
        "id": "NFAAVVTB0FhC",
        "outputId": "d4070977-215f-4d96-e1b9-f262e4f4fd48"
      },
      "execution_count": null,
      "outputs": [
        {
          "output_type": "stream",
          "name": "stdout",
          "text": [
            "67\n",
            "Сумма цифр = 13\n"
          ]
        }
      ]
    },
    {
      "cell_type": "code",
      "source": [
        "# Напишите программу, которая печатает число, образованное при\n",
        "# перестановке цифр двузначного числа.\n",
        "num = int(input())\n",
        "last_digit = num % 10\n",
        "first_digit = num // 10\n",
        "print('Искомое число =', last_digit * 10 + first_digit)"
      ],
      "metadata": {
        "colab": {
          "base_uri": "https://localhost:8080/"
        },
        "id": "aJcUYDmG0eL3",
        "outputId": "088655df-1e89-49ba-a509-b832536f4d13"
      },
      "execution_count": null,
      "outputs": [
        {
          "output_type": "stream",
          "name": "stdout",
          "text": [
            "56\n",
            "Искомое число = 65\n"
          ]
        }
      ]
    },
    {
      "cell_type": "code",
      "source": [
        "# Напишите программу, в которую вводится трёхзначное число и которая\n",
        "# выводит на экран его цифры (через запятую).\n",
        "num = int(input())\n",
        "digit3 = num % 10\n",
        "digit2 = (num // 10) % 10\n",
        "digit1 = num // 100\n",
        "print(digit1, digit2, digit3, sep=',')"
      ],
      "metadata": {
        "colab": {
          "base_uri": "https://localhost:8080/"
        },
        "id": "5wap4S7Q04Im",
        "outputId": "81d451e1-79d5-47d2-9f01-dc331508b39a"
      },
      "execution_count": null,
      "outputs": [
        {
          "output_type": "stream",
          "name": "stdout",
          "text": [
            "789\n",
            "7,8,9\n"
          ]
        }
      ]
    },
    {
      "cell_type": "code",
      "source": [
        "# для чайников:\n",
        "\n",
        "# 123456789  // 1 % 10 ---> 9                (единицы)\n",
        "\n",
        "# 123456789   // 10 % 10 ---> 8               (десятки)\n",
        "\n",
        "# 123456789  // 100 % 10 ---> 7               (сотни)\n",
        "\n",
        "# 123456789  // 1000 % 10 ---> 6             (тысячи)\n",
        "\n",
        "# 123456789  // 10000 % 10 ---> 5           (десятки тысяч)\n",
        "\n",
        "# 123456789  // 100000 % 10 ---> 4         (сотни тысяч)\n",
        "\n",
        "# 123456789  // 1000000 % 10 ---> 3       (миллионы)\n",
        "\n",
        "# 123456789  // 10000000 % 10 ---> 2     (десятки миллионов)\n",
        "\n",
        "# 123456789  // 100000000 % 10 ---> 1   (сотни миллионов)\n",
        "\n",
        "# и т. д."
      ],
      "metadata": {
        "id": "bOv_VQ3n1YJO"
      },
      "execution_count": null,
      "outputs": []
    },
    {
      "cell_type": "markdown",
      "source": [
        "# Task3 Трехзначное число\n",
        "Напишите программу, в которой рассчитывается сумма и произведение цифр положительного трёхзначного числа.\n",
        "\n",
        "Формат входных данных\n",
        "На вход программе подаётся положительное трёхзначное число.\n",
        "\n",
        "Формат выходных данных\n",
        "Программа должна вывести два числа с поясняющим текстом: сумма цифр и произведение цифр.\n",
        "\n",
        "Тестовые данные 🟢\n",
        "Sample Input 1:\n",
        "\n",
        "123\n",
        "Sample Output 1:\n",
        "\n",
        "Сумма цифр = 6\n",
        "Произведение цифр = 6\n",
        "Sample Input 2:\n",
        "\n",
        "333\n",
        "Sample Output 2:\n",
        "\n",
        "Сумма цифр = 9\n",
        "Произведение цифр = 27\n",
        "\n"
      ],
      "metadata": {
        "id": "vojMAWNqOGOg"
      }
    },
    {
      "cell_type": "code",
      "source": [
        "a = int(input())\n",
        "num1 = a // 100\n",
        "num2 = a // 10 % 10\n",
        "num3 = a % 10\n",
        "total_sum = num1 + num2 + num3\n",
        "multi = num1 * num2 * num3\n",
        "print('Сумма цифр =',total_sum)\n",
        "print('Произведение цифр =', multi)"
      ],
      "metadata": {
        "colab": {
          "base_uri": "https://localhost:8080/"
        },
        "id": "3AmgUL5CRp7n",
        "outputId": "cbafcc3e-3627-4f07-ee4f-0ccc8df0c3d9"
      },
      "execution_count": null,
      "outputs": [
        {
          "output_type": "stream",
          "name": "stdout",
          "text": [
            "333\n",
            "Сумма цифр = 9\n",
            "Произведение цифр = 27\n"
          ]
        }
      ]
    },
    {
      "cell_type": "code",
      "source": [
        "# решение учителя на степик\n",
        "number = int(input())\n",
        "\n",
        "d1 = (number // 10 ** 2) % 10\n",
        "d2 = (number // 10 ** 1) % 10\n",
        "d3 = (number // 10 ** 0) % 10\n",
        "print(d1)\n",
        "print(1 % 10)\n",
        "\n",
        "digits_sum = d1 + d2 + d3\n",
        "digits_prod = d1 * d2 * d3\n",
        "\n",
        "print(\"Сумма цифр =\", digits_sum)\n",
        "print(\"Произведение цифр =\", digits_prod)"
      ],
      "metadata": {
        "id": "32kyrsTQOZAz",
        "colab": {
          "base_uri": "https://localhost:8080/"
        },
        "outputId": "7bf23e04-bf0c-4bfd-eb9a-04db0bd9babc"
      },
      "execution_count": null,
      "outputs": [
        {
          "output_type": "stream",
          "name": "stdout",
          "text": [
            "345\n",
            "3\n",
            "1\n",
            "Сумма цифр = 12\n",
            "Произведение цифр = 60\n"
          ]
        }
      ]
    },
    {
      "cell_type": "markdown",
      "source": [
        "# Task4 Перестановка цифр\n",
        "Дано трехзначное число abc, в котором все цифры различны. Напишите программу, которая выводит шесть чисел, образованных при перестановке цифр заданного числа.\n",
        "\n",
        "Формат входных данных\n",
        "На вход программе подаётся положительное трёхзначное целое число, все цифры которого различны.\n",
        "\n",
        "Формат выходных данных\n",
        "Программа должна вывести шесть чисел, образованных при перестановке цифр заданного числа в следующем порядке:\n",
        "\n",
        "abc,acb,bac,bca,cab,cba."
      ],
      "metadata": {
        "id": "e-NJnN-AX7M7"
      }
    },
    {
      "cell_type": "code",
      "source": [
        "abc = int(input())\n",
        "a = abc // 100\n",
        "b = abc // 10 % 10\n",
        "c = abc % 10\n",
        "print(abc)\n",
        "print(a, c, b, sep='')\n",
        "print(b, a, c, sep='')\n",
        "print(b, c, a, sep='')\n",
        "print(c, a, b, sep='')\n",
        "print(c, b, a, sep='')"
      ],
      "metadata": {
        "id": "IsmIC6WaXyGG",
        "colab": {
          "base_uri": "https://localhost:8080/"
        },
        "outputId": "c716ccd8-55af-4204-b9c5-6196d3a6c48f"
      },
      "execution_count": null,
      "outputs": [
        {
          "output_type": "stream",
          "name": "stdout",
          "text": [
            "123\n",
            "123\n",
            "132\n",
            "213\n",
            "231\n",
            "312\n",
            "321\n"
          ]
        }
      ]
    },
    {
      "cell_type": "markdown",
      "source": [
        "#Task5 Четырёхзначное число\n",
        "Напишите программу для нахождения цифр четырёхзначного числа.\n",
        "\n",
        "Формат входных данных\n",
        "На вход программе подаётся положительное четырёхзначное целое число.\n",
        "\n",
        "Формат выходных данных\n",
        "Программа должна вывести текст в соответствии с условием задачи.\n",
        "\n",
        "Тестовые данные 🟢\n",
        "Sample Input 1:\n",
        "\n",
        "3281\n",
        "Sample Output 1:\n",
        "\n",
        "Цифра в позиции тысяч равна 3\n",
        "Цифра в позиции сотен равна 2\n",
        "Цифра в позиции десятков равна 8\n",
        "Цифра в позиции единиц равна 1\n"
      ],
      "metadata": {
        "id": "5lamhhTebdId"
      }
    },
    {
      "cell_type": "code",
      "source": [
        "abcd = int(input())\n",
        "a = abcd // 1000\n",
        "b = abcd // 100 % 10\n",
        "c = abcd // 10 % 10\n",
        "d = abcd % 10\n",
        "print('Цифра в позиции тысяч равна', a)\n",
        "print('Цифра в позиции сотен равна', b)\n",
        "print('Цифра в позиции десятков равна', c)\n",
        "print('Цифра в позиции единиц равна', d)"
      ],
      "metadata": {
        "colab": {
          "base_uri": "https://localhost:8080/"
        },
        "id": "DXFVPGY_eGfZ",
        "outputId": "72a4cc4f-a07b-4223-8a19-ca1a0c0fa9f0"
      },
      "execution_count": null,
      "outputs": [
        {
          "output_type": "stream",
          "name": "stdout",
          "text": [
            "3281\n",
            "Цифра в позиции тысяч равна 3\n",
            "Цифра в позиции сотен равна 2\n",
            "Цифра в позиции десятков равна 8\n",
            "Цифра в позиции единиц равна 1\n"
          ]
        }
      ]
    },
    {
      "cell_type": "code",
      "source": [
        "print('*****************')\n",
        "print('*', '*', sep='               ')\n",
        "print('*', '*', sep='               ')\n",
        "print('*****************')"
      ],
      "metadata": {
        "colab": {
          "base_uri": "https://localhost:8080/"
        },
        "id": "U-7iOSBxup9a",
        "outputId": "30ea56d4-1247-43bf-fa90-dc5c670a5283"
      },
      "execution_count": null,
      "outputs": [
        {
          "output_type": "stream",
          "name": "stdout",
          "text": [
            "*****************\n",
            "*               *\n",
            "*               *\n",
            "*****************\n"
          ]
        }
      ]
    },
    {
      "cell_type": "markdown",
      "source": [
        "# Экзамен Размножение n-ок\n",
        "\n",
        "Напишите программу, которая считывает целое положительное число\n",
        "n,n∈[1;9] и выводит значение числа\n",
        "n + nn + nnn.\n",
        "\n",
        "Формат входных данных\n",
        "На вход программе подаётся одно целое положительное число\n",
        "n,n∈[1;9].\n",
        "\n",
        "Формат выходных данных\n",
        "Программа должна вывести число\n",
        "n + nn + nnn.\n",
        "\n",
        "Примечание. Для первого теста\n",
        "1\n",
        "+\n",
        "11\n",
        "+\n",
        "111\n",
        "=\n",
        "123\n",
        "1+11+111=123.\n",
        "\n",
        "Тестовые данные 🟢\n",
        "Sample Input 1:\n",
        "\n",
        "1\n",
        "Sample Output 1:\n",
        "\n",
        "123\n",
        "Sample Input 2:\n",
        "\n",
        "2\n",
        "Sample Output 2:\n",
        "\n",
        "246\n",
        "Sample Input 3:\n",
        "\n",
        "3\n",
        "Sample Output 3:\n",
        "\n",
        "369\n",
        "Sample Input 4:\n",
        "\n",
        "9\n",
        "Sample Output 4:\n",
        "\n",
        "1107"
      ],
      "metadata": {
        "id": "P3C_rMFa5rbJ"
      }
    },
    {
      "cell_type": "code",
      "source": [
        "n = int(input())\n",
        "nn = n * 11\n",
        "nnn = n * 111\n",
        "print(n + nn + nnn)\n",
        "# n + nn + nnn = n + n * 11 + n * 111 = n * (1 + 11 + 111) = n * 123"
      ],
      "metadata": {
        "colab": {
          "base_uri": "https://localhost:8080/"
        },
        "id": "3Lg5HpDyx2cS",
        "outputId": "08aee6f9-a0e7-49f4-db42-93fee08f1e60"
      },
      "execution_count": null,
      "outputs": [
        {
          "output_type": "stream",
          "name": "stdout",
          "text": [
            "9\n",
            "1107\n"
          ]
        }
      ]
    },
    {
      "cell_type": "code",
      "source": [
        "n = int(input())\n",
        "result = 123 * n\n",
        "\n",
        "print(result)"
      ],
      "metadata": {
        "id": "8A53iEzE7gjS"
      },
      "execution_count": null,
      "outputs": []
    },
    {
      "cell_type": "code",
      "source": [
        "n = input()\n",
        "print(int(n) + int(n * 2) + int(n * 3))"
      ],
      "metadata": {
        "colab": {
          "base_uri": "https://localhost:8080/"
        },
        "id": "2TeW4XpA7ryg",
        "outputId": "a11f2f4c-00f9-4195-b5d3-eb47453e9608"
      },
      "execution_count": null,
      "outputs": [
        {
          "output_type": "stream",
          "name": "stdout",
          "text": [
            "9\n",
            "1107\n"
          ]
        }
      ]
    },
    {
      "cell_type": "code",
      "source": [
        "a = int(input())\n",
        "print(a + (a*10 + a) + ((a * 100) + (a * 10 + a)))\n"
      ],
      "metadata": {
        "id": "f-5A2E3675UV"
      },
      "execution_count": null,
      "outputs": []
    },
    {
      "cell_type": "code",
      "source": [
        "n = input()\n",
        "nn = n+n\n",
        "nnn = n+n+n\n",
        "\n",
        "a = int(n)\n",
        "b = int(nn)\n",
        "c= int(nnn)\n",
        "\n",
        "print(a+b+c)"
      ],
      "metadata": {
        "id": "YMmubjEK8M0o",
        "outputId": "76cc112d-e959-44b9-c22e-69a64004056c",
        "colab": {
          "base_uri": "https://localhost:8080/"
        }
      },
      "execution_count": null,
      "outputs": [
        {
          "output_type": "stream",
          "name": "stdout",
          "text": [
            "9\n",
            "1107\n"
          ]
        }
      ]
    }
  ]
}
