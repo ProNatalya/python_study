{
  "nbformat": 4,
  "nbformat_minor": 0,
  "metadata": {
    "colab": {
      "provenance": [],
      "authorship_tag": "ABX9TyPlY6YlC9knJ2JhdxOoLFYO",
      "include_colab_link": true
    },
    "kernelspec": {
      "name": "python3",
      "display_name": "Python 3"
    },
    "language_info": {
      "name": "python"
    }
  },
  "cells": [
    {
      "cell_type": "markdown",
      "metadata": {
        "id": "view-in-github",
        "colab_type": "text"
      },
      "source": [
        "<a href=\"https://colab.research.google.com/github/ProNatalya/python/blob/main/7_3_frequent_scenarios.ipynb\" target=\"_parent\"><img src=\"https://colab.research.google.com/assets/colab-badge.svg\" alt=\"Open In Colab\"/></a>"
      ]
    },
    {
      "cell_type": "markdown",
      "source": [
        "# Подсчет количества"
      ],
      "metadata": {
        "id": "Qy5OHSBJecwh"
      }
    },
    {
      "cell_type": "code",
      "source": [
        "# Ключ к подсчету - использование переменной счетчика.\n",
        "# Напишем программу, которая считывает 10 чисел и определяет\n",
        "# сколько из них больше 10.\n",
        "counter = 0\n",
        "for _ in range(10):\n",
        "    num = int(input())\n",
        "    if num > 10:\n",
        "        counter = counter + 1\n",
        "print('Было введено', counter, 'чисел, больших 10.')\n"
      ],
      "metadata": {
        "colab": {
          "base_uri": "https://localhost:8080/"
        },
        "id": "QAe9E6oqekrr",
        "outputId": "0c69ff96-2034-4609-9ebb-6fe673e0ecb4"
      },
      "execution_count": null,
      "outputs": [
        {
          "output_type": "stream",
          "name": "stdout",
          "text": [
            "4\n",
            "5\n",
            "5\n",
            "8\n",
            "32\n",
            "58\n",
            "6\n",
            "90\n",
            "43\n",
            "1\n",
            "Было введено 4 чисел, больших 10.\n"
          ]
        }
      ]
    },
    {
      "cell_type": "code",
      "source": [
        "# Строка кода counter = counter + 1 означает: возьми старое значение\n",
        "# переменной counter, прибавь к нему 1 и переприсвой переменной это значение"
      ],
      "metadata": {
        "id": "ypvoosn9f2Ir"
      },
      "execution_count": null,
      "outputs": []
    },
    {
      "cell_type": "markdown",
      "source": [
        "## Подсчет количества – это очень частый сценарий. Он состоит из двух шагов:\n",
        "\n",
        "1. Создание переменной счетчика и придание ей первоначального значения: counter = 0;\n",
        "2. Увеличение переменной счетчика на 1: counter = counter +"
      ],
      "metadata": {
        "id": "b-UO-QXigOCS"
      }
    },
    {
      "cell_type": "code",
      "source": [
        "counter1 = 0\n",
        "counter2 = 0\n",
        "for _ in range(10):\n",
        "    num = int(input())\n",
        "    if num > 10:\n",
        "        counter1 = counter1 + 1\n",
        "    if num == 0:\n",
        "        counter2 = counter2 + 1\n",
        "print('Было введено', counter1, 'чисел, больших 10.')\n",
        "print('Было введено', counter2, 'нулей.' )"
      ],
      "metadata": {
        "colab": {
          "base_uri": "https://localhost:8080/"
        },
        "id": "fn1HQrs-gwzy",
        "outputId": "996a8283-f683-40e0-f8a7-d7f43549ebb7"
      },
      "execution_count": null,
      "outputs": [
        {
          "output_type": "stream",
          "name": "stdout",
          "text": [
            "23\n",
            "4\n",
            "4\n",
            "87\n",
            "1\n",
            "5\n",
            "45\n",
            "56\n",
            "98\n",
            "65\n",
            "Было введено 6 чисел, больших 10.\n",
            "Было введено 0 нулей.\n"
          ]
        }
      ]
    },
    {
      "cell_type": "code",
      "source": [
        "# подсчитать количество чисел из диапазона\n",
        "#[1;100], квадрат которых оканчивается на 4.\n",
        "counter = 0\n",
        "for i in range(1, 101):\n",
        "    if i**2 % 10 == 4:\n",
        "        counter = counter + 1\n",
        "print(counter)\n",
        "# Мы используем функцию range() с двумя параметрами для генерации\n",
        "# последовательности чисел от 1 до 100. Переменная i последовательно принимает\n",
        "# значения от 1 до 100, мы проверяем, условие:\n",
        "# квадрат числа i оканчивается на 4 с помощью условия i**2 % 10 == 4."
      ],
      "metadata": {
        "colab": {
          "base_uri": "https://localhost:8080/"
        },
        "id": "VOp-cyqLhHRR",
        "outputId": "5ee61f78-e21f-4be1-d4bb-9605ed1eb65e"
      },
      "execution_count": null,
      "outputs": [
        {
          "output_type": "stream",
          "name": "stdout",
          "text": [
            "20\n"
          ]
        }
      ]
    },
    {
      "cell_type": "markdown",
      "source": [
        "# Вычисление суммы и произведения\n"
      ],
      "metadata": {
        "id": "IVJwd73Zh9XX"
      }
    },
    {
      "cell_type": "code",
      "source": [
        "# К примеру видео игра должна считать сумму очков\n",
        "# В таком случае начальное значение переменной будет равно 0,\n",
        "# а далее оно будет увеличиваться на некоторое количество заработанных очков,\n",
        "# скажем на 10.\n",
        "# Напишем программу, которая считывает 10 чисел и определяет сумму тех из них,\n",
        "# которые больше 10\n",
        "total = 0\n",
        "for _ in range(10):\n",
        "    num = int(input())\n",
        "    if num > 10:\n",
        "        total = total + num\n",
        "print('Сумма чисел больших 10 равна',  total)\n",
        "# Строка кода total = total + num означает возьми старое значение\n",
        "# переменной total, прибавь к нему num и переприсвой переменной это значение\n"
      ],
      "metadata": {
        "colab": {
          "base_uri": "https://localhost:8080/"
        },
        "id": "nsiwPVc_jhGI",
        "outputId": "f34475fa-df81-4da8-ef7e-d5402bd8f573"
      },
      "execution_count": null,
      "outputs": [
        {
          "output_type": "stream",
          "name": "stdout",
          "text": [
            "5\n",
            "4\n",
            "1\n",
            "67\n",
            "87\n",
            "45\n",
            "3\n",
            "6\n",
            "8\n",
            "8\n",
            "Сумма чисел больших 10 равна 199\n"
          ]
        }
      ]
    },
    {
      "cell_type": "markdown",
      "source": [
        "# Подсчет суммы состоит из двух шагов:\n",
        "- Создание переменной сумматора и придание ей первоначального значения: total = 0;\n",
        "- Увеличение переменной сумматора на нужное число: total = total + num."
      ],
      "metadata": {
        "id": "6kn1pFmVlhK8"
      }
    },
    {
      "cell_type": "code",
      "source": [
        "# Напишем программу, которая считает сумму натуральных чисел от 1 до 100:\n",
        "total = 0\n",
        "for i in range(1, 101):\n",
        "    total = total + i\n",
        "print('Сумма равна', total)"
      ],
      "metadata": {
        "colab": {
          "base_uri": "https://localhost:8080/"
        },
        "id": "BdmJOlZRmMKW",
        "outputId": "608a8fbb-571e-4df8-be81-dfdb9e25487d"
      },
      "execution_count": null,
      "outputs": [
        {
          "output_type": "stream",
          "name": "stdout",
          "text": [
            "Сумма равна 5050\n"
          ]
        }
      ]
    },
    {
      "cell_type": "code",
      "source": [
        "# напишем программу, которая запрашивает 10 целых чисел и находит\n",
        "# их среднее значение\n",
        "total = 0\n",
        "for _ in range(10):\n",
        "    num = int(input())\n",
        "    total = total + num\n",
        "average = total / 10\n",
        "print('Среднее значение равно', average)"
      ],
      "metadata": {
        "colab": {
          "base_uri": "https://localhost:8080/"
        },
        "id": "tJwnk1LinKRZ",
        "outputId": "5a44efe5-e8ec-4084-82d5-0b1a0e092cb5"
      },
      "execution_count": null,
      "outputs": [
        {
          "output_type": "stream",
          "name": "stdout",
          "text": [
            "4\n",
            "24\n",
            "65\n",
            "2\n",
            "67\n",
            "45\n",
            "78\n",
            "69\n",
            "54\n",
            "23\n",
            "Среднее значение равно 43.1\n"
          ]
        }
      ]
    },
    {
      "cell_type": "code",
      "source": [
        "# Аналогичным образом вычисляется произведение. При вычислении произведения,\n",
        "# начальное значение переменной мультипликатора мы устанавливаем равным 1,\n",
        "# в отличии от сумматора, где оно равно 0.\n",
        "# Для переменной сумматора и мультипликатора удобно использовать имя total"
      ],
      "metadata": {
        "id": "adsIK7mun7b4"
      },
      "execution_count": null,
      "outputs": []
    },
    {
      "cell_type": "markdown",
      "source": [
        "# Обмен значений переменных\n"
      ],
      "metadata": {
        "id": "KxqYUyK2rXZY"
      }
    },
    {
      "cell_type": "code",
      "source": [
        "# Очень часто нам требуется обменять значения двух переменных x и y.\n",
        "# Начинающие программисты иногда пишут такой код:\n",
        "# x = y\n",
        "# y = x\n",
        "# Однако он не работает."
      ],
      "metadata": {
        "id": "-tgYQKhnrjL8"
      },
      "execution_count": null,
      "outputs": []
    },
    {
      "cell_type": "code",
      "source": [
        "# Для решения задачи мы можем использовать временную переменную:\n",
        "# temp = x\n",
        "# x = y\n",
        "# y = temp\n",
        "# Такой код пишут почти во всех языках программирования.\n",
        "# Однако в Python есть и более простой способ\n",
        "# x, y = y, x\n",
        "# В результате выполнения такого кода Python поменяет значения\n",
        "# переменных x и y местами.\n",
        "\n"
      ],
      "metadata": {
        "id": "mvM1j6YBsO02"
      },
      "execution_count": null,
      "outputs": []
    },
    {
      "cell_type": "markdown",
      "source": [
        "# Сигнальные метки\n",
        "Сигнальная метка (флажок) может использоваться, когда надо чтобы одна часть программы узнала, о происходящем в другой части программы.\n"
      ],
      "metadata": {
        "id": "GNh79gkgtawk"
      }
    },
    {
      "cell_type": "code",
      "source": [
        "# Напишем программу, определяющую, что натуральное число является простым:\n",
        "num = int(input())\n",
        "flag = True\n",
        "\n",
        "for i in range(2, num):\n",
        "    if num % i == 0:        #  если исходное число делится на какое-либо\n",
        "                            #  отличное от 1 и самого себя\n",
        "        flag = False\n",
        "\n",
        "if num == 1:\n",
        "    print('Это единица, она не простая и не составная')\n",
        "elif flag == True:\n",
        "    print('Число простое')\n",
        "else:\n",
        "    print('Число составное')\n",
        "# Напомним, что число является простым, если оно не имеет делителей,\n",
        "# кроме 1 и самого себя.\n",
        "# Вышеприведенная программа работает следующим образом: начальное значение\n",
        "# переменной флага равно True, что говорит о том, что число является простым.\n",
        "# Затем мы перебираем все числа от 2 до num - 1 (включительно).\n",
        "# Если одно из этих значений оказывается делителем числа num, тогда число num\n",
        "# является составным и мы устанавливаем значение флага False.\n",
        "# Как только цикл завершен, мы проверяем, установлен флаг или нет.\n",
        "# Если это так, мы знаем, что был делитель, и число не является простым.\n",
        "# В противном случае число должно быть простым."
      ],
      "metadata": {
        "id": "Jaatjhw5t02D"
      },
      "execution_count": null,
      "outputs": []
    },
    {
      "cell_type": "markdown",
      "source": [
        "## Флаговые переменные могут иметь более осмысленное название. Например, в случае с проверкой числа на простоту, название флаговой переменной могло бы быть is_prime."
      ],
      "metadata": {
        "id": "i50yjyvnu2oX"
      }
    },
    {
      "cell_type": "markdown",
      "source": [
        "# Максимум и минимум\n",
        "Поиск наибольшего или наименьшего значения в некоторой последовательности чисел, также частая задача в программировании."
      ],
      "metadata": {
        "id": "Dw2UTb2IvFc7"
      }
    },
    {
      "cell_type": "code",
      "source": [
        "# Напишем программу, которая считывает 10 положительных чисел и находит\n",
        "# среди них наибольшее число.\n",
        "largest = -1\n",
        "for _ in range(10):\n",
        "    num = int(input())\n",
        "    if num > largest:\n",
        "        largest = num\n",
        "print('Наибольшее число равно', largest)"
      ],
      "metadata": {
        "colab": {
          "base_uri": "https://localhost:8080/"
        },
        "id": "boNKgQ_avOx5",
        "outputId": "2cefd824-ef83-4503-fc59-52e1c35a4c5f"
      },
      "execution_count": null,
      "outputs": [
        {
          "output_type": "stream",
          "name": "stdout",
          "text": [
            "3\n",
            "7\n",
            "2\n",
            "56\n",
            "7\n",
            "8\n",
            "6\n",
            "5\n",
            "89\n",
            "9\n",
            "Наибольшее число равно 89\n"
          ]
        }
      ]
    },
    {
      "cell_type": "markdown",
      "source": [
        "## Для нахождения наименьшего значения последовательности следует поменять знак неравенства (>) на противоположный (<). В таком случае название переменной largest стоит заменить на smallest"
      ],
      "metadata": {
        "id": "amxAEGNw1Lr2"
      }
    },
    {
      "cell_type": "markdown",
      "source": [
        "## Для переменных, хранящих наибольшее и наименьшее значения, подходят имена largest и smallest."
      ],
      "metadata": {
        "id": "z7cArGP_1aVI"
      }
    },
    {
      "cell_type": "markdown",
      "source": [
        "# Расширенные операторы присваивания\n",
        "Довольно часто программы имеют инструкции присваивания, в которых переменная на левой стороне от оператора = также появляется на правой от него стороне. Например,"
      ],
      "metadata": {
        "id": "cmuN9AJ41iCA"
      }
    },
    {
      "cell_type": "code",
      "source": [
        "# counter = counter + 1\n",
        "# По сути, это строка кода добавляет 1 к counter\n",
        "# Еще один пример такой инструкции мы видели при подсчете суммы:\n",
        "# total = total + num\n",
        "# Эта инструкция присваивает значение выражения total + num переменной total.\n",
        "# В результате исполнения этой инструкции число num прибавляется к\n",
        "# значению total.\n"
      ],
      "metadata": {
        "id": "ElXiQ3qn1sEN"
      },
      "execution_count": null,
      "outputs": []
    },
    {
      "cell_type": "code",
      "source": [
        "# Различные инструкции присваивания (в каждой инструкции x = 6)\n",
        "# x = x + 4 (Прибавляет 4 к x) => 10\n",
        "# x = x - 3\t(Вычитает 3 из x) => 3\n",
        "# x = x * 10 (Умножает x на 10) => 60\n",
        "# x = x / 4\t(Делит x на 4) =>\t1.5\n",
        "# x = x // 4\t(Делит нацело x на 4) => 1\n",
        "# x = x % 4\t(Находит остаток от деления x на 4) => 2\n",
        "\n"
      ],
      "metadata": {
        "id": "GMpBpZI33ACI"
      },
      "execution_count": null,
      "outputs": []
    },
    {
      "cell_type": "code",
      "source": [
        "# Для удобства Python предлагает расширенные операторы присваивания.\n",
        "# Расширенные операторы не требуют, чтобы программист дважды набирал имя\n",
        "# переменной. Приведенную ниже инструкцию:\n",
        "# total = total + num можно переписать как total += num\n",
        "# counter = counter + 1 можно переписать как counter += 1"
      ],
      "metadata": {
        "id": "IQuon3mo4f3w"
      },
      "execution_count": null,
      "outputs": []
    },
    {
      "cell_type": "code",
      "source": [
        "# Оператор / Пример использования /\tЭквивалент\n",
        "# += /\tx += 5  / x = x + 5\n",
        "# -= /\tx -= 2  / x = x - 2\n",
        "# *= /\tx *= 10 /\tx = x * 10\n",
        "# /= /  x /= 4\t/ x = x / 4\n",
        "# //= /\tx //= 4 / x = x // 4\n",
        "# %= /\tx %= 4\t/ x = x % 4\n",
        "\n"
      ],
      "metadata": {
        "id": "s20WHdgc6KIp"
      },
      "execution_count": null,
      "outputs": []
    },
    {
      "cell_type": "code",
      "source": [
        "# Примечания\n",
        "# 1. Аналогичным образом можно менять местами значения трех и более переменных.\n",
        "# a, b, c, d = b, c, d, a\n",
        "# 2. Очень часто сигнальные метки называют flag.\n",
        "# 3. Поскольку в Python есть встроенные функции max() и min(), то давать такие\n",
        "# названия для максимального и минимального значения не очень хорошо.\n",
        "# Куда лучше использовать названия largest и smallest или mx и mn.\n",
        "# 4. Сумму чисел от 1 до 100, можно вычислить и без цикла:\n",
        "# Сумма = 1+100 / 2 * 100 = 5050.\n",
        "# Действительно, числа от 1 до 100, можно разбить на 50 пар, сумма в которых\n",
        "# равна 101:\n",
        "# 1+100=101,2+99=101,3+98=101,…50+51=101."
      ],
      "metadata": {
        "id": "Di9C1o4g8ADh"
      },
      "execution_count": null,
      "outputs": []
    },
    {
      "cell_type": "markdown",
      "source": [
        "# В начальной школе, где учился математик Карл Фридрих Гаусс (6 лет), учитель, чтобы занять класс на продолжительное время самостоятельной работой, дал задание ученикам – вычислить сумму всех натуральных чисел от\n",
        "1 до 100. Маленький Гаусс ответил на вопрос почти мгновенно, применив указанный способ подсчета, чем невероятно удивил всех и, прежде всего, учителя."
      ],
      "metadata": {
        "id": "JzhZTnA6_53U"
      }
    },
    {
      "cell_type": "code",
      "source": [
        "num1 = 4\n",
        "num2 = 6\n",
        "num1 += num2\n",
        "num1 *= num1\n",
        "print(num1)"
      ],
      "metadata": {
        "colab": {
          "base_uri": "https://localhost:8080/"
        },
        "id": "bXAZZA51KOfH",
        "outputId": "bc2edaab-d8a9-4440-9535-0cb1d7f57ff7"
      },
      "execution_count": null,
      "outputs": [
        {
          "output_type": "stream",
          "name": "stdout",
          "text": [
            "100\n"
          ]
        }
      ]
    },
    {
      "cell_type": "code",
      "source": [
        "total = 0\n",
        "for i in range(1, 6):\n",
        "    total += i\n",
        "print(total)"
      ],
      "metadata": {
        "id": "dIUo2RuTKWkb",
        "outputId": "23cd851a-8c2c-480d-837b-01522593da9d",
        "colab": {
          "base_uri": "https://localhost:8080/"
        }
      },
      "execution_count": null,
      "outputs": [
        {
          "output_type": "stream",
          "name": "stdout",
          "text": [
            "15\n"
          ]
        }
      ]
    },
    {
      "cell_type": "code",
      "source": [
        "total = 0\n",
        "for i in range(1, 6):\n",
        "    total += i\n",
        "    print(total, end=\"\")"
      ],
      "metadata": {
        "id": "oj7F2-HeKbzA",
        "outputId": "9c42b0b5-fddd-4fcd-ba23-c209f9e30101",
        "colab": {
          "base_uri": "https://localhost:8080/"
        }
      },
      "execution_count": null,
      "outputs": [
        {
          "output_type": "stream",
          "name": "stdout",
          "text": [
            "1361015"
          ]
        }
      ]
    },
    {
      "cell_type": "markdown",
      "source": [
        "# Task1 Количество чисел\n",
        "На вход программе подаются два целых числа\n",
        "(a≤b).\n",
        "Напишите программу, которая подсчитывает количество чисел в диапазоне от a до b включительно, куб которых оканчивается на 4 или 9.\n",
        "\n",
        "Формат входных данных\n",
        "На вход программе подаются два целых числа (a≤b).\n",
        "\n",
        "Формат выходных данных\n",
        "Программа должна вывести одно целое число в соответствии с условием программы.\n",
        "\n",
        "Примечание. Куб числа a – это его третья степень\n",
        "a**3.\n",
        "\n",
        "Тестовые данные 🟢\n",
        "Sample Input 1:\n",
        "\n",
        "1\n",
        "10\n",
        "Sample Output 1:\n",
        "\n",
        "2\n",
        "Sample Input 2:\n",
        "\n",
        "1\n",
        "100\n",
        "Sample Output 2:\n",
        "\n",
        "20"
      ],
      "metadata": {
        "id": "6PC_KckdKoyw"
      }
    },
    {
      "cell_type": "code",
      "source": [
        "a = int(input())\n",
        "b = int(input())\n",
        "count = 0\n",
        "for i in range(a, b + 1):\n",
        "    if i** 3 % 10 == 4 or i** 3 % 10 == 9:\n",
        "     count = count + 1\n",
        "print(count)"
      ],
      "metadata": {
        "id": "6TAZgBHvLt-q"
      },
      "execution_count": null,
      "outputs": []
    },
    {
      "cell_type": "code",
      "source": [
        "a = int(input())\n",
        "b = int(input())\n",
        "count = 0\n",
        "for i in range(a, b + 1):\n",
        "    if i % 10 == 4 or i % 10 == 9:\n",
        "        count += 1\n",
        "print(count)"
      ],
      "metadata": {
        "colab": {
          "base_uri": "https://localhost:8080/"
        },
        "id": "ZnO5FZKwL8Fd",
        "outputId": "596e96c7-65a3-4fc8-9f40-4d7daf21f4c3"
      },
      "execution_count": null,
      "outputs": [
        {
          "output_type": "stream",
          "name": "stdout",
          "text": [
            "3\n",
            "5\n",
            "1\n"
          ]
        }
      ]
    },
    {
      "cell_type": "markdown",
      "source": [
        "# Task2 Сумма чисел\n",
        "На вход программе подается натуральное число n, а затем n целых чисел, каждое на отдельной строке. Напишите программу, которая подсчитывает сумму введенных чисел.\n",
        "\n",
        "Формат входных данных\n",
        "На вход программе подаются натуральное число n, а затем n целых чисел, каждое на отдельной строке.\n",
        "\n",
        "Формат выходных данных\n",
        "Программа должна вывести сумму данных чисел.\n",
        "\n",
        "Тестовые данные 🟢\n",
        "Sample Input:\n",
        "\n",
        "5\n",
        "3\n",
        "2\n",
        "1\n",
        "0\n",
        "-1\n",
        "Sample Output:\n",
        "\n",
        "5"
      ],
      "metadata": {
        "id": "tG-WQ48hMM_2"
      }
    },
    {
      "cell_type": "code",
      "source": [
        "n = int(input())\n",
        "total = 0\n",
        "for i in range(n):\n",
        "    num = int(input())\n",
        "    total = total + num\n",
        "print(total)\n"
      ],
      "metadata": {
        "colab": {
          "base_uri": "https://localhost:8080/"
        },
        "id": "nGhC4IlYMmAK",
        "outputId": "45eb25b5-ff1a-409d-f531-8c5d8fba1619"
      },
      "execution_count": null,
      "outputs": [
        {
          "output_type": "stream",
          "name": "stdout",
          "text": [
            "4\n",
            "3\n",
            "7\n",
            "8\n",
            "6\n",
            "24\n"
          ]
        }
      ]
    },
    {
      "cell_type": "code",
      "source": [
        "n = int(input())\n",
        "\n",
        "sm = 0\n",
        "for _ in range(n):\n",
        "    sm += int(input())\n",
        "\n",
        "print(sm)"
      ],
      "metadata": {
        "id": "w1nETcMAM5rm"
      },
      "execution_count": null,
      "outputs": []
    },
    {
      "cell_type": "code",
      "source": [
        "total = 0  # создаем счетчик с изначальным значением 0\n",
        "n = int(input())  # создаем переменную n\n",
        "for i in range(n):  # указываем прорграмме сколько раз должен повторяться цикл\n",
        "    num = int(input())  # num переменная для ввода чисел\n",
        "    total = total + num  # увеличиваем счетчик на значение num\n",
        "print(total)  # выводим итоговое значение"
      ],
      "metadata": {
        "id": "J3FS481yNBO2"
      },
      "execution_count": null,
      "outputs": []
    },
    {
      "cell_type": "markdown",
      "source": [
        "# Task3 Асимптотическое приближение\n",
        "На вход программе подается натуральное число n. Напишите программу, которая вычисляет значение выражения\n",
        "(1 + 1/2 + 1/3 + … + 1/n) - ln(n).\n",
        "\n",
        "Примечание. Для вычисления натурального логарифма воспользуйтесь функцией log(n), которая находится в модуле math.\n",
        "\n",
        "Тестовые данные 🟢\n",
        "Sample Input 1:\n",
        "\n",
        "10\n",
        "Sample Output 1:\n",
        "\n",
        "0.6263831609742079\n",
        "Sample Input 2:\n",
        "\n",
        "1\n",
        "Sample Output 2:\n",
        "\n",
        "1.0\n",
        "Sample Input 3:\n",
        "\n",
        "100\n",
        "Sample Output 3:\n",
        "\n",
        "0.5822073316515288"
      ],
      "metadata": {
        "id": "b0UhSvHoOwpX"
      }
    },
    {
      "cell_type": "code",
      "source": [
        "from math import*\n",
        "\n",
        "n = int(input())\n",
        "num = 0\n",
        "for i in range(1, n+1):\n",
        "    num = num + 1/(i) # Первый член 1/(i+1) равен 1\n",
        "print(num - log(n))\n"
      ],
      "metadata": {
        "colab": {
          "base_uri": "https://localhost:8080/"
        },
        "id": "JstnATdsPhPp",
        "outputId": "4d9b75c8-deb6-4a55-cb76-9bf1e2b616da"
      },
      "execution_count": null,
      "outputs": [
        {
          "output_type": "stream",
          "name": "stdout",
          "text": [
            "10\n",
            "0.6263831609742079\n"
          ]
        }
      ]
    },
    {
      "cell_type": "markdown",
      "source": [],
      "metadata": {
        "id": "-ZUGCl68TnPk"
      }
    },
    {
      "cell_type": "code",
      "source": [
        "from math import log\n",
        "\n",
        "n = int(input())\n",
        "\n",
        "res = -log(n)\n",
        "for i in range(1, n + 1):\n",
        "    res += 1 / i\n",
        "\n",
        "print(res)"
      ],
      "metadata": {
        "id": "C1BVoB0pQCws"
      },
      "execution_count": null,
      "outputs": []
    },
    {
      "cell_type": "code",
      "source": [
        "from math import log\n",
        "\n",
        "n = int(input())\n",
        "\n",
        "res = -log(n)\n",
        "for i in range(1, n + 1):\n",
        "    res += 1 / i\n",
        "\n",
        "print(res)"
      ],
      "metadata": {
        "id": "v6a2AqZ9Q-oU"
      },
      "execution_count": null,
      "outputs": []
    },
    {
      "cell_type": "markdown",
      "source": [
        "# Task4 Сумма чисел 2\n",
        "На вход программе подается натуральное число n. Напишите программу, которая подсчитывает сумму тех чисел от 1 до n (включительно), квадрат которых оканчивается на 2,5 или 8.\n",
        "\n",
        "Формат входных данных\n",
        "На вход программе подается натуральное число n.\n",
        "\n",
        "Формат выходных данных\n",
        "Программа должна вывести единственное число в соответствии с условием задачи.\n",
        "\n",
        "Примечание. Если таких чисел нет в указанном диапазоне, то следует вывести 0.\n",
        "\n",
        "Тестовые данные 🟢\n",
        "Sample Input 1:\n",
        "\n",
        "10\n",
        "Sample Output 1:\n",
        "\n",
        "5\n",
        "Sample Input 2:\n",
        "\n",
        "100\n",
        "Sample Output 2:\n",
        "\n",
        "500\n",
        "Sample Input 3:\n",
        "\n",
        "1992\n",
        "Sample Output 3:\n",
        "\n",
        "198005"
      ],
      "metadata": {
        "id": "CQTZgJQUTyp5"
      }
    },
    {
      "cell_type": "code",
      "source": [
        "# put your python code here\n",
        "n = int(input())\n",
        "counter = 0\n",
        "for i in range(1, n + 1):\n",
        "    if i**2 % 10 == 2 or i**2 % 10 == 5 or i**2 % 10 == 8:\n",
        "        counter = counter + i\n",
        "print(counter)"
      ],
      "metadata": {
        "colab": {
          "base_uri": "https://localhost:8080/"
        },
        "id": "09Nm5k1cUWNP",
        "outputId": "7ea0bb96-42a9-48b6-e33a-0709d7c7308a"
      },
      "execution_count": 7,
      "outputs": [
        {
          "output_type": "stream",
          "name": "stdout",
          "text": [
            "5\n",
            "5\n"
          ]
        }
      ]
    },
    {
      "cell_type": "code",
      "source": [
        "n = int(input())\n",
        "\n",
        "sm = 0\n",
        "for i in range(5, n + 1, 10):\n",
        "    sm += i\n",
        "\n",
        "print(sm)"
      ],
      "metadata": {
        "id": "20AqHgsPVBSQ"
      },
      "execution_count": null,
      "outputs": []
    },
    {
      "cell_type": "code",
      "source": [
        "n, sum = int(input()), 0\n",
        "for i in range(1, n + 1):\n",
        "    if i**2 % 10 in [2, 5, 8]:\n",
        "        sum += i\n",
        "print(sum) # 5 and 15 from 1 to 16"
      ],
      "metadata": {
        "colab": {
          "base_uri": "https://localhost:8080/"
        },
        "id": "UoBO_GO8VIv5",
        "outputId": "2ad9368b-a3c1-4fd9-c2a8-650119a68974"
      },
      "execution_count": 8,
      "outputs": [
        {
          "output_type": "stream",
          "name": "stdout",
          "text": [
            "16\n",
            "20\n"
          ]
        }
      ]
    },
    {
      "cell_type": "markdown",
      "source": [
        "# Task5 Факториал\n",
        "На вход программе подается натуральное число n. Напишите программу, которая вычисляет n!.\n",
        "\n",
        "Входные данные\n",
        "На вход программе подается натуральное число n,(n≤12).\n",
        "\n",
        "Выходные данные\n",
        "Программа должна вывести единственное число в соответствии с условием задачи.\n",
        "\n",
        "Примечание. Факториалом натурального числа n, называется произведение всех натуральных чисел от 1 до n, то есть\n",
        "n! = 1⋅2⋅3⋅…⋅n\n",
        "\n",
        "Тестовые данные 🟢\n",
        "Sample Input 1:\n",
        "\n",
        "3\n",
        "Sample Output 1:\n",
        "\n",
        "6\n",
        "Sample Input 2:\n",
        "\n",
        "1\n",
        "Sample Output 2:\n",
        "\n",
        "1\n",
        "Sample Input 3:\n",
        "\n",
        "2\n",
        "Sample Output 3:\n",
        "\n",
        "2"
      ],
      "metadata": {
        "id": "s8j1FZ2dZNwT"
      }
    },
    {
      "cell_type": "code",
      "source": [
        "n = int(input())\n",
        "count = 1\n",
        "for i in range(1, n+1):\n",
        "    count = count * i\n",
        "print(count)"
      ],
      "metadata": {
        "colab": {
          "base_uri": "https://localhost:8080/"
        },
        "id": "MmNv94PzZ7d2",
        "outputId": "dd4075ca-dd70-402b-ace3-a0c0d3627134"
      },
      "execution_count": 9,
      "outputs": [
        {
          "output_type": "stream",
          "name": "stdout",
          "text": [
            "3\n",
            "6\n"
          ]
        }
      ]
    },
    {
      "cell_type": "code",
      "source": [
        "n = int(input())\n",
        "\n",
        "res = 1\n",
        "for i in range(1, n + 1):\n",
        "    res *= i\n",
        "\n",
        "print(res)"
      ],
      "metadata": {
        "id": "yXUiYXcgaUa9"
      },
      "execution_count": null,
      "outputs": []
    },
    {
      "cell_type": "markdown",
      "source": [
        "# Task6 Без нулей\n",
        "Напишите программу, которая считывает 10 чисел и выводит произведение отличных от нуля чисел.\n",
        "\n",
        "Формат входных данных\n",
        "На вход программе подаются 10 целых чисел, каждое на отдельной строке.\n",
        "\n",
        "Формат выходных данных\n",
        "Программа должна вывести произведение отличных от нуля чисел.\n",
        "\n",
        "Примечание. Гарантируется, что хотя бы одно из 10 чисел является ненулевым.\n",
        "\n",
        "Тестовые данные 🟢\n",
        "Sample Input 1:\n",
        "\n",
        "8\n",
        "0\n",
        "1\n",
        "2\n",
        "1\n",
        "0\n",
        "0\n",
        "5\n",
        "4\n",
        "12\n",
        "Sample Output 1:\n",
        "\n",
        "3840\n",
        "Sample Input 2:\n",
        "\n",
        "1\n",
        "43\n",
        "2\n",
        "234\n",
        "78\n",
        "0\n",
        "1\n",
        "1\n",
        "23\n",
        "4\n",
        "Sample Output 2:\n",
        "\n",
        "144409824\n",
        "Sample Input 3:\n",
        "\n",
        "3\n",
        "8\n",
        "66\n",
        "1110\n",
        "4\n",
        "2\n",
        "2\n",
        "1\n",
        "0\n",
        "0"
      ],
      "metadata": {
        "id": "nW2VWQNeo5O7"
      }
    },
    {
      "cell_type": "code",
      "source": [
        "total = 1\n",
        "for i in range(10):\n",
        "    n = int(input())\n",
        "    if n != 0:\n",
        "        total = total * n\n",
        "print(total)\n"
      ],
      "metadata": {
        "colab": {
          "base_uri": "https://localhost:8080/"
        },
        "id": "qRvoPq6UpG9k",
        "outputId": "f17cd998-5c31-4706-98bd-27e59283b5f2"
      },
      "execution_count": 11,
      "outputs": [
        {
          "output_type": "stream",
          "name": "stdout",
          "text": [
            "8\n",
            "0\n",
            "1\n",
            "2\n",
            "1\n",
            "0\n",
            "0\n",
            "5\n",
            "4\n",
            "1\n",
            "320\n"
          ]
        }
      ]
    },
    {
      "cell_type": "code",
      "source": [
        "res = 1\n",
        "\n",
        "for _ in range(10):\n",
        "    x = int(input())\n",
        "    if x != 0:\n",
        "        res *= x\n",
        "\n",
        "print(res)"
      ],
      "metadata": {
        "id": "0XPzHNHRpqUh"
      },
      "execution_count": null,
      "outputs": []
    },
    {
      "cell_type": "code",
      "source": [
        "p = 1\n",
        "for _ in range(10):\n",
        "    n = int(input())\n",
        "    p *= n + (n == 0)\n",
        "print(p)"
      ],
      "metadata": {
        "colab": {
          "base_uri": "https://localhost:8080/"
        },
        "id": "IHhW9-jGpwuc",
        "outputId": "37b28541-1ff7-4849-fef3-245729dce3df"
      },
      "execution_count": 12,
      "outputs": [
        {
          "output_type": "stream",
          "name": "stdout",
          "text": [
            "1\n",
            "4\n",
            "8\n",
            "5\n",
            "4\n",
            "3\n",
            "2\n",
            "8\n",
            "4\n",
            "3\n",
            "368640\n"
          ]
        }
      ]
    },
    {
      "cell_type": "markdown",
      "source": [
        "# Task7 Сумма делителей\n",
        "На вход программе подается натуральное число\n",
        "n. Напишите программу, которая вычисляет сумму всех его делителей.\n",
        "\n",
        "Входные данные\n",
        "На вход программе подается натуральное число n.\n",
        "\n",
        "Выходные данные\n",
        "Программа должна вывести единственное число в соответствии с условием задачи.\n",
        "\n",
        "Примечание. Функция подсчета суммы всех делителей числа является очень важной в теории чисел.\n",
        "\n",
        "Тестовые данные 🟢\n",
        "Sample Input 1:\n",
        "\n",
        "10\n",
        "Sample Output 1:\n",
        "\n",
        "18\n",
        "Sample Input 2:\n",
        "\n",
        "50\n",
        "Sample Output 2:\n",
        "\n",
        "93"
      ],
      "metadata": {
        "id": "Y7-iXXysqBVQ"
      }
    },
    {
      "cell_type": "code",
      "source": [
        "n = int(input())\n",
        "count = 0\n",
        "for i in range(1, n+1):\n",
        "    if n % i == 0:\n",
        "        count = count + i\n",
        "print(count)"
      ],
      "metadata": {
        "colab": {
          "base_uri": "https://localhost:8080/"
        },
        "id": "d6PaMZf_qP7n",
        "outputId": "5eb1657b-3b4e-4b32-cbd9-ad632da00dbf"
      },
      "execution_count": 13,
      "outputs": [
        {
          "output_type": "stream",
          "name": "stdout",
          "text": [
            "10\n",
            "18\n"
          ]
        }
      ]
    },
    {
      "cell_type": "code",
      "source": [
        "n = int(input())\n",
        "\n",
        "total = 0\n",
        "for i in range (1, n + 1):\n",
        "    if n % i == 0:\n",
        "        total += i\n",
        "\n",
        "print(total)"
      ],
      "metadata": {
        "id": "Jb-kCNP3qlDh"
      },
      "execution_count": null,
      "outputs": []
    },
    {
      "cell_type": "markdown",
      "source": [
        "# Task8 Знакочередующаяся сумма\n",
        "На вход программе подается натуральное число n. Напишите программу вычисления знакочередующей суммы\n",
        "1 - 2 + 3 - 4 + 5 - 6 + ... + (-1)**n+1 * n.\n",
        "\n",
        "Входные данные\n",
        "На вход программе подается натуральное число n.\n",
        "Выходные данные\n",
        "Программа должна вывести единственное число в соответствии с условием задачи.\n",
        "\n",
        "Тестовые данные 🟢\n",
        "Sample Input 1:\n",
        "\n",
        "1\n",
        "Sample Output 1:\n",
        "\n",
        "1\n",
        "Sample Input 2:\n",
        "\n",
        "5\n",
        "Sample Output 2:\n",
        "\n",
        "3"
      ],
      "metadata": {
        "id": "FCIHCfCnqr2F"
      }
    },
    {
      "cell_type": "code",
      "source": [
        "# put your python code here\n",
        "n = int(input())\n",
        "count = 0\n",
        "for i in range(1, n + 1):\n",
        "    if i % 2 != 0:\n",
        "        count = count + i\n",
        "    else:\n",
        "        count = count - i\n",
        "print(count)"
      ],
      "metadata": {
        "colab": {
          "base_uri": "https://localhost:8080/"
        },
        "id": "TM9mqqNFr40m",
        "outputId": "d164ca42-0f16-48ed-87b1-af55526d64d5"
      },
      "execution_count": 14,
      "outputs": [
        {
          "output_type": "stream",
          "name": "stdout",
          "text": [
            "5\n",
            "3\n"
          ]
        }
      ]
    },
    {
      "cell_type": "code",
      "source": [
        "n = int(input())\n",
        "\n",
        "f = 0\n",
        "for i in range(1, n + 1):\n",
        "    f += (-1) ** (i + 1) * i\n",
        "\n",
        "print(f)"
      ],
      "metadata": {
        "colab": {
          "base_uri": "https://localhost:8080/"
        },
        "id": "3dJv3sXOsXG-",
        "outputId": "e043294e-af11-4b7a-bfee-b08b414860e1"
      },
      "execution_count": 15,
      "outputs": [
        {
          "output_type": "stream",
          "name": "stdout",
          "text": [
            "5\n",
            "3\n"
          ]
        }
      ]
    },
    {
      "cell_type": "markdown",
      "source": [
        "# Task9 Наибольшие числа 🌶️🌶️\n",
        "На вход программе подается натуральное число n, а затем\n",
        "n различных натуральных чисел последовательности, каждое на отдельной строке. Напишите программу, которая выводит наибольшее и второе наибольшее число последовательности.\n",
        "\n",
        "Формат входных данных\n",
        "На вход программе подаются натуральное число n≥2, а затем\n",
        "n различных натуральных чисел, каждое на отдельной строке.\n",
        "\n",
        "Формат выходных данных\n",
        "Программа должна вывести два наибольших числа, каждое на отдельной строке.\n",
        "\n",
        "Тестовые данные 🟢\n",
        "Sample Input 1:\n",
        "\n",
        "5\n",
        "1\n",
        "2\n",
        "3\n",
        "4\n",
        "5\n",
        "Sample Output 1:\n",
        "\n",
        "5\n",
        "4\n",
        "Sample Input 2:\n",
        "\n",
        "8\n",
        "9\n",
        "7\n",
        "5\n",
        "4\n",
        "3\n",
        "2\n",
        "78\n",
        "1"
      ],
      "metadata": {
        "id": "sEEr3VLHs-hV"
      }
    },
    {
      "cell_type": "code",
      "source": [
        "n = int(input())\n",
        "max1 = 0\n",
        "max2 = 1\n",
        "for i in range(1, n+1):\n",
        "    num = int(input())\n",
        "    if num > max1:\n",
        "        max2 = max1\n",
        "        max1 = num\n",
        "    elif num > max2:\n",
        "        max2 = num\n",
        "print(max1)\n",
        "print(max2)"
      ],
      "metadata": {
        "id": "dNPxosHjtct1"
      },
      "execution_count": null,
      "outputs": []
    },
    {
      "cell_type": "code",
      "source": [
        "n = int(input())   # вводится число членов дальнейшей последовательности\n",
        "largest = n   # n идёт в начале всей последовательности и до введения следующих\n",
        "# является наибольшим\n",
        "previous_largest = 0   # предыдущее не вводилось, примем за 0 до переприсвоения\n",
        "\n",
        "for _ in range(n):   # начинаем цикл записи остальных чисел, их сравнивания\n",
        "                      # и переприсвоения\n",
        "    num = int(input())\n",
        "    if num > largest:    # если введённое число больше largest\n",
        "    # (самое первое largest = n)\n",
        "        previous_largest = largest    # прошлое самое большое становится\n",
        "        #предыдущим наибольшим\n",
        "        largest = num   # а данное введённое становится наибольшим пока\n",
        "        # не введут следующие\n",
        "    elif previous_largest < num < largest:   # если введ. числ. больше\n",
        "    # предыдущего наибольшего но меньше наибольшего\n",
        "        previous_largest = num   # оно вытесняет пред наибольшее и само\n",
        "        # становится им.\n",
        "    else:    # num < previous_largest: если введённое число меньше предыдущего\n",
        "    # наиб, ничего не изменится\n",
        "        num = num\n",
        "print(largest)\n",
        "print(previous_largest)"
      ],
      "metadata": {
        "id": "HwFKhSiRttzI"
      },
      "execution_count": null,
      "outputs": []
    },
    {
      "cell_type": "markdown",
      "source": [
        "# Task10 Only even numbers 🌶️\n",
        "Напишите программу, которая считывает последовательность из 10 целых чисел и определяет является ли каждое из них четным или нет.\n",
        "\n",
        "Формат входных данных\n",
        "На вход программе подаются 10 целых чисел, каждое на отдельной строке.\n",
        "\n",
        "Формат выходных данных\n",
        "Программа должна вывести строку «YES», если все числа четные и «NO» в ином случае.\n",
        "\n",
        "Тестовые данные 🟢\n",
        "Sample Input 1:\n",
        "\n",
        "2\n",
        "4\n",
        "6\n",
        "8\n",
        "10\n",
        "12\n",
        "14\n",
        "16\n",
        "18\n",
        "20\n",
        "Sample Output 1:\n",
        "\n",
        "YES\n",
        "Sample Input 2:\n",
        "\n",
        "1\n",
        "2\n",
        "3\n",
        "4\n",
        "5\n",
        "6\n",
        "7\n",
        "8\n",
        "9\n",
        "10\n",
        "Sample Output 2:\n",
        "\n",
        "NO"
      ],
      "metadata": {
        "id": "W6V_mTWguLg-"
      }
    },
    {
      "cell_type": "code",
      "source": [
        "count = 0\n",
        "for i in range(1, 11):\n",
        "    n = int(input())\n",
        "    if n % 2 == 0:\n",
        "        count = count + 1\n",
        "if count == 10:\n",
        "    print('YES')\n",
        "else:\n",
        "    print('NO')"
      ],
      "metadata": {
        "id": "Xsfu8LnNuVyd"
      },
      "execution_count": null,
      "outputs": []
    },
    {
      "cell_type": "code",
      "source": [
        "cnt_odd = 0\n",
        "for _ in range(10):\n",
        "    n = int(input())\n",
        "\n",
        "    cnt_odd += n % 2\n",
        "\n",
        "\n",
        "if cnt_odd > 0:\n",
        "    print('NO')\n",
        "else:\n",
        "    print('YES')"
      ],
      "metadata": {
        "id": "elc8Bfzzu5C7"
      },
      "execution_count": null,
      "outputs": []
    },
    {
      "cell_type": "code",
      "source": [
        "flag = True\n",
        "for _ in range(10):\n",
        "    n = int(input())\n",
        "\n",
        "    if n % 2 == 1:\n",
        "        flag = False\n",
        "\n",
        "\n",
        "if flag:\n",
        "    print('YES')\n",
        "else:\n",
        "    print('NO')"
      ],
      "metadata": {
        "id": "sYOYQ39Qu-xZ"
      },
      "execution_count": null,
      "outputs": []
    },
    {
      "cell_type": "markdown",
      "source": [
        "# Task11 Последовательность Фибоначчи 🌶️\n",
        "Напишите программу, которая считывает натуральное число n и выводит первые n чисел последовательности Фибоначчи.\n",
        "\n",
        "Формат входных данных\n",
        "На вход программе подается одно число\n",
        "n (n≤100) – количество членов последовательности.\n",
        "\n",
        "Формат выходных данных\n",
        "Программа должна вывести члены последовательности Фибоначчи, отделенные символом пробела.\n",
        "\n",
        "Примечание. Последовательность Фибоначчи – это последовательность натуральных чисел, где каждое последующее число является суммой двух предыдущих:\n",
        "1,1,2,3,5,8,13,21,34,55,89,...\n",
        "Тестовые данные 🟢\n",
        "Sample Input 1:\n",
        "\n",
        "1\n",
        "Sample Output 1:\n",
        "\n",
        "1\n",
        "Sample Input 2:\n",
        "\n",
        "5\n",
        "Sample Output 2:\n",
        "\n",
        "1 1 2 3 5\n",
        "Sample Input 3:\n",
        "\n",
        "22\n",
        "Sample Output 3:\n",
        "\n",
        "1 1 2 3 5 8 13 21 34 55 89 144 233 377 610 987 1597 2584 4181 6765 10946 17711"
      ],
      "metadata": {
        "id": "rn_OsummvK_W"
      }
    },
    {
      "cell_type": "code",
      "source": [
        "n = int(input())\n",
        "f1 = 0\n",
        "f2 = 1\n",
        "# x, y = y, x\n",
        "for i in range(n):\n",
        "    f1, f2 = f2, f1 + f2\n",
        "    print(f1, end=' ')"
      ],
      "metadata": {
        "id": "GE-g2LavwII8"
      },
      "execution_count": null,
      "outputs": []
    },
    {
      "cell_type": "code",
      "source": [
        "n = int(input())\n",
        "a, b = 1, 1\n",
        "\n",
        "for i in range(n):\n",
        "    print(a, end=' ')\n",
        "    a, b = b, a + b"
      ],
      "metadata": {
        "id": "WKb55h0WwTKE"
      },
      "execution_count": null,
      "outputs": []
    }
  ]
}
