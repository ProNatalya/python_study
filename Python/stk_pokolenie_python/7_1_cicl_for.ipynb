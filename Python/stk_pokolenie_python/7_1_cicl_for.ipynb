{
  "nbformat": 4,
  "nbformat_minor": 0,
  "metadata": {
    "colab": {
      "provenance": [],
      "authorship_tag": "ABX9TyPO/DgOk5JTp/9Uw7gSh4In",
      "include_colab_link": true
    },
    "kernelspec": {
      "name": "python3",
      "display_name": "Python 3"
    },
    "language_info": {
      "name": "python"
    }
  },
  "cells": [
    {
      "cell_type": "markdown",
      "metadata": {
        "id": "view-in-github",
        "colab_type": "text"
      },
      "source": [
        "<a href=\"https://colab.research.google.com/github/ProNatalya/python/blob/main/7_1_cicl_for.ipynb\" target=\"_parent\"><img src=\"https://colab.research.google.com/assets/colab-badge.svg\" alt=\"Open In Colab\"/></a>"
      ]
    },
    {
      "cell_type": "markdown",
      "source": [
        "# В Python существует две основных разновидности циклов:\n",
        "\n",
        "- циклы, повторяющиеся определенное количество раз (for, счетные циклы, counting loops);\n",
        "- циклы, повторяющиеся до наступления определенного события (while, условные циклы, conditional loops)."
      ],
      "metadata": {
        "id": "uoTPli4jspSu"
      }
    },
    {
      "cell_type": "markdown",
      "source": [
        "## Цикл for замечательно работает, если мы заранее знаем, сколько повторений (итераций) нам требуется сделать."
      ],
      "metadata": {
        "id": "9HW-Zg0RtVOs"
      }
    },
    {
      "cell_type": "code",
      "source": [
        "for i in range(10):# распечатывает 10 раз слово привет\n",
        "      print('Привет') # Блок команд, который выполняется в цикле for называется\n",
        "                      # телом цикла."
      ],
      "metadata": {
        "colab": {
          "base_uri": "https://localhost:8080/"
        },
        "id": "vcwOvw-XtcxD",
        "outputId": "e20cbb3c-903b-48c1-ab6a-ecca991488d5"
      },
      "execution_count": null,
      "outputs": [
        {
          "output_type": "stream",
          "name": "stdout",
          "text": [
            "Привет\n",
            "Привет\n",
            "Привет\n",
            "Привет\n",
            "Привет\n",
            "Привет\n",
            "Привет\n",
            "Привет\n",
            "Привет\n",
            "Привет\n"
          ]
        }
      ]
    },
    {
      "cell_type": "code",
      "source": [
        "# for название_переменной_цикла in range(количество повторений):\n",
        "#   блок кода"
      ],
      "metadata": {
        "id": "xdnYuFFFtsU3"
      },
      "execution_count": null,
      "outputs": []
    },
    {
      "cell_type": "code",
      "source": [
        "for i in range(5):\n",
        "    num = int(input())\n",
        "    print('Квадрат вашего числа равен:', num * num)\n",
        "print('Цикл завершен') #строка не содержит отступа, поэтому не является частью\n",
        "                       # цикла\n",
        "# Такая программа считывает 5 чисел и выводит на экран их квадраты вместе\n",
        "# с поясняющей надписью."
      ],
      "metadata": {
        "colab": {
          "base_uri": "https://localhost:8080/"
        },
        "id": "CqHghWIOuavT",
        "outputId": "099ce692-0631-4958-b786-37f7159af5bf"
      },
      "execution_count": null,
      "outputs": [
        {
          "output_type": "stream",
          "name": "stdout",
          "text": [
            "4\n",
            "Квадрат вашего числа равен: 16\n",
            "9\n",
            "Квадрат вашего числа равен: 81\n",
            "69\n",
            "Квадрат вашего числа равен: 4761\n",
            "3\n",
            "Квадрат вашего числа равен: 9\n",
            "8\n",
            "Квадрат вашего числа равен: 64\n",
            "Цикл завершен\n"
          ]
        }
      ]
    },
    {
      "cell_type": "code",
      "source": [
        "print('A')\n",
        "print('B')\n",
        "for i in range(5):\n",
        "    print('C')\n",
        "    print('D')\n",
        "print('E')"
      ],
      "metadata": {
        "colab": {
          "base_uri": "https://localhost:8080/"
        },
        "id": "w7ZnFvMPvKfI",
        "outputId": "08198a62-840f-4ad7-a21b-b531ab7a064d"
      },
      "execution_count": null,
      "outputs": [
        {
          "output_type": "stream",
          "name": "stdout",
          "text": [
            "A\n",
            "B\n",
            "C\n",
            "D\n",
            "C\n",
            "D\n",
            "C\n",
            "D\n",
            "C\n",
            "D\n",
            "C\n",
            "D\n",
            "E\n"
          ]
        }
      ]
    },
    {
      "cell_type": "code",
      "source": [
        "print('A')\n",
        "print('B')\n",
        "for i in range(5):\n",
        "    print('C')\n",
        "for i in range(5):\n",
        "    print('D')\n",
        "print('E')"
      ],
      "metadata": {
        "colab": {
          "base_uri": "https://localhost:8080/"
        },
        "id": "PVu8pYrGvVDx",
        "outputId": "1d1a9303-fc61-4d71-dada-c63367db8ead"
      },
      "execution_count": null,
      "outputs": [
        {
          "output_type": "stream",
          "name": "stdout",
          "text": [
            "A\n",
            "B\n",
            "C\n",
            "C\n",
            "C\n",
            "C\n",
            "C\n",
            "D\n",
            "D\n",
            "D\n",
            "D\n",
            "D\n",
            "E\n"
          ]
        }
      ]
    },
    {
      "cell_type": "markdown",
      "source": [
        "## Однократное выполнение тела цикла называется итерацией цикла."
      ],
      "metadata": {
        "id": "PtC23JHZva3H"
      }
    },
    {
      "cell_type": "code",
      "source": [],
      "metadata": {
        "id": "-_wmKtbNv9l-"
      },
      "execution_count": null,
      "outputs": []
    },
    {
      "cell_type": "code",
      "source": [
        "# Программа должна вывести 10 раз текст «Python is awesome!»,\n",
        "# каждый на отдельной строке.\n",
        "for i in range(10):\n",
        "    print('Python is awesome!')"
      ],
      "metadata": {
        "colab": {
          "base_uri": "https://localhost:8080/"
        },
        "id": "lfNYUwlLwjRK",
        "outputId": "ffd3365b-cd6a-47c8-a8b8-620975b468dd"
      },
      "execution_count": null,
      "outputs": [
        {
          "output_type": "stream",
          "name": "stdout",
          "text": [
            "Python is awesome!\n",
            "Python is awesome!\n",
            "Python is awesome!\n",
            "Python is awesome!\n",
            "Python is awesome!\n",
            "Python is awesome!\n",
            "Python is awesome!\n",
            "Python is awesome!\n",
            "Python is awesome!\n",
            "Python is awesome!\n"
          ]
        }
      ]
    },
    {
      "cell_type": "markdown",
      "source": [
        "# Задача Повторяй за мной 1\n",
        "Дано предложение и количество раз которое его надо повторить. Напишите программу, которая повторяет данное предложение нужное количество раз.\n",
        "## Формат входных данных\n",
        "В первой строке записано текстовое предложение, во второй — количество повторений.\n",
        "\n",
        "Формат выходных данных\n",
        "Программа должна вывести указанное текстовое предложение нужное количество раз. Каждое повторение должно начинаться с новой строки.\n",
        "\n",
        "Тестовые данные 🟢\n",
        "Sample Input 1:\n",
        "\n",
        "Век живи - век учись.\n",
        "10\n",
        "Sample Output 1:\n",
        "\n",
        "Век живи - век учись.\n",
        "Век живи - век учись.\n",
        "Век живи - век учись.\n",
        "Век живи - век учись.\n",
        "Век живи - век учись.\n",
        "Век живи - век учись.\n",
        "Век живи - век учись.\n",
        "Век живи - век учись.\n",
        "Век живи - век учись.\n",
        "Век живи - век учись.\n",
        "Sample Input 2:\n",
        "\n",
        "Время - деньги!\n",
        "5\n",
        "Sample Output 2:\n",
        "\n",
        "Время - деньги!\n",
        "Время - деньги!\n",
        "Время - деньги!\n",
        "Время - деньги!\n",
        "Время - деньги!"
      ],
      "metadata": {
        "id": "4Xc-VvTv0iyT"
      }
    },
    {
      "cell_type": "code",
      "source": [
        "text = input()\n",
        "num = int(input())\n",
        "for i in range (num):\n",
        "    print(text)"
      ],
      "metadata": {
        "colab": {
          "base_uri": "https://localhost:8080/"
        },
        "id": "v6ZdBVLR0TLy",
        "outputId": "6d116f8c-6248-4c90-9365-251264c5fe31"
      },
      "execution_count": null,
      "outputs": [
        {
          "output_type": "stream",
          "name": "stdout",
          "text": [
            "Век живи, век учись\n",
            "6\n",
            "Век живи, век учись\n",
            "Век живи, век учись\n",
            "Век живи, век учись\n",
            "Век живи, век учись\n",
            "Век живи, век учись\n",
            "Век живи, век учись\n"
          ]
        }
      ]
    },
    {
      "cell_type": "markdown",
      "source": [
        "# Задача Последовательность символов\n",
        "Напишите программу, которая использует ровно три цикла for для печати следующей последовательности символов:\n",
        "AAA\n",
        "AAA\n",
        "AAA\n",
        "AAA\n",
        "AAA\n",
        "AAA\n",
        "BBBB\n",
        "BBBB\n",
        "BBBB\n",
        "BBBB\n",
        "BBBB\n",
        "E\n",
        "TTTTT\n",
        "TTTTT\n",
        "TTTTT\n",
        "TTTTT\n",
        "TTTTT\n",
        "TTTTT\n",
        "TTTTT\n",
        "TTTTT\n",
        "TTTTT\n",
        "G"
      ],
      "metadata": {
        "id": "qKs0Ov0g0-vq"
      }
    },
    {
      "cell_type": "code",
      "source": [
        "for i in range(6):\n",
        "    print('AAA')\n",
        "for i in range(5):\n",
        "    print('BBBB')\n",
        "print('E')\n",
        "for i in range(9):\n",
        "    print('TTTTT')\n",
        "print('G')"
      ],
      "metadata": {
        "colab": {
          "base_uri": "https://localhost:8080/"
        },
        "id": "MAejxYhl5yKf",
        "outputId": "85b79255-4ffd-4d18-a366-16dc472f2c4b"
      },
      "execution_count": null,
      "outputs": [
        {
          "output_type": "stream",
          "name": "stdout",
          "text": [
            "AAA\n",
            "AAA\n",
            "AAA\n",
            "AAA\n",
            "AAA\n",
            "AAA\n",
            "BBBB\n",
            "BBBB\n",
            "BBBB\n",
            "BBBB\n",
            "BBBB\n",
            "E\n",
            "TTTTT\n",
            "TTTTT\n",
            "TTTTT\n",
            "TTTTT\n",
            "TTTTT\n",
            "TTTTT\n",
            "TTTTT\n",
            "TTTTT\n",
            "TTTTT\n",
            "G\n"
          ]
        }
      ]
    },
    {
      "cell_type": "markdown",
      "source": [
        "# Task Звездный прямоугольник\n",
        "На вход программе подается натуральное число\n",
        "�\n",
        "n.\n",
        "\n",
        "Напишите программу, которая печатает звездный прямоугольник размерами\n",
        "�\n",
        "×\n",
        "19\n",
        "n×19.\n",
        "\n",
        "Формат входных данных\n",
        "На вход программе подаётся натуральное число\n",
        "�\n",
        "∈\n",
        "[\n",
        "1\n",
        ";\n",
        "20\n",
        "]\n",
        "n∈[1;20] — высота звездного прямоугольника.\n",
        "\n",
        "Формат выходных данных\n",
        "Программа должна вывести звездный прямоугольник размерами\n",
        "�\n",
        "×\n",
        "19\n",
        "n×19.\n",
        "\n",
        "Подсказка. Для печати звездной линии используйте умножение строки на число.\n",
        "\n",
        "Тестовые данные 🟢\n",
        "Sample Input 1:\n",
        "\n",
        "1\n",
        "Sample Output 1:\n",
        "\n",
        "*******************\n",
        "Sample Input 2:\n",
        "\n",
        "2\n",
        "Sample Output 2:\n",
        "\n",
        "*******************\n",
        "*******************"
      ],
      "metadata": {
        "id": "4NMDWW2y6Rcb"
      }
    },
    {
      "cell_type": "code",
      "source": [
        "n = int(input())\n",
        "for i in range(n):\n",
        "    print('*******************')"
      ],
      "metadata": {
        "id": "NXR23f0H69CF"
      },
      "execution_count": null,
      "outputs": []
    },
    {
      "cell_type": "code",
      "source": [
        "n = int(input())\n",
        "\n",
        "for i in range(n):\n",
        "    print(\"*\" * 19)"
      ],
      "metadata": {
        "id": "r0Srn3j26awe"
      },
      "execution_count": null,
      "outputs": []
    },
    {
      "cell_type": "markdown",
      "source": [
        "# Переменная цикла\n"
      ],
      "metadata": {
        "id": "2rzJteu47GE6"
      }
    },
    {
      "cell_type": "code",
      "source": [
        "for i in range(10):# i = 0\n",
        "    print(i)\n",
        "# Поскольку переменная цикла i увеличивается на 1 каждый раз,\n",
        "# то ее можно использовать для отслеживания номера итерации, на которой мы\n",
        "#  находимся в циклическом процессе."
      ],
      "metadata": {
        "id": "rfkO_Trs7Uip",
        "outputId": "99c4f76e-9740-4a1a-f29b-539e03110ce7",
        "colab": {
          "base_uri": "https://localhost:8080/"
        }
      },
      "execution_count": null,
      "outputs": [
        {
          "output_type": "stream",
          "name": "stdout",
          "text": [
            "0\n",
            "1\n",
            "2\n",
            "3\n",
            "4\n",
            "5\n",
            "6\n",
            "7\n",
            "8\n",
            "9\n"
          ]
        }
      ]
    },
    {
      "cell_type": "code",
      "source": [
        "for i in range(10):\n",
        "    print(i, '-- Привет')"
      ],
      "metadata": {
        "colab": {
          "base_uri": "https://localhost:8080/"
        },
        "id": "fGweu--S7300",
        "outputId": "bdeb4ea5-2cff-4fb5-a73d-9e015f981987"
      },
      "execution_count": null,
      "outputs": [
        {
          "output_type": "stream",
          "name": "stdout",
          "text": [
            "0 -- Привет\n",
            "1 -- Привет\n",
            "2 -- Привет\n",
            "3 -- Привет\n",
            "4 -- Привет\n",
            "5 -- Привет\n",
            "6 -- Привет\n",
            "7 -- Привет\n",
            "8 -- Привет\n",
            "9 -- Привет\n"
          ]
        }
      ]
    },
    {
      "cell_type": "code",
      "source": [
        "# Если мы хотим начать с 1, то можем написать код:\n",
        "for i in range(10):\n",
        "    print(i + 1, '-- Привет')"
      ],
      "metadata": {
        "id": "XTtpmy6P7-Ff"
      },
      "execution_count": null,
      "outputs": []
    },
    {
      "cell_type": "markdown",
      "source": [
        "# Имена переменных цикла\n",
        "В программировании для переменных цикла обычно используют буквы i, j, k."
      ],
      "metadata": {
        "id": "Z4tAIVjs8OfM"
      }
    },
    {
      "cell_type": "code",
      "source": [
        "for i in range(10):\n",
        "    print(i)"
      ],
      "metadata": {
        "id": "IOl3HHec8aTN"
      },
      "execution_count": null,
      "outputs": []
    },
    {
      "cell_type": "code",
      "source": [
        "for number in range(10):\n",
        "    print(number)"
      ],
      "metadata": {
        "id": "-3Csiswd8fmJ"
      },
      "execution_count": null,
      "outputs": []
    },
    {
      "cell_type": "code",
      "source": [
        "# Бывают ситуации, когда переменная цикла не используется в теле цикла\n",
        "for _ in range(5):\n",
        "    print('Python - awesome!')"
      ],
      "metadata": {
        "id": "grX5rZ-48p7p"
      },
      "execution_count": null,
      "outputs": []
    },
    {
      "cell_type": "code",
      "source": [
        "# распечатает числа от 0 до 4:\n",
        "for i in range(5):\n",
        "    print(i)"
      ],
      "metadata": {
        "id": "MqVXThfZ89a7"
      },
      "execution_count": null,
      "outputs": []
    },
    {
      "cell_type": "code",
      "source": [
        "# Если требуется распечатать числа от 1 до 5, то мы пишем код\n",
        "for i in range(5):\n",
        "    print(i + 1)"
      ],
      "metadata": {
        "id": "IN86l1_k9GH3"
      },
      "execution_count": null,
      "outputs": []
    },
    {
      "cell_type": "markdown",
      "source": [
        "# Task Повторяй за мной 2\n",
        "Напишите программу, которая считывает одну строку текста и выводит 10 строк, пронумерованных от 0 до 9, каждая с указанной строкой текста.\n",
        "\n",
        "Формат входных данных\n",
        "На вход программе подается одна строка текста.\n",
        "\n",
        "Формат выходных данных\n",
        "Программа должна вывести десять строк в соответствии с условием задачи.\n",
        "\n",
        "Тестовые данные 🟢\n",
        "Sample Input 1:\n",
        "\n",
        "LeBron\n",
        "Sample Output 1:\n",
        "\n",
        "0 LeBron\n",
        "1 LeBron\n",
        "2 LeBron\n",
        "3 LeBron\n",
        "4 LeBron\n",
        "5 LeBron\n",
        "6 LeBron\n",
        "7 LeBron\n",
        "8 LeBron\n",
        "9 LeBron\n",
        "Sample Input 2:\n",
        "\n",
        "Roman\n",
        "Sample Output 2:\n",
        "\n",
        "0 Roman\n",
        "1 Roman\n",
        "2 Roman\n",
        "3 Roman\n",
        "...."
      ],
      "metadata": {
        "id": "Lv3J3XLk_FTl"
      }
    },
    {
      "cell_type": "code",
      "source": [
        "text = input()\n",
        "for i in range (10):\n",
        "    print(i, text)"
      ],
      "metadata": {
        "id": "ApPO_3QX_WSa"
      },
      "execution_count": null,
      "outputs": []
    },
    {
      "cell_type": "code",
      "source": [
        "s = input()\n",
        "\n",
        "for i in range(10):\n",
        "    print(i, s)"
      ],
      "metadata": {
        "id": "X1CdJzAV_geg"
      },
      "execution_count": null,
      "outputs": []
    },
    {
      "cell_type": "markdown",
      "source": [
        "# Task Квадрат числа\n",
        "На вход программе подается натуральное число\n",
        "�\n",
        "n. Напишите программу, которая для каждого из чисел от\n",
        "0\n",
        "0 до\n",
        "�\n",
        "n (включительно) выводит фразу: «Квадрат числа [число] равен [число]» (без кавычек).\n",
        "\n",
        "Формат входных данных\n",
        "На вход программе подается натуральное число\n",
        "�\n",
        "n.\n",
        "\n",
        "Формат выходных данных\n",
        "Программа должна вывести текст в соответствии с условием задачи.\n",
        "\n",
        "Тестовые данные 🟢\n",
        "Sample Input 1:\n",
        "\n",
        "9\n",
        "Sample Output 1:\n",
        "\n",
        "Квадрат числа 0 равен 0\n",
        "Квадрат числа 1 равен 1\n",
        "Квадрат числа 2 равен 4\n",
        "Квадрат числа 3 равен 9\n",
        "Квадрат числа 4 равен 16\n",
        "Квадрат числа 5 равен 25\n",
        "Квадрат числа 6 равен 36\n",
        "Квадрат числа 7 равен 49\n",
        "Квадрат числа 8 равен 64\n",
        "Квадрат числа 9 равен 81\n",
        "Sample Input 2:\n",
        "\n",
        "1\n",
        "Sample Output 2:\n",
        "\n",
        "Квадрат числа 0 равен 0\n",
        "Квадрат числа 1 равен 1"
      ],
      "metadata": {
        "id": "uOKp0Hqd_nrf"
      }
    },
    {
      "cell_type": "code",
      "source": [
        "n = int(input())\n",
        "for i in range (n+1):\n",
        "    print('Квадрат числа', i, 'равен', i**2)"
      ],
      "metadata": {
        "id": "c1ONW-uJ_523"
      },
      "execution_count": null,
      "outputs": []
    },
    {
      "cell_type": "code",
      "source": [
        "n = int(input())\n",
        "for i in range(n + 1):\n",
        "    print('Квадрат числа', i, 'равен', i ** 2)"
      ],
      "metadata": {
        "id": "tGOF6MaBADgQ"
      },
      "execution_count": null,
      "outputs": []
    },
    {
      "cell_type": "markdown",
      "source": [
        "# Task Звездный треугольник\n",
        "На вход программе подается натуральное число\n",
        "�\n",
        "(\n",
        "�\n",
        "≥\n",
        "2\n",
        ")\n",
        "n(n≥2) – катет прямоугольного равнобедренного треугольника.\n",
        "\n",
        "Напишите программу, которая выводит звездный треугольник в соответствии с примером.\n",
        "\n",
        "Формат входных данных\n",
        "На вход программе подается одно натуральное число\n",
        "�\n",
        "(\n",
        "�\n",
        "≥\n",
        "2\n",
        ")\n",
        "n(n≥2).\n",
        "\n",
        "Формат выходных данных\n",
        "Программа должна вывести треугольник в соответствии с условием задачи.\n",
        "\n",
        "Тестовые данные 🟢\n",
        "Sample Input 1:\n",
        "\n",
        "3\n",
        "Sample Output 1:\n",
        "\n",
        "***\n",
        "**\n",
        "*\n",
        "Sample Input 2:\n",
        "\n",
        "11\n",
        "Sample Output 2:\n",
        "\n",
        "***********\n",
        "**********\n",
        "*********\n",
        "********\n",
        "*******\n",
        "******\n",
        "*****\n",
        "****\n",
        "***\n",
        "**\n",
        "*"
      ],
      "metadata": {
        "id": "XIZvIV7wAKmI"
      }
    },
    {
      "cell_type": "code",
      "source": [
        "n = int(input())\n",
        "for i in range(n):\n",
        "    print(n * '*')\n",
        "    n = n-1\n"
      ],
      "metadata": {
        "colab": {
          "base_uri": "https://localhost:8080/"
        },
        "id": "C8SgvoZJAS7w",
        "outputId": "a4b97c7c-4ad6-4d6c-a49e-89eccdf0e882"
      },
      "execution_count": null,
      "outputs": [
        {
          "output_type": "stream",
          "name": "stdout",
          "text": [
            "4\n",
            "****\n",
            "***\n",
            "**\n",
            "*\n"
          ]
        }
      ]
    },
    {
      "cell_type": "code",
      "source": [
        "n = int(input())\n",
        "\n",
        "for i in range(n):\n",
        "    print(\"*\" * (n - i))"
      ],
      "metadata": {
        "id": "fP1tl9AZAloz"
      },
      "execution_count": null,
      "outputs": []
    },
    {
      "cell_type": "markdown",
      "source": [
        "# Task Популяция\n",
        "На вход программе подается три натуральных числа\n",
        "m,p,n:\n",
        "m: стартовое количество организмов;\n",
        "p: среднесуточное увеличение в %;\n",
        "n: количество дней для размножения.\n",
        "Напишите программу, которая предсказывает размер популяции организмов. Программа должна выводить размер популяции в каждый день, начиная с\n",
        "1 и заканчивая\n",
        "n-м днем.\n",
        "\n",
        "Формат входных данных\n",
        "На вход программе подается три натуральных числа.\n",
        "\n",
        "Формат выходных данных\n",
        "Программа должна вывести текст в соответствии с условием задачи.\n",
        "\n",
        "Тестовые данные 🟢\n",
        "Sample Input 1:\n",
        "10\n",
        "50\n",
        "6\n",
        "Sample Output 1:\n",
        "1 10.0\n",
        "2 15.0\n",
        "3 22.5\n",
        "4 33.75\n",
        "5 50.625\n",
        "6 75.9375\n",
        "Sample Input 2:\n",
        "100\n",
        "25\n",
        "1\n",
        "Sample Output 2:\n",
        "1 100"
      ],
      "metadata": {
        "id": "ecXT16KRBY5W"
      }
    },
    {
      "cell_type": "code",
      "source": [
        "m = int(input()) #  стартовое количество организмов\n",
        "p = int(input()) # среднесуточное увеличение в %\n",
        "n = int(input()) # количество дней для размножения\n",
        "\n",
        "# m = m * p / 100\n",
        "for i in range(n):\n",
        "    print(i+1, m)\n",
        "    kp = ((m*p) / 100)\n",
        "    m = kp + m"
      ],
      "metadata": {
        "colab": {
          "base_uri": "https://localhost:8080/"
        },
        "id": "oa4TX_PYBlJL",
        "outputId": "50b89024-797d-42b2-c4c4-05cc338a475a"
      },
      "execution_count": null,
      "outputs": [
        {
          "output_type": "stream",
          "name": "stdout",
          "text": [
            "4\n",
            "8\n",
            "9\n",
            "1 4\n",
            "2 4.32\n",
            "3 4.6656\n",
            "4 5.038848000000001\n",
            "5 5.44195584\n",
            "6 5.8773123072\n",
            "7 6.347497291776\n",
            "8 6.855297075118081\n",
            "9 7.4037208411275275\n"
          ]
        }
      ]
    },
    {
      "cell_type": "code",
      "source": [
        "m, p, n = int(input()), int(input()), int(input())\n",
        "cur_population = float(m)\n",
        "\n",
        "for i in range(n):\n",
        "    print(i + 1, cur_population)\n",
        "    cur_population = cur_population * (1 + p / 100)"
      ],
      "metadata": {
        "id": "WGGOam9RCZKa"
      },
      "execution_count": null,
      "outputs": []
    }
  ]
}
